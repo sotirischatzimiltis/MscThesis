{
  "cells": [
    {
      "cell_type": "markdown",
      "source": [
        "# Dataset"
      ],
      "metadata": {
        "id": "v57CWggfcug0"
      }
    },
    {
      "cell_type": "code",
      "source": [
        "train_Dataset = 'train_binary_rf05.csv'\n",
        "test_Dataset = 'test_binary_rf05.csv'"
      ],
      "metadata": {
        "id": "g8rLgoGUc-VW"
      },
      "execution_count": 1,
      "outputs": []
    },
    {
      "cell_type": "markdown",
      "source": [
        "# Set Training Arguments"
      ],
      "metadata": {
        "id": "07CV2e3xc7d9"
      }
    },
    {
      "cell_type": "code",
      "source": [
        "bsize =  64 # set batch size \n",
        "nhidden = 4000 # number of hidden nodes\n",
        "nsteps = 25 # number of time steps \n",
        "b = 0.9 # beta/decay variable \n",
        "learning_rate = 5e-4 # set learning rate of optimizer  \n",
        "nepochs = 10 # number of epochs"
      ],
      "metadata": {
        "id": "J3OtoNSTc9rF"
      },
      "execution_count": 13,
      "outputs": []
    },
    {
      "cell_type": "code",
      "execution_count": 3,
      "metadata": {
        "colab": {
          "base_uri": "https://localhost:8080/"
        },
        "id": "5tn_wUlopkon",
        "outputId": "165157d4-2dfe-4f43-c90b-ea4cb92697a1"
      },
      "outputs": [
        {
          "output_type": "stream",
          "name": "stdout",
          "text": [
            "Collecting snntorch\n",
            "  Downloading snntorch-0.5.1-py2.py3-none-any.whl (92 kB)\n",
            "\u001b[?25l\r\u001b[K     |███▌                            | 10 kB 20.2 MB/s eta 0:00:01\r\u001b[K     |███████                         | 20 kB 8.5 MB/s eta 0:00:01\r\u001b[K     |██████████▋                     | 30 kB 7.2 MB/s eta 0:00:01\r\u001b[K     |██████████████▏                 | 40 kB 6.9 MB/s eta 0:00:01\r\u001b[K     |█████████████████▊              | 51 kB 3.6 MB/s eta 0:00:01\r\u001b[K     |█████████████████████▎          | 61 kB 4.2 MB/s eta 0:00:01\r\u001b[K     |████████████████████████▉       | 71 kB 4.4 MB/s eta 0:00:01\r\u001b[K     |████████████████████████████▎   | 81 kB 4.9 MB/s eta 0:00:01\r\u001b[K     |███████████████████████████████▉| 92 kB 5.4 MB/s eta 0:00:01\r\u001b[K     |████████████████████████████████| 92 kB 492 kB/s \n",
            "\u001b[?25hRequirement already satisfied: pandas in /usr/local/lib/python3.7/dist-packages (from snntorch) (1.3.5)\n",
            "Requirement already satisfied: numpy>=1.17 in /usr/local/lib/python3.7/dist-packages (from snntorch) (1.21.6)\n",
            "Requirement already satisfied: matplotlib in /usr/local/lib/python3.7/dist-packages (from snntorch) (3.2.2)\n",
            "Requirement already satisfied: torch>=1.1.0 in /usr/local/lib/python3.7/dist-packages (from snntorch) (1.11.0+cu113)\n",
            "Requirement already satisfied: typing-extensions in /usr/local/lib/python3.7/dist-packages (from torch>=1.1.0->snntorch) (4.2.0)\n",
            "Requirement already satisfied: cycler>=0.10 in /usr/local/lib/python3.7/dist-packages (from matplotlib->snntorch) (0.11.0)\n",
            "Requirement already satisfied: python-dateutil>=2.1 in /usr/local/lib/python3.7/dist-packages (from matplotlib->snntorch) (2.8.2)\n",
            "Requirement already satisfied: pyparsing!=2.0.4,!=2.1.2,!=2.1.6,>=2.0.1 in /usr/local/lib/python3.7/dist-packages (from matplotlib->snntorch) (3.0.8)\n",
            "Requirement already satisfied: kiwisolver>=1.0.1 in /usr/local/lib/python3.7/dist-packages (from matplotlib->snntorch) (1.4.2)\n",
            "Requirement already satisfied: six>=1.5 in /usr/local/lib/python3.7/dist-packages (from python-dateutil>=2.1->matplotlib->snntorch) (1.15.0)\n",
            "Requirement already satisfied: pytz>=2017.3 in /usr/local/lib/python3.7/dist-packages (from pandas->snntorch) (2022.1)\n",
            "Installing collected packages: snntorch\n",
            "Successfully installed snntorch-0.5.1\n"
          ]
        }
      ],
      "source": [
        "!pip install snntorch"
      ]
    },
    {
      "cell_type": "code",
      "execution_count": 4,
      "metadata": {
        "id": "QXZ6Tuqc9Q-l"
      },
      "outputs": [],
      "source": [
        "# imports\n",
        "import snntorch as snn\n",
        "from snntorch import spikeplot as splt\n",
        "from snntorch import spikegen\n",
        "\n",
        "import torch\n",
        "import torch.nn as nn\n",
        "from torch.utils.data import DataLoader\n",
        "from torch.utils.data import Dataset\n",
        "from torchvision import datasets, transforms\n",
        "\n",
        "import matplotlib.pyplot as plt\n",
        "import numpy as np\n",
        "import itertools\n",
        "import pandas as pd \n",
        "\n",
        "from sklearn.metrics import confusion_matrix\n",
        "import seaborn as sn"
      ]
    },
    {
      "cell_type": "markdown",
      "metadata": {
        "id": "zqJdfllYbc16"
      },
      "source": [
        "# 1. Setting up the Dataset"
      ]
    },
    {
      "cell_type": "markdown",
      "metadata": {
        "id": "fTsa-qvjoWtl"
      },
      "source": [
        "Get data from GitLab"
      ]
    },
    {
      "cell_type": "code",
      "execution_count": 5,
      "metadata": {
        "id": "guduK5-i9SGK"
      },
      "outputs": [],
      "source": [
        "class MyDataset(Dataset):\n",
        "\n",
        "  def __init__(self,file_name):\n",
        "    price_df=pd.read_csv(file_name)\n",
        "\n",
        "    x=price_df.iloc[:,:-1].values\n",
        "    y=price_df.iloc[:,-1].values\n",
        "    print(x)\n",
        "    print(y)\n",
        "    self.x_train=torch.tensor(x,dtype=torch.float32)\n",
        "    self.y_train=torch.tensor(y,dtype=torch.long)\n",
        "\n",
        "  def __len__(self):\n",
        "    return len(self.y_train)\n",
        "  \n",
        "  def __getitem__(self,idx):\n",
        "    return self.x_train[idx],self.y_train[idx]"
      ]
    },
    {
      "cell_type": "code",
      "execution_count": 7,
      "metadata": {
        "colab": {
          "base_uri": "https://localhost:8080/"
        },
        "id": "0G4mxwzJ7tbS",
        "outputId": "83135e05-192e-43c6-fd63-f06e19ed9487"
      },
      "outputs": [
        {
          "output_type": "stream",
          "name": "stdout",
          "text": [
            "[[1.   0.   0.   ... 0.   0.17 0.03]\n",
            " [0.08 0.   0.15 ... 0.   0.   0.6 ]\n",
            " [0.05 1.   0.07 ... 1.   0.1  0.05]\n",
            " ...\n",
            " [1.   0.   0.   ... 0.   0.12 0.06]\n",
            " [0.06 1.   0.05 ... 1.   0.03 0.05]\n",
            " [1.   0.   0.   ... 0.   0.3  0.03]]\n",
            "[0 0 1 ... 0 1 0]\n",
            "[[0.04 0.   0.06 ... 0.   0.04 0.06]\n",
            " [0.01 0.   0.06 ... 0.   0.   0.06]\n",
            " [1.   0.   0.   ... 0.   0.61 0.04]\n",
            " ...\n",
            " [1.   0.   0.   ... 0.   1.   0.  ]\n",
            " [1.   0.   0.   ... 0.   0.99 0.01]\n",
            " [0.25 0.   1.   ... 0.   0.08 0.03]]\n",
            "[1 1 0 ... 1 0 1]\n"
          ]
        }
      ],
      "source": [
        "batch_size = bsize\n",
        "dtype = torch.float\n",
        "device = torch.device(\"cuda\") if torch.cuda.is_available() else torch.device(\"cpu\")\n",
        "\n",
        "trainDs=MyDataset(train_Dataset)\n",
        "testDs=MyDataset(test_Dataset)\n",
        "train_loader = DataLoader(trainDs, batch_size=batch_size, shuffle=True, drop_last=True)\n",
        "test_loader = DataLoader(testDs, batch_size=batch_size, shuffle=True, drop_last=True)"
      ]
    },
    {
      "cell_type": "markdown",
      "metadata": {
        "id": "GhFyzySNeT_e"
      },
      "source": [
        "# 2. Define the Network"
      ]
    },
    {
      "cell_type": "code",
      "execution_count": 8,
      "metadata": {
        "id": "Lud3kywn55fj"
      },
      "outputs": [],
      "source": [
        "# Network Architecture\n",
        "num_inputs = len(trainDs.x_train[1]) # input layer neurons i\n",
        "num_hidden = nhidden # hidden layer neurons \n",
        "num_outputs = 2 # output layer neurons /binary classification \n",
        "\n",
        "# Temporal Dynamics\n",
        "num_steps = nsteps\n",
        "beta = b"
      ]
    },
    {
      "cell_type": "code",
      "execution_count": 9,
      "metadata": {
        "id": "-uquHLLmpkox"
      },
      "outputs": [],
      "source": [
        "# Define Network\n",
        "class Net(nn.Module):\n",
        "    def __init__(self):\n",
        "        super().__init__()\n",
        "\n",
        "        # Initialize layers\n",
        "        self.fc1 = nn.Linear(num_inputs, num_hidden)\n",
        "        self.lif1 = snn.Leaky(beta=beta)\n",
        "        #self.fc2 = nn.Linear(num_hidden, num_hidden)\n",
        "        #self.lif2 = snn.Leaky(beta=beta)\n",
        "        #self.fc3 = nn.Linear(num_hidden,num_hidden)\n",
        "        #self.lif3 = snn.Leaky(beta=beta)\n",
        "        #self.fc4 = nn.Linear(num_hidden,num_hidden)\n",
        "        #self.lif4 = snn.Leaky(beta=beta)\n",
        "        self.fc4 = nn.Linear(num_hidden,num_outputs)\n",
        "        self.lif4 = snn.Leaky(beta=beta)\n",
        "\n",
        "    def forward(self, x):\n",
        "\n",
        "        # Initialize hidden states at t=0\n",
        "        mem1 = self.lif1.init_leaky()\n",
        "        #mem2 = self.lif2.init_leaky()\n",
        "        #mem3 = self.lif3.init_leaky()\n",
        "        mem4 = self.lif4.init_leaky()\n",
        "        #mem5 = self.lif5.init_leaky()\n",
        "        \n",
        "        # Record the final layer\n",
        "        #spk2_rec = []\n",
        "        #mem2_rec = []\n",
        "        #spk3_rec = []\n",
        "        #mem3_rec = []\n",
        "        spk4_rec = []\n",
        "        mem4_rec = []\n",
        "        #spk5_rec = []\n",
        "        #mem5_rec = []\n",
        "\n",
        "        for step in range(num_steps):\n",
        "            cur1 = self.fc1(x)\n",
        "            spk1, mem1 = self.lif1(cur1, mem1)\n",
        "            #cur2 = self.fc2(spk1)\n",
        "            #spk2, mem2 = self.lif2(cur2, mem2)\n",
        "            #cur3 = self.fc3(spk2)\n",
        "            #spk3, mem3 = self.lif3(cur3,mem3)\n",
        "            cur4 = self.fc4(spk1)\n",
        "            spk4, mem4 = self.lif4(cur4,mem4)\n",
        "            #cur5 = self.fc5(spk4)\n",
        "            #spk5, mem5 = self.lif5(cur5,mem5)\n",
        "            #spk5_rec.append(spk5)\n",
        "            #mem5_rec.append(mem5)\n",
        "            spk4_rec.append(spk4)\n",
        "            mem4_rec.append(mem4)\n",
        "            #spk3_rec.append(spk3)\n",
        "            #mem3_rec.append(mem3)\n",
        "            #spk2_rec.append(spk2)\n",
        "            #mem2_rec.append(mem2)\n",
        "            \n",
        "\n",
        "        return torch.stack(spk4_rec, dim=0), torch.stack(mem4_rec, dim=0)\n",
        "        \n",
        "# Load the network onto CUDA if available\n",
        "net = Net().to(device)"
      ]
    },
    {
      "cell_type": "markdown",
      "metadata": {
        "id": "Y0fHcAKfrav6"
      },
      "source": [
        "The code in the `forward()` function will only be called once the input argument `x` is explicitly passed into `net`.\n",
        "\n",
        "* `fc1` applies a linear transformation to all input pixels from the MNIST dataset;\n",
        "* `lif1` integrates the weighted input over time, emitting a spike if the threshold condition is met;\n",
        "* `fc2` applies a linear transformation to the output spikes of `lif1`;\n",
        "* `lif2` is another spiking neuron layer, integrating the weighted spikes over time."
      ]
    },
    {
      "cell_type": "markdown",
      "metadata": {
        "id": "6a7MdORCtIx4"
      },
      "source": [
        "# 3. Training the SNN"
      ]
    },
    {
      "cell_type": "markdown",
      "metadata": {
        "id": "6D-fhT3Q7nXM"
      },
      "source": [
        "## 3.1 Accuracy Metric\n",
        "Below is a function that takes a batch of data, counts up all the spikes from each neuron (i.e., a rate code over the simulation time), and compares the index of the highest count with the actual target. If they match, then the network correctly predicted the target."
      ]
    },
    {
      "cell_type": "code",
      "execution_count": 10,
      "metadata": {
        "id": "-IxcnBAxpkoy"
      },
      "outputs": [],
      "source": [
        "# pass data into the network, sum the spikes over time\n",
        "# and compare the neuron with the highest number of spikes\n",
        "# with the target\n",
        "\n",
        "def print_batch_accuracy(data, targets, train=False):\n",
        "    output, _ = net(data.view(batch_size, -1))\n",
        "    ######check#########\n",
        "    _, idx = output.sum(dim=0).max(1)\n",
        "    acc = np.mean((targets == idx).detach().cpu().numpy())\n",
        "\n",
        "    if train:\n",
        "        print(f\"Train set accuracy for a single minibatch: {acc*100:.2f}%\")\n",
        "    else:\n",
        "        print(f\"Test set accuracy for a single minibatch: {acc*100:.2f}%\")\n",
        "\n",
        "def train_printer():\n",
        "    print(f\"Epoch {epoch}, Iteration {iter_counter}\")\n",
        "    print(f\"Train Set Loss: {loss_hist[counter]:.2f}\")\n",
        "    print(f\"Test Set Loss: {test_loss_hist[counter]:.2f}\")\n",
        "    print_batch_accuracy(data, targets, train=True)\n",
        "    print_batch_accuracy(test_data, test_targets, train=False)\n",
        "    print(\"\\n\")"
      ]
    },
    {
      "cell_type": "markdown",
      "metadata": {
        "id": "woJSGSx68tsd"
      },
      "source": [
        "## 3.2 Loss Definition\n",
        "The `nn.CrossEntropyLoss` function in PyTorch automatically handles taking the softmax of the output layer as well as generating a loss at the output. "
      ]
    },
    {
      "cell_type": "code",
      "execution_count": 11,
      "metadata": {
        "id": "iqdVyjCNtdlp"
      },
      "outputs": [],
      "source": [
        "loss = nn.CrossEntropyLoss()"
      ]
    },
    {
      "cell_type": "markdown",
      "metadata": {
        "id": "b1fPgSoO9Jgb"
      },
      "source": [
        "## 3.3 Optimizer\n",
        "Adam is a robust optimizer that performs well on recurrent networks, so let's use that with a learning rate of $5\\times10^{-4}$. "
      ]
    },
    {
      "cell_type": "code",
      "execution_count": 12,
      "metadata": {
        "id": "l62ZR51s9Lxg"
      },
      "outputs": [],
      "source": [
        "optimizer = torch.optim.Adam(net.parameters(), lr=learning_rate, betas=(0.9, 0.999))\n",
        "#optimizer = torch.optim.SGD(net.parameters(),lr = 0.01)"
      ]
    },
    {
      "cell_type": "markdown",
      "metadata": {
        "id": "mVgKDes8BiXq"
      },
      "source": [
        "## 3.4 Training Loop\n",
        "\n",
        "Let's combine everything into a training loop. We will train for one epoch (though feel free to increase `num_epochs`), exposing our network to each sample of data once."
      ]
    },
    {
      "cell_type": "code",
      "execution_count": 14,
      "metadata": {
        "colab": {
          "base_uri": "https://localhost:8080/"
        },
        "id": "LMZMxEV8dcTC",
        "outputId": "c60d7750-3473-4933-ab42-868226119461"
      },
      "outputs": [
        {
          "output_type": "stream",
          "name": "stdout",
          "text": [
            "Epoch 0, Iteration 0\n",
            "Train Set Loss: 16.69\n",
            "Test Set Loss: 26.19\n",
            "Train set accuracy for a single minibatch: 67.19%\n",
            "Test set accuracy for a single minibatch: 40.62%\n",
            "\n",
            "\n",
            "Epoch 0, Iteration 50\n",
            "Train Set Loss: 6.90\n",
            "Test Set Loss: 19.14\n",
            "Train set accuracy for a single minibatch: 89.06%\n",
            "Test set accuracy for a single minibatch: 73.44%\n",
            "\n",
            "\n",
            "Epoch 0, Iteration 100\n",
            "Train Set Loss: 7.24\n",
            "Test Set Loss: 18.57\n",
            "Train set accuracy for a single minibatch: 82.81%\n",
            "Test set accuracy for a single minibatch: 73.44%\n",
            "\n",
            "\n",
            "Epoch 0, Iteration 150\n",
            "Train Set Loss: 5.84\n",
            "Test Set Loss: 17.54\n",
            "Train set accuracy for a single minibatch: 95.31%\n",
            "Test set accuracy for a single minibatch: 68.75%\n",
            "\n",
            "\n",
            "Epoch 0, Iteration 200\n",
            "Train Set Loss: 4.78\n",
            "Test Set Loss: 15.04\n",
            "Train set accuracy for a single minibatch: 93.75%\n",
            "Test set accuracy for a single minibatch: 71.88%\n",
            "\n",
            "\n",
            "Epoch 0, Iteration 250\n",
            "Train Set Loss: 4.71\n",
            "Test Set Loss: 16.51\n",
            "Train set accuracy for a single minibatch: 93.75%\n",
            "Test set accuracy for a single minibatch: 70.31%\n",
            "\n",
            "\n",
            "Epoch 0, Iteration 300\n",
            "Train Set Loss: 5.76\n",
            "Test Set Loss: 12.66\n",
            "Train set accuracy for a single minibatch: 89.06%\n",
            "Test set accuracy for a single minibatch: 73.44%\n",
            "\n",
            "\n",
            "Epoch 0, Iteration 350\n",
            "Train Set Loss: 6.21\n",
            "Test Set Loss: 16.54\n",
            "Train set accuracy for a single minibatch: 92.19%\n",
            "Test set accuracy for a single minibatch: 70.31%\n",
            "\n",
            "\n",
            "Epoch 0, Iteration 400\n",
            "Train Set Loss: 5.98\n",
            "Test Set Loss: 15.12\n",
            "Train set accuracy for a single minibatch: 89.06%\n",
            "Test set accuracy for a single minibatch: 65.62%\n",
            "\n",
            "\n",
            "Epoch 0, Iteration 450\n",
            "Train Set Loss: 5.63\n",
            "Test Set Loss: 21.16\n",
            "Train set accuracy for a single minibatch: 90.62%\n",
            "Test set accuracy for a single minibatch: 60.94%\n",
            "\n",
            "\n",
            "Epoch 0, Iteration 500\n",
            "Train Set Loss: 3.58\n",
            "Test Set Loss: 20.25\n",
            "Train set accuracy for a single minibatch: 93.75%\n",
            "Test set accuracy for a single minibatch: 68.75%\n",
            "\n",
            "\n",
            "Epoch 0, Iteration 550\n",
            "Train Set Loss: 6.02\n",
            "Test Set Loss: 18.44\n",
            "Train set accuracy for a single minibatch: 92.19%\n",
            "Test set accuracy for a single minibatch: 60.94%\n",
            "\n",
            "\n",
            "Epoch 0, Iteration 600\n",
            "Train Set Loss: 3.65\n",
            "Test Set Loss: 14.65\n",
            "Train set accuracy for a single minibatch: 96.88%\n",
            "Test set accuracy for a single minibatch: 73.44%\n",
            "\n",
            "\n",
            "Epoch 0, Iteration 650\n",
            "Train Set Loss: 6.97\n",
            "Test Set Loss: 13.32\n",
            "Train set accuracy for a single minibatch: 92.19%\n",
            "Test set accuracy for a single minibatch: 75.00%\n",
            "\n",
            "\n",
            "Epoch 0, Iteration 700\n",
            "Train Set Loss: 7.05\n",
            "Test Set Loss: 8.48\n",
            "Train set accuracy for a single minibatch: 89.06%\n",
            "Test set accuracy for a single minibatch: 78.12%\n",
            "\n",
            "\n",
            "Epoch 0, Iteration 750\n",
            "Train Set Loss: 10.21\n",
            "Test Set Loss: 20.87\n",
            "Train set accuracy for a single minibatch: 85.94%\n",
            "Test set accuracy for a single minibatch: 70.31%\n",
            "\n",
            "\n",
            "Epoch 0, Iteration 800\n",
            "Train Set Loss: 5.31\n",
            "Test Set Loss: 17.90\n",
            "Train set accuracy for a single minibatch: 90.62%\n",
            "Test set accuracy for a single minibatch: 68.75%\n",
            "\n",
            "\n",
            "Epoch 0, Iteration 850\n",
            "Train Set Loss: 5.70\n",
            "Test Set Loss: 12.75\n",
            "Train set accuracy for a single minibatch: 85.94%\n",
            "Test set accuracy for a single minibatch: 79.69%\n",
            "\n",
            "\n",
            "Epoch 0, Iteration 900\n",
            "Train Set Loss: 5.99\n",
            "Test Set Loss: 19.83\n",
            "Train set accuracy for a single minibatch: 87.50%\n",
            "Test set accuracy for a single minibatch: 68.75%\n",
            "\n",
            "\n",
            "Epoch 0, Iteration 950\n",
            "Train Set Loss: 7.07\n",
            "Test Set Loss: 13.13\n",
            "Train set accuracy for a single minibatch: 87.50%\n",
            "Test set accuracy for a single minibatch: 76.56%\n",
            "\n",
            "\n",
            "Epoch 0, Iteration 1000\n",
            "Train Set Loss: 5.42\n",
            "Test Set Loss: 20.28\n",
            "Train set accuracy for a single minibatch: 87.50%\n",
            "Test set accuracy for a single minibatch: 70.31%\n",
            "\n",
            "\n",
            "Epoch 0, Iteration 1050\n",
            "Train Set Loss: 10.27\n",
            "Test Set Loss: 25.31\n",
            "Train set accuracy for a single minibatch: 85.94%\n",
            "Test set accuracy for a single minibatch: 60.94%\n",
            "\n",
            "\n",
            "Epoch 0, Iteration 1100\n",
            "Train Set Loss: 7.55\n",
            "Test Set Loss: 16.76\n",
            "Train set accuracy for a single minibatch: 85.94%\n",
            "Test set accuracy for a single minibatch: 68.75%\n",
            "\n",
            "\n",
            "Epoch 0, Iteration 1150\n",
            "Train Set Loss: 7.16\n",
            "Test Set Loss: 22.48\n",
            "Train set accuracy for a single minibatch: 85.94%\n",
            "Test set accuracy for a single minibatch: 60.94%\n",
            "\n",
            "\n",
            "Epoch 0, Iteration 1200\n",
            "Train Set Loss: 2.26\n",
            "Test Set Loss: 18.74\n",
            "Train set accuracy for a single minibatch: 98.44%\n",
            "Test set accuracy for a single minibatch: 75.00%\n",
            "\n",
            "\n",
            "Epoch 0, Iteration 1250\n",
            "Train Set Loss: 5.96\n",
            "Test Set Loss: 15.10\n",
            "Train set accuracy for a single minibatch: 89.06%\n",
            "Test set accuracy for a single minibatch: 78.12%\n",
            "\n",
            "\n",
            "Epoch 0, Iteration 1300\n",
            "Train Set Loss: 6.55\n",
            "Test Set Loss: 18.76\n",
            "Train set accuracy for a single minibatch: 79.69%\n",
            "Test set accuracy for a single minibatch: 62.50%\n",
            "\n",
            "\n",
            "Epoch 0, Iteration 1350\n",
            "Train Set Loss: 6.24\n",
            "Test Set Loss: 16.95\n",
            "Train set accuracy for a single minibatch: 93.75%\n",
            "Test set accuracy for a single minibatch: 71.88%\n",
            "\n",
            "\n",
            "Epoch 0, Iteration 1400\n",
            "Train Set Loss: 8.13\n",
            "Test Set Loss: 17.23\n",
            "Train set accuracy for a single minibatch: 84.38%\n",
            "Test set accuracy for a single minibatch: 75.00%\n",
            "\n",
            "\n",
            "Epoch 0, Iteration 1450\n",
            "Train Set Loss: 4.75\n",
            "Test Set Loss: 19.37\n",
            "Train set accuracy for a single minibatch: 95.31%\n",
            "Test set accuracy for a single minibatch: 71.88%\n",
            "\n",
            "\n",
            "Epoch 0, Iteration 1500\n",
            "Train Set Loss: 2.99\n",
            "Test Set Loss: 19.35\n",
            "Train set accuracy for a single minibatch: 98.44%\n",
            "Test set accuracy for a single minibatch: 71.88%\n",
            "\n",
            "\n",
            "Epoch 0, Iteration 1550\n",
            "Train Set Loss: 7.19\n",
            "Test Set Loss: 17.84\n",
            "Train set accuracy for a single minibatch: 92.19%\n",
            "Test set accuracy for a single minibatch: 70.31%\n",
            "\n",
            "\n",
            "Epoch 0, Iteration 1600\n",
            "Train Set Loss: 4.58\n",
            "Test Set Loss: 17.00\n",
            "Train set accuracy for a single minibatch: 98.44%\n",
            "Test set accuracy for a single minibatch: 78.12%\n",
            "\n",
            "\n",
            "Epoch 0, Iteration 1650\n",
            "Train Set Loss: 4.32\n",
            "Test Set Loss: 19.88\n",
            "Train set accuracy for a single minibatch: 93.75%\n",
            "Test set accuracy for a single minibatch: 70.31%\n",
            "\n",
            "\n",
            "Epoch 0, Iteration 1700\n",
            "Train Set Loss: 6.18\n",
            "Test Set Loss: 18.13\n",
            "Train set accuracy for a single minibatch: 90.62%\n",
            "Test set accuracy for a single minibatch: 70.31%\n",
            "\n",
            "\n",
            "Epoch 0, Iteration 1750\n",
            "Train Set Loss: 6.08\n",
            "Test Set Loss: 13.81\n",
            "Train set accuracy for a single minibatch: 90.62%\n",
            "Test set accuracy for a single minibatch: 79.69%\n",
            "\n",
            "\n",
            "Epoch 0, Iteration 1800\n",
            "Train Set Loss: 7.49\n",
            "Test Set Loss: 19.44\n",
            "Train set accuracy for a single minibatch: 89.06%\n",
            "Test set accuracy for a single minibatch: 67.19%\n",
            "\n",
            "\n",
            "Epoch 0, Iteration 1850\n",
            "Train Set Loss: 3.93\n",
            "Test Set Loss: 18.09\n",
            "Train set accuracy for a single minibatch: 93.75%\n",
            "Test set accuracy for a single minibatch: 70.31%\n",
            "\n",
            "\n",
            "Epoch 0, Iteration 1900\n",
            "Train Set Loss: 10.06\n",
            "Test Set Loss: 19.16\n",
            "Train set accuracy for a single minibatch: 84.38%\n",
            "Test set accuracy for a single minibatch: 62.50%\n",
            "\n",
            "\n",
            "Epoch 0, Iteration 1950\n",
            "Train Set Loss: 5.33\n",
            "Test Set Loss: 13.95\n",
            "Train set accuracy for a single minibatch: 95.31%\n",
            "Test set accuracy for a single minibatch: 75.00%\n",
            "\n",
            "\n",
            "--- 139.13762950897217 seconds ---\n"
          ]
        }
      ],
      "source": [
        "num_epochs = nepochs\n",
        "loss_hist = []\n",
        "test_loss_hist = []\n",
        "counter = 0\n",
        "\n",
        "import time\n",
        "start_time = time.time()\n",
        "trainloss = np.zeros(num_epochs)\n",
        "testloss = np.zeros(num_epochs)\n",
        "trainacc = np.zeros(num_epochs)\n",
        "testacc = np.zeros(num_epochs)\n",
        "\n",
        "# Outer training loop\n",
        "for epoch in range(num_epochs):\n",
        "    train_loss = 0.0\n",
        "    teloss = 0.0\n",
        "    train_acc =0.0\n",
        "    test_acc = 0.0\n",
        "    iter_counter = 0\n",
        "    train_batch = iter(train_loader)\n",
        "    train_samples = 0\n",
        "    test_samples = 0\n",
        "    # Minibatch training loop\n",
        "    for data, targets in train_batch:\n",
        "        train_samples += 1\n",
        "        #spike_data = spikegen.rate(data, num_steps=num_steps)\n",
        "        data = data.to(device)\n",
        "        targets = targets.to(device)\n",
        "\n",
        "        # forward pass\n",
        "        net.train()\n",
        "        #print(data.shape) \n",
        "        spk_rec, mem_rec = net(data.view(batch_size, -1))\n",
        "        #print(spk_rec.shape)\n",
        "        #print(spk_rec.sum(dim=0).shape)\n",
        "        _, idx = spk_rec.sum(dim=0).max(1)\n",
        "        acc = np.mean((targets == idx).detach().cpu().numpy())\n",
        "        train_acc+= acc\n",
        "        # initialize the loss & sum over time\n",
        "        loss_val = torch.zeros((1), dtype=dtype, device=device)\n",
        "        for step in range(num_steps):\n",
        "            loss_val += loss(mem_rec[step], targets)\n",
        "\n",
        "        # Gradient calculation + weight update\n",
        "        optimizer.zero_grad()\n",
        "        loss_val.backward()\n",
        "        optimizer.step()\n",
        "\n",
        "        # Store loss history for future plotting\n",
        "        loss_hist.append(loss_val.item())\n",
        "        train_loss += loss_val.item()\n",
        "        # Test set\n",
        "        with torch.no_grad():\n",
        "            net.eval()\n",
        "            test_data, test_targets = next(iter(test_loader))\n",
        "            #spike_test_data = spikegen.rate(test_data,num_steps =num_steps)\n",
        "            test_data = test_data.to(device)\n",
        "            test_targets = test_targets.to(device)\n",
        "            test_samples += 1\n",
        "\n",
        "            # Test set forward pass\n",
        "            test_spk, test_mem = net(test_data.view(batch_size, -1))\n",
        "            _, idx = test_spk.sum(dim=0).max(1)\n",
        "            tacc = np.mean((test_targets == idx).detach().cpu().numpy())\n",
        "            test_acc += tacc\n",
        "            # Test set loss\n",
        "            test_loss = torch.zeros((1), dtype=dtype, device=device)\n",
        "            for step in range(num_steps):\n",
        "                test_loss += loss(test_mem[step], test_targets)\n",
        "            test_loss_hist.append(test_loss.item())\n",
        "            teloss += test_loss.item()\n",
        "            # Print train/test loss/accuracy\n",
        "            if counter % 50 == 0:\n",
        "                train_printer()\n",
        "            counter += 1\n",
        "            iter_counter +=1\n",
        "    trainloss[epoch] = train_loss \n",
        "    testloss[epoch] = teloss\n",
        "    trainacc[epoch] = train_acc/train_samples\n",
        "    testacc[epoch] = test_acc/ test_samples\n",
        "print(\"--- %s seconds ---\" % (time.time() - start_time))"
      ]
    },
    {
      "cell_type": "code",
      "execution_count": 15,
      "metadata": {
        "id": "8HzVmh7s2kw3",
        "colab": {
          "base_uri": "https://localhost:8080/"
        },
        "outputId": "4fb408c4-cfcd-4ab8-d87f-d5db660182db"
      },
      "outputs": [
        {
          "output_type": "stream",
          "name": "stdout",
          "text": [
            "11751.480343341827\n",
            "test--------------------------------------------------------------------\n",
            "33277.54641485214\n"
          ]
        }
      ],
      "source": [
        "for i in range(0,len(trainloss)):\n",
        "  print(trainloss[i])\n",
        "\n",
        "print(\"test--------------------------------------------------------------------\")\n",
        "\n",
        "for i in range(0,len(testloss)):\n",
        "  print(testloss[i])"
      ]
    },
    {
      "cell_type": "code",
      "execution_count": 16,
      "metadata": {
        "id": "RCdDeH9GqUPj",
        "colab": {
          "base_uri": "https://localhost:8080/",
          "height": 295
        },
        "outputId": "7e2e845d-b04d-4ab4-e213-c8418b5aa237"
      },
      "outputs": [
        {
          "output_type": "display_data",
          "data": {
            "text/plain": [
              "<Figure size 432x288 with 1 Axes>"
            ],
            "image/png": "[encoded data removed]"
          },
          "metadata": {
            "needs_background": "light"
          }
        }
      ],
      "source": [
        "fig = plt.figure()\n",
        "plt.plot(trainloss)\n",
        "plt.plot(testloss)\n",
        "plt.title(\"Train & Test Loss Curves\")\n",
        "plt.legend([\"Train Loss\",\"Test Loss\"])\n",
        "plt.xlabel(\"Epoch\")\n",
        "plt.ylabel(\"Loss\")\n",
        "plt.show()"
      ]
    },
    {
      "cell_type": "code",
      "execution_count": 17,
      "metadata": {
        "id": "g5cEQR1zYD4G",
        "colab": {
          "base_uri": "https://localhost:8080/",
          "height": 295
        },
        "outputId": "05739b26-3413-4460-91ca-fed8f2537838"
      },
      "outputs": [
        {
          "output_type": "display_data",
          "data": {
            "text/plain": [
              "<Figure size 432x288 with 1 Axes>"
            ],
            "image/png": "[encoded data removed]"
          },
          "metadata": {
            "needs_background": "light"
          }
        }
      ],
      "source": [
        "fig = plt.figure()\n",
        "plt.plot(trainacc)\n",
        "plt.plot(testacc)\n",
        "plt.title(\"Train & Test Accuracy Curves\")\n",
        "plt.legend([\"Train Accuracy\",\"Test Accuracy\"])\n",
        "plt.xlabel(\"Epoch\")\n",
        "plt.ylabel(\"Accurracy\")\n",
        "plt.show()"
      ]
    },
    {
      "cell_type": "markdown",
      "metadata": {
        "collapsed": false,
        "id": "HxU7P7xFpko3"
      },
      "source": [
        "# 4. Results\n",
        "## 4.1 Plot Training/Test Loss"
      ]
    },
    {
      "cell_type": "code",
      "execution_count": 18,
      "metadata": {
        "id": "_Pk_EScnpkpj",
        "colab": {
          "base_uri": "https://localhost:8080/",
          "height": 350
        },
        "outputId": "70fc1af7-eb6f-496e-b61c-bb8d64562777"
      },
      "outputs": [
        {
          "output_type": "display_data",
          "data": {
            "text/plain": [
              "<Figure size 720x360 with 1 Axes>"
            ],
            "image/png": "[encoded data removed]"
          },
          "metadata": {}
        }
      ],
      "source": [
        "# Plot Loss\n",
        "fig = plt.figure(facecolor=\"w\", figsize=(10, 5))\n",
        "plt.plot(loss_hist)\n",
        "plt.plot(test_loss_hist)\n",
        "plt.title(\"Loss Curves\")\n",
        "plt.legend([\"Train Loss\", \"Test Loss\"])\n",
        "plt.xlabel(\"Iteration\")\n",
        "plt.ylabel(\"Loss\")\n",
        "plt.show()"
      ]
    },
    {
      "cell_type": "markdown",
      "metadata": {
        "id": "g-Gd84OAl1rB"
      },
      "source": [
        "The loss curves are noisy because the losses are tracked at every iteration, rather than averaging across multiple iterations. "
      ]
    },
    {
      "cell_type": "markdown",
      "metadata": {
        "collapsed": false,
        "id": "Z3f0vBnBpkpk"
      },
      "source": [
        "## 4.2 Test Set Accuracy\n",
        "This function iterates over all minibatches to obtain a measure of accuracy over the full samples in the test set."
      ]
    },
    {
      "cell_type": "code",
      "execution_count": 19,
      "metadata": {
        "id": "F5Rb4xHGndQh",
        "colab": {
          "base_uri": "https://localhost:8080/",
          "height": 671
        },
        "outputId": "642d542c-1121-415e-9879-29f3d450af0b"
      },
      "outputs": [
        {
          "output_type": "stream",
          "name": "stdout",
          "text": [
            "tn 9591\n",
            "fp 120\n",
            "fn 6535\n",
            "tp 6298\n",
            "Total correctly classified instances: 15889/22544\n",
            "Test Set Accuracy: 70.48%\n",
            "False alarm rate: 1.24%\n",
            "Accuracy: 70.48%\n",
            "Detection rate: 49.08%\n",
            "Precision: 98.13%\n",
            "Recall: 49.08%\n",
            "F1-score: 65.43%\n",
            "False positive rate: 1.87%\n",
            "False negative rate: 40.52%\n"
          ]
        },
        {
          "output_type": "display_data",
          "data": {
            "text/plain": [
              "<Figure size 864x504 with 2 Axes>"
            ],
            "image/png": "[encoded data removed]"
          },
          "metadata": {
            "needs_background": "light"
          }
        }
      ],
      "source": [
        "total = 0\n",
        "correct = 0\n",
        "y_pred = [] # for confusion matrix \n",
        "y_true = [] # for confusion matrix \n",
        "# drop_last switched to False to keep all samples\n",
        "test_loader = DataLoader(testDs, batch_size=batch_size, shuffle=True, drop_last=False)\n",
        "\n",
        "with torch.no_grad(): # switch off gradient computation\n",
        "  net.eval() # switch for evaluation \n",
        "  for data, targets in test_loader: # load batch of data and targets\n",
        "    data = data.to(device) # sent to gpu\n",
        "    targets = targets.to(device) # sent to gpu \n",
        "    \n",
        "    # forward pass\n",
        "    test_spk, _ = net(data.view(data.size(0), -1)) # forward pass to predict\n",
        "    #print(test_spk) \n",
        "\n",
        "\n",
        "    # calculate total accuracy\n",
        "    _, predicted = test_spk.sum(dim=0).max(1)\n",
        "    y_pred.extend(predicted.cpu()) # Save Prediction\n",
        "    y_true.extend(targets.cpu())\n",
        "    total += targets.size(0)\n",
        "    correct += (predicted == targets).sum().item()\n",
        "\n",
        "\n",
        "# constant for classes\n",
        "classes = ('Normal', 'Attack')\n",
        "\n",
        "# Build confusion matrix\n",
        "cf_matrix = confusion_matrix(y_true, y_pred)\n",
        "tn, fp, fn, tp = confusion_matrix(y_true,y_pred).ravel()\n",
        "print(\"tn\",tn)\n",
        "print(\"fp\",fp)\n",
        "print(\"fn\",fn)\n",
        "print(\"tp\",tp)\n",
        "# rows is the truth , columns is the predicted \n",
        "# plot confusion matrix with actual numbers\n",
        "df_cm= pd.DataFrame(cf_matrix, index = [i for i in classes],\n",
        "                     columns = [i for i in classes])\n",
        "\n",
        "\n",
        "plt.figure(figsize = (12,7))\n",
        "sn.heatmap(df_cm, annot=True,fmt ='g')\n",
        "\n",
        "precision = (tp/(tp+fp))\n",
        "recall = (tp/(tp+fn))\n",
        "\n",
        "print(f\"Total correctly classified instances: {correct}/{total}\")\n",
        "print(f\"Test Set Accuracy: {100 * correct / total:.2f}%\")\n",
        "print(f\"False alarm rate: {100*(fp/(fp+tn)):.2f}%\")\n",
        "print(f\"Accuracy: {100*((tp+tn)/(tp+fp+fn+tn)):.2f}%\")\n",
        "print(f\"Detection rate: {100 *(tp/(tp+fn)):.2f}%\")\n",
        "print(f\"Precision: {100 * precision:.2f}%\")\n",
        "print(f\"Recall: {100 * recall:.2f}%\")\n",
        "print(f\"F1-score: {100 *((2*precision*recall)/(precision+recall)):.2f}%\")\n",
        "print(f\"False positive rate: {100*(fp/(fp+tp)):.2f}%\")\n",
        "print(f\"False negative rate: {100*(fn/(fn+tn)):.2f}%\")"
      ]
    },
    {
      "cell_type": "code",
      "execution_count": 20,
      "metadata": {
        "id": "0dv7p4FjTK1f",
        "colab": {
          "base_uri": "https://localhost:8080/",
          "height": 602
        },
        "outputId": "575d0494-d1db-4ac3-f98c-e7304d0b5291"
      },
      "outputs": [
        {
          "output_type": "stream",
          "name": "stdout",
          "text": [
            "Total correctly classified instances: 114641/125973\n",
            "Test Set Accuracy: 91.00%\n",
            "False alarm rate: 0.13%\n",
            "Accuracy: 91.00%\n",
            "Detection rate: 80.83%\n",
            "Precision: 99.81%\n",
            "Recall: 80.83%\n",
            "F1-score: 89.32%\n",
            "False positive rate: 0.19%\n",
            "False negative rate: 14.32%\n"
          ]
        },
        {
          "output_type": "display_data",
          "data": {
            "text/plain": [
              "<Figure size 864x504 with 2 Axes>"
            ],
            "image/png": "[encoded data removed]"
          },
          "metadata": {
            "needs_background": "light"
          }
        }
      ],
      "source": [
        "total = 0\n",
        "correct = 0\n",
        "y_pred = [] # for confusion matrix \n",
        "y_true = [] # for confusion matrix \n",
        "# drop_last switched to False to keep all samples\n",
        "train_loader = DataLoader(trainDs, batch_size=batch_size, shuffle=True, drop_last=False)\n",
        "\n",
        "with torch.no_grad(): # switch off gradient computation\n",
        "  net.eval() # switch for evaluation \n",
        "  for data, targets in train_loader: # load batch of data and targets\n",
        "    data = data.to(device) # sent to gpu\n",
        "    targets = targets.to(device) # sent to gpu \n",
        "    \n",
        "    # forward pass\n",
        "    train_spk, _ = net(data.view(data.size(0), -1)) # forward pass to predict \n",
        "\n",
        "\n",
        "    # calculate total accuracy\n",
        "    _, predicted = train_spk.sum(dim=0).max(1)\n",
        "    y_pred.extend(predicted.cpu()) # Save Prediction\n",
        "    y_true.extend(targets.cpu())\n",
        "    total += targets.size(0)\n",
        "    correct += (predicted == targets).sum().item()\n",
        "\n",
        "\n",
        "# constant for classes\n",
        "classes = ('Normal', 'Attack')\n",
        "\n",
        "# Build confusion matrix\n",
        "cf_matrix = confusion_matrix(y_true, y_pred)\n",
        "tn, fp, fn, tp = confusion_matrix(y_true,y_pred).ravel()\n",
        "#print(\"tn\",tn)\n",
        "#print(\"fp\",fp)\n",
        "#print(\"fn\",fn)\n",
        "#print(\"tp\",tp)\n",
        "# rows is the truth , columns is the predicted \n",
        "# plot confusion matrix with actual numbers\n",
        "df_cm= pd.DataFrame(cf_matrix, index = [i for i in classes],\n",
        "                     columns = [i for i in classes])\n",
        "\n",
        "\n",
        "plt.figure(figsize = (12,7))\n",
        "sn.heatmap(df_cm, annot=True,fmt ='g')\n",
        "\n",
        "precision = (tp/(tp+fp))\n",
        "recall = (tp/(tp+fn))\n",
        "\n",
        "print(f\"Total correctly classified instances: {correct}/{total}\")\n",
        "print(f\"Test Set Accuracy: {100 * correct / total:.2f}%\")\n",
        "print(f\"False alarm rate: {100*(fp/(fp+tn)):.2f}%\")\n",
        "print(f\"Accuracy: {100*((tp+tn)/(tp+fp+fn+tn)):.2f}%\")\n",
        "print(f\"Detection rate: {100 *(tp/(tp+fn)):.2f}%\")\n",
        "print(f\"Precision: {100 * precision:.2f}%\")\n",
        "print(f\"Recall: {100 * recall:.2f}%\")\n",
        "print(f\"F1-score: {100 *((2*precision*recall)/(precision+recall)):.2f}%\")\n",
        "print(f\"False positive rate: {100*(fp/(fp+tp)):.2f}%\")\n",
        "print(f\"False negative rate: {100*(fn/(fn+tn)):.2f}%\")"
      ]
    }
  ],
  "metadata": {
    "colab": {
      "collapsed_sections": [],
      "name": "initial_snnPCA.ipynb",
      "provenance": []
    },
    "kernelspec": {
      "display_name": "Python 3",
      "language": "python",
      "name": "python3"
    },
    "language_info": {
      "codemirror_mode": {
        "name": "ipython",
        "version": 2
      },
      "file_extension": ".py",
      "mimetype": "text/x-python",
      "name": "python",
      "nbconvert_exporter": "python",
      "pygments_lexer": "ipython2",
      "version": "2.7.6"
    },
    "accelerator": "GPU"
  },
  "nbformat": 4,
  "nbformat_minor": 0
}