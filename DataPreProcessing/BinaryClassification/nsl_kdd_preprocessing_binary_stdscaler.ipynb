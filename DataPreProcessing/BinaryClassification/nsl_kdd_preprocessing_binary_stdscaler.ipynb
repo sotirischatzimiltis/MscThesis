{
  "nbformat": 4,
  "nbformat_minor": 0,
  "metadata": {
    "colab": {
      "name": "nsl_kdd_preprocessing_binary_stdscaler.ipynb",
      "provenance": [],
      "collapsed_sections": []
    },
    "kernelspec": {
      "name": "python3",
      "display_name": "Python 3"
    },
    "language_info": {
      "name": "python"
    }
  },
  "cells": [
    {
      "cell_type": "markdown",
      "source": [
        "# Import Libraries"
      ],
      "metadata": {
        "id": "TLL9El_bjAkN"
      }
    },
    {
      "cell_type": "code",
      "source": [
        "import numpy as np\n",
        "import pandas as pd\n",
        "import matplotlib.pyplot as plt\n",
        "from sklearn.preprocessing import LabelEncoder,OneHotEncoder\n",
        "from sklearn import preprocessing\n",
        "from sklearn.feature_selection import RFE\n",
        "from sklearn.tree import DecisionTreeClassifier\n",
        "from sklearn.model_selection import train_test_split # Import train_test_split function\n",
        "import warnings\n",
        "warnings.filterwarnings(\"ignore\")"
      ],
      "metadata": {
        "id": "qCox1LMBjAMZ"
      },
      "execution_count": 1,
      "outputs": []
    },
    {
      "cell_type": "markdown",
      "source": [
        "# Read Datasets"
      ],
      "metadata": {
        "id": "Wrsbhnt7kj-I"
      }
    },
    {
      "cell_type": "code",
      "execution_count": 2,
      "metadata": {
        "colab": {
          "base_uri": "https://localhost:8080/"
        },
        "id": "xUTScBIHi7BB",
        "outputId": "94501e34-dd7e-43e8-cc65-f7d9a8b26529"
      },
      "outputs": [
        {
          "output_type": "stream",
          "name": "stdout",
          "text": [
            "--2022-06-07 19:43:27--  https://raw.githubusercontent.com/sotirischatzimiltis/MscThesis/main/NSLKDD/KDDTrain.txt\n",
            "Resolving raw.githubusercontent.com (raw.githubusercontent.com)... 185.199.108.133, 185.199.109.133, 185.199.110.133, ...\n",
            "Connecting to raw.githubusercontent.com (raw.githubusercontent.com)|185.199.108.133|:443... connected.\n",
            "HTTP request sent, awaiting response... 200 OK\n",
            "Length: 19109424 (18M) [text/plain]\n",
            "Saving to: ‘KDDTrain.txt’\n",
            "\n",
            "KDDTrain.txt        100%[===================>]  18.22M   111MB/s    in 0.2s    \n",
            "\n",
            "2022-06-07 19:43:28 (111 MB/s) - ‘KDDTrain.txt’ saved [19109424/19109424]\n",
            "\n",
            "--2022-06-07 19:43:28--  https://raw.githubusercontent.com/sotirischatzimiltis/MscThesis/main/NSLKDD/KDDTest.txt\n",
            "Resolving raw.githubusercontent.com (raw.githubusercontent.com)... 185.199.108.133, 185.199.109.133, 185.199.110.133, ...\n",
            "Connecting to raw.githubusercontent.com (raw.githubusercontent.com)|185.199.108.133|:443... connected.\n",
            "HTTP request sent, awaiting response... 200 OK\n",
            "Length: 3441513 (3.3M) [text/plain]\n",
            "Saving to: ‘KDDTest.txt’\n",
            "\n",
            "KDDTest.txt         100%[===================>]   3.28M  --.-KB/s    in 0.07s   \n",
            "\n",
            "2022-06-07 19:43:28 (49.5 MB/s) - ‘KDDTest.txt’ saved [3441513/3441513]\n",
            "\n"
          ]
        }
      ],
      "source": [
        "train_url=\"https://raw.githubusercontent.com/sotirischatzimiltis/MscThesis/main/NSLKDD/KDDTrain.txt\"\n",
        "test_url= \"https://raw.githubusercontent.com/sotirischatzimiltis/MscThesis/main/NSLKDD/KDDTest.txt\"\n",
        "TRAIN_FILE=\"KDDTrain.txt\"\n",
        "TEST_FILE=\"KDDTest.txt\"\n",
        "![ -f \"$TRAIN_FILE\" ] && echo \"$TRAIN_FILE exists\" || wget \"$train_url\"\n",
        "![ -f \"$TEST_FILE\" ] && echo \"$TEST_FILE exists\" || wget \"$test_url\""
      ]
    },
    {
      "cell_type": "code",
      "source": [
        "dataset_train = pd.read_csv(\"KDDTrain.txt\", sep=\",\",header =None)\n",
        "dataset_train = dataset_train.iloc[:,:-1] # remove difficulty column"
      ],
      "metadata": {
        "id": "rYPYy-jUkIP1"
      },
      "execution_count": 3,
      "outputs": []
    },
    {
      "cell_type": "code",
      "source": [
        "dataset_test = pd.read_csv(\"KDDTest.txt\",sep=\",\",header=None)\n",
        "dataset_test = dataset_test.iloc[:,:-1] # remove difficulty column"
      ],
      "metadata": {
        "id": "GGmZl5LVkL3L"
      },
      "execution_count": 4,
      "outputs": []
    },
    {
      "cell_type": "markdown",
      "source": [
        "Sample View of Training and Test datasets"
      ],
      "metadata": {
        "id": "R6iDkOK6kwjC"
      }
    },
    {
      "cell_type": "code",
      "source": [
        "dataset_train.head()"
      ],
      "metadata": {
        "colab": {
          "base_uri": "https://localhost:8080/",
          "height": 236
        },
        "id": "apU9SaKykRN7",
        "outputId": "7bf5ba5c-5adc-4861-b127-890222965c0b"
      },
      "execution_count": 5,
      "outputs": [
        {
          "output_type": "execute_result",
          "data": {
            "text/plain": [
              "   0    1         2   3    4     5   6   7   8   9   ...   32    33    34  \\\n",
              "0   0  tcp  ftp_data  SF  491     0   0   0   0   0  ...   25  0.17  0.03   \n",
              "1   0  udp     other  SF  146     0   0   0   0   0  ...    1  0.00  0.60   \n",
              "2   0  tcp   private  S0    0     0   0   0   0   0  ...   26  0.10  0.05   \n",
              "3   0  tcp      http  SF  232  8153   0   0   0   0  ...  255  1.00  0.00   \n",
              "4   0  tcp      http  SF  199   420   0   0   0   0  ...  255  1.00  0.00   \n",
              "\n",
              "     35    36    37    38    39    40       41  \n",
              "0  0.17  0.00  0.00  0.00  0.05  0.00   normal  \n",
              "1  0.88  0.00  0.00  0.00  0.00  0.00   normal  \n",
              "2  0.00  0.00  1.00  1.00  0.00  0.00  neptune  \n",
              "3  0.03  0.04  0.03  0.01  0.00  0.01   normal  \n",
              "4  0.00  0.00  0.00  0.00  0.00  0.00   normal  \n",
              "\n",
              "[5 rows x 42 columns]"
            ],
            "text/html": [
              "\n",
              "  <div id=\"df-9310556e-5274-41e7-893c-9f8b2c32d271\">\n",
              "    <div class=\"colab-df-container\">\n",
              "      <div>\n",
              "<style scoped>\n",
              "    .dataframe tbody tr th:only-of-type {\n",
              "        vertical-align: middle;\n",
              "    }\n",
              "\n",
              "    .dataframe tbody tr th {\n",
              "        vertical-align: top;\n",
              "    }\n",
              "\n",
              "    .dataframe thead th {\n",
              "        text-align: right;\n",
              "    }\n",
              "</style>\n",
              "<table border=\"1\" class=\"dataframe\">\n",
              "  <thead>\n",
              "    <tr style=\"text-align: right;\">\n",
              "      <th></th>\n",
              "      <th>0</th>\n",
              "      <th>1</th>\n",
              "      <th>2</th>\n",
              "      <th>3</th>\n",
              "      <th>4</th>\n",
              "      <th>5</th>\n",
              "      <th>6</th>\n",
              "      <th>7</th>\n",
              "      <th>8</th>\n",
              "      <th>9</th>\n",
              "      <th>...</th>\n",
              "      <th>32</th>\n",
              "      <th>33</th>\n",
              "      <th>34</th>\n",
              "      <th>35</th>\n",
              "      <th>36</th>\n",
              "      <th>37</th>\n",
              "      <th>38</th>\n",
              "      <th>39</th>\n",
              "      <th>40</th>\n",
              "      <th>41</th>\n",
              "    </tr>\n",
              "  </thead>\n",
              "  <tbody>\n",
              "    <tr>\n",
              "      <th>0</th>\n",
              "      <td>0</td>\n",
              "      <td>tcp</td>\n",
              "      <td>ftp_data</td>\n",
              "      <td>SF</td>\n",
              "      <td>491</td>\n",
              "      <td>0</td>\n",
              "      <td>0</td>\n",
              "      <td>0</td>\n",
              "      <td>0</td>\n",
              "      <td>0</td>\n",
              "      <td>...</td>\n",
              "      <td>25</td>\n",
              "      <td>0.17</td>\n",
              "      <td>0.03</td>\n",
              "      <td>0.17</td>\n",
              "      <td>0.00</td>\n",
              "      <td>0.00</td>\n",
              "      <td>0.00</td>\n",
              "      <td>0.05</td>\n",
              "      <td>0.00</td>\n",
              "      <td>normal</td>\n",
              "    </tr>\n",
              "    <tr>\n",
              "      <th>1</th>\n",
              "      <td>0</td>\n",
              "      <td>udp</td>\n",
              "      <td>other</td>\n",
              "      <td>SF</td>\n",
              "      <td>146</td>\n",
              "      <td>0</td>\n",
              "      <td>0</td>\n",
              "      <td>0</td>\n",
              "      <td>0</td>\n",
              "      <td>0</td>\n",
              "      <td>...</td>\n",
              "      <td>1</td>\n",
              "      <td>0.00</td>\n",
              "      <td>0.60</td>\n",
              "      <td>0.88</td>\n",
              "      <td>0.00</td>\n",
              "      <td>0.00</td>\n",
              "      <td>0.00</td>\n",
              "      <td>0.00</td>\n",
              "      <td>0.00</td>\n",
              "      <td>normal</td>\n",
              "    </tr>\n",
              "    <tr>\n",
              "      <th>2</th>\n",
              "      <td>0</td>\n",
              "      <td>tcp</td>\n",
              "      <td>private</td>\n",
              "      <td>S0</td>\n",
              "      <td>0</td>\n",
              "      <td>0</td>\n",
              "      <td>0</td>\n",
              "      <td>0</td>\n",
              "      <td>0</td>\n",
              "      <td>0</td>\n",
              "      <td>...</td>\n",
              "      <td>26</td>\n",
              "      <td>0.10</td>\n",
              "      <td>0.05</td>\n",
              "      <td>0.00</td>\n",
              "      <td>0.00</td>\n",
              "      <td>1.00</td>\n",
              "      <td>1.00</td>\n",
              "      <td>0.00</td>\n",
              "      <td>0.00</td>\n",
              "      <td>neptune</td>\n",
              "    </tr>\n",
              "    <tr>\n",
              "      <th>3</th>\n",
              "      <td>0</td>\n",
              "      <td>tcp</td>\n",
              "      <td>http</td>\n",
              "      <td>SF</td>\n",
              "      <td>232</td>\n",
              "      <td>8153</td>\n",
              "      <td>0</td>\n",
              "      <td>0</td>\n",
              "      <td>0</td>\n",
              "      <td>0</td>\n",
              "      <td>...</td>\n",
              "      <td>255</td>\n",
              "      <td>1.00</td>\n",
              "      <td>0.00</td>\n",
              "      <td>0.03</td>\n",
              "      <td>0.04</td>\n",
              "      <td>0.03</td>\n",
              "      <td>0.01</td>\n",
              "      <td>0.00</td>\n",
              "      <td>0.01</td>\n",
              "      <td>normal</td>\n",
              "    </tr>\n",
              "    <tr>\n",
              "      <th>4</th>\n",
              "      <td>0</td>\n",
              "      <td>tcp</td>\n",
              "      <td>http</td>\n",
              "      <td>SF</td>\n",
              "      <td>199</td>\n",
              "      <td>420</td>\n",
              "      <td>0</td>\n",
              "      <td>0</td>\n",
              "      <td>0</td>\n",
              "      <td>0</td>\n",
              "      <td>...</td>\n",
              "      <td>255</td>\n",
              "      <td>1.00</td>\n",
              "      <td>0.00</td>\n",
              "      <td>0.00</td>\n",
              "      <td>0.00</td>\n",
              "      <td>0.00</td>\n",
              "      <td>0.00</td>\n",
              "      <td>0.00</td>\n",
              "      <td>0.00</td>\n",
              "      <td>normal</td>\n",
              "    </tr>\n",
              "  </tbody>\n",
              "</table>\n",
              "<p>5 rows × 42 columns</p>\n",
              "</div>\n",
              "      <button class=\"colab-df-convert\" onclick=\"convertToInteractive('df-9310556e-5274-41e7-893c-9f8b2c32d271')\"\n",
              "              title=\"Convert this dataframe to an interactive table.\"\n",
              "              style=\"display:none;\">\n",
              "        \n",
              "  <svg xmlns=\"http://www.w3.org/2000/svg\" height=\"24px\"viewBox=\"0 0 24 24\"\n",
              "       width=\"24px\">\n",
              "    <path d=\"M0 0h24v24H0V0z\" fill=\"none\"/>\n",
              "    <path d=\"M18.56 5.44l.94 2.06.94-2.06 2.06-.94-2.06-.94-.94-2.06-.94 2.06-2.06.94zm-11 1L8.5 8.5l.94-2.06 2.06-.94-2.06-.94L8.5 2.5l-.94 2.06-2.06.94zm10 10l.94 2.06.94-2.06 2.06-.94-2.06-.94-.94-2.06-.94 2.06-2.06.94z\"/><path d=\"M17.41 7.96l-1.37-1.37c-.4-.4-.92-.59-1.43-.59-.52 0-1.04.2-1.43.59L10.3 9.45l-7.72 7.72c-.78.78-.78 2.05 0 2.83L4 21.41c.39.39.9.59 1.41.59.51 0 1.02-.2 1.41-.59l7.78-7.78 2.81-2.81c.8-.78.8-2.07 0-2.86zM5.41 20L4 18.59l7.72-7.72 1.47 1.35L5.41 20z\"/>\n",
              "  </svg>\n",
              "      </button>\n",
              "      \n",
              "  <style>\n",
              "    .colab-df-container {\n",
              "      display:flex;\n",
              "      flex-wrap:wrap;\n",
              "      gap: 12px;\n",
              "    }\n",
              "\n",
              "    .colab-df-convert {\n",
              "      background-color: #E8F0FE;\n",
              "      border: none;\n",
              "      border-radius: 50%;\n",
              "      cursor: pointer;\n",
              "      display: none;\n",
              "      fill: #1967D2;\n",
              "      height: 32px;\n",
              "      padding: 0 0 0 0;\n",
              "      width: 32px;\n",
              "    }\n",
              "\n",
              "    .colab-df-convert:hover {\n",
              "      background-color: #E2EBFA;\n",
              "      box-shadow: 0px 1px 2px rgba(60, 64, 67, 0.3), 0px 1px 3px 1px rgba(60, 64, 67, 0.15);\n",
              "      fill: #174EA6;\n",
              "    }\n",
              "\n",
              "    [theme=dark] .colab-df-convert {\n",
              "      background-color: #3B4455;\n",
              "      fill: #D2E3FC;\n",
              "    }\n",
              "\n",
              "    [theme=dark] .colab-df-convert:hover {\n",
              "      background-color: #434B5C;\n",
              "      box-shadow: 0px 1px 3px 1px rgba(0, 0, 0, 0.15);\n",
              "      filter: drop-shadow(0px 1px 2px rgba(0, 0, 0, 0.3));\n",
              "      fill: #FFFFFF;\n",
              "    }\n",
              "  </style>\n",
              "\n",
              "      <script>\n",
              "        const buttonEl =\n",
              "          document.querySelector('#df-9310556e-5274-41e7-893c-9f8b2c32d271 button.colab-df-convert');\n",
              "        buttonEl.style.display =\n",
              "          google.colab.kernel.accessAllowed ? 'block' : 'none';\n",
              "\n",
              "        async function convertToInteractive(key) {\n",
              "          const element = document.querySelector('#df-9310556e-5274-41e7-893c-9f8b2c32d271');\n",
              "          const dataTable =\n",
              "            await google.colab.kernel.invokeFunction('convertToInteractive',\n",
              "                                                     [key], {});\n",
              "          if (!dataTable) return;\n",
              "\n",
              "          const docLinkHtml = 'Like what you see? Visit the ' +\n",
              "            '<a target=\"_blank\" href=https://colab.research.google.com/notebooks/data_table.ipynb>data table notebook</a>'\n",
              "            + ' to learn more about interactive tables.';\n",
              "          element.innerHTML = '';\n",
              "          dataTable['output_type'] = 'display_data';\n",
              "          await google.colab.output.renderOutput(dataTable, element);\n",
              "          const docLink = document.createElement('div');\n",
              "          docLink.innerHTML = docLinkHtml;\n",
              "          element.appendChild(docLink);\n",
              "        }\n",
              "      </script>\n",
              "    </div>\n",
              "  </div>\n",
              "  "
            ]
          },
          "metadata": {},
          "execution_count": 5
        }
      ]
    },
    {
      "cell_type": "code",
      "source": [
        "dataset_test.head()"
      ],
      "metadata": {
        "colab": {
          "base_uri": "https://localhost:8080/",
          "height": 236
        },
        "id": "HHpfTmGkkbml",
        "outputId": "e9af7070-3413-469a-f8b7-ce670f62fd0c"
      },
      "execution_count": 6,
      "outputs": [
        {
          "output_type": "execute_result",
          "data": {
            "text/plain": [
              "   0     1         2     3      4   5   6   7   8   9   ...  32    33    34  \\\n",
              "0   0   tcp   private   REJ      0   0   0   0   0   0  ...  10  0.04  0.06   \n",
              "1   0   tcp   private   REJ      0   0   0   0   0   0  ...   1  0.00  0.06   \n",
              "2   2   tcp  ftp_data    SF  12983   0   0   0   0   0  ...  86  0.61  0.04   \n",
              "3   0  icmp     eco_i    SF     20   0   0   0   0   0  ...  57  1.00  0.00   \n",
              "4   1   tcp    telnet  RSTO      0  15   0   0   0   0  ...  86  0.31  0.17   \n",
              "\n",
              "     35    36   37   38    39    40       41  \n",
              "0  0.00  0.00  0.0  0.0  1.00  1.00  neptune  \n",
              "1  0.00  0.00  0.0  0.0  1.00  1.00  neptune  \n",
              "2  0.61  0.02  0.0  0.0  0.00  0.00   normal  \n",
              "3  1.00  0.28  0.0  0.0  0.00  0.00    saint  \n",
              "4  0.03  0.02  0.0  0.0  0.83  0.71    mscan  \n",
              "\n",
              "[5 rows x 42 columns]"
            ],
            "text/html": [
              "\n",
              "  <div id=\"df-cef7fd21-1e7c-4ddf-9d24-7701ad75714e\">\n",
              "    <div class=\"colab-df-container\">\n",
              "      <div>\n",
              "<style scoped>\n",
              "    .dataframe tbody tr th:only-of-type {\n",
              "        vertical-align: middle;\n",
              "    }\n",
              "\n",
              "    .dataframe tbody tr th {\n",
              "        vertical-align: top;\n",
              "    }\n",
              "\n",
              "    .dataframe thead th {\n",
              "        text-align: right;\n",
              "    }\n",
              "</style>\n",
              "<table border=\"1\" class=\"dataframe\">\n",
              "  <thead>\n",
              "    <tr style=\"text-align: right;\">\n",
              "      <th></th>\n",
              "      <th>0</th>\n",
              "      <th>1</th>\n",
              "      <th>2</th>\n",
              "      <th>3</th>\n",
              "      <th>4</th>\n",
              "      <th>5</th>\n",
              "      <th>6</th>\n",
              "      <th>7</th>\n",
              "      <th>8</th>\n",
              "      <th>9</th>\n",
              "      <th>...</th>\n",
              "      <th>32</th>\n",
              "      <th>33</th>\n",
              "      <th>34</th>\n",
              "      <th>35</th>\n",
              "      <th>36</th>\n",
              "      <th>37</th>\n",
              "      <th>38</th>\n",
              "      <th>39</th>\n",
              "      <th>40</th>\n",
              "      <th>41</th>\n",
              "    </tr>\n",
              "  </thead>\n",
              "  <tbody>\n",
              "    <tr>\n",
              "      <th>0</th>\n",
              "      <td>0</td>\n",
              "      <td>tcp</td>\n",
              "      <td>private</td>\n",
              "      <td>REJ</td>\n",
              "      <td>0</td>\n",
              "      <td>0</td>\n",
              "      <td>0</td>\n",
              "      <td>0</td>\n",
              "      <td>0</td>\n",
              "      <td>0</td>\n",
              "      <td>...</td>\n",
              "      <td>10</td>\n",
              "      <td>0.04</td>\n",
              "      <td>0.06</td>\n",
              "      <td>0.00</td>\n",
              "      <td>0.00</td>\n",
              "      <td>0.0</td>\n",
              "      <td>0.0</td>\n",
              "      <td>1.00</td>\n",
              "      <td>1.00</td>\n",
              "      <td>neptune</td>\n",
              "    </tr>\n",
              "    <tr>\n",
              "      <th>1</th>\n",
              "      <td>0</td>\n",
              "      <td>tcp</td>\n",
              "      <td>private</td>\n",
              "      <td>REJ</td>\n",
              "      <td>0</td>\n",
              "      <td>0</td>\n",
              "      <td>0</td>\n",
              "      <td>0</td>\n",
              "      <td>0</td>\n",
              "      <td>0</td>\n",
              "      <td>...</td>\n",
              "      <td>1</td>\n",
              "      <td>0.00</td>\n",
              "      <td>0.06</td>\n",
              "      <td>0.00</td>\n",
              "      <td>0.00</td>\n",
              "      <td>0.0</td>\n",
              "      <td>0.0</td>\n",
              "      <td>1.00</td>\n",
              "      <td>1.00</td>\n",
              "      <td>neptune</td>\n",
              "    </tr>\n",
              "    <tr>\n",
              "      <th>2</th>\n",
              "      <td>2</td>\n",
              "      <td>tcp</td>\n",
              "      <td>ftp_data</td>\n",
              "      <td>SF</td>\n",
              "      <td>12983</td>\n",
              "      <td>0</td>\n",
              "      <td>0</td>\n",
              "      <td>0</td>\n",
              "      <td>0</td>\n",
              "      <td>0</td>\n",
              "      <td>...</td>\n",
              "      <td>86</td>\n",
              "      <td>0.61</td>\n",
              "      <td>0.04</td>\n",
              "      <td>0.61</td>\n",
              "      <td>0.02</td>\n",
              "      <td>0.0</td>\n",
              "      <td>0.0</td>\n",
              "      <td>0.00</td>\n",
              "      <td>0.00</td>\n",
              "      <td>normal</td>\n",
              "    </tr>\n",
              "    <tr>\n",
              "      <th>3</th>\n",
              "      <td>0</td>\n",
              "      <td>icmp</td>\n",
              "      <td>eco_i</td>\n",
              "      <td>SF</td>\n",
              "      <td>20</td>\n",
              "      <td>0</td>\n",
              "      <td>0</td>\n",
              "      <td>0</td>\n",
              "      <td>0</td>\n",
              "      <td>0</td>\n",
              "      <td>...</td>\n",
              "      <td>57</td>\n",
              "      <td>1.00</td>\n",
              "      <td>0.00</td>\n",
              "      <td>1.00</td>\n",
              "      <td>0.28</td>\n",
              "      <td>0.0</td>\n",
              "      <td>0.0</td>\n",
              "      <td>0.00</td>\n",
              "      <td>0.00</td>\n",
              "      <td>saint</td>\n",
              "    </tr>\n",
              "    <tr>\n",
              "      <th>4</th>\n",
              "      <td>1</td>\n",
              "      <td>tcp</td>\n",
              "      <td>telnet</td>\n",
              "      <td>RSTO</td>\n",
              "      <td>0</td>\n",
              "      <td>15</td>\n",
              "      <td>0</td>\n",
              "      <td>0</td>\n",
              "      <td>0</td>\n",
              "      <td>0</td>\n",
              "      <td>...</td>\n",
              "      <td>86</td>\n",
              "      <td>0.31</td>\n",
              "      <td>0.17</td>\n",
              "      <td>0.03</td>\n",
              "      <td>0.02</td>\n",
              "      <td>0.0</td>\n",
              "      <td>0.0</td>\n",
              "      <td>0.83</td>\n",
              "      <td>0.71</td>\n",
              "      <td>mscan</td>\n",
              "    </tr>\n",
              "  </tbody>\n",
              "</table>\n",
              "<p>5 rows × 42 columns</p>\n",
              "</div>\n",
              "      <button class=\"colab-df-convert\" onclick=\"convertToInteractive('df-cef7fd21-1e7c-4ddf-9d24-7701ad75714e')\"\n",
              "              title=\"Convert this dataframe to an interactive table.\"\n",
              "              style=\"display:none;\">\n",
              "        \n",
              "  <svg xmlns=\"http://www.w3.org/2000/svg\" height=\"24px\"viewBox=\"0 0 24 24\"\n",
              "       width=\"24px\">\n",
              "    <path d=\"M0 0h24v24H0V0z\" fill=\"none\"/>\n",
              "    <path d=\"M18.56 5.44l.94 2.06.94-2.06 2.06-.94-2.06-.94-.94-2.06-.94 2.06-2.06.94zm-11 1L8.5 8.5l.94-2.06 2.06-.94-2.06-.94L8.5 2.5l-.94 2.06-2.06.94zm10 10l.94 2.06.94-2.06 2.06-.94-2.06-.94-.94-2.06-.94 2.06-2.06.94z\"/><path d=\"M17.41 7.96l-1.37-1.37c-.4-.4-.92-.59-1.43-.59-.52 0-1.04.2-1.43.59L10.3 9.45l-7.72 7.72c-.78.78-.78 2.05 0 2.83L4 21.41c.39.39.9.59 1.41.59.51 0 1.02-.2 1.41-.59l7.78-7.78 2.81-2.81c.8-.78.8-2.07 0-2.86zM5.41 20L4 18.59l7.72-7.72 1.47 1.35L5.41 20z\"/>\n",
              "  </svg>\n",
              "      </button>\n",
              "      \n",
              "  <style>\n",
              "    .colab-df-container {\n",
              "      display:flex;\n",
              "      flex-wrap:wrap;\n",
              "      gap: 12px;\n",
              "    }\n",
              "\n",
              "    .colab-df-convert {\n",
              "      background-color: #E8F0FE;\n",
              "      border: none;\n",
              "      border-radius: 50%;\n",
              "      cursor: pointer;\n",
              "      display: none;\n",
              "      fill: #1967D2;\n",
              "      height: 32px;\n",
              "      padding: 0 0 0 0;\n",
              "      width: 32px;\n",
              "    }\n",
              "\n",
              "    .colab-df-convert:hover {\n",
              "      background-color: #E2EBFA;\n",
              "      box-shadow: 0px 1px 2px rgba(60, 64, 67, 0.3), 0px 1px 3px 1px rgba(60, 64, 67, 0.15);\n",
              "      fill: #174EA6;\n",
              "    }\n",
              "\n",
              "    [theme=dark] .colab-df-convert {\n",
              "      background-color: #3B4455;\n",
              "      fill: #D2E3FC;\n",
              "    }\n",
              "\n",
              "    [theme=dark] .colab-df-convert:hover {\n",
              "      background-color: #434B5C;\n",
              "      box-shadow: 0px 1px 3px 1px rgba(0, 0, 0, 0.15);\n",
              "      filter: drop-shadow(0px 1px 2px rgba(0, 0, 0, 0.3));\n",
              "      fill: #FFFFFF;\n",
              "    }\n",
              "  </style>\n",
              "\n",
              "      <script>\n",
              "        const buttonEl =\n",
              "          document.querySelector('#df-cef7fd21-1e7c-4ddf-9d24-7701ad75714e button.colab-df-convert');\n",
              "        buttonEl.style.display =\n",
              "          google.colab.kernel.accessAllowed ? 'block' : 'none';\n",
              "\n",
              "        async function convertToInteractive(key) {\n",
              "          const element = document.querySelector('#df-cef7fd21-1e7c-4ddf-9d24-7701ad75714e');\n",
              "          const dataTable =\n",
              "            await google.colab.kernel.invokeFunction('convertToInteractive',\n",
              "                                                     [key], {});\n",
              "          if (!dataTable) return;\n",
              "\n",
              "          const docLinkHtml = 'Like what you see? Visit the ' +\n",
              "            '<a target=\"_blank\" href=https://colab.research.google.com/notebooks/data_table.ipynb>data table notebook</a>'\n",
              "            + ' to learn more about interactive tables.';\n",
              "          element.innerHTML = '';\n",
              "          dataTable['output_type'] = 'display_data';\n",
              "          await google.colab.output.renderOutput(dataTable, element);\n",
              "          const docLink = document.createElement('div');\n",
              "          docLink.innerHTML = docLinkHtml;\n",
              "          element.appendChild(docLink);\n",
              "        }\n",
              "      </script>\n",
              "    </div>\n",
              "  </div>\n",
              "  "
            ]
          },
          "metadata": {},
          "execution_count": 6
        }
      ]
    },
    {
      "cell_type": "markdown",
      "source": [
        "Columns names of Training and Test Datasets"
      ],
      "metadata": {
        "id": "Wb5m2U78k7yz"
      }
    },
    {
      "cell_type": "code",
      "source": [
        "col_names = [\"duration\",\"protocol_type\",\"service\",\"flag\",\"src_bytes\",\n",
        "    \"dst_bytes\",\"land\",\"wrong_fragment\",\"urgent\",\"hot\",\"num_failed_logins\",\n",
        "    \"logged_in\",\"num_compromised\",\"root_shell\",\"su_attempted\",\"num_root\",\n",
        "    \"num_file_creations\",\"num_shells\",\"num_access_files\",\"num_outbound_cmds\",\n",
        "    \"is_host_login\",\"is_guest_login\",\"count\",\"srv_count\",\"serror_rate\",\n",
        "    \"srv_serror_rate\",\"rerror_rate\",\"srv_rerror_rate\",\"same_srv_rate\",\n",
        "    \"diff_srv_rate\",\"srv_diff_host_rate\",\"dst_host_count\",\"dst_host_srv_count\",\n",
        "    \"dst_host_same_srv_rate\",\"dst_host_diff_srv_rate\",\"dst_host_same_src_port_rate\",\n",
        "    \"dst_host_srv_diff_host_rate\",\"dst_host_serror_rate\",\"dst_host_srv_serror_rate\",\n",
        "    \"dst_host_rerror_rate\",\"dst_host_srv_rerror_rate\",\"label\"]"
      ],
      "metadata": {
        "id": "6XUayEo0k-rO"
      },
      "execution_count": 7,
      "outputs": []
    },
    {
      "cell_type": "markdown",
      "source": [
        "Shape of Training and Test Datasets"
      ],
      "metadata": {
        "id": "gWz0rlRrl0B2"
      }
    },
    {
      "cell_type": "code",
      "source": [
        "print(\"Shape of Training Dataset:\", dataset_train.shape)\n",
        "print(\"Shape of Testing Dataset:\", dataset_test.shape)"
      ],
      "metadata": {
        "colab": {
          "base_uri": "https://localhost:8080/"
        },
        "id": "O48ADyvQl4n-",
        "outputId": "bc3a81a8-b8dd-426c-d916-02b042c18cfb"
      },
      "execution_count": 8,
      "outputs": [
        {
          "output_type": "stream",
          "name": "stdout",
          "text": [
            "Shape of Training Dataset: (125973, 42)\n",
            "Shape of Testing Dataset: (22544, 42)\n"
          ]
        }
      ]
    },
    {
      "cell_type": "markdown",
      "source": [
        "Columns Assignment"
      ],
      "metadata": {
        "id": "KEJWNOH3mCMt"
      }
    },
    {
      "cell_type": "code",
      "source": [
        "dataset_train.columns = col_names # append labels\n",
        "dataset_test.columns = col_names "
      ],
      "metadata": {
        "id": "iy9NRuXrmBd4"
      },
      "execution_count": 9,
      "outputs": []
    },
    {
      "cell_type": "markdown",
      "source": [
        "Labels of Training and Test Datasets"
      ],
      "metadata": {
        "id": "mu3Vk41gmVIS"
      }
    },
    {
      "cell_type": "code",
      "source": [
        "#label distribution of Training set and testing set\n",
        "print('Label distribution Training set:')\n",
        "print(dataset_train['label'].value_counts())\n",
        "train_labels = dataset_train['label'].unique()\n",
        "print()\n",
        "print('Label distribution Test set:')\n",
        "print(dataset_test['label'].value_counts())"
      ],
      "metadata": {
        "colab": {
          "base_uri": "https://localhost:8080/"
        },
        "id": "w5TVgxXgmf3x",
        "outputId": "cbbea978-bdc4-4451-edfd-b12184b64109"
      },
      "execution_count": 10,
      "outputs": [
        {
          "output_type": "stream",
          "name": "stdout",
          "text": [
            "Label distribution Training set:\n",
            "normal             67343\n",
            "neptune            41214\n",
            "satan               3633\n",
            "ipsweep             3599\n",
            "portsweep           2931\n",
            "smurf               2646\n",
            "nmap                1493\n",
            "back                 956\n",
            "teardrop             892\n",
            "warezclient          890\n",
            "pod                  201\n",
            "guess_passwd          53\n",
            "buffer_overflow       30\n",
            "warezmaster           20\n",
            "land                  18\n",
            "imap                  11\n",
            "rootkit               10\n",
            "loadmodule             9\n",
            "ftp_write              8\n",
            "multihop               7\n",
            "phf                    4\n",
            "perl                   3\n",
            "spy                    2\n",
            "Name: label, dtype: int64\n",
            "\n",
            "Label distribution Test set:\n",
            "normal             9711\n",
            "neptune            4657\n",
            "guess_passwd       1231\n",
            "mscan               996\n",
            "warezmaster         944\n",
            "apache2             737\n",
            "satan               735\n",
            "processtable        685\n",
            "smurf               665\n",
            "back                359\n",
            "snmpguess           331\n",
            "saint               319\n",
            "mailbomb            293\n",
            "snmpgetattack       178\n",
            "portsweep           157\n",
            "ipsweep             141\n",
            "httptunnel          133\n",
            "nmap                 73\n",
            "pod                  41\n",
            "buffer_overflow      20\n",
            "multihop             18\n",
            "named                17\n",
            "ps                   15\n",
            "sendmail             14\n",
            "rootkit              13\n",
            "xterm                13\n",
            "teardrop             12\n",
            "xlock                 9\n",
            "land                  7\n",
            "xsnoop                4\n",
            "ftp_write             3\n",
            "worm                  2\n",
            "loadmodule            2\n",
            "perl                  2\n",
            "sqlattack             2\n",
            "udpstorm              2\n",
            "phf                   2\n",
            "imap                  1\n",
            "Name: label, dtype: int64\n"
          ]
        }
      ]
    },
    {
      "cell_type": "markdown",
      "source": [
        "# Data Pre-processing"
      ],
      "metadata": {
        "id": "Zfb5wrB8mpHi"
      }
    },
    {
      "cell_type": "markdown",
      "source": [
        "## Handle categorical features"
      ],
      "metadata": {
        "id": "0CJZaMexmzmb"
      }
    },
    {
      "cell_type": "code",
      "source": [
        "# colums that are categorical and not binary yet: protocol_type (column 2), service (column 3), flag (column 4).\n",
        "# explore categorical features\n",
        "print('Training set:')\n",
        "for col_name in dataset_train.columns:\n",
        "    if dataset_train[col_name].dtypes == 'object' :\n",
        "        unique_cat = dataset_train[col_name].nunique()\n",
        "        print(\"Feature '{col_name}' has {unique_cat} categories\".format(col_name=col_name, unique_cat=unique_cat))\n",
        "\n",
        "# Test set\n",
        "print('Test set:')\n",
        "for col_name in dataset_test.columns:\n",
        "    if dataset_test[col_name].dtypes == 'object' :\n",
        "        unique_cat = len(dataset_test[col_name].unique())\n",
        "        print(\"Feature '{col_name}' has {unique_cat} categories\".format(col_name=col_name, unique_cat=unique_cat))"
      ],
      "metadata": {
        "colab": {
          "base_uri": "https://localhost:8080/"
        },
        "id": "kBSeJtJvmoOI",
        "outputId": "ad87760e-bcb4-4e38-9a08-216130093cf9"
      },
      "execution_count": 11,
      "outputs": [
        {
          "output_type": "stream",
          "name": "stdout",
          "text": [
            "Training set:\n",
            "Feature 'protocol_type' has 3 categories\n",
            "Feature 'service' has 70 categories\n",
            "Feature 'flag' has 11 categories\n",
            "Feature 'label' has 23 categories\n",
            "Test set:\n",
            "Feature 'protocol_type' has 3 categories\n",
            "Feature 'service' has 64 categories\n",
            "Feature 'flag' has 11 categories\n",
            "Feature 'label' has 38 categories\n"
          ]
        }
      ]
    },
    {
      "cell_type": "markdown",
      "source": [
        "One-hot-Encoding"
      ],
      "metadata": {
        "id": "vAKeBKt6ob5N"
      }
    },
    {
      "cell_type": "code",
      "source": [
        "one_hot_encoder = preprocessing.OneHotEncoder() # create one hot encoder"
      ],
      "metadata": {
        "id": "Ekw90656ovm-"
      },
      "execution_count": 12,
      "outputs": []
    },
    {
      "cell_type": "markdown",
      "source": [
        "Protocol Type"
      ],
      "metadata": {
        "id": "J7b-6keZpyiH"
      }
    },
    {
      "cell_type": "code",
      "source": [
        "# fit one hot encoder\n",
        "one_hot_encoder.fit(dataset_train['protocol_type'].values.reshape(-1,1))\n",
        "\n",
        "#train dataset\n",
        "train_transform = one_hot_encoder.transform(dataset_train['protocol_type'].values.reshape(-1,1)) \n",
        "train_transform = train_transform.toarray()\n",
        "train_df = pd.DataFrame(train_transform, columns = one_hot_encoder.get_feature_names_out())\n",
        "del dataset_train['protocol_type']\n",
        "dataset_train = pd.concat([dataset_train,train_df], axis=1)\n",
        "\n",
        "#test dataset\n",
        "test_transform = one_hot_encoder.transform(dataset_test['protocol_type'].values.reshape(-1,1)) \n",
        "test_transform = test_transform.toarray()\n",
        "test_df = pd.DataFrame(test_transform , columns = one_hot_encoder.get_feature_names_out())\n",
        "del dataset_test['protocol_type']\n",
        "dataset_test = pd.concat([dataset_test,test_df], axis=1)"
      ],
      "metadata": {
        "id": "tnC1cjYEodok"
      },
      "execution_count": 13,
      "outputs": []
    },
    {
      "cell_type": "markdown",
      "source": [
        "Service "
      ],
      "metadata": {
        "id": "e6d9blMJp3_g"
      }
    },
    {
      "cell_type": "code",
      "source": [
        "# fit one hot encoder\n",
        "one_hot_encoder.fit(dataset_train['service'].values.reshape(-1,1))\n",
        "\n",
        "# train dataset\n",
        "train_transform = one_hot_encoder.transform(dataset_train['service'].values.reshape(-1,1)) \n",
        "train_transform = train_transform.toarray()\n",
        "train_df = pd.DataFrame(train_transform, columns = one_hot_encoder.get_feature_names_out())\n",
        "del dataset_train['service']\n",
        "dataset_train = pd.concat([dataset_train,train_df], axis=1)\n",
        "\n",
        "# test dataset\n",
        "test_transform = one_hot_encoder.transform(dataset_test['service'].values.reshape(-1,1)) \n",
        "test_transform = test_transform.toarray()\n",
        "test_df = pd.DataFrame(test_transform , columns = one_hot_encoder.get_feature_names_out())\n",
        "del dataset_test['service']\n",
        "dataset_test = pd.concat([dataset_test,test_df], axis=1)"
      ],
      "metadata": {
        "id": "VAdkMCVtpLo7"
      },
      "execution_count": 14,
      "outputs": []
    },
    {
      "cell_type": "markdown",
      "source": [
        "Flag"
      ],
      "metadata": {
        "id": "bFtQloanqTRu"
      }
    },
    {
      "cell_type": "code",
      "source": [
        "# fit one hot encoder\n",
        "one_hot_encoder.fit(dataset_train['flag'].values.reshape(-1,1))\n",
        "\n",
        "# train dataset\n",
        "train_transform = one_hot_encoder.transform(dataset_train['flag'].values.reshape(-1,1)) \n",
        "train_transform = train_transform.toarray()\n",
        "train_df = pd.DataFrame(train_transform, columns = one_hot_encoder.get_feature_names_out())\n",
        "del dataset_train['flag']\n",
        "dataset_train = pd.concat([dataset_train,train_df], axis=1)\n",
        "\n",
        "# test dataset\n",
        "test_transform = one_hot_encoder.transform(dataset_test['flag'].values.reshape(-1,1)) \n",
        "test_transform = test_transform.toarray()\n",
        "test_df = pd.DataFrame(test_transform , columns = one_hot_encoder.get_feature_names_out())\n",
        "del dataset_test['flag']\n",
        "dataset_test = pd.concat([dataset_test,test_df], axis=1)"
      ],
      "metadata": {
        "id": "7NfsI5A1KNT_"
      },
      "execution_count": 15,
      "outputs": []
    },
    {
      "cell_type": "code",
      "source": [
        "print(\"Shape of Training Dataset:\", dataset_train.shape)\n",
        "print(\"Shape of Testing Dataset:\", dataset_test.shape)"
      ],
      "metadata": {
        "colab": {
          "base_uri": "https://localhost:8080/"
        },
        "id": "QTJC3pEVrEsL",
        "outputId": "287a73b2-ee80-49b5-c518-171c8b49d2bd"
      },
      "execution_count": 16,
      "outputs": [
        {
          "output_type": "stream",
          "name": "stdout",
          "text": [
            "Shape of Training Dataset: (125973, 123)\n",
            "Shape of Testing Dataset: (22544, 123)\n"
          ]
        }
      ]
    },
    {
      "cell_type": "code",
      "source": [
        "dataset_train.head()"
      ],
      "metadata": {
        "colab": {
          "base_uri": "https://localhost:8080/",
          "height": 236
        },
        "id": "8En4p5FYrOmV",
        "outputId": "19008faf-81a5-4441-afc2-242c7c5fb6ee"
      },
      "execution_count": 17,
      "outputs": [
        {
          "output_type": "execute_result",
          "data": {
            "text/plain": [
              "   duration  src_bytes  dst_bytes  land  wrong_fragment  urgent  hot  \\\n",
              "0         0        491          0     0               0       0    0   \n",
              "1         0        146          0     0               0       0    0   \n",
              "2         0          0          0     0               0       0    0   \n",
              "3         0        232       8153     0               0       0    0   \n",
              "4         0        199        420     0               0       0    0   \n",
              "\n",
              "   num_failed_logins  logged_in  num_compromised  ...  x0_REJ  x0_RSTO  \\\n",
              "0                  0          0                0  ...     0.0      0.0   \n",
              "1                  0          0                0  ...     0.0      0.0   \n",
              "2                  0          0                0  ...     0.0      0.0   \n",
              "3                  0          1                0  ...     0.0      0.0   \n",
              "4                  0          1                0  ...     0.0      0.0   \n",
              "\n",
              "   x0_RSTOS0  x0_RSTR  x0_S0  x0_S1  x0_S2  x0_S3  x0_SF  x0_SH  \n",
              "0        0.0      0.0    0.0    0.0    0.0    0.0    1.0    0.0  \n",
              "1        0.0      0.0    0.0    0.0    0.0    0.0    1.0    0.0  \n",
              "2        0.0      0.0    1.0    0.0    0.0    0.0    0.0    0.0  \n",
              "3        0.0      0.0    0.0    0.0    0.0    0.0    1.0    0.0  \n",
              "4        0.0      0.0    0.0    0.0    0.0    0.0    1.0    0.0  \n",
              "\n",
              "[5 rows x 123 columns]"
            ],
            "text/html": [
              "\n",
              "  <div id=\"df-1623c0e6-efb6-4dc1-9ed9-ba7140975c2c\">\n",
              "    <div class=\"colab-df-container\">\n",
              "      <div>\n",
              "<style scoped>\n",
              "    .dataframe tbody tr th:only-of-type {\n",
              "        vertical-align: middle;\n",
              "    }\n",
              "\n",
              "    .dataframe tbody tr th {\n",
              "        vertical-align: top;\n",
              "    }\n",
              "\n",
              "    .dataframe thead th {\n",
              "        text-align: right;\n",
              "    }\n",
              "</style>\n",
              "<table border=\"1\" class=\"dataframe\">\n",
              "  <thead>\n",
              "    <tr style=\"text-align: right;\">\n",
              "      <th></th>\n",
              "      <th>duration</th>\n",
              "      <th>src_bytes</th>\n",
              "      <th>dst_bytes</th>\n",
              "      <th>land</th>\n",
              "      <th>wrong_fragment</th>\n",
              "      <th>urgent</th>\n",
              "      <th>hot</th>\n",
              "      <th>num_failed_logins</th>\n",
              "      <th>logged_in</th>\n",
              "      <th>num_compromised</th>\n",
              "      <th>...</th>\n",
              "      <th>x0_REJ</th>\n",
              "      <th>x0_RSTO</th>\n",
              "      <th>x0_RSTOS0</th>\n",
              "      <th>x0_RSTR</th>\n",
              "      <th>x0_S0</th>\n",
              "      <th>x0_S1</th>\n",
              "      <th>x0_S2</th>\n",
              "      <th>x0_S3</th>\n",
              "      <th>x0_SF</th>\n",
              "      <th>x0_SH</th>\n",
              "    </tr>\n",
              "  </thead>\n",
              "  <tbody>\n",
              "    <tr>\n",
              "      <th>0</th>\n",
              "      <td>0</td>\n",
              "      <td>491</td>\n",
              "      <td>0</td>\n",
              "      <td>0</td>\n",
              "      <td>0</td>\n",
              "      <td>0</td>\n",
              "      <td>0</td>\n",
              "      <td>0</td>\n",
              "      <td>0</td>\n",
              "      <td>0</td>\n",
              "      <td>...</td>\n",
              "      <td>0.0</td>\n",
              "      <td>0.0</td>\n",
              "      <td>0.0</td>\n",
              "      <td>0.0</td>\n",
              "      <td>0.0</td>\n",
              "      <td>0.0</td>\n",
              "      <td>0.0</td>\n",
              "      <td>0.0</td>\n",
              "      <td>1.0</td>\n",
              "      <td>0.0</td>\n",
              "    </tr>\n",
              "    <tr>\n",
              "      <th>1</th>\n",
              "      <td>0</td>\n",
              "      <td>146</td>\n",
              "      <td>0</td>\n",
              "      <td>0</td>\n",
              "      <td>0</td>\n",
              "      <td>0</td>\n",
              "      <td>0</td>\n",
              "      <td>0</td>\n",
              "      <td>0</td>\n",
              "      <td>0</td>\n",
              "      <td>...</td>\n",
              "      <td>0.0</td>\n",
              "      <td>0.0</td>\n",
              "      <td>0.0</td>\n",
              "      <td>0.0</td>\n",
              "      <td>0.0</td>\n",
              "      <td>0.0</td>\n",
              "      <td>0.0</td>\n",
              "      <td>0.0</td>\n",
              "      <td>1.0</td>\n",
              "      <td>0.0</td>\n",
              "    </tr>\n",
              "    <tr>\n",
              "      <th>2</th>\n",
              "      <td>0</td>\n",
              "      <td>0</td>\n",
              "      <td>0</td>\n",
              "      <td>0</td>\n",
              "      <td>0</td>\n",
              "      <td>0</td>\n",
              "      <td>0</td>\n",
              "      <td>0</td>\n",
              "      <td>0</td>\n",
              "      <td>0</td>\n",
              "      <td>...</td>\n",
              "      <td>0.0</td>\n",
              "      <td>0.0</td>\n",
              "      <td>0.0</td>\n",
              "      <td>0.0</td>\n",
              "      <td>1.0</td>\n",
              "      <td>0.0</td>\n",
              "      <td>0.0</td>\n",
              "      <td>0.0</td>\n",
              "      <td>0.0</td>\n",
              "      <td>0.0</td>\n",
              "    </tr>\n",
              "    <tr>\n",
              "      <th>3</th>\n",
              "      <td>0</td>\n",
              "      <td>232</td>\n",
              "      <td>8153</td>\n",
              "      <td>0</td>\n",
              "      <td>0</td>\n",
              "      <td>0</td>\n",
              "      <td>0</td>\n",
              "      <td>0</td>\n",
              "      <td>1</td>\n",
              "      <td>0</td>\n",
              "      <td>...</td>\n",
              "      <td>0.0</td>\n",
              "      <td>0.0</td>\n",
              "      <td>0.0</td>\n",
              "      <td>0.0</td>\n",
              "      <td>0.0</td>\n",
              "      <td>0.0</td>\n",
              "      <td>0.0</td>\n",
              "      <td>0.0</td>\n",
              "      <td>1.0</td>\n",
              "      <td>0.0</td>\n",
              "    </tr>\n",
              "    <tr>\n",
              "      <th>4</th>\n",
              "      <td>0</td>\n",
              "      <td>199</td>\n",
              "      <td>420</td>\n",
              "      <td>0</td>\n",
              "      <td>0</td>\n",
              "      <td>0</td>\n",
              "      <td>0</td>\n",
              "      <td>0</td>\n",
              "      <td>1</td>\n",
              "      <td>0</td>\n",
              "      <td>...</td>\n",
              "      <td>0.0</td>\n",
              "      <td>0.0</td>\n",
              "      <td>0.0</td>\n",
              "      <td>0.0</td>\n",
              "      <td>0.0</td>\n",
              "      <td>0.0</td>\n",
              "      <td>0.0</td>\n",
              "      <td>0.0</td>\n",
              "      <td>1.0</td>\n",
              "      <td>0.0</td>\n",
              "    </tr>\n",
              "  </tbody>\n",
              "</table>\n",
              "<p>5 rows × 123 columns</p>\n",
              "</div>\n",
              "      <button class=\"colab-df-convert\" onclick=\"convertToInteractive('df-1623c0e6-efb6-4dc1-9ed9-ba7140975c2c')\"\n",
              "              title=\"Convert this dataframe to an interactive table.\"\n",
              "              style=\"display:none;\">\n",
              "        \n",
              "  <svg xmlns=\"http://www.w3.org/2000/svg\" height=\"24px\"viewBox=\"0 0 24 24\"\n",
              "       width=\"24px\">\n",
              "    <path d=\"M0 0h24v24H0V0z\" fill=\"none\"/>\n",
              "    <path d=\"M18.56 5.44l.94 2.06.94-2.06 2.06-.94-2.06-.94-.94-2.06-.94 2.06-2.06.94zm-11 1L8.5 8.5l.94-2.06 2.06-.94-2.06-.94L8.5 2.5l-.94 2.06-2.06.94zm10 10l.94 2.06.94-2.06 2.06-.94-2.06-.94-.94-2.06-.94 2.06-2.06.94z\"/><path d=\"M17.41 7.96l-1.37-1.37c-.4-.4-.92-.59-1.43-.59-.52 0-1.04.2-1.43.59L10.3 9.45l-7.72 7.72c-.78.78-.78 2.05 0 2.83L4 21.41c.39.39.9.59 1.41.59.51 0 1.02-.2 1.41-.59l7.78-7.78 2.81-2.81c.8-.78.8-2.07 0-2.86zM5.41 20L4 18.59l7.72-7.72 1.47 1.35L5.41 20z\"/>\n",
              "  </svg>\n",
              "      </button>\n",
              "      \n",
              "  <style>\n",
              "    .colab-df-container {\n",
              "      display:flex;\n",
              "      flex-wrap:wrap;\n",
              "      gap: 12px;\n",
              "    }\n",
              "\n",
              "    .colab-df-convert {\n",
              "      background-color: #E8F0FE;\n",
              "      border: none;\n",
              "      border-radius: 50%;\n",
              "      cursor: pointer;\n",
              "      display: none;\n",
              "      fill: #1967D2;\n",
              "      height: 32px;\n",
              "      padding: 0 0 0 0;\n",
              "      width: 32px;\n",
              "    }\n",
              "\n",
              "    .colab-df-convert:hover {\n",
              "      background-color: #E2EBFA;\n",
              "      box-shadow: 0px 1px 2px rgba(60, 64, 67, 0.3), 0px 1px 3px 1px rgba(60, 64, 67, 0.15);\n",
              "      fill: #174EA6;\n",
              "    }\n",
              "\n",
              "    [theme=dark] .colab-df-convert {\n",
              "      background-color: #3B4455;\n",
              "      fill: #D2E3FC;\n",
              "    }\n",
              "\n",
              "    [theme=dark] .colab-df-convert:hover {\n",
              "      background-color: #434B5C;\n",
              "      box-shadow: 0px 1px 3px 1px rgba(0, 0, 0, 0.15);\n",
              "      filter: drop-shadow(0px 1px 2px rgba(0, 0, 0, 0.3));\n",
              "      fill: #FFFFFF;\n",
              "    }\n",
              "  </style>\n",
              "\n",
              "      <script>\n",
              "        const buttonEl =\n",
              "          document.querySelector('#df-1623c0e6-efb6-4dc1-9ed9-ba7140975c2c button.colab-df-convert');\n",
              "        buttonEl.style.display =\n",
              "          google.colab.kernel.accessAllowed ? 'block' : 'none';\n",
              "\n",
              "        async function convertToInteractive(key) {\n",
              "          const element = document.querySelector('#df-1623c0e6-efb6-4dc1-9ed9-ba7140975c2c');\n",
              "          const dataTable =\n",
              "            await google.colab.kernel.invokeFunction('convertToInteractive',\n",
              "                                                     [key], {});\n",
              "          if (!dataTable) return;\n",
              "\n",
              "          const docLinkHtml = 'Like what you see? Visit the ' +\n",
              "            '<a target=\"_blank\" href=https://colab.research.google.com/notebooks/data_table.ipynb>data table notebook</a>'\n",
              "            + ' to learn more about interactive tables.';\n",
              "          element.innerHTML = '';\n",
              "          dataTable['output_type'] = 'display_data';\n",
              "          await google.colab.output.renderOutput(dataTable, element);\n",
              "          const docLink = document.createElement('div');\n",
              "          docLink.innerHTML = docLinkHtml;\n",
              "          element.appendChild(docLink);\n",
              "        }\n",
              "      </script>\n",
              "    </div>\n",
              "  </div>\n",
              "  "
            ]
          },
          "metadata": {},
          "execution_count": 17
        }
      ]
    },
    {
      "cell_type": "markdown",
      "source": [
        "## Binary Classification Dataset"
      ],
      "metadata": {
        "id": "slDHgm65rnOF"
      }
    },
    {
      "cell_type": "code",
      "source": [
        "temp = dataset_test['label'].apply(lambda x: any(k in x for k in train_labels)) \n",
        "dataset_test_known = dataset_test[temp]\n",
        "dataset_test_unknown = dataset_test[~temp]"
      ],
      "metadata": {
        "id": "cu8oieIG0apw"
      },
      "execution_count": 18,
      "outputs": []
    },
    {
      "cell_type": "code",
      "source": [
        "print(dataset_test_known)"
      ],
      "metadata": {
        "colab": {
          "base_uri": "https://localhost:8080/"
        },
        "id": "aOfazfn-3Ubu",
        "outputId": "bb57a79d-598c-48f3-a719-0724c70257fc"
      },
      "execution_count": 19,
      "outputs": [
        {
          "output_type": "stream",
          "name": "stdout",
          "text": [
            "       duration  src_bytes  dst_bytes  land  wrong_fragment  urgent  hot  \\\n",
            "0             0          0          0     0               0       0    0   \n",
            "1             0          0          0     0               0       0    0   \n",
            "2             2      12983          0     0               0       0    0   \n",
            "5             0        267      14515     0               0       0    0   \n",
            "6             0       1022        387     0               0       0    0   \n",
            "...         ...        ...        ...   ...             ...     ...  ...   \n",
            "22538         0       1032          0     0               0       0    0   \n",
            "22539         0        794        333     0               0       0    0   \n",
            "22540         0        317        938     0               0       0    0   \n",
            "22541         0      54540       8314     0               0       0    2   \n",
            "22542         0         42         42     0               0       0    0   \n",
            "\n",
            "       num_failed_logins  logged_in  num_compromised  ...  x0_REJ  x0_RSTO  \\\n",
            "0                      0          0                0  ...     1.0      0.0   \n",
            "1                      0          0                0  ...     1.0      0.0   \n",
            "2                      0          0                0  ...     0.0      0.0   \n",
            "5                      0          1                0  ...     0.0      0.0   \n",
            "6                      0          1                0  ...     0.0      0.0   \n",
            "...                  ...        ...              ...  ...     ...      ...   \n",
            "22538                  0          0                0  ...     0.0      0.0   \n",
            "22539                  0          1                0  ...     0.0      0.0   \n",
            "22540                  0          1                0  ...     0.0      0.0   \n",
            "22541                  0          1                1  ...     0.0      0.0   \n",
            "22542                  0          0                0  ...     0.0      0.0   \n",
            "\n",
            "       x0_RSTOS0  x0_RSTR  x0_S0  x0_S1  x0_S2  x0_S3  x0_SF  x0_SH  \n",
            "0            0.0      0.0    0.0    0.0    0.0    0.0    0.0    0.0  \n",
            "1            0.0      0.0    0.0    0.0    0.0    0.0    0.0    0.0  \n",
            "2            0.0      0.0    0.0    0.0    0.0    0.0    1.0    0.0  \n",
            "5            0.0      0.0    0.0    0.0    0.0    0.0    1.0    0.0  \n",
            "6            0.0      0.0    0.0    0.0    0.0    0.0    1.0    0.0  \n",
            "...          ...      ...    ...    ...    ...    ...    ...    ...  \n",
            "22538        0.0      0.0    0.0    0.0    0.0    0.0    1.0    0.0  \n",
            "22539        0.0      0.0    0.0    0.0    0.0    0.0    1.0    0.0  \n",
            "22540        0.0      0.0    0.0    0.0    0.0    0.0    1.0    0.0  \n",
            "22541        0.0      0.0    0.0    0.0    0.0    0.0    1.0    0.0  \n",
            "22542        0.0      0.0    0.0    0.0    0.0    0.0    1.0    0.0  \n",
            "\n",
            "[18794 rows x 123 columns]\n"
          ]
        }
      ]
    },
    {
      "cell_type": "code",
      "source": [
        "print(dataset_test_unknown)"
      ],
      "metadata": {
        "colab": {
          "base_uri": "https://localhost:8080/"
        },
        "id": "C3jng1uF9GlN",
        "outputId": "2a05744f-829e-4c15-ce6b-37d7d21e0639"
      },
      "execution_count": 20,
      "outputs": [
        {
          "output_type": "stream",
          "name": "stdout",
          "text": [
            "       duration  src_bytes  dst_bytes  land  wrong_fragment  urgent  hot  \\\n",
            "3             0         20          0     0               0       0    0   \n",
            "4             1          0         15     0               0       0    0   \n",
            "10            0          0          0     0               0       0    0   \n",
            "21            0          0          0     0               0       0    0   \n",
            "30          805      76944          1     0               0       0    0   \n",
            "...         ...        ...        ...   ...             ...     ...  ...   \n",
            "22517      7498          0         44     0               0       0    0   \n",
            "22519      8209          0         15     0               0       0    0   \n",
            "22525      2064      55744          0     0               0       0    0   \n",
            "22537         1       2599        293     0               0       0    0   \n",
            "22543         0          0          0     0               0       0    0   \n",
            "\n",
            "       num_failed_logins  logged_in  num_compromised  ...  x0_REJ  x0_RSTO  \\\n",
            "3                      0          0                0  ...     0.0      0.0   \n",
            "4                      0          0                0  ...     0.0      1.0   \n",
            "10                     0          0                0  ...     0.0      0.0   \n",
            "21                     0          0                0  ...     0.0      0.0   \n",
            "30                     0          1                0  ...     0.0      0.0   \n",
            "...                  ...        ...              ...  ...     ...      ...   \n",
            "22517                  0          0                0  ...     0.0      0.0   \n",
            "22519                  0          0                0  ...     0.0      0.0   \n",
            "22525                  0          1                0  ...     0.0      0.0   \n",
            "22537                  0          1                0  ...     0.0      0.0   \n",
            "22543                  0          0                0  ...     1.0      0.0   \n",
            "\n",
            "       x0_RSTOS0  x0_RSTR  x0_S0  x0_S1  x0_S2  x0_S3  x0_SF  x0_SH  \n",
            "3            0.0      0.0    0.0    0.0    0.0    0.0    1.0    0.0  \n",
            "4            0.0      0.0    0.0    0.0    0.0    0.0    0.0    0.0  \n",
            "10           0.0      0.0    0.0    0.0    0.0    0.0    1.0    0.0  \n",
            "21           0.0      0.0    1.0    0.0    0.0    0.0    0.0    0.0  \n",
            "30           0.0      1.0    0.0    0.0    0.0    0.0    0.0    0.0  \n",
            "...          ...      ...    ...    ...    ...    ...    ...    ...  \n",
            "22517        0.0      0.0    0.0    0.0    0.0    0.0    1.0    0.0  \n",
            "22519        0.0      0.0    0.0    0.0    0.0    0.0    1.0    0.0  \n",
            "22525        0.0      1.0    0.0    0.0    0.0    0.0    0.0    0.0  \n",
            "22537        0.0      0.0    0.0    0.0    0.0    0.0    1.0    0.0  \n",
            "22543        0.0      0.0    0.0    0.0    0.0    0.0    0.0    0.0  \n",
            "\n",
            "[3750 rows x 123 columns]\n"
          ]
        }
      ]
    },
    {
      "cell_type": "code",
      "source": [
        ""
      ],
      "metadata": {
        "id": "MEEcZ98DYINO"
      },
      "execution_count": 20,
      "outputs": []
    },
    {
      "cell_type": "markdown",
      "source": [
        "Split features and labels"
      ],
      "metadata": {
        "id": "_NeQF_AgAE6K"
      }
    },
    {
      "cell_type": "code",
      "source": [
        "x_train = dataset_train.drop('label',1)\n",
        "col_names = x_train.columns\n",
        "y_train = dataset_train.label\n",
        "# replace all types of attacks , to value 'attack' \n",
        "y_train = np.where(y_train=='normal', 'normal', 'attack')\n",
        "y_train = np.where(y_train=='normal', 0,1)"
      ],
      "metadata": {
        "id": "jyy6-sIBALMh"
      },
      "execution_count": 21,
      "outputs": []
    },
    {
      "cell_type": "code",
      "source": [
        "x_test = dataset_test.drop('label',1)\n",
        "y_test = dataset_test.label\n",
        "y_test = np.where(y_test=='normal', 'normal', 'attack')\n",
        "y_test = np.where(y_test=='normal', 0,1)\n"
      ],
      "metadata": {
        "id": "-f5U3wfLqxGG"
      },
      "execution_count": 22,
      "outputs": []
    },
    {
      "cell_type": "code",
      "source": [
        "x_test_known = dataset_test_known.drop('label',1)\n",
        "y_test_known = dataset_test_known.label\n",
        "y_test_known = np.where(y_test_known=='normal', 'normal', 'attack')\n",
        "y_test_known = np.where(y_test_known=='normal', 0,1)\n",
        "\n",
        "x_test_unknown = dataset_test_unknown.drop('label',1)\n",
        "y_test_unknown = dataset_test_unknown.label\n",
        "y_test_unknown = np.where(y_test_unknown=='normal', 'normal', 'attack')\n",
        "y_test_unknown = np.where(y_test_unknown=='normal', 0,1)"
      ],
      "metadata": {
        "id": "UUb1LQIEAUN_"
      },
      "execution_count": 23,
      "outputs": []
    },
    {
      "cell_type": "markdown",
      "source": [
        "Scaling"
      ],
      "metadata": {
        "id": "Jm01DwCB_eS_"
      }
    },
    {
      "cell_type": "code",
      "source": [
        "scaler = preprocessing.StandardScaler()\n",
        "scaler.fit(x_train)\n",
        "x_train = scaler.transform(x_train)\n",
        "x_test = scaler.transform(x_test)\n",
        "x_test_known = scaler.transform(x_test_known)\n",
        "x_test_unknown = scaler.transform(x_test_unknown)"
      ],
      "metadata": {
        "id": "rjgOxiKZ_fnF"
      },
      "execution_count": 24,
      "outputs": []
    },
    {
      "cell_type": "markdown",
      "source": [
        "## Save initial dataset csv"
      ],
      "metadata": {
        "id": "WOnPCj99DLik"
      }
    },
    {
      "cell_type": "code",
      "source": [
        "x_train = pd.DataFrame(x_train)\n",
        "x_train.columns= col_names\n",
        "y_train = pd.DataFrame(y_train)\n",
        "y_train.columns = ['label']\n",
        "train_frame = [x_train,y_train]\n",
        "train_final_binary = pd.concat(train_frame,axis=1)\n",
        "train_final_binary.to_csv('train_binary.csv',index = False)"
      ],
      "metadata": {
        "id": "ykZkPqkxDNiI"
      },
      "execution_count": 25,
      "outputs": []
    },
    {
      "cell_type": "code",
      "source": [
        "x_test = pd.DataFrame(x_test)\n",
        "x_test.columns= col_names\n",
        "y_test = pd.DataFrame(y_test)\n",
        "y_test.columns = ['label']\n",
        "test_frame = [x_test,y_test]\n",
        "test_binary = pd.concat(test_frame,axis=1)\n",
        "test_binary.to_csv('test_binary.csv',index = False)"
      ],
      "metadata": {
        "id": "X6KSAHNIq9CY"
      },
      "execution_count": 26,
      "outputs": []
    },
    {
      "cell_type": "code",
      "source": [
        "x_test_known = pd.DataFrame(x_test_known)\n",
        "x_test_known.columns= col_names\n",
        "y_test_known = pd.DataFrame(y_test_known)\n",
        "y_test_known.columns = ['label']\n",
        "test_frame = [x_test_known,y_test_known]\n",
        "test_known_binary = pd.concat(test_frame,axis=1)\n",
        "test_known_binary.to_csv('test_known_binary.csv',index = False)"
      ],
      "metadata": {
        "id": "v3MNdFN7DyGE"
      },
      "execution_count": 27,
      "outputs": []
    },
    {
      "cell_type": "code",
      "source": [
        "x_test_unknown = pd.DataFrame(x_test_unknown)\n",
        "x_test_unknown.columns= col_names\n",
        "y_test_unknown = pd.DataFrame(y_test_unknown)\n",
        "y_test_unknown.columns = ['label']\n",
        "test_frame = [pd.DataFrame(x_test_unknown),pd.DataFrame(y_test_unknown)]\n",
        "test_unknown_binary = pd.concat(test_frame,axis=1)\n",
        "test_unknown_binary.to_csv('test_unknown_binary.csv',index = False)"
      ],
      "metadata": {
        "id": "Wwxshq7ZD-XQ"
      },
      "execution_count": 28,
      "outputs": []
    },
    {
      "cell_type": "markdown",
      "source": [
        "## PCA"
      ],
      "metadata": {
        "id": "gLTdF84QZfVW"
      }
    },
    {
      "cell_type": "code",
      "source": [
        "from sklearn.decomposition import PCA # import pca"
      ],
      "metadata": {
        "id": "0wRnCZr9ZgmQ"
      },
      "execution_count": 29,
      "outputs": []
    },
    {
      "cell_type": "code",
      "source": [
        "# plot the variance explanation of the 29 components needed to cover 95% initial data variance \n",
        "pca = PCA(None)\n",
        "pca.fit(x_train)\n",
        "components = len(pca.explained_variance_ratio_)\n",
        "plt.plot(range(1,components+1), \n",
        "np.cumsum(pca.explained_variance_ratio_ * 100))\n",
        "plt.xlabel(\"Number of components\")\n",
        "plt.ylabel(\"Explained variance (%)\")"
      ],
      "metadata": {
        "colab": {
          "base_uri": "https://localhost:8080/",
          "height": 296
        },
        "id": "OZm6ZqeGkeis",
        "outputId": "141e1859-aaf4-4d5f-dcc2-b4e88e6c4da8"
      },
      "execution_count": 30,
      "outputs": [
        {
          "output_type": "execute_result",
          "data": {
            "text/plain": [
              "Text(0, 0.5, 'Explained variance (%)')"
            ]
          },
          "metadata": {},
          "execution_count": 30
        },
        {
          "output_type": "display_data",
          "data": {
            "text/plain": [
              "<Figure size 432x288 with 1 Axes>"
            ],
            "image/png": "[encoded data removed]"
          },
          "metadata": {
            "needs_background": "light"
          }
        }
      ]
    },
    {
      "cell_type": "code",
      "source": [
        "# Make an instance of the Model\n",
        "pca = PCA(.95) # 0.95: means we want 95% of data variance"
      ],
      "metadata": {
        "id": "pgkZ7E38kxMd"
      },
      "execution_count": 31,
      "outputs": []
    },
    {
      "cell_type": "code",
      "source": [
        "pca.fit(x_train)"
      ],
      "metadata": {
        "colab": {
          "base_uri": "https://localhost:8080/"
        },
        "id": "8BaxffrMk0u6",
        "outputId": "e70a0ffd-cd7b-4f0c-dc38-06229a08f4e6"
      },
      "execution_count": 32,
      "outputs": [
        {
          "output_type": "execute_result",
          "data": {
            "text/plain": [
              "PCA(n_components=0.95)"
            ]
          },
          "metadata": {},
          "execution_count": 32
        }
      ]
    },
    {
      "cell_type": "code",
      "source": [
        "print(pca.n_components_)"
      ],
      "metadata": {
        "colab": {
          "base_uri": "https://localhost:8080/"
        },
        "id": "tKNzhjSok5As",
        "outputId": "31e599ab-c416-475b-960a-3a5ff45a5720"
      },
      "execution_count": 33,
      "outputs": [
        {
          "output_type": "stream",
          "name": "stdout",
          "text": [
            "89\n"
          ]
        }
      ]
    },
    {
      "cell_type": "code",
      "source": [
        "x_train_pca = pca.transform(x_train)  # perform pca\n",
        "x_testall= pca.transform(x_test)\n",
        "x_test_pca= pca.transform(x_test_known)\n",
        "x_test_un_pca= pca.transform(x_test_unknown)"
      ],
      "metadata": {
        "id": "IJ04E-LQlQpj"
      },
      "execution_count": 34,
      "outputs": []
    },
    {
      "cell_type": "code",
      "source": [
        "x_train_pca = pd.DataFrame(x_train_pca)\n",
        "y_train = pd.DataFrame(y_train)\n",
        "y_train.columns = ['label']\n",
        "train_frame = [x_train_pca,y_train]\n",
        "train_final_pca = pd.concat(train_frame,axis=1)\n",
        "train_final_pca.to_csv('train_pca.csv',index = False)"
      ],
      "metadata": {
        "id": "hAYZDPEmlk60"
      },
      "execution_count": 35,
      "outputs": []
    },
    {
      "cell_type": "code",
      "source": [
        "x_testall = pd.DataFrame(x_testall)\n",
        "y_test = pd.DataFrame(y_test)\n",
        "y_test.columns = ['label']\n",
        "test_frame = [x_testall,y_test]\n",
        "testall = pd.concat(test_frame,axis=1)\n",
        "testall.to_csv('test_pca.csv',index = False)"
      ],
      "metadata": {
        "id": "HAZ_ZzEGrQi7"
      },
      "execution_count": 36,
      "outputs": []
    },
    {
      "cell_type": "code",
      "source": [
        "x_test_pca = pd.DataFrame(x_test_pca)\n",
        "y_test_known = pd.DataFrame(y_test_known)\n",
        "y_test_known.columns = ['label']\n",
        "test_frame = [x_test_pca,y_test_known]\n",
        "test_known_pca = pd.concat(test_frame,axis=1)\n",
        "test_known_pca.to_csv('test_known_pca.csv',index = False)"
      ],
      "metadata": {
        "id": "ialIDis3lvda"
      },
      "execution_count": 37,
      "outputs": []
    },
    {
      "cell_type": "code",
      "source": [
        "x_test_un_pca = pd.DataFrame(x_test_un_pca)\n",
        "y_test_unknown = pd.DataFrame(y_test_unknown)\n",
        "y_test_unknown.columns = ['label']\n",
        "test_frame = [x_test_un_pca,y_test_unknown]\n",
        "test_unknown_pca = pd.concat(test_frame,axis=1)\n",
        "test_unknown_pca.to_csv('test_unknown_pca.csv',index = False)"
      ],
      "metadata": {
        "id": "fX6l-QpqmOhY"
      },
      "execution_count": 38,
      "outputs": []
    },
    {
      "cell_type": "markdown",
      "source": [
        "## Random Forest"
      ],
      "metadata": {
        "id": "v9UE-4vom9sJ"
      }
    },
    {
      "cell_type": "code",
      "source": [
        "from sklearn.ensemble import RandomForestClassifier\n",
        "\n",
        "rf = RandomForestClassifier(n_estimators=100, max_depth=3,\n",
        "                                 bootstrap=True, n_jobs=-1,\n",
        "                                 random_state=0)\n",
        "rf.fit(x_train.values, y_train.values.ravel())\n",
        "\n",
        "feature_imp = pd.Series(rf.feature_importances_, \n",
        "                        index=x_train.columns).sort_values(ascending=False)"
      ],
      "metadata": {
        "id": "uHQ9vyK_nCDJ"
      },
      "execution_count": 39,
      "outputs": []
    },
    {
      "cell_type": "code",
      "source": [
        "for i in range(0,len(feature_imp)):\n",
        "    print(i,end =\" \")\n",
        "    print(feature_imp.index[i],end = \": \")\n",
        "    print(feature_imp[i])"
      ],
      "metadata": {
        "id": "PD0GDqPhoGYH",
        "colab": {
          "base_uri": "https://localhost:8080/"
        },
        "outputId": "170f6b03-a43a-486d-918a-48a007ab2165"
      },
      "execution_count": 40,
      "outputs": [
        {
          "output_type": "stream",
          "name": "stdout",
          "text": [
            "0 src_bytes: 0.14578273642307418\n",
            "1 dst_bytes: 0.10091504848085135\n",
            "2 same_srv_rate: 0.08923498130667912\n",
            "3 diff_srv_rate: 0.0686651098268563\n",
            "4 logged_in: 0.0640498868891221\n",
            "5 x0_SF: 0.060365973216661796\n",
            "6 srv_serror_rate: 0.052682150985970705\n",
            "7 dst_host_diff_srv_rate: 0.05140730698082567\n",
            "8 dst_host_srv_serror_rate: 0.04213564966021929\n",
            "9 dst_host_same_srv_rate: 0.038594102269275475\n",
            "10 dst_host_srv_count: 0.03552174562030437\n",
            "11 serror_rate: 0.026968286601099793\n",
            "12 x0_S0: 0.026294569607089657\n",
            "13 count: 0.023494671664443887\n",
            "14 dst_host_same_src_port_rate: 0.02088854237796946\n",
            "15 x0_http: 0.016151403095137174\n",
            "16 x0_icmp: 0.01614029219665563\n",
            "17 dst_host_serror_rate: 0.012361980841647087\n",
            "18 x0_private: 0.011136658459420285\n",
            "19 dst_host_srv_diff_host_rate: 0.009509773511344424\n",
            "20 rerror_rate: 0.009237156664666988\n",
            "21 dst_host_srv_rerror_rate: 0.008862488579428045\n",
            "22 srv_diff_host_rate: 0.008430635736457545\n",
            "23 x0_eco_i: 0.0076143588223530154\n",
            "24 x0_ecr_i: 0.007506882414968951\n",
            "25 srv_count: 0.007383641882639013\n",
            "26 x0_domain_u: 0.0070540177766429445\n",
            "27 x0_udp: 0.006734425668386897\n",
            "28 dst_host_count: 0.006098531864955581\n",
            "29 x0_tcp: 0.004216430940022417\n",
            "30 srv_rerror_rate: 0.00405108783886011\n",
            "31 x0_ftp_data: 0.0022024071912563454\n",
            "32 hot: 0.002164147788186812\n",
            "33 dst_host_rerror_rate: 0.0016332732931934662\n",
            "34 duration: 0.0015813401933538718\n",
            "35 x0_RSTR: 0.001050172174613652\n",
            "36 num_compromised: 0.0009118525941314904\n",
            "37 wrong_fragment: 0.00029833267949969604\n",
            "38 x0_RSTO: 0.00012441787913425426\n",
            "39 x0_S1: 0.00011841645134119925\n",
            "40 x0_other: 9.897450769452042e-05\n",
            "41 num_root: 9.472681560438634e-05\n",
            "42 is_guest_login: 7.507428157004074e-05\n",
            "43 x0_REJ: 3.4554930995346335e-05\n",
            "44 x0_ftp: 2.882511778527574e-05\n",
            "45 x0_IRC: 2.296273651944003e-05\n",
            "46 x0_finger: 1.8539337719327482e-05\n",
            "47 x0_X11: 1.3849538284942128e-05\n",
            "48 x0_Z39_50: 1.3493332297387595e-05\n",
            "49 num_failed_logins: 8.874646746789699e-06\n",
            "50 num_file_creations: 5.549135299082581e-06\n",
            "51 x0_urh_i: 5.2126106139129035e-06\n",
            "52 x0_tftp_u: 2.3612943187970805e-06\n",
            "53 su_attempted: 1.5241603624110583e-06\n",
            "54 x0_http_443: 5.543771562532382e-07\n",
            "55 x0_courier: 3.3566469822525225e-08\n",
            "56 x0_auth: 1.1618222472505678e-09\n",
            "57 x0_uucp_path: 0.0\n",
            "58 x0_uucp: 0.0\n",
            "59 x0_pop_2: 0.0\n",
            "60 x0_pop_3: 0.0\n",
            "61 x0_printer: 0.0\n",
            "62 urgent: 0.0\n",
            "63 x0_red_i: 0.0\n",
            "64 x0_remote_job: 0.0\n",
            "65 x0_rje: 0.0\n",
            "66 x0_shell: 0.0\n",
            "67 x0_smtp: 0.0\n",
            "68 x0_sql_net: 0.0\n",
            "69 x0_ssh: 0.0\n",
            "70 x0_sunrpc: 0.0\n",
            "71 x0_supdup: 0.0\n",
            "72 x0_systat: 0.0\n",
            "73 x0_telnet: 0.0\n",
            "74 x0_RSTOS0: 0.0\n",
            "75 x0_OTH: 0.0\n",
            "76 x0_tim_i: 0.0\n",
            "77 x0_S2: 0.0\n",
            "78 x0_time: 0.0\n",
            "79 x0_whois: 0.0\n",
            "80 x0_urp_i: 0.0\n",
            "81 land: 0.0\n",
            "82 x0_S3: 0.0\n",
            "83 x0_vmnet: 0.0\n",
            "84 x0_pm_dump: 0.0\n",
            "85 x0_netbios_dgm: 0.0\n",
            "86 x0_ntp_u: 0.0\n",
            "87 x0_nntp: 0.0\n",
            "88 x0_gopher: 0.0\n",
            "89 x0_exec: 0.0\n",
            "90 x0_efs: 0.0\n",
            "91 root_shell: 0.0\n",
            "92 x0_echo: 0.0\n",
            "93 x0_domain: 0.0\n",
            "94 x0_discard: 0.0\n",
            "95 x0_daytime: 0.0\n",
            "96 x0_ctf: 0.0\n",
            "97 x0_csnet_ns: 0.0\n",
            "98 x0_bgp: 0.0\n",
            "99 x0_aol: 0.0\n",
            "100 num_shells: 0.0\n",
            "101 num_access_files: 0.0\n",
            "102 num_outbound_cmds: 0.0\n",
            "103 x0_harvest: 0.0\n",
            "104 x0_hostnames: 0.0\n",
            "105 x0_http_2784: 0.0\n",
            "106 x0_mtp: 0.0\n",
            "107 x0_nnsp: 0.0\n",
            "108 x0_netstat: 0.0\n",
            "109 x0_netbios_ssn: 0.0\n",
            "110 x0_netbios_ns: 0.0\n",
            "111 is_host_login: 0.0\n",
            "112 x0_name: 0.0\n",
            "113 x0_login: 0.0\n",
            "114 x0_http_8001: 0.0\n",
            "115 x0_link: 0.0\n",
            "116 x0_ldap: 0.0\n",
            "117 x0_kshell: 0.0\n",
            "118 x0_klogin: 0.0\n",
            "119 x0_iso_tsap: 0.0\n",
            "120 x0_imap4: 0.0\n",
            "121 x0_SH: 0.0\n"
          ]
        }
      ]
    },
    {
      "cell_type": "markdown",
      "source": [
        "RF0.05"
      ],
      "metadata": {
        "id": "Nz5XBYo7nGYi"
      }
    },
    {
      "cell_type": "code",
      "source": [
        "new_features = [] # list containing the new features names\n",
        "for i in range(0,len(feature_imp)): # for for the range of all features\n",
        "    if feature_imp[i] > 0.05: # check if importance is over the threshold\n",
        "        new_features.append(feature_imp.index[i])\n",
        "print(new_features)"
      ],
      "metadata": {
        "colab": {
          "base_uri": "https://localhost:8080/"
        },
        "id": "GhkwuuueoWbB",
        "outputId": "c70963bc-3c72-4a9f-b1f9-238ef34a8a07"
      },
      "execution_count": 41,
      "outputs": [
        {
          "output_type": "stream",
          "name": "stdout",
          "text": [
            "['src_bytes', 'dst_bytes', 'same_srv_rate', 'diff_srv_rate', 'logged_in', 'x0_SF', 'srv_serror_rate', 'dst_host_diff_srv_rate']\n"
          ]
        }
      ]
    },
    {
      "cell_type": "code",
      "source": [
        "x_train_05 = x_train[new_features] #cast new dataframes\n",
        "x_testall = x_test[new_features]\n",
        "x_test_05 = x_test_known[new_features]\n",
        "x_test_05_un = x_test_unknown[new_features]"
      ],
      "metadata": {
        "id": "pv5tVyUwoaz7"
      },
      "execution_count": 42,
      "outputs": []
    },
    {
      "cell_type": "code",
      "source": [
        "x_train_05 = pd.DataFrame(x_train_05)\n",
        "x_train_05.columns= new_features\n",
        "y_train = pd.DataFrame(y_train)\n",
        "y_train.columns = ['label']\n",
        "train_frame = [x_train_05,y_train]\n",
        "train_final_rf05 = pd.concat(train_frame,axis=1)\n",
        "train_final_rf05.to_csv('train_rf05.csv',index = False)"
      ],
      "metadata": {
        "id": "Lpr44x5-o6MI"
      },
      "execution_count": 43,
      "outputs": []
    },
    {
      "cell_type": "code",
      "source": [
        "x_testall = pd.DataFrame(x_testall)\n",
        "x_testall.columns= new_features\n",
        "y_test = pd.DataFrame(y_test)\n",
        "y_test.columns = ['label']\n",
        "test_frame = [x_testall,y_test]\n",
        "test_rf05 = pd.concat(test_frame,axis=1)\n",
        "test_rf05.to_csv('test_rf05.csv',index = False)"
      ],
      "metadata": {
        "id": "jlOlJp4VrvNh"
      },
      "execution_count": 44,
      "outputs": []
    },
    {
      "cell_type": "code",
      "source": [
        "x_test_05 = pd.DataFrame(x_test_05)\n",
        "x_test_05.columns= new_features\n",
        "y_test_known = pd.DataFrame(y_test_known)\n",
        "y_test_known.columns = ['label']\n",
        "test_frame = [x_test_05,y_test_known]\n",
        "test_known_rf05 = pd.concat(test_frame,axis=1)\n",
        "test_known_rf05.to_csv('test_known_rf05.csv',index = False)"
      ],
      "metadata": {
        "id": "UWf7wLKvo6eb"
      },
      "execution_count": 45,
      "outputs": []
    },
    {
      "cell_type": "code",
      "source": [
        "x_test_05_un = pd.DataFrame(x_test_05_un)\n",
        "x_test_05_un.columns= new_features\n",
        "y_test_unknown = pd.DataFrame(y_test_unknown)\n",
        "y_test_unknown.columns = ['label']\n",
        "test_frame = [x_test_05_un,y_test_unknown]\n",
        "test_unknown_rf05 = pd.concat(test_frame,axis=1)\n",
        "test_unknown_rf05.to_csv('test_unknown_rf05.csv',index = False)"
      ],
      "metadata": {
        "id": "CwyKBEoQo6xW"
      },
      "execution_count": 46,
      "outputs": []
    },
    {
      "cell_type": "markdown",
      "source": [
        "RF0.005"
      ],
      "metadata": {
        "id": "q6kOtrm9nH3W"
      }
    },
    {
      "cell_type": "code",
      "source": [
        "new_features = [] # list containing the new features names\n",
        "for i in range(0,len(feature_imp)): # for for the range of all features\n",
        "    if feature_imp[i] > 0.005: # check if importance is over the threshold\n",
        "        new_features.append(feature_imp.index[i])\n",
        "print(new_features)"
      ],
      "metadata": {
        "colab": {
          "base_uri": "https://localhost:8080/"
        },
        "id": "5_2BZiWdn7CB",
        "outputId": "db1c2791-e7f2-4fec-8670-ed311752e68d"
      },
      "execution_count": 47,
      "outputs": [
        {
          "output_type": "stream",
          "name": "stdout",
          "text": [
            "['src_bytes', 'dst_bytes', 'same_srv_rate', 'diff_srv_rate', 'logged_in', 'x0_SF', 'srv_serror_rate', 'dst_host_diff_srv_rate', 'dst_host_srv_serror_rate', 'dst_host_same_srv_rate', 'dst_host_srv_count', 'serror_rate', 'x0_S0', 'count', 'dst_host_same_src_port_rate', 'x0_http', 'x0_icmp', 'dst_host_serror_rate', 'x0_private', 'dst_host_srv_diff_host_rate', 'rerror_rate', 'dst_host_srv_rerror_rate', 'srv_diff_host_rate', 'x0_eco_i', 'x0_ecr_i', 'srv_count', 'x0_domain_u', 'x0_udp', 'dst_host_count']\n"
          ]
        }
      ]
    },
    {
      "cell_type": "code",
      "source": [
        "x_train_005 = x_train[new_features] #cast new dataframes\n",
        "x_testall = x_test[new_features]\n",
        "x_test_005 = x_test_known[new_features]\n",
        "x_test_005_un = x_test_unknown[new_features]"
      ],
      "metadata": {
        "id": "39znwsSooy1V"
      },
      "execution_count": 48,
      "outputs": []
    },
    {
      "cell_type": "code",
      "source": [
        "x_train_005 = pd.DataFrame(x_train_005)\n",
        "x_train_005.columns= new_features\n",
        "y_train = pd.DataFrame(y_train)\n",
        "y_train.columns = ['label']\n",
        "train_frame = [x_train_005,y_train]\n",
        "train_final_rf005 = pd.concat(train_frame,axis=1)\n",
        "train_final_rf005.to_csv('train_rf005.csv',index = False)"
      ],
      "metadata": {
        "id": "bdQ-RRd8o7Uj"
      },
      "execution_count": 49,
      "outputs": []
    },
    {
      "cell_type": "code",
      "source": [
        "x_testall = pd.DataFrame(x_testall)\n",
        "x_testall.columns= new_features\n",
        "y_test = pd.DataFrame(y_test)\n",
        "y_test.columns = ['label']\n",
        "test_frame = [x_testall,y_test]\n",
        "test_rf005 = pd.concat(test_frame,axis=1)\n",
        "test_rf005.to_csv('test_rf005.csv',index = False)"
      ],
      "metadata": {
        "id": "R8waCYGCr8-H"
      },
      "execution_count": 50,
      "outputs": []
    },
    {
      "cell_type": "code",
      "source": [
        "x_test_005 = pd.DataFrame(x_test_005)\n",
        "x_test_005.columns= new_features\n",
        "y_test_known = pd.DataFrame(y_test_known)\n",
        "y_test_known.columns = ['label']\n",
        "test_frame = [x_test_005,y_test_known]\n",
        "test_known_rf005 = pd.concat(test_frame,axis=1)\n",
        "test_known_rf005.to_csv('test_known_rf005.csv',index = False)"
      ],
      "metadata": {
        "id": "9vBeXdXBo7l8"
      },
      "execution_count": 51,
      "outputs": []
    },
    {
      "cell_type": "code",
      "source": [
        "x_test_005_un = pd.DataFrame(x_test_005_un)\n",
        "x_test_005_un.columns= new_features\n",
        "y_test_unknown = pd.DataFrame(y_test_unknown)\n",
        "y_test_unknown.columns = ['label']\n",
        "test_frame = [x_test_005_un,y_test_unknown]\n",
        "test_unknown_rf005 = pd.concat(test_frame,axis=1)\n",
        "test_unknown_rf005.to_csv('test_unknown_rf005.csv',index = False)"
      ],
      "metadata": {
        "id": "as4k2kFHo75L"
      },
      "execution_count": 52,
      "outputs": []
    },
    {
      "cell_type": "markdown",
      "source": [
        "## ANOVA Testing"
      ],
      "metadata": {
        "id": "A32OMhFYnKWy"
      }
    },
    {
      "cell_type": "code",
      "source": [
        "from sklearn.feature_selection import SelectPercentile, f_classif\n",
        "np.seterr(divide='ignore', invalid='ignore');\n",
        "selector=SelectPercentile(f_classif, percentile=10)\n",
        "x_train_new = selector.fit_transform(x_train,y_train)\n",
        "x_train_new.shape"
      ],
      "metadata": {
        "colab": {
          "base_uri": "https://localhost:8080/"
        },
        "id": "Zl4AVeWbnUSS",
        "outputId": "0c3a03ae-af82-4295-eb45-2888474a039f"
      },
      "execution_count": 53,
      "outputs": [
        {
          "output_type": "execute_result",
          "data": {
            "text/plain": [
              "(125973, 13)"
            ]
          },
          "metadata": {},
          "execution_count": 53
        }
      ]
    },
    {
      "cell_type": "code",
      "source": [
        "true=selector.get_support()\n",
        "newcolindex=[i for i, x in enumerate(true) if x]\n",
        "newcolname=list(col_names[i] for i in newcolindex)\n",
        "newcolname"
      ],
      "metadata": {
        "colab": {
          "base_uri": "https://localhost:8080/"
        },
        "id": "F7AH5li_zOuc",
        "outputId": "86986132-c56f-468b-9937-dac9acaefe48"
      },
      "execution_count": 54,
      "outputs": [
        {
          "output_type": "execute_result",
          "data": {
            "text/plain": [
              "['logged_in',\n",
              " 'count',\n",
              " 'serror_rate',\n",
              " 'srv_serror_rate',\n",
              " 'same_srv_rate',\n",
              " 'dst_host_srv_count',\n",
              " 'dst_host_same_srv_rate',\n",
              " 'dst_host_serror_rate',\n",
              " 'dst_host_srv_serror_rate',\n",
              " 'x0_http',\n",
              " 'x0_private',\n",
              " 'x0_S0',\n",
              " 'x0_SF']"
            ]
          },
          "metadata": {},
          "execution_count": 54
        }
      ]
    },
    {
      "cell_type": "code",
      "source": [
        "x_train_anova = x_train[newcolname] #cast new dataframes\n",
        "x_testall = x_test[newcolname]\n",
        "x_test_anova = x_test_known[newcolname]\n",
        "x_test_anova_un = x_test_unknown[newcolname]"
      ],
      "metadata": {
        "id": "xBNOs2mizg6t"
      },
      "execution_count": 55,
      "outputs": []
    },
    {
      "cell_type": "code",
      "source": [
        "x_train_anova = pd.DataFrame(x_train_anova)\n",
        "x_train_anova.columns= newcolname\n",
        "y_train = pd.DataFrame(y_train)\n",
        "y_train.columns = ['label']\n",
        "train_frame = [x_train_anova,y_train]\n",
        "train_final_anova = pd.concat(train_frame,axis=1)\n",
        "train_final_anova.to_csv('train_anova.csv',index = False)"
      ],
      "metadata": {
        "id": "M9fa1eJCzp-M"
      },
      "execution_count": 56,
      "outputs": []
    },
    {
      "cell_type": "code",
      "source": [
        "x_testall = pd.DataFrame(x_testall)\n",
        "x_testall.columns= newcolname\n",
        "y_test = pd.DataFrame(y_test)\n",
        "y_test.columns = ['label']\n",
        "test_frame = [x_testall,y_test]\n",
        "test_anova = pd.concat(test_frame,axis=1)\n",
        "test_anova.to_csv('test_anova.csv',index = False)"
      ],
      "metadata": {
        "id": "vf3hEN1EsI1k"
      },
      "execution_count": 57,
      "outputs": []
    },
    {
      "cell_type": "code",
      "source": [
        "x_test_anova = pd.DataFrame(x_test_anova)\n",
        "x_test_anova.columns= newcolname\n",
        "y_test_known = pd.DataFrame(y_test_known)\n",
        "y_test_known.columns = ['label']\n",
        "test_frame = [x_test_anova,y_test_known]\n",
        "test_known_anova = pd.concat(test_frame,axis=1)\n",
        "test_known_anova.to_csv('test_known_anova.csv',index = False)"
      ],
      "metadata": {
        "id": "DtdELoZ6zqKr"
      },
      "execution_count": 58,
      "outputs": []
    },
    {
      "cell_type": "code",
      "source": [
        "x_test_anova_un = pd.DataFrame(x_test_anova_un)\n",
        "x_test_anova_un.columns= newcolname\n",
        "y_test_unknown = pd.DataFrame(y_test_unknown)\n",
        "y_test_unknown.columns = ['label']\n",
        "test_frame = [x_test_anova_un,y_test_unknown]\n",
        "test_unknown_anova = pd.concat(test_frame,axis=1)\n",
        "test_unknown_anova.to_csv('test_unknown_anova.csv',index = False)"
      ],
      "metadata": {
        "id": "g_3q8pZBzqY6"
      },
      "execution_count": 59,
      "outputs": []
    }
  ]
}