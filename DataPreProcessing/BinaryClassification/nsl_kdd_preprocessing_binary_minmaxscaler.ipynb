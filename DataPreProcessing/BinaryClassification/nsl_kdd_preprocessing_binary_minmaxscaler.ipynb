{
  "nbformat": 4,
  "nbformat_minor": 0,
  "metadata": {
    "colab": {
      "name": "nsl_kdd_preprocessing_binary_minmaxscaler.ipynb",
      "provenance": [],
      "collapsed_sections": []
    },
    "kernelspec": {
      "name": "python3",
      "display_name": "Python 3"
    },
    "language_info": {
      "name": "python"
    }
  },
  "cells": [
    {
      "cell_type": "markdown",
      "source": [
        "# Import Libraries"
      ],
      "metadata": {
        "id": "TLL9El_bjAkN"
      }
    },
    {
      "cell_type": "code",
      "source": [
        "import numpy as np\n",
        "import pandas as pd\n",
        "import matplotlib.pyplot as plt\n",
        "from sklearn.preprocessing import LabelEncoder,OneHotEncoder\n",
        "from sklearn import preprocessing\n",
        "from sklearn.feature_selection import RFE\n",
        "from sklearn.tree import DecisionTreeClassifier\n",
        "from sklearn.model_selection import train_test_split # Import train_test_split function\n",
        "import warnings\n",
        "warnings.filterwarnings(\"ignore\")"
      ],
      "metadata": {
        "id": "qCox1LMBjAMZ"
      },
      "execution_count": 60,
      "outputs": []
    },
    {
      "cell_type": "markdown",
      "source": [
        "# Read Datasets"
      ],
      "metadata": {
        "id": "Wrsbhnt7kj-I"
      }
    },
    {
      "cell_type": "code",
      "execution_count": 61,
      "metadata": {
        "colab": {
          "base_uri": "https://localhost:8080/"
        },
        "id": "xUTScBIHi7BB",
        "outputId": "c8fbbf57-28c5-4439-9290-4096e6a955a5"
      },
      "outputs": [
        {
          "output_type": "stream",
          "name": "stdout",
          "text": [
            "KDDTrain.txt exists\n",
            "KDDTest.txt exists\n"
          ]
        }
      ],
      "source": [
        "train_url=\"https://raw.githubusercontent.com/sotirischatzimiltis/MscThesis/main/NSLKDD/KDDTrain.txt\"\n",
        "test_url= \"https://raw.githubusercontent.com/sotirischatzimiltis/MscThesis/main/NSLKDD/KDDTest.txt\"\n",
        "TRAIN_FILE=\"KDDTrain.txt\"\n",
        "TEST_FILE=\"KDDTest.txt\"\n",
        "![ -f \"$TRAIN_FILE\" ] && echo \"$TRAIN_FILE exists\" || wget \"$train_url\"\n",
        "![ -f \"$TEST_FILE\" ] && echo \"$TEST_FILE exists\" || wget \"$test_url\""
      ]
    },
    {
      "cell_type": "code",
      "source": [
        "dataset_train = pd.read_csv(\"KDDTrain.txt\", sep=\",\",header =None)\n",
        "dataset_train = dataset_train.iloc[:,:-1] # remove difficulty column"
      ],
      "metadata": {
        "id": "rYPYy-jUkIP1"
      },
      "execution_count": 62,
      "outputs": []
    },
    {
      "cell_type": "code",
      "source": [
        "dataset_test = pd.read_csv(\"KDDTest.txt\",sep=\",\",header=None)\n",
        "dataset_test = dataset_test.iloc[:,:-1] # remove difficulty column"
      ],
      "metadata": {
        "id": "GGmZl5LVkL3L"
      },
      "execution_count": 63,
      "outputs": []
    },
    {
      "cell_type": "markdown",
      "source": [
        "Sample View of Training and Test datasets"
      ],
      "metadata": {
        "id": "R6iDkOK6kwjC"
      }
    },
    {
      "cell_type": "code",
      "source": [
        "dataset_train.head()"
      ],
      "metadata": {
        "colab": {
          "base_uri": "https://localhost:8080/",
          "height": 236
        },
        "id": "apU9SaKykRN7",
        "outputId": "77affdbc-5e31-4bf1-925b-584c631ba889"
      },
      "execution_count": 64,
      "outputs": [
        {
          "output_type": "execute_result",
          "data": {
            "text/plain": [
              "   0    1         2   3    4     5   6   7   8   9   ...   32    33    34  \\\n",
              "0   0  tcp  ftp_data  SF  491     0   0   0   0   0  ...   25  0.17  0.03   \n",
              "1   0  udp     other  SF  146     0   0   0   0   0  ...    1  0.00  0.60   \n",
              "2   0  tcp   private  S0    0     0   0   0   0   0  ...   26  0.10  0.05   \n",
              "3   0  tcp      http  SF  232  8153   0   0   0   0  ...  255  1.00  0.00   \n",
              "4   0  tcp      http  SF  199   420   0   0   0   0  ...  255  1.00  0.00   \n",
              "\n",
              "     35    36    37    38    39    40       41  \n",
              "0  0.17  0.00  0.00  0.00  0.05  0.00   normal  \n",
              "1  0.88  0.00  0.00  0.00  0.00  0.00   normal  \n",
              "2  0.00  0.00  1.00  1.00  0.00  0.00  neptune  \n",
              "3  0.03  0.04  0.03  0.01  0.00  0.01   normal  \n",
              "4  0.00  0.00  0.00  0.00  0.00  0.00   normal  \n",
              "\n",
              "[5 rows x 42 columns]"
            ],
            "text/html": [
              "\n",
              "  <div id=\"df-a03de396-4579-4ca2-b492-68e97a290dfd\">\n",
              "    <div class=\"colab-df-container\">\n",
              "      <div>\n",
              "<style scoped>\n",
              "    .dataframe tbody tr th:only-of-type {\n",
              "        vertical-align: middle;\n",
              "    }\n",
              "\n",
              "    .dataframe tbody tr th {\n",
              "        vertical-align: top;\n",
              "    }\n",
              "\n",
              "    .dataframe thead th {\n",
              "        text-align: right;\n",
              "    }\n",
              "</style>\n",
              "<table border=\"1\" class=\"dataframe\">\n",
              "  <thead>\n",
              "    <tr style=\"text-align: right;\">\n",
              "      <th></th>\n",
              "      <th>0</th>\n",
              "      <th>1</th>\n",
              "      <th>2</th>\n",
              "      <th>3</th>\n",
              "      <th>4</th>\n",
              "      <th>5</th>\n",
              "      <th>6</th>\n",
              "      <th>7</th>\n",
              "      <th>8</th>\n",
              "      <th>9</th>\n",
              "      <th>...</th>\n",
              "      <th>32</th>\n",
              "      <th>33</th>\n",
              "      <th>34</th>\n",
              "      <th>35</th>\n",
              "      <th>36</th>\n",
              "      <th>37</th>\n",
              "      <th>38</th>\n",
              "      <th>39</th>\n",
              "      <th>40</th>\n",
              "      <th>41</th>\n",
              "    </tr>\n",
              "  </thead>\n",
              "  <tbody>\n",
              "    <tr>\n",
              "      <th>0</th>\n",
              "      <td>0</td>\n",
              "      <td>tcp</td>\n",
              "      <td>ftp_data</td>\n",
              "      <td>SF</td>\n",
              "      <td>491</td>\n",
              "      <td>0</td>\n",
              "      <td>0</td>\n",
              "      <td>0</td>\n",
              "      <td>0</td>\n",
              "      <td>0</td>\n",
              "      <td>...</td>\n",
              "      <td>25</td>\n",
              "      <td>0.17</td>\n",
              "      <td>0.03</td>\n",
              "      <td>0.17</td>\n",
              "      <td>0.00</td>\n",
              "      <td>0.00</td>\n",
              "      <td>0.00</td>\n",
              "      <td>0.05</td>\n",
              "      <td>0.00</td>\n",
              "      <td>normal</td>\n",
              "    </tr>\n",
              "    <tr>\n",
              "      <th>1</th>\n",
              "      <td>0</td>\n",
              "      <td>udp</td>\n",
              "      <td>other</td>\n",
              "      <td>SF</td>\n",
              "      <td>146</td>\n",
              "      <td>0</td>\n",
              "      <td>0</td>\n",
              "      <td>0</td>\n",
              "      <td>0</td>\n",
              "      <td>0</td>\n",
              "      <td>...</td>\n",
              "      <td>1</td>\n",
              "      <td>0.00</td>\n",
              "      <td>0.60</td>\n",
              "      <td>0.88</td>\n",
              "      <td>0.00</td>\n",
              "      <td>0.00</td>\n",
              "      <td>0.00</td>\n",
              "      <td>0.00</td>\n",
              "      <td>0.00</td>\n",
              "      <td>normal</td>\n",
              "    </tr>\n",
              "    <tr>\n",
              "      <th>2</th>\n",
              "      <td>0</td>\n",
              "      <td>tcp</td>\n",
              "      <td>private</td>\n",
              "      <td>S0</td>\n",
              "      <td>0</td>\n",
              "      <td>0</td>\n",
              "      <td>0</td>\n",
              "      <td>0</td>\n",
              "      <td>0</td>\n",
              "      <td>0</td>\n",
              "      <td>...</td>\n",
              "      <td>26</td>\n",
              "      <td>0.10</td>\n",
              "      <td>0.05</td>\n",
              "      <td>0.00</td>\n",
              "      <td>0.00</td>\n",
              "      <td>1.00</td>\n",
              "      <td>1.00</td>\n",
              "      <td>0.00</td>\n",
              "      <td>0.00</td>\n",
              "      <td>neptune</td>\n",
              "    </tr>\n",
              "    <tr>\n",
              "      <th>3</th>\n",
              "      <td>0</td>\n",
              "      <td>tcp</td>\n",
              "      <td>http</td>\n",
              "      <td>SF</td>\n",
              "      <td>232</td>\n",
              "      <td>8153</td>\n",
              "      <td>0</td>\n",
              "      <td>0</td>\n",
              "      <td>0</td>\n",
              "      <td>0</td>\n",
              "      <td>...</td>\n",
              "      <td>255</td>\n",
              "      <td>1.00</td>\n",
              "      <td>0.00</td>\n",
              "      <td>0.03</td>\n",
              "      <td>0.04</td>\n",
              "      <td>0.03</td>\n",
              "      <td>0.01</td>\n",
              "      <td>0.00</td>\n",
              "      <td>0.01</td>\n",
              "      <td>normal</td>\n",
              "    </tr>\n",
              "    <tr>\n",
              "      <th>4</th>\n",
              "      <td>0</td>\n",
              "      <td>tcp</td>\n",
              "      <td>http</td>\n",
              "      <td>SF</td>\n",
              "      <td>199</td>\n",
              "      <td>420</td>\n",
              "      <td>0</td>\n",
              "      <td>0</td>\n",
              "      <td>0</td>\n",
              "      <td>0</td>\n",
              "      <td>...</td>\n",
              "      <td>255</td>\n",
              "      <td>1.00</td>\n",
              "      <td>0.00</td>\n",
              "      <td>0.00</td>\n",
              "      <td>0.00</td>\n",
              "      <td>0.00</td>\n",
              "      <td>0.00</td>\n",
              "      <td>0.00</td>\n",
              "      <td>0.00</td>\n",
              "      <td>normal</td>\n",
              "    </tr>\n",
              "  </tbody>\n",
              "</table>\n",
              "<p>5 rows × 42 columns</p>\n",
              "</div>\n",
              "      <button class=\"colab-df-convert\" onclick=\"convertToInteractive('df-a03de396-4579-4ca2-b492-68e97a290dfd')\"\n",
              "              title=\"Convert this dataframe to an interactive table.\"\n",
              "              style=\"display:none;\">\n",
              "        \n",
              "  <svg xmlns=\"http://www.w3.org/2000/svg\" height=\"24px\"viewBox=\"0 0 24 24\"\n",
              "       width=\"24px\">\n",
              "    <path d=\"M0 0h24v24H0V0z\" fill=\"none\"/>\n",
              "    <path d=\"M18.56 5.44l.94 2.06.94-2.06 2.06-.94-2.06-.94-.94-2.06-.94 2.06-2.06.94zm-11 1L8.5 8.5l.94-2.06 2.06-.94-2.06-.94L8.5 2.5l-.94 2.06-2.06.94zm10 10l.94 2.06.94-2.06 2.06-.94-2.06-.94-.94-2.06-.94 2.06-2.06.94z\"/><path d=\"M17.41 7.96l-1.37-1.37c-.4-.4-.92-.59-1.43-.59-.52 0-1.04.2-1.43.59L10.3 9.45l-7.72 7.72c-.78.78-.78 2.05 0 2.83L4 21.41c.39.39.9.59 1.41.59.51 0 1.02-.2 1.41-.59l7.78-7.78 2.81-2.81c.8-.78.8-2.07 0-2.86zM5.41 20L4 18.59l7.72-7.72 1.47 1.35L5.41 20z\"/>\n",
              "  </svg>\n",
              "      </button>\n",
              "      \n",
              "  <style>\n",
              "    .colab-df-container {\n",
              "      display:flex;\n",
              "      flex-wrap:wrap;\n",
              "      gap: 12px;\n",
              "    }\n",
              "\n",
              "    .colab-df-convert {\n",
              "      background-color: #E8F0FE;\n",
              "      border: none;\n",
              "      border-radius: 50%;\n",
              "      cursor: pointer;\n",
              "      display: none;\n",
              "      fill: #1967D2;\n",
              "      height: 32px;\n",
              "      padding: 0 0 0 0;\n",
              "      width: 32px;\n",
              "    }\n",
              "\n",
              "    .colab-df-convert:hover {\n",
              "      background-color: #E2EBFA;\n",
              "      box-shadow: 0px 1px 2px rgba(60, 64, 67, 0.3), 0px 1px 3px 1px rgba(60, 64, 67, 0.15);\n",
              "      fill: #174EA6;\n",
              "    }\n",
              "\n",
              "    [theme=dark] .colab-df-convert {\n",
              "      background-color: #3B4455;\n",
              "      fill: #D2E3FC;\n",
              "    }\n",
              "\n",
              "    [theme=dark] .colab-df-convert:hover {\n",
              "      background-color: #434B5C;\n",
              "      box-shadow: 0px 1px 3px 1px rgba(0, 0, 0, 0.15);\n",
              "      filter: drop-shadow(0px 1px 2px rgba(0, 0, 0, 0.3));\n",
              "      fill: #FFFFFF;\n",
              "    }\n",
              "  </style>\n",
              "\n",
              "      <script>\n",
              "        const buttonEl =\n",
              "          document.querySelector('#df-a03de396-4579-4ca2-b492-68e97a290dfd button.colab-df-convert');\n",
              "        buttonEl.style.display =\n",
              "          google.colab.kernel.accessAllowed ? 'block' : 'none';\n",
              "\n",
              "        async function convertToInteractive(key) {\n",
              "          const element = document.querySelector('#df-a03de396-4579-4ca2-b492-68e97a290dfd');\n",
              "          const dataTable =\n",
              "            await google.colab.kernel.invokeFunction('convertToInteractive',\n",
              "                                                     [key], {});\n",
              "          if (!dataTable) return;\n",
              "\n",
              "          const docLinkHtml = 'Like what you see? Visit the ' +\n",
              "            '<a target=\"_blank\" href=https://colab.research.google.com/notebooks/data_table.ipynb>data table notebook</a>'\n",
              "            + ' to learn more about interactive tables.';\n",
              "          element.innerHTML = '';\n",
              "          dataTable['output_type'] = 'display_data';\n",
              "          await google.colab.output.renderOutput(dataTable, element);\n",
              "          const docLink = document.createElement('div');\n",
              "          docLink.innerHTML = docLinkHtml;\n",
              "          element.appendChild(docLink);\n",
              "        }\n",
              "      </script>\n",
              "    </div>\n",
              "  </div>\n",
              "  "
            ]
          },
          "metadata": {},
          "execution_count": 64
        }
      ]
    },
    {
      "cell_type": "code",
      "source": [
        "dataset_test.head()"
      ],
      "metadata": {
        "colab": {
          "base_uri": "https://localhost:8080/",
          "height": 236
        },
        "id": "HHpfTmGkkbml",
        "outputId": "6ea0d69c-67d4-4fbd-937d-ba78b4972a0a"
      },
      "execution_count": 65,
      "outputs": [
        {
          "output_type": "execute_result",
          "data": {
            "text/plain": [
              "   0     1         2     3      4   5   6   7   8   9   ...  32    33    34  \\\n",
              "0   0   tcp   private   REJ      0   0   0   0   0   0  ...  10  0.04  0.06   \n",
              "1   0   tcp   private   REJ      0   0   0   0   0   0  ...   1  0.00  0.06   \n",
              "2   2   tcp  ftp_data    SF  12983   0   0   0   0   0  ...  86  0.61  0.04   \n",
              "3   0  icmp     eco_i    SF     20   0   0   0   0   0  ...  57  1.00  0.00   \n",
              "4   1   tcp    telnet  RSTO      0  15   0   0   0   0  ...  86  0.31  0.17   \n",
              "\n",
              "     35    36   37   38    39    40       41  \n",
              "0  0.00  0.00  0.0  0.0  1.00  1.00  neptune  \n",
              "1  0.00  0.00  0.0  0.0  1.00  1.00  neptune  \n",
              "2  0.61  0.02  0.0  0.0  0.00  0.00   normal  \n",
              "3  1.00  0.28  0.0  0.0  0.00  0.00    saint  \n",
              "4  0.03  0.02  0.0  0.0  0.83  0.71    mscan  \n",
              "\n",
              "[5 rows x 42 columns]"
            ],
            "text/html": [
              "\n",
              "  <div id=\"df-d4fc315e-fa01-4685-afb6-519b4c2c3808\">\n",
              "    <div class=\"colab-df-container\">\n",
              "      <div>\n",
              "<style scoped>\n",
              "    .dataframe tbody tr th:only-of-type {\n",
              "        vertical-align: middle;\n",
              "    }\n",
              "\n",
              "    .dataframe tbody tr th {\n",
              "        vertical-align: top;\n",
              "    }\n",
              "\n",
              "    .dataframe thead th {\n",
              "        text-align: right;\n",
              "    }\n",
              "</style>\n",
              "<table border=\"1\" class=\"dataframe\">\n",
              "  <thead>\n",
              "    <tr style=\"text-align: right;\">\n",
              "      <th></th>\n",
              "      <th>0</th>\n",
              "      <th>1</th>\n",
              "      <th>2</th>\n",
              "      <th>3</th>\n",
              "      <th>4</th>\n",
              "      <th>5</th>\n",
              "      <th>6</th>\n",
              "      <th>7</th>\n",
              "      <th>8</th>\n",
              "      <th>9</th>\n",
              "      <th>...</th>\n",
              "      <th>32</th>\n",
              "      <th>33</th>\n",
              "      <th>34</th>\n",
              "      <th>35</th>\n",
              "      <th>36</th>\n",
              "      <th>37</th>\n",
              "      <th>38</th>\n",
              "      <th>39</th>\n",
              "      <th>40</th>\n",
              "      <th>41</th>\n",
              "    </tr>\n",
              "  </thead>\n",
              "  <tbody>\n",
              "    <tr>\n",
              "      <th>0</th>\n",
              "      <td>0</td>\n",
              "      <td>tcp</td>\n",
              "      <td>private</td>\n",
              "      <td>REJ</td>\n",
              "      <td>0</td>\n",
              "      <td>0</td>\n",
              "      <td>0</td>\n",
              "      <td>0</td>\n",
              "      <td>0</td>\n",
              "      <td>0</td>\n",
              "      <td>...</td>\n",
              "      <td>10</td>\n",
              "      <td>0.04</td>\n",
              "      <td>0.06</td>\n",
              "      <td>0.00</td>\n",
              "      <td>0.00</td>\n",
              "      <td>0.0</td>\n",
              "      <td>0.0</td>\n",
              "      <td>1.00</td>\n",
              "      <td>1.00</td>\n",
              "      <td>neptune</td>\n",
              "    </tr>\n",
              "    <tr>\n",
              "      <th>1</th>\n",
              "      <td>0</td>\n",
              "      <td>tcp</td>\n",
              "      <td>private</td>\n",
              "      <td>REJ</td>\n",
              "      <td>0</td>\n",
              "      <td>0</td>\n",
              "      <td>0</td>\n",
              "      <td>0</td>\n",
              "      <td>0</td>\n",
              "      <td>0</td>\n",
              "      <td>...</td>\n",
              "      <td>1</td>\n",
              "      <td>0.00</td>\n",
              "      <td>0.06</td>\n",
              "      <td>0.00</td>\n",
              "      <td>0.00</td>\n",
              "      <td>0.0</td>\n",
              "      <td>0.0</td>\n",
              "      <td>1.00</td>\n",
              "      <td>1.00</td>\n",
              "      <td>neptune</td>\n",
              "    </tr>\n",
              "    <tr>\n",
              "      <th>2</th>\n",
              "      <td>2</td>\n",
              "      <td>tcp</td>\n",
              "      <td>ftp_data</td>\n",
              "      <td>SF</td>\n",
              "      <td>12983</td>\n",
              "      <td>0</td>\n",
              "      <td>0</td>\n",
              "      <td>0</td>\n",
              "      <td>0</td>\n",
              "      <td>0</td>\n",
              "      <td>...</td>\n",
              "      <td>86</td>\n",
              "      <td>0.61</td>\n",
              "      <td>0.04</td>\n",
              "      <td>0.61</td>\n",
              "      <td>0.02</td>\n",
              "      <td>0.0</td>\n",
              "      <td>0.0</td>\n",
              "      <td>0.00</td>\n",
              "      <td>0.00</td>\n",
              "      <td>normal</td>\n",
              "    </tr>\n",
              "    <tr>\n",
              "      <th>3</th>\n",
              "      <td>0</td>\n",
              "      <td>icmp</td>\n",
              "      <td>eco_i</td>\n",
              "      <td>SF</td>\n",
              "      <td>20</td>\n",
              "      <td>0</td>\n",
              "      <td>0</td>\n",
              "      <td>0</td>\n",
              "      <td>0</td>\n",
              "      <td>0</td>\n",
              "      <td>...</td>\n",
              "      <td>57</td>\n",
              "      <td>1.00</td>\n",
              "      <td>0.00</td>\n",
              "      <td>1.00</td>\n",
              "      <td>0.28</td>\n",
              "      <td>0.0</td>\n",
              "      <td>0.0</td>\n",
              "      <td>0.00</td>\n",
              "      <td>0.00</td>\n",
              "      <td>saint</td>\n",
              "    </tr>\n",
              "    <tr>\n",
              "      <th>4</th>\n",
              "      <td>1</td>\n",
              "      <td>tcp</td>\n",
              "      <td>telnet</td>\n",
              "      <td>RSTO</td>\n",
              "      <td>0</td>\n",
              "      <td>15</td>\n",
              "      <td>0</td>\n",
              "      <td>0</td>\n",
              "      <td>0</td>\n",
              "      <td>0</td>\n",
              "      <td>...</td>\n",
              "      <td>86</td>\n",
              "      <td>0.31</td>\n",
              "      <td>0.17</td>\n",
              "      <td>0.03</td>\n",
              "      <td>0.02</td>\n",
              "      <td>0.0</td>\n",
              "      <td>0.0</td>\n",
              "      <td>0.83</td>\n",
              "      <td>0.71</td>\n",
              "      <td>mscan</td>\n",
              "    </tr>\n",
              "  </tbody>\n",
              "</table>\n",
              "<p>5 rows × 42 columns</p>\n",
              "</div>\n",
              "      <button class=\"colab-df-convert\" onclick=\"convertToInteractive('df-d4fc315e-fa01-4685-afb6-519b4c2c3808')\"\n",
              "              title=\"Convert this dataframe to an interactive table.\"\n",
              "              style=\"display:none;\">\n",
              "        \n",
              "  <svg xmlns=\"http://www.w3.org/2000/svg\" height=\"24px\"viewBox=\"0 0 24 24\"\n",
              "       width=\"24px\">\n",
              "    <path d=\"M0 0h24v24H0V0z\" fill=\"none\"/>\n",
              "    <path d=\"M18.56 5.44l.94 2.06.94-2.06 2.06-.94-2.06-.94-.94-2.06-.94 2.06-2.06.94zm-11 1L8.5 8.5l.94-2.06 2.06-.94-2.06-.94L8.5 2.5l-.94 2.06-2.06.94zm10 10l.94 2.06.94-2.06 2.06-.94-2.06-.94-.94-2.06-.94 2.06-2.06.94z\"/><path d=\"M17.41 7.96l-1.37-1.37c-.4-.4-.92-.59-1.43-.59-.52 0-1.04.2-1.43.59L10.3 9.45l-7.72 7.72c-.78.78-.78 2.05 0 2.83L4 21.41c.39.39.9.59 1.41.59.51 0 1.02-.2 1.41-.59l7.78-7.78 2.81-2.81c.8-.78.8-2.07 0-2.86zM5.41 20L4 18.59l7.72-7.72 1.47 1.35L5.41 20z\"/>\n",
              "  </svg>\n",
              "      </button>\n",
              "      \n",
              "  <style>\n",
              "    .colab-df-container {\n",
              "      display:flex;\n",
              "      flex-wrap:wrap;\n",
              "      gap: 12px;\n",
              "    }\n",
              "\n",
              "    .colab-df-convert {\n",
              "      background-color: #E8F0FE;\n",
              "      border: none;\n",
              "      border-radius: 50%;\n",
              "      cursor: pointer;\n",
              "      display: none;\n",
              "      fill: #1967D2;\n",
              "      height: 32px;\n",
              "      padding: 0 0 0 0;\n",
              "      width: 32px;\n",
              "    }\n",
              "\n",
              "    .colab-df-convert:hover {\n",
              "      background-color: #E2EBFA;\n",
              "      box-shadow: 0px 1px 2px rgba(60, 64, 67, 0.3), 0px 1px 3px 1px rgba(60, 64, 67, 0.15);\n",
              "      fill: #174EA6;\n",
              "    }\n",
              "\n",
              "    [theme=dark] .colab-df-convert {\n",
              "      background-color: #3B4455;\n",
              "      fill: #D2E3FC;\n",
              "    }\n",
              "\n",
              "    [theme=dark] .colab-df-convert:hover {\n",
              "      background-color: #434B5C;\n",
              "      box-shadow: 0px 1px 3px 1px rgba(0, 0, 0, 0.15);\n",
              "      filter: drop-shadow(0px 1px 2px rgba(0, 0, 0, 0.3));\n",
              "      fill: #FFFFFF;\n",
              "    }\n",
              "  </style>\n",
              "\n",
              "      <script>\n",
              "        const buttonEl =\n",
              "          document.querySelector('#df-d4fc315e-fa01-4685-afb6-519b4c2c3808 button.colab-df-convert');\n",
              "        buttonEl.style.display =\n",
              "          google.colab.kernel.accessAllowed ? 'block' : 'none';\n",
              "\n",
              "        async function convertToInteractive(key) {\n",
              "          const element = document.querySelector('#df-d4fc315e-fa01-4685-afb6-519b4c2c3808');\n",
              "          const dataTable =\n",
              "            await google.colab.kernel.invokeFunction('convertToInteractive',\n",
              "                                                     [key], {});\n",
              "          if (!dataTable) return;\n",
              "\n",
              "          const docLinkHtml = 'Like what you see? Visit the ' +\n",
              "            '<a target=\"_blank\" href=https://colab.research.google.com/notebooks/data_table.ipynb>data table notebook</a>'\n",
              "            + ' to learn more about interactive tables.';\n",
              "          element.innerHTML = '';\n",
              "          dataTable['output_type'] = 'display_data';\n",
              "          await google.colab.output.renderOutput(dataTable, element);\n",
              "          const docLink = document.createElement('div');\n",
              "          docLink.innerHTML = docLinkHtml;\n",
              "          element.appendChild(docLink);\n",
              "        }\n",
              "      </script>\n",
              "    </div>\n",
              "  </div>\n",
              "  "
            ]
          },
          "metadata": {},
          "execution_count": 65
        }
      ]
    },
    {
      "cell_type": "markdown",
      "source": [
        "Columns names of Training and Test Datasets"
      ],
      "metadata": {
        "id": "Wb5m2U78k7yz"
      }
    },
    {
      "cell_type": "code",
      "source": [
        "col_names = [\"duration\",\"protocol_type\",\"service\",\"flag\",\"src_bytes\",\n",
        "    \"dst_bytes\",\"land\",\"wrong_fragment\",\"urgent\",\"hot\",\"num_failed_logins\",\n",
        "    \"logged_in\",\"num_compromised\",\"root_shell\",\"su_attempted\",\"num_root\",\n",
        "    \"num_file_creations\",\"num_shells\",\"num_access_files\",\"num_outbound_cmds\",\n",
        "    \"is_host_login\",\"is_guest_login\",\"count\",\"srv_count\",\"serror_rate\",\n",
        "    \"srv_serror_rate\",\"rerror_rate\",\"srv_rerror_rate\",\"same_srv_rate\",\n",
        "    \"diff_srv_rate\",\"srv_diff_host_rate\",\"dst_host_count\",\"dst_host_srv_count\",\n",
        "    \"dst_host_same_srv_rate\",\"dst_host_diff_srv_rate\",\"dst_host_same_src_port_rate\",\n",
        "    \"dst_host_srv_diff_host_rate\",\"dst_host_serror_rate\",\"dst_host_srv_serror_rate\",\n",
        "    \"dst_host_rerror_rate\",\"dst_host_srv_rerror_rate\",\"label\"]"
      ],
      "metadata": {
        "id": "6XUayEo0k-rO"
      },
      "execution_count": 66,
      "outputs": []
    },
    {
      "cell_type": "markdown",
      "source": [
        "Shape of Training and Test Datasets"
      ],
      "metadata": {
        "id": "gWz0rlRrl0B2"
      }
    },
    {
      "cell_type": "code",
      "source": [
        "print(\"Shape of Training Dataset:\", dataset_train.shape)\n",
        "print(\"Shape of Testing Dataset:\", dataset_test.shape)"
      ],
      "metadata": {
        "colab": {
          "base_uri": "https://localhost:8080/"
        },
        "id": "O48ADyvQl4n-",
        "outputId": "78dc23fd-1941-46a9-8e98-a27d3c741ab6"
      },
      "execution_count": 67,
      "outputs": [
        {
          "output_type": "stream",
          "name": "stdout",
          "text": [
            "Shape of Training Dataset: (125973, 42)\n",
            "Shape of Testing Dataset: (22544, 42)\n"
          ]
        }
      ]
    },
    {
      "cell_type": "markdown",
      "source": [
        "Columns Assignment"
      ],
      "metadata": {
        "id": "KEJWNOH3mCMt"
      }
    },
    {
      "cell_type": "code",
      "source": [
        "dataset_train.columns = col_names # append labels\n",
        "dataset_test.columns = col_names "
      ],
      "metadata": {
        "id": "iy9NRuXrmBd4"
      },
      "execution_count": 68,
      "outputs": []
    },
    {
      "cell_type": "markdown",
      "source": [
        "Labels of Training and Test Datasets"
      ],
      "metadata": {
        "id": "mu3Vk41gmVIS"
      }
    },
    {
      "cell_type": "code",
      "source": [
        "#label distribution of Training set and testing set\n",
        "print('Label distribution Training set:')\n",
        "print(dataset_train['label'].value_counts())\n",
        "train_labels = dataset_train['label'].unique()\n",
        "print()\n",
        "print('Label distribution Test set:')\n",
        "print(dataset_test['label'].value_counts())"
      ],
      "metadata": {
        "colab": {
          "base_uri": "https://localhost:8080/"
        },
        "id": "w5TVgxXgmf3x",
        "outputId": "1b505912-4f58-4b27-e857-82ee9652c857"
      },
      "execution_count": 69,
      "outputs": [
        {
          "output_type": "stream",
          "name": "stdout",
          "text": [
            "Label distribution Training set:\n",
            "normal             67343\n",
            "neptune            41214\n",
            "satan               3633\n",
            "ipsweep             3599\n",
            "portsweep           2931\n",
            "smurf               2646\n",
            "nmap                1493\n",
            "back                 956\n",
            "teardrop             892\n",
            "warezclient          890\n",
            "pod                  201\n",
            "guess_passwd          53\n",
            "buffer_overflow       30\n",
            "warezmaster           20\n",
            "land                  18\n",
            "imap                  11\n",
            "rootkit               10\n",
            "loadmodule             9\n",
            "ftp_write              8\n",
            "multihop               7\n",
            "phf                    4\n",
            "perl                   3\n",
            "spy                    2\n",
            "Name: label, dtype: int64\n",
            "\n",
            "Label distribution Test set:\n",
            "normal             9711\n",
            "neptune            4657\n",
            "guess_passwd       1231\n",
            "mscan               996\n",
            "warezmaster         944\n",
            "apache2             737\n",
            "satan               735\n",
            "processtable        685\n",
            "smurf               665\n",
            "back                359\n",
            "snmpguess           331\n",
            "saint               319\n",
            "mailbomb            293\n",
            "snmpgetattack       178\n",
            "portsweep           157\n",
            "ipsweep             141\n",
            "httptunnel          133\n",
            "nmap                 73\n",
            "pod                  41\n",
            "buffer_overflow      20\n",
            "multihop             18\n",
            "named                17\n",
            "ps                   15\n",
            "sendmail             14\n",
            "rootkit              13\n",
            "xterm                13\n",
            "teardrop             12\n",
            "xlock                 9\n",
            "land                  7\n",
            "xsnoop                4\n",
            "ftp_write             3\n",
            "worm                  2\n",
            "loadmodule            2\n",
            "perl                  2\n",
            "sqlattack             2\n",
            "udpstorm              2\n",
            "phf                   2\n",
            "imap                  1\n",
            "Name: label, dtype: int64\n"
          ]
        }
      ]
    },
    {
      "cell_type": "markdown",
      "source": [
        "# Data Pre-processing"
      ],
      "metadata": {
        "id": "Zfb5wrB8mpHi"
      }
    },
    {
      "cell_type": "markdown",
      "source": [
        "## Handle categorical features"
      ],
      "metadata": {
        "id": "0CJZaMexmzmb"
      }
    },
    {
      "cell_type": "code",
      "source": [
        "# colums that are categorical and not binary yet: protocol_type (column 2), service (column 3), flag (column 4).\n",
        "# explore categorical features\n",
        "print('Training set:')\n",
        "for col_name in dataset_train.columns:\n",
        "    if dataset_train[col_name].dtypes == 'object' :\n",
        "        unique_cat = dataset_train[col_name].nunique()\n",
        "        print(\"Feature '{col_name}' has {unique_cat} categories\".format(col_name=col_name, unique_cat=unique_cat))\n",
        "\n",
        "# Test set\n",
        "print('Test set:')\n",
        "for col_name in dataset_test.columns:\n",
        "    if dataset_test[col_name].dtypes == 'object' :\n",
        "        unique_cat = len(dataset_test[col_name].unique())\n",
        "        print(\"Feature '{col_name}' has {unique_cat} categories\".format(col_name=col_name, unique_cat=unique_cat))"
      ],
      "metadata": {
        "colab": {
          "base_uri": "https://localhost:8080/"
        },
        "id": "kBSeJtJvmoOI",
        "outputId": "11cb4709-adc9-4fcf-a75a-f363e4e6006e"
      },
      "execution_count": 70,
      "outputs": [
        {
          "output_type": "stream",
          "name": "stdout",
          "text": [
            "Training set:\n",
            "Feature 'protocol_type' has 3 categories\n",
            "Feature 'service' has 70 categories\n",
            "Feature 'flag' has 11 categories\n",
            "Feature 'label' has 23 categories\n",
            "Test set:\n",
            "Feature 'protocol_type' has 3 categories\n",
            "Feature 'service' has 64 categories\n",
            "Feature 'flag' has 11 categories\n",
            "Feature 'label' has 38 categories\n"
          ]
        }
      ]
    },
    {
      "cell_type": "markdown",
      "source": [
        "One-hot-Encoding"
      ],
      "metadata": {
        "id": "vAKeBKt6ob5N"
      }
    },
    {
      "cell_type": "code",
      "source": [
        "one_hot_encoder = preprocessing.OneHotEncoder() # create one hot encoder"
      ],
      "metadata": {
        "id": "Ekw90656ovm-"
      },
      "execution_count": 71,
      "outputs": []
    },
    {
      "cell_type": "markdown",
      "source": [
        "Protocol Type"
      ],
      "metadata": {
        "id": "J7b-6keZpyiH"
      }
    },
    {
      "cell_type": "code",
      "source": [
        "# fit one hot encoder\n",
        "one_hot_encoder.fit(dataset_train['protocol_type'].values.reshape(-1,1))\n",
        "\n",
        "#train dataset\n",
        "train_transform = one_hot_encoder.transform(dataset_train['protocol_type'].values.reshape(-1,1)) \n",
        "train_transform = train_transform.toarray()\n",
        "train_df = pd.DataFrame(train_transform, columns = one_hot_encoder.get_feature_names_out())\n",
        "del dataset_train['protocol_type']\n",
        "dataset_train = pd.concat([dataset_train,train_df], axis=1)\n",
        "\n",
        "#test dataset\n",
        "test_transform = one_hot_encoder.transform(dataset_test['protocol_type'].values.reshape(-1,1)) \n",
        "test_transform = test_transform.toarray()\n",
        "test_df = pd.DataFrame(test_transform , columns = one_hot_encoder.get_feature_names_out())\n",
        "del dataset_test['protocol_type']\n",
        "dataset_test = pd.concat([dataset_test,test_df], axis=1)"
      ],
      "metadata": {
        "id": "tnC1cjYEodok"
      },
      "execution_count": 72,
      "outputs": []
    },
    {
      "cell_type": "markdown",
      "source": [
        "Service "
      ],
      "metadata": {
        "id": "e6d9blMJp3_g"
      }
    },
    {
      "cell_type": "code",
      "source": [
        "# fit one hot encoder\n",
        "one_hot_encoder.fit(dataset_train['service'].values.reshape(-1,1))\n",
        "\n",
        "# train dataset\n",
        "train_transform = one_hot_encoder.transform(dataset_train['service'].values.reshape(-1,1)) \n",
        "train_transform = train_transform.toarray()\n",
        "train_df = pd.DataFrame(train_transform, columns = one_hot_encoder.get_feature_names_out())\n",
        "del dataset_train['service']\n",
        "dataset_train = pd.concat([dataset_train,train_df], axis=1)\n",
        "\n",
        "# test dataset\n",
        "test_transform = one_hot_encoder.transform(dataset_test['service'].values.reshape(-1,1)) \n",
        "test_transform = test_transform.toarray()\n",
        "test_df = pd.DataFrame(test_transform , columns = one_hot_encoder.get_feature_names_out())\n",
        "del dataset_test['service']\n",
        "dataset_test = pd.concat([dataset_test,test_df], axis=1)"
      ],
      "metadata": {
        "id": "VAdkMCVtpLo7"
      },
      "execution_count": 73,
      "outputs": []
    },
    {
      "cell_type": "markdown",
      "source": [
        "Flag"
      ],
      "metadata": {
        "id": "bFtQloanqTRu"
      }
    },
    {
      "cell_type": "code",
      "source": [
        "# fit one hot encoder\n",
        "one_hot_encoder.fit(dataset_train['flag'].values.reshape(-1,1))\n",
        "\n",
        "# train dataset\n",
        "train_transform = one_hot_encoder.transform(dataset_train['flag'].values.reshape(-1,1)) \n",
        "train_transform = train_transform.toarray()\n",
        "train_df = pd.DataFrame(train_transform, columns = one_hot_encoder.get_feature_names_out())\n",
        "del dataset_train['flag']\n",
        "dataset_train = pd.concat([dataset_train,train_df], axis=1)\n",
        "\n",
        "# test dataset\n",
        "test_transform = one_hot_encoder.transform(dataset_test['flag'].values.reshape(-1,1)) \n",
        "test_transform = test_transform.toarray()\n",
        "test_df = pd.DataFrame(test_transform , columns = one_hot_encoder.get_feature_names_out())\n",
        "del dataset_test['flag']\n",
        "dataset_test = pd.concat([dataset_test,test_df], axis=1)"
      ],
      "metadata": {
        "id": "7NfsI5A1KNT_"
      },
      "execution_count": 74,
      "outputs": []
    },
    {
      "cell_type": "code",
      "source": [
        "print(\"Shape of Training Dataset:\", dataset_train.shape)\n",
        "print(\"Shape of Testing Dataset:\", dataset_test.shape)"
      ],
      "metadata": {
        "colab": {
          "base_uri": "https://localhost:8080/"
        },
        "id": "QTJC3pEVrEsL",
        "outputId": "811e567e-4d7a-41cc-f544-fbc6a3f42469"
      },
      "execution_count": 75,
      "outputs": [
        {
          "output_type": "stream",
          "name": "stdout",
          "text": [
            "Shape of Training Dataset: (125973, 123)\n",
            "Shape of Testing Dataset: (22544, 123)\n"
          ]
        }
      ]
    },
    {
      "cell_type": "code",
      "source": [
        "dataset_train.head()"
      ],
      "metadata": {
        "colab": {
          "base_uri": "https://localhost:8080/",
          "height": 236
        },
        "id": "8En4p5FYrOmV",
        "outputId": "1f4090b3-13ff-4dd3-905f-393775e6e4e7"
      },
      "execution_count": 76,
      "outputs": [
        {
          "output_type": "execute_result",
          "data": {
            "text/plain": [
              "   duration  src_bytes  dst_bytes  land  wrong_fragment  urgent  hot  \\\n",
              "0         0        491          0     0               0       0    0   \n",
              "1         0        146          0     0               0       0    0   \n",
              "2         0          0          0     0               0       0    0   \n",
              "3         0        232       8153     0               0       0    0   \n",
              "4         0        199        420     0               0       0    0   \n",
              "\n",
              "   num_failed_logins  logged_in  num_compromised  ...  x0_REJ  x0_RSTO  \\\n",
              "0                  0          0                0  ...     0.0      0.0   \n",
              "1                  0          0                0  ...     0.0      0.0   \n",
              "2                  0          0                0  ...     0.0      0.0   \n",
              "3                  0          1                0  ...     0.0      0.0   \n",
              "4                  0          1                0  ...     0.0      0.0   \n",
              "\n",
              "   x0_RSTOS0  x0_RSTR  x0_S0  x0_S1  x0_S2  x0_S3  x0_SF  x0_SH  \n",
              "0        0.0      0.0    0.0    0.0    0.0    0.0    1.0    0.0  \n",
              "1        0.0      0.0    0.0    0.0    0.0    0.0    1.0    0.0  \n",
              "2        0.0      0.0    1.0    0.0    0.0    0.0    0.0    0.0  \n",
              "3        0.0      0.0    0.0    0.0    0.0    0.0    1.0    0.0  \n",
              "4        0.0      0.0    0.0    0.0    0.0    0.0    1.0    0.0  \n",
              "\n",
              "[5 rows x 123 columns]"
            ],
            "text/html": [
              "\n",
              "  <div id=\"df-52389a01-80e2-4a0b-9441-ad5b35971835\">\n",
              "    <div class=\"colab-df-container\">\n",
              "      <div>\n",
              "<style scoped>\n",
              "    .dataframe tbody tr th:only-of-type {\n",
              "        vertical-align: middle;\n",
              "    }\n",
              "\n",
              "    .dataframe tbody tr th {\n",
              "        vertical-align: top;\n",
              "    }\n",
              "\n",
              "    .dataframe thead th {\n",
              "        text-align: right;\n",
              "    }\n",
              "</style>\n",
              "<table border=\"1\" class=\"dataframe\">\n",
              "  <thead>\n",
              "    <tr style=\"text-align: right;\">\n",
              "      <th></th>\n",
              "      <th>duration</th>\n",
              "      <th>src_bytes</th>\n",
              "      <th>dst_bytes</th>\n",
              "      <th>land</th>\n",
              "      <th>wrong_fragment</th>\n",
              "      <th>urgent</th>\n",
              "      <th>hot</th>\n",
              "      <th>num_failed_logins</th>\n",
              "      <th>logged_in</th>\n",
              "      <th>num_compromised</th>\n",
              "      <th>...</th>\n",
              "      <th>x0_REJ</th>\n",
              "      <th>x0_RSTO</th>\n",
              "      <th>x0_RSTOS0</th>\n",
              "      <th>x0_RSTR</th>\n",
              "      <th>x0_S0</th>\n",
              "      <th>x0_S1</th>\n",
              "      <th>x0_S2</th>\n",
              "      <th>x0_S3</th>\n",
              "      <th>x0_SF</th>\n",
              "      <th>x0_SH</th>\n",
              "    </tr>\n",
              "  </thead>\n",
              "  <tbody>\n",
              "    <tr>\n",
              "      <th>0</th>\n",
              "      <td>0</td>\n",
              "      <td>491</td>\n",
              "      <td>0</td>\n",
              "      <td>0</td>\n",
              "      <td>0</td>\n",
              "      <td>0</td>\n",
              "      <td>0</td>\n",
              "      <td>0</td>\n",
              "      <td>0</td>\n",
              "      <td>0</td>\n",
              "      <td>...</td>\n",
              "      <td>0.0</td>\n",
              "      <td>0.0</td>\n",
              "      <td>0.0</td>\n",
              "      <td>0.0</td>\n",
              "      <td>0.0</td>\n",
              "      <td>0.0</td>\n",
              "      <td>0.0</td>\n",
              "      <td>0.0</td>\n",
              "      <td>1.0</td>\n",
              "      <td>0.0</td>\n",
              "    </tr>\n",
              "    <tr>\n",
              "      <th>1</th>\n",
              "      <td>0</td>\n",
              "      <td>146</td>\n",
              "      <td>0</td>\n",
              "      <td>0</td>\n",
              "      <td>0</td>\n",
              "      <td>0</td>\n",
              "      <td>0</td>\n",
              "      <td>0</td>\n",
              "      <td>0</td>\n",
              "      <td>0</td>\n",
              "      <td>...</td>\n",
              "      <td>0.0</td>\n",
              "      <td>0.0</td>\n",
              "      <td>0.0</td>\n",
              "      <td>0.0</td>\n",
              "      <td>0.0</td>\n",
              "      <td>0.0</td>\n",
              "      <td>0.0</td>\n",
              "      <td>0.0</td>\n",
              "      <td>1.0</td>\n",
              "      <td>0.0</td>\n",
              "    </tr>\n",
              "    <tr>\n",
              "      <th>2</th>\n",
              "      <td>0</td>\n",
              "      <td>0</td>\n",
              "      <td>0</td>\n",
              "      <td>0</td>\n",
              "      <td>0</td>\n",
              "      <td>0</td>\n",
              "      <td>0</td>\n",
              "      <td>0</td>\n",
              "      <td>0</td>\n",
              "      <td>0</td>\n",
              "      <td>...</td>\n",
              "      <td>0.0</td>\n",
              "      <td>0.0</td>\n",
              "      <td>0.0</td>\n",
              "      <td>0.0</td>\n",
              "      <td>1.0</td>\n",
              "      <td>0.0</td>\n",
              "      <td>0.0</td>\n",
              "      <td>0.0</td>\n",
              "      <td>0.0</td>\n",
              "      <td>0.0</td>\n",
              "    </tr>\n",
              "    <tr>\n",
              "      <th>3</th>\n",
              "      <td>0</td>\n",
              "      <td>232</td>\n",
              "      <td>8153</td>\n",
              "      <td>0</td>\n",
              "      <td>0</td>\n",
              "      <td>0</td>\n",
              "      <td>0</td>\n",
              "      <td>0</td>\n",
              "      <td>1</td>\n",
              "      <td>0</td>\n",
              "      <td>...</td>\n",
              "      <td>0.0</td>\n",
              "      <td>0.0</td>\n",
              "      <td>0.0</td>\n",
              "      <td>0.0</td>\n",
              "      <td>0.0</td>\n",
              "      <td>0.0</td>\n",
              "      <td>0.0</td>\n",
              "      <td>0.0</td>\n",
              "      <td>1.0</td>\n",
              "      <td>0.0</td>\n",
              "    </tr>\n",
              "    <tr>\n",
              "      <th>4</th>\n",
              "      <td>0</td>\n",
              "      <td>199</td>\n",
              "      <td>420</td>\n",
              "      <td>0</td>\n",
              "      <td>0</td>\n",
              "      <td>0</td>\n",
              "      <td>0</td>\n",
              "      <td>0</td>\n",
              "      <td>1</td>\n",
              "      <td>0</td>\n",
              "      <td>...</td>\n",
              "      <td>0.0</td>\n",
              "      <td>0.0</td>\n",
              "      <td>0.0</td>\n",
              "      <td>0.0</td>\n",
              "      <td>0.0</td>\n",
              "      <td>0.0</td>\n",
              "      <td>0.0</td>\n",
              "      <td>0.0</td>\n",
              "      <td>1.0</td>\n",
              "      <td>0.0</td>\n",
              "    </tr>\n",
              "  </tbody>\n",
              "</table>\n",
              "<p>5 rows × 123 columns</p>\n",
              "</div>\n",
              "      <button class=\"colab-df-convert\" onclick=\"convertToInteractive('df-52389a01-80e2-4a0b-9441-ad5b35971835')\"\n",
              "              title=\"Convert this dataframe to an interactive table.\"\n",
              "              style=\"display:none;\">\n",
              "        \n",
              "  <svg xmlns=\"http://www.w3.org/2000/svg\" height=\"24px\"viewBox=\"0 0 24 24\"\n",
              "       width=\"24px\">\n",
              "    <path d=\"M0 0h24v24H0V0z\" fill=\"none\"/>\n",
              "    <path d=\"M18.56 5.44l.94 2.06.94-2.06 2.06-.94-2.06-.94-.94-2.06-.94 2.06-2.06.94zm-11 1L8.5 8.5l.94-2.06 2.06-.94-2.06-.94L8.5 2.5l-.94 2.06-2.06.94zm10 10l.94 2.06.94-2.06 2.06-.94-2.06-.94-.94-2.06-.94 2.06-2.06.94z\"/><path d=\"M17.41 7.96l-1.37-1.37c-.4-.4-.92-.59-1.43-.59-.52 0-1.04.2-1.43.59L10.3 9.45l-7.72 7.72c-.78.78-.78 2.05 0 2.83L4 21.41c.39.39.9.59 1.41.59.51 0 1.02-.2 1.41-.59l7.78-7.78 2.81-2.81c.8-.78.8-2.07 0-2.86zM5.41 20L4 18.59l7.72-7.72 1.47 1.35L5.41 20z\"/>\n",
              "  </svg>\n",
              "      </button>\n",
              "      \n",
              "  <style>\n",
              "    .colab-df-container {\n",
              "      display:flex;\n",
              "      flex-wrap:wrap;\n",
              "      gap: 12px;\n",
              "    }\n",
              "\n",
              "    .colab-df-convert {\n",
              "      background-color: #E8F0FE;\n",
              "      border: none;\n",
              "      border-radius: 50%;\n",
              "      cursor: pointer;\n",
              "      display: none;\n",
              "      fill: #1967D2;\n",
              "      height: 32px;\n",
              "      padding: 0 0 0 0;\n",
              "      width: 32px;\n",
              "    }\n",
              "\n",
              "    .colab-df-convert:hover {\n",
              "      background-color: #E2EBFA;\n",
              "      box-shadow: 0px 1px 2px rgba(60, 64, 67, 0.3), 0px 1px 3px 1px rgba(60, 64, 67, 0.15);\n",
              "      fill: #174EA6;\n",
              "    }\n",
              "\n",
              "    [theme=dark] .colab-df-convert {\n",
              "      background-color: #3B4455;\n",
              "      fill: #D2E3FC;\n",
              "    }\n",
              "\n",
              "    [theme=dark] .colab-df-convert:hover {\n",
              "      background-color: #434B5C;\n",
              "      box-shadow: 0px 1px 3px 1px rgba(0, 0, 0, 0.15);\n",
              "      filter: drop-shadow(0px 1px 2px rgba(0, 0, 0, 0.3));\n",
              "      fill: #FFFFFF;\n",
              "    }\n",
              "  </style>\n",
              "\n",
              "      <script>\n",
              "        const buttonEl =\n",
              "          document.querySelector('#df-52389a01-80e2-4a0b-9441-ad5b35971835 button.colab-df-convert');\n",
              "        buttonEl.style.display =\n",
              "          google.colab.kernel.accessAllowed ? 'block' : 'none';\n",
              "\n",
              "        async function convertToInteractive(key) {\n",
              "          const element = document.querySelector('#df-52389a01-80e2-4a0b-9441-ad5b35971835');\n",
              "          const dataTable =\n",
              "            await google.colab.kernel.invokeFunction('convertToInteractive',\n",
              "                                                     [key], {});\n",
              "          if (!dataTable) return;\n",
              "\n",
              "          const docLinkHtml = 'Like what you see? Visit the ' +\n",
              "            '<a target=\"_blank\" href=https://colab.research.google.com/notebooks/data_table.ipynb>data table notebook</a>'\n",
              "            + ' to learn more about interactive tables.';\n",
              "          element.innerHTML = '';\n",
              "          dataTable['output_type'] = 'display_data';\n",
              "          await google.colab.output.renderOutput(dataTable, element);\n",
              "          const docLink = document.createElement('div');\n",
              "          docLink.innerHTML = docLinkHtml;\n",
              "          element.appendChild(docLink);\n",
              "        }\n",
              "      </script>\n",
              "    </div>\n",
              "  </div>\n",
              "  "
            ]
          },
          "metadata": {},
          "execution_count": 76
        }
      ]
    },
    {
      "cell_type": "markdown",
      "source": [
        "## Binary Classification Dataset"
      ],
      "metadata": {
        "id": "slDHgm65rnOF"
      }
    },
    {
      "cell_type": "code",
      "source": [
        "temp = dataset_test['label'].apply(lambda x: any(k in x for k in train_labels)) \n",
        "dataset_test_known = dataset_test[temp]\n",
        "dataset_test_unknown = dataset_test[~temp]"
      ],
      "metadata": {
        "id": "cu8oieIG0apw"
      },
      "execution_count": 77,
      "outputs": []
    },
    {
      "cell_type": "code",
      "source": [
        "print(dataset_test_known)"
      ],
      "metadata": {
        "colab": {
          "base_uri": "https://localhost:8080/"
        },
        "id": "aOfazfn-3Ubu",
        "outputId": "a92f6686-6f7d-4964-ffec-16e640de2e2e"
      },
      "execution_count": 78,
      "outputs": [
        {
          "output_type": "stream",
          "name": "stdout",
          "text": [
            "       duration  src_bytes  dst_bytes  land  wrong_fragment  urgent  hot  \\\n",
            "0             0          0          0     0               0       0    0   \n",
            "1             0          0          0     0               0       0    0   \n",
            "2             2      12983          0     0               0       0    0   \n",
            "5             0        267      14515     0               0       0    0   \n",
            "6             0       1022        387     0               0       0    0   \n",
            "...         ...        ...        ...   ...             ...     ...  ...   \n",
            "22538         0       1032          0     0               0       0    0   \n",
            "22539         0        794        333     0               0       0    0   \n",
            "22540         0        317        938     0               0       0    0   \n",
            "22541         0      54540       8314     0               0       0    2   \n",
            "22542         0         42         42     0               0       0    0   \n",
            "\n",
            "       num_failed_logins  logged_in  num_compromised  ...  x0_REJ  x0_RSTO  \\\n",
            "0                      0          0                0  ...     1.0      0.0   \n",
            "1                      0          0                0  ...     1.0      0.0   \n",
            "2                      0          0                0  ...     0.0      0.0   \n",
            "5                      0          1                0  ...     0.0      0.0   \n",
            "6                      0          1                0  ...     0.0      0.0   \n",
            "...                  ...        ...              ...  ...     ...      ...   \n",
            "22538                  0          0                0  ...     0.0      0.0   \n",
            "22539                  0          1                0  ...     0.0      0.0   \n",
            "22540                  0          1                0  ...     0.0      0.0   \n",
            "22541                  0          1                1  ...     0.0      0.0   \n",
            "22542                  0          0                0  ...     0.0      0.0   \n",
            "\n",
            "       x0_RSTOS0  x0_RSTR  x0_S0  x0_S1  x0_S2  x0_S3  x0_SF  x0_SH  \n",
            "0            0.0      0.0    0.0    0.0    0.0    0.0    0.0    0.0  \n",
            "1            0.0      0.0    0.0    0.0    0.0    0.0    0.0    0.0  \n",
            "2            0.0      0.0    0.0    0.0    0.0    0.0    1.0    0.0  \n",
            "5            0.0      0.0    0.0    0.0    0.0    0.0    1.0    0.0  \n",
            "6            0.0      0.0    0.0    0.0    0.0    0.0    1.0    0.0  \n",
            "...          ...      ...    ...    ...    ...    ...    ...    ...  \n",
            "22538        0.0      0.0    0.0    0.0    0.0    0.0    1.0    0.0  \n",
            "22539        0.0      0.0    0.0    0.0    0.0    0.0    1.0    0.0  \n",
            "22540        0.0      0.0    0.0    0.0    0.0    0.0    1.0    0.0  \n",
            "22541        0.0      0.0    0.0    0.0    0.0    0.0    1.0    0.0  \n",
            "22542        0.0      0.0    0.0    0.0    0.0    0.0    1.0    0.0  \n",
            "\n",
            "[18794 rows x 123 columns]\n"
          ]
        }
      ]
    },
    {
      "cell_type": "code",
      "source": [
        "print(dataset_test_unknown)"
      ],
      "metadata": {
        "colab": {
          "base_uri": "https://localhost:8080/"
        },
        "id": "C3jng1uF9GlN",
        "outputId": "283d7589-1339-44d0-a67e-91566111cc2c"
      },
      "execution_count": 79,
      "outputs": [
        {
          "output_type": "stream",
          "name": "stdout",
          "text": [
            "       duration  src_bytes  dst_bytes  land  wrong_fragment  urgent  hot  \\\n",
            "3             0         20          0     0               0       0    0   \n",
            "4             1          0         15     0               0       0    0   \n",
            "10            0          0          0     0               0       0    0   \n",
            "21            0          0          0     0               0       0    0   \n",
            "30          805      76944          1     0               0       0    0   \n",
            "...         ...        ...        ...   ...             ...     ...  ...   \n",
            "22517      7498          0         44     0               0       0    0   \n",
            "22519      8209          0         15     0               0       0    0   \n",
            "22525      2064      55744          0     0               0       0    0   \n",
            "22537         1       2599        293     0               0       0    0   \n",
            "22543         0          0          0     0               0       0    0   \n",
            "\n",
            "       num_failed_logins  logged_in  num_compromised  ...  x0_REJ  x0_RSTO  \\\n",
            "3                      0          0                0  ...     0.0      0.0   \n",
            "4                      0          0                0  ...     0.0      1.0   \n",
            "10                     0          0                0  ...     0.0      0.0   \n",
            "21                     0          0                0  ...     0.0      0.0   \n",
            "30                     0          1                0  ...     0.0      0.0   \n",
            "...                  ...        ...              ...  ...     ...      ...   \n",
            "22517                  0          0                0  ...     0.0      0.0   \n",
            "22519                  0          0                0  ...     0.0      0.0   \n",
            "22525                  0          1                0  ...     0.0      0.0   \n",
            "22537                  0          1                0  ...     0.0      0.0   \n",
            "22543                  0          0                0  ...     1.0      0.0   \n",
            "\n",
            "       x0_RSTOS0  x0_RSTR  x0_S0  x0_S1  x0_S2  x0_S3  x0_SF  x0_SH  \n",
            "3            0.0      0.0    0.0    0.0    0.0    0.0    1.0    0.0  \n",
            "4            0.0      0.0    0.0    0.0    0.0    0.0    0.0    0.0  \n",
            "10           0.0      0.0    0.0    0.0    0.0    0.0    1.0    0.0  \n",
            "21           0.0      0.0    1.0    0.0    0.0    0.0    0.0    0.0  \n",
            "30           0.0      1.0    0.0    0.0    0.0    0.0    0.0    0.0  \n",
            "...          ...      ...    ...    ...    ...    ...    ...    ...  \n",
            "22517        0.0      0.0    0.0    0.0    0.0    0.0    1.0    0.0  \n",
            "22519        0.0      0.0    0.0    0.0    0.0    0.0    1.0    0.0  \n",
            "22525        0.0      1.0    0.0    0.0    0.0    0.0    0.0    0.0  \n",
            "22537        0.0      0.0    0.0    0.0    0.0    0.0    1.0    0.0  \n",
            "22543        0.0      0.0    0.0    0.0    0.0    0.0    0.0    0.0  \n",
            "\n",
            "[3750 rows x 123 columns]\n"
          ]
        }
      ]
    },
    {
      "cell_type": "code",
      "source": [
        ""
      ],
      "metadata": {
        "id": "MEEcZ98DYINO"
      },
      "execution_count": 79,
      "outputs": []
    },
    {
      "cell_type": "markdown",
      "source": [
        "Split features and labels"
      ],
      "metadata": {
        "id": "_NeQF_AgAE6K"
      }
    },
    {
      "cell_type": "code",
      "source": [
        "x_train = dataset_train.drop('label',1)\n",
        "col_names = x_train.columns\n",
        "y_train = dataset_train.label\n",
        "# replace all types of attacks , to value 'attack' \n",
        "y_train = np.where(y_train=='normal', 'normal', 'attack')\n",
        "y_train = np.where(y_train=='normal', 0,1)"
      ],
      "metadata": {
        "id": "jyy6-sIBALMh"
      },
      "execution_count": 80,
      "outputs": []
    },
    {
      "cell_type": "code",
      "source": [
        "x_test = dataset_test.drop('label',1)\n",
        "y_test = dataset_test.label\n",
        "y_test = np.where(y_test=='normal', 'normal', 'attack')\n",
        "y_test = np.where(y_test=='normal', 0,1)\n"
      ],
      "metadata": {
        "id": "-f5U3wfLqxGG"
      },
      "execution_count": 81,
      "outputs": []
    },
    {
      "cell_type": "code",
      "source": [
        "x_test_known = dataset_test_known.drop('label',1)\n",
        "y_test_known = dataset_test_known.label\n",
        "y_test_known = np.where(y_test_known=='normal', 'normal', 'attack')\n",
        "y_test_known = np.where(y_test_known=='normal', 0,1)\n",
        "\n",
        "x_test_unknown = dataset_test_unknown.drop('label',1)\n",
        "y_test_unknown = dataset_test_unknown.label\n",
        "y_test_unknown = np.where(y_test_unknown=='normal', 'normal', 'attack')\n",
        "y_test_unknown = np.where(y_test_unknown=='normal', 0,1)"
      ],
      "metadata": {
        "id": "UUb1LQIEAUN_"
      },
      "execution_count": 82,
      "outputs": []
    },
    {
      "cell_type": "markdown",
      "source": [
        "Scaling"
      ],
      "metadata": {
        "id": "Jm01DwCB_eS_"
      }
    },
    {
      "cell_type": "code",
      "source": [
        "scaler = preprocessing.MinMaxScaler()\n",
        "scaler.fit(x_train)\n",
        "x_train = scaler.transform(x_train)\n",
        "x_test = scaler.transform(x_test)\n",
        "x_test_known = scaler.transform(x_test_known)\n",
        "x_test_unknown = scaler.transform(x_test_unknown)"
      ],
      "metadata": {
        "id": "rjgOxiKZ_fnF"
      },
      "execution_count": 83,
      "outputs": []
    },
    {
      "cell_type": "markdown",
      "source": [
        "## Save initial dataset csv"
      ],
      "metadata": {
        "id": "WOnPCj99DLik"
      }
    },
    {
      "cell_type": "code",
      "source": [
        "x_train = pd.DataFrame(x_train)\n",
        "x_train.columns= col_names\n",
        "y_train = pd.DataFrame(y_train)\n",
        "y_train.columns = ['label']\n",
        "train_frame = [x_train,y_train]\n",
        "train_final_binary = pd.concat(train_frame,axis=1)\n",
        "train_final_binary.to_csv('train_binary.csv',index = False)"
      ],
      "metadata": {
        "id": "ykZkPqkxDNiI"
      },
      "execution_count": 84,
      "outputs": []
    },
    {
      "cell_type": "code",
      "source": [
        "x_test = pd.DataFrame(x_test)\n",
        "x_test.columns= col_names\n",
        "y_test = pd.DataFrame(y_test)\n",
        "y_test.columns = ['label']\n",
        "test_frame = [x_test,y_test]\n",
        "test_binary = pd.concat(test_frame,axis=1)\n",
        "test_binary.to_csv('test_binary.csv',index = False)"
      ],
      "metadata": {
        "id": "X6KSAHNIq9CY"
      },
      "execution_count": 85,
      "outputs": []
    },
    {
      "cell_type": "code",
      "source": [
        "x_test_known = pd.DataFrame(x_test_known)\n",
        "x_test_known.columns= col_names\n",
        "y_test_known = pd.DataFrame(y_test_known)\n",
        "y_test_known.columns = ['label']\n",
        "test_frame = [x_test_known,y_test_known]\n",
        "test_known_binary = pd.concat(test_frame,axis=1)\n",
        "test_known_binary.to_csv('test_known_binary.csv',index = False)"
      ],
      "metadata": {
        "id": "v3MNdFN7DyGE"
      },
      "execution_count": 86,
      "outputs": []
    },
    {
      "cell_type": "code",
      "source": [
        "x_test_unknown = pd.DataFrame(x_test_unknown)\n",
        "x_test_unknown.columns= col_names\n",
        "y_test_unknown = pd.DataFrame(y_test_unknown)\n",
        "y_test_unknown.columns = ['label']\n",
        "test_frame = [pd.DataFrame(x_test_unknown),pd.DataFrame(y_test_unknown)]\n",
        "test_unknown_binary = pd.concat(test_frame,axis=1)\n",
        "test_unknown_binary.to_csv('test_unknown_binary.csv',index = False)"
      ],
      "metadata": {
        "id": "Wwxshq7ZD-XQ"
      },
      "execution_count": 87,
      "outputs": []
    },
    {
      "cell_type": "markdown",
      "source": [
        "## PCA"
      ],
      "metadata": {
        "id": "gLTdF84QZfVW"
      }
    },
    {
      "cell_type": "code",
      "source": [
        "from sklearn.decomposition import PCA # import pca"
      ],
      "metadata": {
        "id": "0wRnCZr9ZgmQ"
      },
      "execution_count": 88,
      "outputs": []
    },
    {
      "cell_type": "code",
      "source": [
        "# plot the variance explanation of the 29 components needed to cover 95% initial data variance \n",
        "pca = PCA(None)\n",
        "pca.fit(x_train)\n",
        "components = len(pca.explained_variance_ratio_)\n",
        "plt.plot(range(1,components+1), \n",
        "np.cumsum(pca.explained_variance_ratio_ * 100))\n",
        "plt.xlabel(\"Number of components\")\n",
        "plt.ylabel(\"Explained variance (%)\")"
      ],
      "metadata": {
        "colab": {
          "base_uri": "https://localhost:8080/",
          "height": 296
        },
        "id": "OZm6ZqeGkeis",
        "outputId": "f6c6dc64-da3d-4d74-8f1f-69419134da28"
      },
      "execution_count": 89,
      "outputs": [
        {
          "output_type": "execute_result",
          "data": {
            "text/plain": [
              "Text(0, 0.5, 'Explained variance (%)')"
            ]
          },
          "metadata": {},
          "execution_count": 89
        },
        {
          "output_type": "display_data",
          "data": {
            "text/plain": [
              "<Figure size 432x288 with 1 Axes>"
            ],
            "image/png": "[encoded data removed]"
          },
          "metadata": {
            "needs_background": "light"
          }
        }
      ]
    },
    {
      "cell_type": "code",
      "source": [
        "# Make an instance of the Model\n",
        "pca = PCA(.95) # 0.95: means we want 95% of data variance"
      ],
      "metadata": {
        "id": "pgkZ7E38kxMd"
      },
      "execution_count": 90,
      "outputs": []
    },
    {
      "cell_type": "code",
      "source": [
        "pca.fit(x_train)"
      ],
      "metadata": {
        "colab": {
          "base_uri": "https://localhost:8080/"
        },
        "id": "8BaxffrMk0u6",
        "outputId": "0c2d2004-4d23-455f-93b1-32cd7abe5489"
      },
      "execution_count": 91,
      "outputs": [
        {
          "output_type": "execute_result",
          "data": {
            "text/plain": [
              "PCA(n_components=0.95)"
            ]
          },
          "metadata": {},
          "execution_count": 91
        }
      ]
    },
    {
      "cell_type": "code",
      "source": [
        "print(pca.n_components_)"
      ],
      "metadata": {
        "colab": {
          "base_uri": "https://localhost:8080/"
        },
        "id": "tKNzhjSok5As",
        "outputId": "09bd0bd3-a3a4-4612-8b36-65599e8ea601"
      },
      "execution_count": 92,
      "outputs": [
        {
          "output_type": "stream",
          "name": "stdout",
          "text": [
            "29\n"
          ]
        }
      ]
    },
    {
      "cell_type": "code",
      "source": [
        "x_train_pca = pca.transform(x_train)  # perform pca\n",
        "x_testall= pca.transform(x_test)\n",
        "x_test_pca= pca.transform(x_test_known)\n",
        "x_test_un_pca= pca.transform(x_test_unknown)"
      ],
      "metadata": {
        "id": "IJ04E-LQlQpj"
      },
      "execution_count": 93,
      "outputs": []
    },
    {
      "cell_type": "code",
      "source": [
        "#min max scale again\n",
        "scaler.fit(x_train_pca)\n",
        "x_train_pca = scaler.transform(x_train_pca)\n",
        "x_testall = scaler.transform(x_testall)\n",
        "x_test_pca = scaler.transform(x_test_pca)\n",
        "x_test_un_pca = scaler.transform(x_test_un_pca)"
      ],
      "metadata": {
        "id": "pE1DfD6vu6a4"
      },
      "execution_count": 94,
      "outputs": []
    },
    {
      "cell_type": "code",
      "source": [
        "x_train_pca = pd.DataFrame(x_train_pca)\n",
        "y_train = pd.DataFrame(y_train)\n",
        "y_train.columns = ['label']\n",
        "train_frame = [x_train_pca,y_train]\n",
        "train_final_pca = pd.concat(train_frame,axis=1)\n",
        "train_final_pca.to_csv('train_pca.csv',index = False)"
      ],
      "metadata": {
        "id": "hAYZDPEmlk60"
      },
      "execution_count": 95,
      "outputs": []
    },
    {
      "cell_type": "code",
      "source": [
        "x_testall = pd.DataFrame(x_testall)\n",
        "y_test = pd.DataFrame(y_test)\n",
        "y_test.columns = ['label']\n",
        "test_frame = [x_testall,y_test]\n",
        "testall = pd.concat(test_frame,axis=1)\n",
        "testall.to_csv('test_pca.csv',index = False)"
      ],
      "metadata": {
        "id": "HAZ_ZzEGrQi7"
      },
      "execution_count": 96,
      "outputs": []
    },
    {
      "cell_type": "code",
      "source": [
        "x_test_pca = pd.DataFrame(x_test_pca)\n",
        "y_test_known = pd.DataFrame(y_test_known)\n",
        "y_test_known.columns = ['label']\n",
        "test_frame = [x_test_pca,y_test_known]\n",
        "test_known_pca = pd.concat(test_frame,axis=1)\n",
        "test_known_pca.to_csv('test_known_pca.csv',index = False)"
      ],
      "metadata": {
        "id": "ialIDis3lvda"
      },
      "execution_count": 97,
      "outputs": []
    },
    {
      "cell_type": "code",
      "source": [
        "x_test_un_pca = pd.DataFrame(x_test_un_pca)\n",
        "y_test_unknown = pd.DataFrame(y_test_unknown)\n",
        "y_test_unknown.columns = ['label']\n",
        "test_frame = [x_test_un_pca,y_test_unknown]\n",
        "test_unknown_pca = pd.concat(test_frame,axis=1)\n",
        "test_unknown_pca.to_csv('test_unknown_pca.csv',index = False)"
      ],
      "metadata": {
        "id": "fX6l-QpqmOhY"
      },
      "execution_count": 98,
      "outputs": []
    },
    {
      "cell_type": "markdown",
      "source": [
        "## Random Forest"
      ],
      "metadata": {
        "id": "v9UE-4vom9sJ"
      }
    },
    {
      "cell_type": "code",
      "source": [
        "from sklearn.ensemble import RandomForestClassifier\n",
        "\n",
        "rf = RandomForestClassifier(n_estimators=100, max_depth=3,\n",
        "                                 bootstrap=True, n_jobs=-1,\n",
        "                                 random_state=0)\n",
        "rf.fit(x_train.values, y_train.values.ravel())\n",
        "\n",
        "feature_imp = pd.Series(rf.feature_importances_, \n",
        "                        index=x_train.columns).sort_values(ascending=False)"
      ],
      "metadata": {
        "id": "uHQ9vyK_nCDJ"
      },
      "execution_count": 99,
      "outputs": []
    },
    {
      "cell_type": "code",
      "source": [
        "for i in range(0,len(feature_imp)):\n",
        "    print(i,end =\" \")\n",
        "    print(feature_imp.index[i],end = \": \")\n",
        "    print(feature_imp[i])"
      ],
      "metadata": {
        "id": "PD0GDqPhoGYH",
        "colab": {
          "base_uri": "https://localhost:8080/"
        },
        "outputId": "f117c5dd-f73c-49b5-96de-160c37e3e4b6"
      },
      "execution_count": 100,
      "outputs": [
        {
          "output_type": "stream",
          "name": "stdout",
          "text": [
            "0 same_srv_rate: 0.10797313669892639\n",
            "1 srv_serror_rate: 0.0927994949619933\n",
            "2 diff_srv_rate: 0.0919401117549538\n",
            "3 x0_SF: 0.08394789689890068\n",
            "4 logged_in: 0.08276537445018615\n",
            "5 dst_host_srv_serror_rate: 0.0566509307222697\n",
            "6 dst_host_same_srv_rate: 0.055308757751561445\n",
            "7 dst_host_diff_srv_rate: 0.05349167583734105\n",
            "8 serror_rate: 0.041709859298370816\n",
            "9 dst_host_srv_count: 0.038481757797788944\n",
            "10 x0_S0: 0.03538315906808305\n",
            "11 count: 0.02954813351125355\n",
            "12 dst_host_same_src_port_rate: 0.027738478359165625\n",
            "13 x0_private: 0.021562332300889792\n",
            "14 x0_icmp: 0.01974595284209636\n",
            "15 x0_http: 0.017885054781750755\n",
            "16 dst_host_serror_rate: 0.01784472198197527\n",
            "17 dst_host_srv_diff_host_rate: 0.015608223289193862\n",
            "18 rerror_rate: 0.014108252845520879\n",
            "19 dst_host_srv_rerror_rate: 0.012530129816415343\n",
            "20 x0_eco_i: 0.012252985670118401\n",
            "21 srv_diff_host_rate: 0.009408255636407046\n",
            "22 x0_domain_u: 0.008236251443901053\n",
            "23 x0_udp: 0.007993057056791587\n",
            "24 x0_tcp: 0.006815996658243573\n",
            "25 dst_host_count: 0.006776123714575865\n",
            "26 dst_host_rerror_rate: 0.006036460719947801\n",
            "27 srv_count: 0.005824540472246318\n",
            "28 x0_ecr_i: 0.004644284818493308\n",
            "29 srv_rerror_rate: 0.004339090892364254\n",
            "30 duration: 0.0024924531368180703\n",
            "31 hot: 0.001645841884960631\n",
            "32 src_bytes: 0.0014602921995868923\n",
            "33 x0_RSTR: 0.001050172174613652\n",
            "34 num_compromised: 0.0006831392264888591\n",
            "35 x0_ftp_data: 0.0006539677336630319\n",
            "36 wrong_fragment: 0.0006492946350369315\n",
            "37 x0_REJ: 0.0005864879191050895\n",
            "38 x0_RSTO: 0.00042785110505527956\n",
            "39 dst_bytes: 0.0003099197118359971\n",
            "40 x0_urp_i: 0.00019321120603448948\n",
            "41 x0_other: 0.00015282681093761383\n",
            "42 x0_S1: 0.00010287847791138265\n",
            "43 is_guest_login: 4.914146754592196e-05\n",
            "44 x0_courier: 3.9673248180592875e-05\n",
            "45 x0_ftp: 2.882511778527574e-05\n",
            "46 x0_IRC: 2.3401920186351682e-05\n",
            "47 x0_finger: 1.915553411687271e-05\n",
            "48 x0_X11: 1.3849538284942128e-05\n",
            "49 x0_Z39_50: 1.3493332297387595e-05\n",
            "50 num_failed_logins: 1.0828401353861392e-05\n",
            "51 x0_RSTOS0: 1.0555418136582804e-05\n",
            "52 x0_ntp_u: 9.722500456321942e-06\n",
            "53 x0_S2: 5.748114592670266e-06\n",
            "54 num_file_creations: 5.549135299082581e-06\n",
            "55 x0_urh_i: 5.472796930317406e-06\n",
            "56 root_shell: 2.2684467799624506e-06\n",
            "57 su_attempted: 1.5241603624110583e-06\n",
            "58 num_root: 1.4169509233415115e-06\n",
            "59 x0_http_443: 5.543771562532382e-07\n",
            "60 x0_auth: 1.1618222472505678e-09\n",
            "61 x0_uucp: 1.0401573409594804e-10\n",
            "62 x0_smtp: 0.0\n",
            "63 x0_shell: 0.0\n",
            "64 x0_rje: 0.0\n",
            "65 x0_remote_job: 0.0\n",
            "66 x0_red_i: 0.0\n",
            "67 x0_vmnet: 0.0\n",
            "68 urgent: 0.0\n",
            "69 x0_ssh: 0.0\n",
            "70 x0_printer: 0.0\n",
            "71 x0_pop_3: 0.0\n",
            "72 x0_whois: 0.0\n",
            "73 x0_sql_net: 0.0\n",
            "74 x0_systat: 0.0\n",
            "75 x0_sunrpc: 0.0\n",
            "76 x0_supdup: 0.0\n",
            "77 x0_uucp_path: 0.0\n",
            "78 x0_telnet: 0.0\n",
            "79 x0_tftp_u: 0.0\n",
            "80 x0_OTH: 0.0\n",
            "81 x0_time: 0.0\n",
            "82 x0_S3: 0.0\n",
            "83 x0_pop_2: 0.0\n",
            "84 land: 0.0\n",
            "85 x0_tim_i: 0.0\n",
            "86 x0_netbios_ns: 0.0\n",
            "87 x0_pm_dump: 0.0\n",
            "88 x0_daytime: 0.0\n",
            "89 x0_gopher: 0.0\n",
            "90 x0_exec: 0.0\n",
            "91 x0_efs: 0.0\n",
            "92 x0_echo: 0.0\n",
            "93 x0_domain: 0.0\n",
            "94 x0_discard: 0.0\n",
            "95 x0_ctf: 0.0\n",
            "96 x0_hostnames: 0.0\n",
            "97 x0_csnet_ns: 0.0\n",
            "98 x0_bgp: 0.0\n",
            "99 x0_aol: 0.0\n",
            "100 num_shells: 0.0\n",
            "101 num_access_files: 0.0\n",
            "102 num_outbound_cmds: 0.0\n",
            "103 x0_harvest: 0.0\n",
            "104 x0_http_2784: 0.0\n",
            "105 x0_nntp: 0.0\n",
            "106 x0_mtp: 0.0\n",
            "107 x0_nnsp: 0.0\n",
            "108 x0_netstat: 0.0\n",
            "109 x0_netbios_ssn: 0.0\n",
            "110 is_host_login: 0.0\n",
            "111 x0_netbios_dgm: 0.0\n",
            "112 x0_name: 0.0\n",
            "113 x0_login: 0.0\n",
            "114 x0_http_8001: 0.0\n",
            "115 x0_link: 0.0\n",
            "116 x0_ldap: 0.0\n",
            "117 x0_kshell: 0.0\n",
            "118 x0_klogin: 0.0\n",
            "119 x0_iso_tsap: 0.0\n",
            "120 x0_imap4: 0.0\n",
            "121 x0_SH: 0.0\n"
          ]
        }
      ]
    },
    {
      "cell_type": "markdown",
      "source": [
        "RF0.05"
      ],
      "metadata": {
        "id": "Nz5XBYo7nGYi"
      }
    },
    {
      "cell_type": "code",
      "source": [
        "new_features = [] # list containing the new features names\n",
        "for i in range(0,len(feature_imp)): # for for the range of all features\n",
        "    if feature_imp[i] > 0.05: # check if importance is over the threshold\n",
        "        new_features.append(feature_imp.index[i])\n",
        "print(new_features)"
      ],
      "metadata": {
        "colab": {
          "base_uri": "https://localhost:8080/"
        },
        "id": "GhkwuuueoWbB",
        "outputId": "33048b66-c0dd-4f2b-f939-11851641b430"
      },
      "execution_count": 101,
      "outputs": [
        {
          "output_type": "stream",
          "name": "stdout",
          "text": [
            "['same_srv_rate', 'srv_serror_rate', 'diff_srv_rate', 'x0_SF', 'logged_in', 'dst_host_srv_serror_rate', 'dst_host_same_srv_rate', 'dst_host_diff_srv_rate']\n"
          ]
        }
      ]
    },
    {
      "cell_type": "code",
      "source": [
        "x_train_05 = x_train[new_features] #cast new dataframes\n",
        "x_testall = x_test[new_features]\n",
        "x_test_05 = x_test_known[new_features]\n",
        "x_test_05_un = x_test_unknown[new_features]"
      ],
      "metadata": {
        "id": "pv5tVyUwoaz7"
      },
      "execution_count": 102,
      "outputs": []
    },
    {
      "cell_type": "code",
      "source": [
        "x_train_05 = pd.DataFrame(x_train_05)\n",
        "x_train_05.columns= new_features\n",
        "y_train = pd.DataFrame(y_train)\n",
        "y_train.columns = ['label']\n",
        "train_frame = [x_train_05,y_train]\n",
        "train_final_rf05 = pd.concat(train_frame,axis=1)\n",
        "train_final_rf05.to_csv('train_rf05.csv',index = False)"
      ],
      "metadata": {
        "id": "Lpr44x5-o6MI"
      },
      "execution_count": 103,
      "outputs": []
    },
    {
      "cell_type": "code",
      "source": [
        "x_testall = pd.DataFrame(x_testall)\n",
        "x_testall.columns= new_features\n",
        "y_test = pd.DataFrame(y_test)\n",
        "y_test.columns = ['label']\n",
        "test_frame = [x_testall,y_test]\n",
        "test_rf05 = pd.concat(test_frame,axis=1)\n",
        "test_rf05.to_csv('test_rf05.csv',index = False)"
      ],
      "metadata": {
        "id": "jlOlJp4VrvNh"
      },
      "execution_count": 104,
      "outputs": []
    },
    {
      "cell_type": "code",
      "source": [
        "x_test_05 = pd.DataFrame(x_test_05)\n",
        "x_test_05.columns= new_features\n",
        "y_test_known = pd.DataFrame(y_test_known)\n",
        "y_test_known.columns = ['label']\n",
        "test_frame = [x_test_05,y_test_known]\n",
        "test_known_rf05 = pd.concat(test_frame,axis=1)\n",
        "test_known_rf05.to_csv('test_known_rf05.csv',index = False)"
      ],
      "metadata": {
        "id": "UWf7wLKvo6eb"
      },
      "execution_count": 105,
      "outputs": []
    },
    {
      "cell_type": "code",
      "source": [
        "x_test_05_un = pd.DataFrame(x_test_05_un)\n",
        "x_test_05_un.columns= new_features\n",
        "y_test_unknown = pd.DataFrame(y_test_unknown)\n",
        "y_test_unknown.columns = ['label']\n",
        "test_frame = [x_test_05_un,y_test_unknown]\n",
        "test_unknown_rf05 = pd.concat(test_frame,axis=1)\n",
        "test_unknown_rf05.to_csv('test_unknown_rf05.csv',index = False)"
      ],
      "metadata": {
        "id": "CwyKBEoQo6xW"
      },
      "execution_count": 106,
      "outputs": []
    },
    {
      "cell_type": "markdown",
      "source": [
        "RF0.005"
      ],
      "metadata": {
        "id": "q6kOtrm9nH3W"
      }
    },
    {
      "cell_type": "code",
      "source": [
        "new_features = [] # list containing the new features names\n",
        "for i in range(0,len(feature_imp)): # for for the range of all features\n",
        "    if feature_imp[i] > 0.005: # check if importance is over the threshold\n",
        "        new_features.append(feature_imp.index[i])\n",
        "print(new_features)"
      ],
      "metadata": {
        "colab": {
          "base_uri": "https://localhost:8080/"
        },
        "id": "5_2BZiWdn7CB",
        "outputId": "e659168a-c575-461a-d98d-65379f2cd29f"
      },
      "execution_count": 107,
      "outputs": [
        {
          "output_type": "stream",
          "name": "stdout",
          "text": [
            "['same_srv_rate', 'srv_serror_rate', 'diff_srv_rate', 'x0_SF', 'logged_in', 'dst_host_srv_serror_rate', 'dst_host_same_srv_rate', 'dst_host_diff_srv_rate', 'serror_rate', 'dst_host_srv_count', 'x0_S0', 'count', 'dst_host_same_src_port_rate', 'x0_private', 'x0_icmp', 'x0_http', 'dst_host_serror_rate', 'dst_host_srv_diff_host_rate', 'rerror_rate', 'dst_host_srv_rerror_rate', 'x0_eco_i', 'srv_diff_host_rate', 'x0_domain_u', 'x0_udp', 'x0_tcp', 'dst_host_count', 'dst_host_rerror_rate', 'srv_count']\n"
          ]
        }
      ]
    },
    {
      "cell_type": "code",
      "source": [
        "x_train_005 = x_train[new_features] #cast new dataframes\n",
        "x_testall = x_test[new_features]\n",
        "x_test_005 = x_test_known[new_features]\n",
        "x_test_005_un = x_test_unknown[new_features]"
      ],
      "metadata": {
        "id": "39znwsSooy1V"
      },
      "execution_count": 108,
      "outputs": []
    },
    {
      "cell_type": "code",
      "source": [
        "x_train_005 = pd.DataFrame(x_train_005)\n",
        "x_train_005.columns= new_features\n",
        "y_train = pd.DataFrame(y_train)\n",
        "y_train.columns = ['label']\n",
        "train_frame = [x_train_005,y_train]\n",
        "train_final_rf005 = pd.concat(train_frame,axis=1)\n",
        "train_final_rf005.to_csv('train_rf005.csv',index = False)"
      ],
      "metadata": {
        "id": "bdQ-RRd8o7Uj"
      },
      "execution_count": 109,
      "outputs": []
    },
    {
      "cell_type": "code",
      "source": [
        "x_testall = pd.DataFrame(x_testall)\n",
        "x_testall.columns= new_features\n",
        "y_test = pd.DataFrame(y_test)\n",
        "y_test.columns = ['label']\n",
        "test_frame = [x_testall,y_test]\n",
        "test_rf005 = pd.concat(test_frame,axis=1)\n",
        "test_rf005.to_csv('test_rf005.csv',index = False)"
      ],
      "metadata": {
        "id": "R8waCYGCr8-H"
      },
      "execution_count": 110,
      "outputs": []
    },
    {
      "cell_type": "code",
      "source": [
        "x_test_005 = pd.DataFrame(x_test_005)\n",
        "x_test_005.columns= new_features\n",
        "y_test_known = pd.DataFrame(y_test_known)\n",
        "y_test_known.columns = ['label']\n",
        "test_frame = [x_test_005,y_test_known]\n",
        "test_known_rf005 = pd.concat(test_frame,axis=1)\n",
        "test_known_rf005.to_csv('test_known_rf005.csv',index = False)"
      ],
      "metadata": {
        "id": "9vBeXdXBo7l8"
      },
      "execution_count": 111,
      "outputs": []
    },
    {
      "cell_type": "code",
      "source": [
        "x_test_005_un = pd.DataFrame(x_test_005_un)\n",
        "x_test_005_un.columns= new_features\n",
        "y_test_unknown = pd.DataFrame(y_test_unknown)\n",
        "y_test_unknown.columns = ['label']\n",
        "test_frame = [x_test_005_un,y_test_unknown]\n",
        "test_unknown_rf005 = pd.concat(test_frame,axis=1)\n",
        "test_unknown_rf005.to_csv('test_unknown_rf005.csv',index = False)"
      ],
      "metadata": {
        "id": "as4k2kFHo75L"
      },
      "execution_count": 112,
      "outputs": []
    },
    {
      "cell_type": "markdown",
      "source": [
        "## ANOVA Testing"
      ],
      "metadata": {
        "id": "A32OMhFYnKWy"
      }
    },
    {
      "cell_type": "code",
      "source": [
        "from sklearn.feature_selection import SelectPercentile, f_classif\n",
        "np.seterr(divide='ignore', invalid='ignore');\n",
        "selector=SelectPercentile(f_classif, percentile=10)\n",
        "x_train_new = selector.fit_transform(x_train,y_train)\n",
        "x_train_new.shape"
      ],
      "metadata": {
        "colab": {
          "base_uri": "https://localhost:8080/"
        },
        "id": "Zl4AVeWbnUSS",
        "outputId": "d6d82066-7806-4d04-f084-95b216e1926d"
      },
      "execution_count": 113,
      "outputs": [
        {
          "output_type": "execute_result",
          "data": {
            "text/plain": [
              "(125973, 13)"
            ]
          },
          "metadata": {},
          "execution_count": 113
        }
      ]
    },
    {
      "cell_type": "code",
      "source": [
        "true=selector.get_support()\n",
        "newcolindex=[i for i, x in enumerate(true) if x]\n",
        "newcolname=list(col_names[i] for i in newcolindex)\n",
        "newcolname"
      ],
      "metadata": {
        "colab": {
          "base_uri": "https://localhost:8080/"
        },
        "id": "F7AH5li_zOuc",
        "outputId": "de89c774-6220-42d2-80f5-ef77932180db"
      },
      "execution_count": 114,
      "outputs": [
        {
          "output_type": "execute_result",
          "data": {
            "text/plain": [
              "['logged_in',\n",
              " 'count',\n",
              " 'serror_rate',\n",
              " 'srv_serror_rate',\n",
              " 'same_srv_rate',\n",
              " 'dst_host_srv_count',\n",
              " 'dst_host_same_srv_rate',\n",
              " 'dst_host_serror_rate',\n",
              " 'dst_host_srv_serror_rate',\n",
              " 'x0_http',\n",
              " 'x0_private',\n",
              " 'x0_S0',\n",
              " 'x0_SF']"
            ]
          },
          "metadata": {},
          "execution_count": 114
        }
      ]
    },
    {
      "cell_type": "code",
      "source": [
        "x_train_anova = x_train[newcolname] #cast new dataframes\n",
        "x_testall = x_test[newcolname]\n",
        "x_test_anova = x_test_known[newcolname]\n",
        "x_test_anova_un = x_test_unknown[newcolname]"
      ],
      "metadata": {
        "id": "xBNOs2mizg6t"
      },
      "execution_count": 115,
      "outputs": []
    },
    {
      "cell_type": "code",
      "source": [
        "x_train_anova = pd.DataFrame(x_train_anova)\n",
        "x_train_anova.columns= newcolname\n",
        "y_train = pd.DataFrame(y_train)\n",
        "y_train.columns = ['label']\n",
        "train_frame = [x_train_anova,y_train]\n",
        "train_final_anova = pd.concat(train_frame,axis=1)\n",
        "train_final_anova.to_csv('train_anova.csv',index = False)"
      ],
      "metadata": {
        "id": "M9fa1eJCzp-M"
      },
      "execution_count": 116,
      "outputs": []
    },
    {
      "cell_type": "code",
      "source": [
        "x_testall = pd.DataFrame(x_testall)\n",
        "x_testall.columns= newcolname\n",
        "y_test = pd.DataFrame(y_test)\n",
        "y_test.columns = ['label']\n",
        "test_frame = [x_testall,y_test]\n",
        "test_anova = pd.concat(test_frame,axis=1)\n",
        "test_anova.to_csv('test_anova.csv',index = False)"
      ],
      "metadata": {
        "id": "vf3hEN1EsI1k"
      },
      "execution_count": 117,
      "outputs": []
    },
    {
      "cell_type": "code",
      "source": [
        "x_test_anova = pd.DataFrame(x_test_anova)\n",
        "x_test_anova.columns= newcolname\n",
        "y_test_known = pd.DataFrame(y_test_known)\n",
        "y_test_known.columns = ['label']\n",
        "test_frame = [x_test_anova,y_test_known]\n",
        "test_known_anova = pd.concat(test_frame,axis=1)\n",
        "test_known_anova.to_csv('test_known_anova.csv',index = False)"
      ],
      "metadata": {
        "id": "DtdELoZ6zqKr"
      },
      "execution_count": 118,
      "outputs": []
    },
    {
      "cell_type": "code",
      "source": [
        "x_test_anova_un = pd.DataFrame(x_test_anova_un)\n",
        "x_test_anova_un.columns= newcolname\n",
        "y_test_unknown = pd.DataFrame(y_test_unknown)\n",
        "y_test_unknown.columns = ['label']\n",
        "test_frame = [x_test_anova_un,y_test_unknown]\n",
        "test_unknown_anova = pd.concat(test_frame,axis=1)\n",
        "test_unknown_anova.to_csv('test_unknown_anova.csv',index = False)"
      ],
      "metadata": {
        "id": "g_3q8pZBzqY6"
      },
      "execution_count": 119,
      "outputs": []
    }
  ]
}