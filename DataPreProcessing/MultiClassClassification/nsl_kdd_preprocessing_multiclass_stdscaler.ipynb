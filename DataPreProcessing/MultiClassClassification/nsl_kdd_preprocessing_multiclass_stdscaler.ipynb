{
  "nbformat": 4,
  "nbformat_minor": 0,
  "metadata": {
    "colab": {
      "name": "nsl_kdd_preprocessing_multiclass_stdscaler.ipynb",
      "provenance": [],
      "collapsed_sections": []
    },
    "kernelspec": {
      "name": "python3",
      "display_name": "Python 3"
    },
    "language_info": {
      "name": "python"
    }
  },
  "cells": [
    {
      "cell_type": "markdown",
      "source": [
        "# Import Libraries"
      ],
      "metadata": {
        "id": "TLL9El_bjAkN"
      }
    },
    {
      "cell_type": "code",
      "source": [
        "import numpy as np\n",
        "import pandas as pd\n",
        "import matplotlib.pyplot as plt\n",
        "from sklearn.preprocessing import LabelEncoder,OneHotEncoder\n",
        "from sklearn import preprocessing\n",
        "from sklearn.feature_selection import RFE\n",
        "from sklearn.tree import DecisionTreeClassifier\n",
        "from sklearn.model_selection import train_test_split # Import train_test_split function\n",
        "import warnings\n",
        "warnings.filterwarnings(\"ignore\")"
      ],
      "metadata": {
        "id": "qCox1LMBjAMZ"
      },
      "execution_count": 2,
      "outputs": []
    },
    {
      "cell_type": "markdown",
      "source": [
        "# Read Datasets"
      ],
      "metadata": {
        "id": "Wrsbhnt7kj-I"
      }
    },
    {
      "cell_type": "code",
      "execution_count": 3,
      "metadata": {
        "colab": {
          "base_uri": "https://localhost:8080/"
        },
        "id": "xUTScBIHi7BB",
        "outputId": "e7c69fdc-8a42-4696-f001-44ae43f4cf85"
      },
      "outputs": [
        {
          "output_type": "stream",
          "name": "stdout",
          "text": [
            "--2022-06-09 10:22:34--  https://gitlab.com/schatz06/smart-grid-metering-ids/-/raw/main/NSLKDD/KDDTrain.txt\n",
            "Resolving gitlab.com (gitlab.com)... 172.65.251.78, 2606:4700:90:0:f22e:fbec:5bed:a9b9\n",
            "Connecting to gitlab.com (gitlab.com)|172.65.251.78|:443... connected.\n",
            "HTTP request sent, awaiting response... 200 OK\n",
            "Length: 19109424 (18M) [text/plain]\n",
            "Saving to: ‘KDDTrain.txt’\n",
            "\n",
            "KDDTrain.txt        100%[===================>]  18.22M  69.1MB/s    in 0.3s    \n",
            "\n",
            "2022-06-09 10:22:34 (69.1 MB/s) - ‘KDDTrain.txt’ saved [19109424/19109424]\n",
            "\n",
            "--2022-06-09 10:22:35--  https://gitlab.com/schatz06/smart-grid-metering-ids/-/raw/main/NSLKDD/KDDTest.txt\n",
            "Resolving gitlab.com (gitlab.com)... 172.65.251.78, 2606:4700:90:0:f22e:fbec:5bed:a9b9\n",
            "Connecting to gitlab.com (gitlab.com)|172.65.251.78|:443... connected.\n",
            "HTTP request sent, awaiting response... 200 OK\n",
            "Length: 3441513 (3.3M) [text/plain]\n",
            "Saving to: ‘KDDTest.txt’\n",
            "\n",
            "KDDTest.txt         100%[===================>]   3.28M  18.1MB/s    in 0.2s    \n",
            "\n",
            "2022-06-09 10:22:35 (18.1 MB/s) - ‘KDDTest.txt’ saved [3441513/3441513]\n",
            "\n"
          ]
        }
      ],
      "source": [
        "train_url=\"https://gitlab.com/schatz06/smart-grid-metering-ids/-/raw/main/NSLKDD/KDDTrain.txt\"\n",
        "test_url= \"https://gitlab.com/schatz06/smart-grid-metering-ids/-/raw/main/NSLKDD/KDDTest.txt\"\n",
        "TRAIN_FILE=\"KDDTrain.txt\"\n",
        "TEST_FILE=\"KDDTest.txt\"\n",
        "![ -f \"$TRAIN_FILE\" ] && echo \"$TRAIN_FILE exists\" || wget \"$train_url\"\n",
        "![ -f \"$TEST_FILE\" ] && echo \"$TEST_FILE exists\" || wget \"$test_url\""
      ]
    },
    {
      "cell_type": "code",
      "source": [
        "dataset_train = pd.read_csv(\"KDDTrain.txt\", sep=\",\",header =None)\n",
        "dataset_train = dataset_train.iloc[:,:-1] # remove difficulty column"
      ],
      "metadata": {
        "id": "rYPYy-jUkIP1"
      },
      "execution_count": 4,
      "outputs": []
    },
    {
      "cell_type": "code",
      "source": [
        "dataset_test = pd.read_csv(\"KDDTest.txt\",sep=\",\",header=None)\n",
        "dataset_test = dataset_test.iloc[:,:-1] # remove difficulty column"
      ],
      "metadata": {
        "id": "GGmZl5LVkL3L"
      },
      "execution_count": 5,
      "outputs": []
    },
    {
      "cell_type": "markdown",
      "source": [
        "Sample View of Training and Test datasets"
      ],
      "metadata": {
        "id": "R6iDkOK6kwjC"
      }
    },
    {
      "cell_type": "code",
      "source": [
        "dataset_train.head()"
      ],
      "metadata": {
        "colab": {
          "base_uri": "https://localhost:8080/",
          "height": 236
        },
        "id": "apU9SaKykRN7",
        "outputId": "c7b8bfdd-db12-4ec1-e8cb-f82869ac8770"
      },
      "execution_count": 6,
      "outputs": [
        {
          "output_type": "execute_result",
          "data": {
            "text/plain": [
              "   0    1         2   3    4     5   6   7   8   9   ...   32    33    34  \\\n",
              "0   0  tcp  ftp_data  SF  491     0   0   0   0   0  ...   25  0.17  0.03   \n",
              "1   0  udp     other  SF  146     0   0   0   0   0  ...    1  0.00  0.60   \n",
              "2   0  tcp   private  S0    0     0   0   0   0   0  ...   26  0.10  0.05   \n",
              "3   0  tcp      http  SF  232  8153   0   0   0   0  ...  255  1.00  0.00   \n",
              "4   0  tcp      http  SF  199   420   0   0   0   0  ...  255  1.00  0.00   \n",
              "\n",
              "     35    36    37    38    39    40       41  \n",
              "0  0.17  0.00  0.00  0.00  0.05  0.00   normal  \n",
              "1  0.88  0.00  0.00  0.00  0.00  0.00   normal  \n",
              "2  0.00  0.00  1.00  1.00  0.00  0.00  neptune  \n",
              "3  0.03  0.04  0.03  0.01  0.00  0.01   normal  \n",
              "4  0.00  0.00  0.00  0.00  0.00  0.00   normal  \n",
              "\n",
              "[5 rows x 42 columns]"
            ],
            "text/html": [
              "\n",
              "  <div id=\"df-fa8f2a8f-3a81-4c44-942e-79aaa41cb4e8\">\n",
              "    <div class=\"colab-df-container\">\n",
              "      <div>\n",
              "<style scoped>\n",
              "    .dataframe tbody tr th:only-of-type {\n",
              "        vertical-align: middle;\n",
              "    }\n",
              "\n",
              "    .dataframe tbody tr th {\n",
              "        vertical-align: top;\n",
              "    }\n",
              "\n",
              "    .dataframe thead th {\n",
              "        text-align: right;\n",
              "    }\n",
              "</style>\n",
              "<table border=\"1\" class=\"dataframe\">\n",
              "  <thead>\n",
              "    <tr style=\"text-align: right;\">\n",
              "      <th></th>\n",
              "      <th>0</th>\n",
              "      <th>1</th>\n",
              "      <th>2</th>\n",
              "      <th>3</th>\n",
              "      <th>4</th>\n",
              "      <th>5</th>\n",
              "      <th>6</th>\n",
              "      <th>7</th>\n",
              "      <th>8</th>\n",
              "      <th>9</th>\n",
              "      <th>...</th>\n",
              "      <th>32</th>\n",
              "      <th>33</th>\n",
              "      <th>34</th>\n",
              "      <th>35</th>\n",
              "      <th>36</th>\n",
              "      <th>37</th>\n",
              "      <th>38</th>\n",
              "      <th>39</th>\n",
              "      <th>40</th>\n",
              "      <th>41</th>\n",
              "    </tr>\n",
              "  </thead>\n",
              "  <tbody>\n",
              "    <tr>\n",
              "      <th>0</th>\n",
              "      <td>0</td>\n",
              "      <td>tcp</td>\n",
              "      <td>ftp_data</td>\n",
              "      <td>SF</td>\n",
              "      <td>491</td>\n",
              "      <td>0</td>\n",
              "      <td>0</td>\n",
              "      <td>0</td>\n",
              "      <td>0</td>\n",
              "      <td>0</td>\n",
              "      <td>...</td>\n",
              "      <td>25</td>\n",
              "      <td>0.17</td>\n",
              "      <td>0.03</td>\n",
              "      <td>0.17</td>\n",
              "      <td>0.00</td>\n",
              "      <td>0.00</td>\n",
              "      <td>0.00</td>\n",
              "      <td>0.05</td>\n",
              "      <td>0.00</td>\n",
              "      <td>normal</td>\n",
              "    </tr>\n",
              "    <tr>\n",
              "      <th>1</th>\n",
              "      <td>0</td>\n",
              "      <td>udp</td>\n",
              "      <td>other</td>\n",
              "      <td>SF</td>\n",
              "      <td>146</td>\n",
              "      <td>0</td>\n",
              "      <td>0</td>\n",
              "      <td>0</td>\n",
              "      <td>0</td>\n",
              "      <td>0</td>\n",
              "      <td>...</td>\n",
              "      <td>1</td>\n",
              "      <td>0.00</td>\n",
              "      <td>0.60</td>\n",
              "      <td>0.88</td>\n",
              "      <td>0.00</td>\n",
              "      <td>0.00</td>\n",
              "      <td>0.00</td>\n",
              "      <td>0.00</td>\n",
              "      <td>0.00</td>\n",
              "      <td>normal</td>\n",
              "    </tr>\n",
              "    <tr>\n",
              "      <th>2</th>\n",
              "      <td>0</td>\n",
              "      <td>tcp</td>\n",
              "      <td>private</td>\n",
              "      <td>S0</td>\n",
              "      <td>0</td>\n",
              "      <td>0</td>\n",
              "      <td>0</td>\n",
              "      <td>0</td>\n",
              "      <td>0</td>\n",
              "      <td>0</td>\n",
              "      <td>...</td>\n",
              "      <td>26</td>\n",
              "      <td>0.10</td>\n",
              "      <td>0.05</td>\n",
              "      <td>0.00</td>\n",
              "      <td>0.00</td>\n",
              "      <td>1.00</td>\n",
              "      <td>1.00</td>\n",
              "      <td>0.00</td>\n",
              "      <td>0.00</td>\n",
              "      <td>neptune</td>\n",
              "    </tr>\n",
              "    <tr>\n",
              "      <th>3</th>\n",
              "      <td>0</td>\n",
              "      <td>tcp</td>\n",
              "      <td>http</td>\n",
              "      <td>SF</td>\n",
              "      <td>232</td>\n",
              "      <td>8153</td>\n",
              "      <td>0</td>\n",
              "      <td>0</td>\n",
              "      <td>0</td>\n",
              "      <td>0</td>\n",
              "      <td>...</td>\n",
              "      <td>255</td>\n",
              "      <td>1.00</td>\n",
              "      <td>0.00</td>\n",
              "      <td>0.03</td>\n",
              "      <td>0.04</td>\n",
              "      <td>0.03</td>\n",
              "      <td>0.01</td>\n",
              "      <td>0.00</td>\n",
              "      <td>0.01</td>\n",
              "      <td>normal</td>\n",
              "    </tr>\n",
              "    <tr>\n",
              "      <th>4</th>\n",
              "      <td>0</td>\n",
              "      <td>tcp</td>\n",
              "      <td>http</td>\n",
              "      <td>SF</td>\n",
              "      <td>199</td>\n",
              "      <td>420</td>\n",
              "      <td>0</td>\n",
              "      <td>0</td>\n",
              "      <td>0</td>\n",
              "      <td>0</td>\n",
              "      <td>...</td>\n",
              "      <td>255</td>\n",
              "      <td>1.00</td>\n",
              "      <td>0.00</td>\n",
              "      <td>0.00</td>\n",
              "      <td>0.00</td>\n",
              "      <td>0.00</td>\n",
              "      <td>0.00</td>\n",
              "      <td>0.00</td>\n",
              "      <td>0.00</td>\n",
              "      <td>normal</td>\n",
              "    </tr>\n",
              "  </tbody>\n",
              "</table>\n",
              "<p>5 rows × 42 columns</p>\n",
              "</div>\n",
              "      <button class=\"colab-df-convert\" onclick=\"convertToInteractive('df-fa8f2a8f-3a81-4c44-942e-79aaa41cb4e8')\"\n",
              "              title=\"Convert this dataframe to an interactive table.\"\n",
              "              style=\"display:none;\">\n",
              "        \n",
              "  <svg xmlns=\"http://www.w3.org/2000/svg\" height=\"24px\"viewBox=\"0 0 24 24\"\n",
              "       width=\"24px\">\n",
              "    <path d=\"M0 0h24v24H0V0z\" fill=\"none\"/>\n",
              "    <path d=\"M18.56 5.44l.94 2.06.94-2.06 2.06-.94-2.06-.94-.94-2.06-.94 2.06-2.06.94zm-11 1L8.5 8.5l.94-2.06 2.06-.94-2.06-.94L8.5 2.5l-.94 2.06-2.06.94zm10 10l.94 2.06.94-2.06 2.06-.94-2.06-.94-.94-2.06-.94 2.06-2.06.94z\"/><path d=\"M17.41 7.96l-1.37-1.37c-.4-.4-.92-.59-1.43-.59-.52 0-1.04.2-1.43.59L10.3 9.45l-7.72 7.72c-.78.78-.78 2.05 0 2.83L4 21.41c.39.39.9.59 1.41.59.51 0 1.02-.2 1.41-.59l7.78-7.78 2.81-2.81c.8-.78.8-2.07 0-2.86zM5.41 20L4 18.59l7.72-7.72 1.47 1.35L5.41 20z\"/>\n",
              "  </svg>\n",
              "      </button>\n",
              "      \n",
              "  <style>\n",
              "    .colab-df-container {\n",
              "      display:flex;\n",
              "      flex-wrap:wrap;\n",
              "      gap: 12px;\n",
              "    }\n",
              "\n",
              "    .colab-df-convert {\n",
              "      background-color: #E8F0FE;\n",
              "      border: none;\n",
              "      border-radius: 50%;\n",
              "      cursor: pointer;\n",
              "      display: none;\n",
              "      fill: #1967D2;\n",
              "      height: 32px;\n",
              "      padding: 0 0 0 0;\n",
              "      width: 32px;\n",
              "    }\n",
              "\n",
              "    .colab-df-convert:hover {\n",
              "      background-color: #E2EBFA;\n",
              "      box-shadow: 0px 1px 2px rgba(60, 64, 67, 0.3), 0px 1px 3px 1px rgba(60, 64, 67, 0.15);\n",
              "      fill: #174EA6;\n",
              "    }\n",
              "\n",
              "    [theme=dark] .colab-df-convert {\n",
              "      background-color: #3B4455;\n",
              "      fill: #D2E3FC;\n",
              "    }\n",
              "\n",
              "    [theme=dark] .colab-df-convert:hover {\n",
              "      background-color: #434B5C;\n",
              "      box-shadow: 0px 1px 3px 1px rgba(0, 0, 0, 0.15);\n",
              "      filter: drop-shadow(0px 1px 2px rgba(0, 0, 0, 0.3));\n",
              "      fill: #FFFFFF;\n",
              "    }\n",
              "  </style>\n",
              "\n",
              "      <script>\n",
              "        const buttonEl =\n",
              "          document.querySelector('#df-fa8f2a8f-3a81-4c44-942e-79aaa41cb4e8 button.colab-df-convert');\n",
              "        buttonEl.style.display =\n",
              "          google.colab.kernel.accessAllowed ? 'block' : 'none';\n",
              "\n",
              "        async function convertToInteractive(key) {\n",
              "          const element = document.querySelector('#df-fa8f2a8f-3a81-4c44-942e-79aaa41cb4e8');\n",
              "          const dataTable =\n",
              "            await google.colab.kernel.invokeFunction('convertToInteractive',\n",
              "                                                     [key], {});\n",
              "          if (!dataTable) return;\n",
              "\n",
              "          const docLinkHtml = 'Like what you see? Visit the ' +\n",
              "            '<a target=\"_blank\" href=https://colab.research.google.com/notebooks/data_table.ipynb>data table notebook</a>'\n",
              "            + ' to learn more about interactive tables.';\n",
              "          element.innerHTML = '';\n",
              "          dataTable['output_type'] = 'display_data';\n",
              "          await google.colab.output.renderOutput(dataTable, element);\n",
              "          const docLink = document.createElement('div');\n",
              "          docLink.innerHTML = docLinkHtml;\n",
              "          element.appendChild(docLink);\n",
              "        }\n",
              "      </script>\n",
              "    </div>\n",
              "  </div>\n",
              "  "
            ]
          },
          "metadata": {},
          "execution_count": 6
        }
      ]
    },
    {
      "cell_type": "code",
      "source": [
        "dataset_test.head()"
      ],
      "metadata": {
        "colab": {
          "base_uri": "https://localhost:8080/",
          "height": 236
        },
        "id": "HHpfTmGkkbml",
        "outputId": "14bc2229-5073-43cf-b89f-6808f2423c89"
      },
      "execution_count": 7,
      "outputs": [
        {
          "output_type": "execute_result",
          "data": {
            "text/plain": [
              "   0     1         2     3      4   5   6   7   8   9   ...  32    33    34  \\\n",
              "0   0   tcp   private   REJ      0   0   0   0   0   0  ...  10  0.04  0.06   \n",
              "1   0   tcp   private   REJ      0   0   0   0   0   0  ...   1  0.00  0.06   \n",
              "2   2   tcp  ftp_data    SF  12983   0   0   0   0   0  ...  86  0.61  0.04   \n",
              "3   0  icmp     eco_i    SF     20   0   0   0   0   0  ...  57  1.00  0.00   \n",
              "4   1   tcp    telnet  RSTO      0  15   0   0   0   0  ...  86  0.31  0.17   \n",
              "\n",
              "     35    36   37   38    39    40       41  \n",
              "0  0.00  0.00  0.0  0.0  1.00  1.00  neptune  \n",
              "1  0.00  0.00  0.0  0.0  1.00  1.00  neptune  \n",
              "2  0.61  0.02  0.0  0.0  0.00  0.00   normal  \n",
              "3  1.00  0.28  0.0  0.0  0.00  0.00    saint  \n",
              "4  0.03  0.02  0.0  0.0  0.83  0.71    mscan  \n",
              "\n",
              "[5 rows x 42 columns]"
            ],
            "text/html": [
              "\n",
              "  <div id=\"df-1638e236-0a3a-4bcf-a20d-527002bcf04c\">\n",
              "    <div class=\"colab-df-container\">\n",
              "      <div>\n",
              "<style scoped>\n",
              "    .dataframe tbody tr th:only-of-type {\n",
              "        vertical-align: middle;\n",
              "    }\n",
              "\n",
              "    .dataframe tbody tr th {\n",
              "        vertical-align: top;\n",
              "    }\n",
              "\n",
              "    .dataframe thead th {\n",
              "        text-align: right;\n",
              "    }\n",
              "</style>\n",
              "<table border=\"1\" class=\"dataframe\">\n",
              "  <thead>\n",
              "    <tr style=\"text-align: right;\">\n",
              "      <th></th>\n",
              "      <th>0</th>\n",
              "      <th>1</th>\n",
              "      <th>2</th>\n",
              "      <th>3</th>\n",
              "      <th>4</th>\n",
              "      <th>5</th>\n",
              "      <th>6</th>\n",
              "      <th>7</th>\n",
              "      <th>8</th>\n",
              "      <th>9</th>\n",
              "      <th>...</th>\n",
              "      <th>32</th>\n",
              "      <th>33</th>\n",
              "      <th>34</th>\n",
              "      <th>35</th>\n",
              "      <th>36</th>\n",
              "      <th>37</th>\n",
              "      <th>38</th>\n",
              "      <th>39</th>\n",
              "      <th>40</th>\n",
              "      <th>41</th>\n",
              "    </tr>\n",
              "  </thead>\n",
              "  <tbody>\n",
              "    <tr>\n",
              "      <th>0</th>\n",
              "      <td>0</td>\n",
              "      <td>tcp</td>\n",
              "      <td>private</td>\n",
              "      <td>REJ</td>\n",
              "      <td>0</td>\n",
              "      <td>0</td>\n",
              "      <td>0</td>\n",
              "      <td>0</td>\n",
              "      <td>0</td>\n",
              "      <td>0</td>\n",
              "      <td>...</td>\n",
              "      <td>10</td>\n",
              "      <td>0.04</td>\n",
              "      <td>0.06</td>\n",
              "      <td>0.00</td>\n",
              "      <td>0.00</td>\n",
              "      <td>0.0</td>\n",
              "      <td>0.0</td>\n",
              "      <td>1.00</td>\n",
              "      <td>1.00</td>\n",
              "      <td>neptune</td>\n",
              "    </tr>\n",
              "    <tr>\n",
              "      <th>1</th>\n",
              "      <td>0</td>\n",
              "      <td>tcp</td>\n",
              "      <td>private</td>\n",
              "      <td>REJ</td>\n",
              "      <td>0</td>\n",
              "      <td>0</td>\n",
              "      <td>0</td>\n",
              "      <td>0</td>\n",
              "      <td>0</td>\n",
              "      <td>0</td>\n",
              "      <td>...</td>\n",
              "      <td>1</td>\n",
              "      <td>0.00</td>\n",
              "      <td>0.06</td>\n",
              "      <td>0.00</td>\n",
              "      <td>0.00</td>\n",
              "      <td>0.0</td>\n",
              "      <td>0.0</td>\n",
              "      <td>1.00</td>\n",
              "      <td>1.00</td>\n",
              "      <td>neptune</td>\n",
              "    </tr>\n",
              "    <tr>\n",
              "      <th>2</th>\n",
              "      <td>2</td>\n",
              "      <td>tcp</td>\n",
              "      <td>ftp_data</td>\n",
              "      <td>SF</td>\n",
              "      <td>12983</td>\n",
              "      <td>0</td>\n",
              "      <td>0</td>\n",
              "      <td>0</td>\n",
              "      <td>0</td>\n",
              "      <td>0</td>\n",
              "      <td>...</td>\n",
              "      <td>86</td>\n",
              "      <td>0.61</td>\n",
              "      <td>0.04</td>\n",
              "      <td>0.61</td>\n",
              "      <td>0.02</td>\n",
              "      <td>0.0</td>\n",
              "      <td>0.0</td>\n",
              "      <td>0.00</td>\n",
              "      <td>0.00</td>\n",
              "      <td>normal</td>\n",
              "    </tr>\n",
              "    <tr>\n",
              "      <th>3</th>\n",
              "      <td>0</td>\n",
              "      <td>icmp</td>\n",
              "      <td>eco_i</td>\n",
              "      <td>SF</td>\n",
              "      <td>20</td>\n",
              "      <td>0</td>\n",
              "      <td>0</td>\n",
              "      <td>0</td>\n",
              "      <td>0</td>\n",
              "      <td>0</td>\n",
              "      <td>...</td>\n",
              "      <td>57</td>\n",
              "      <td>1.00</td>\n",
              "      <td>0.00</td>\n",
              "      <td>1.00</td>\n",
              "      <td>0.28</td>\n",
              "      <td>0.0</td>\n",
              "      <td>0.0</td>\n",
              "      <td>0.00</td>\n",
              "      <td>0.00</td>\n",
              "      <td>saint</td>\n",
              "    </tr>\n",
              "    <tr>\n",
              "      <th>4</th>\n",
              "      <td>1</td>\n",
              "      <td>tcp</td>\n",
              "      <td>telnet</td>\n",
              "      <td>RSTO</td>\n",
              "      <td>0</td>\n",
              "      <td>15</td>\n",
              "      <td>0</td>\n",
              "      <td>0</td>\n",
              "      <td>0</td>\n",
              "      <td>0</td>\n",
              "      <td>...</td>\n",
              "      <td>86</td>\n",
              "      <td>0.31</td>\n",
              "      <td>0.17</td>\n",
              "      <td>0.03</td>\n",
              "      <td>0.02</td>\n",
              "      <td>0.0</td>\n",
              "      <td>0.0</td>\n",
              "      <td>0.83</td>\n",
              "      <td>0.71</td>\n",
              "      <td>mscan</td>\n",
              "    </tr>\n",
              "  </tbody>\n",
              "</table>\n",
              "<p>5 rows × 42 columns</p>\n",
              "</div>\n",
              "      <button class=\"colab-df-convert\" onclick=\"convertToInteractive('df-1638e236-0a3a-4bcf-a20d-527002bcf04c')\"\n",
              "              title=\"Convert this dataframe to an interactive table.\"\n",
              "              style=\"display:none;\">\n",
              "        \n",
              "  <svg xmlns=\"http://www.w3.org/2000/svg\" height=\"24px\"viewBox=\"0 0 24 24\"\n",
              "       width=\"24px\">\n",
              "    <path d=\"M0 0h24v24H0V0z\" fill=\"none\"/>\n",
              "    <path d=\"M18.56 5.44l.94 2.06.94-2.06 2.06-.94-2.06-.94-.94-2.06-.94 2.06-2.06.94zm-11 1L8.5 8.5l.94-2.06 2.06-.94-2.06-.94L8.5 2.5l-.94 2.06-2.06.94zm10 10l.94 2.06.94-2.06 2.06-.94-2.06-.94-.94-2.06-.94 2.06-2.06.94z\"/><path d=\"M17.41 7.96l-1.37-1.37c-.4-.4-.92-.59-1.43-.59-.52 0-1.04.2-1.43.59L10.3 9.45l-7.72 7.72c-.78.78-.78 2.05 0 2.83L4 21.41c.39.39.9.59 1.41.59.51 0 1.02-.2 1.41-.59l7.78-7.78 2.81-2.81c.8-.78.8-2.07 0-2.86zM5.41 20L4 18.59l7.72-7.72 1.47 1.35L5.41 20z\"/>\n",
              "  </svg>\n",
              "      </button>\n",
              "      \n",
              "  <style>\n",
              "    .colab-df-container {\n",
              "      display:flex;\n",
              "      flex-wrap:wrap;\n",
              "      gap: 12px;\n",
              "    }\n",
              "\n",
              "    .colab-df-convert {\n",
              "      background-color: #E8F0FE;\n",
              "      border: none;\n",
              "      border-radius: 50%;\n",
              "      cursor: pointer;\n",
              "      display: none;\n",
              "      fill: #1967D2;\n",
              "      height: 32px;\n",
              "      padding: 0 0 0 0;\n",
              "      width: 32px;\n",
              "    }\n",
              "\n",
              "    .colab-df-convert:hover {\n",
              "      background-color: #E2EBFA;\n",
              "      box-shadow: 0px 1px 2px rgba(60, 64, 67, 0.3), 0px 1px 3px 1px rgba(60, 64, 67, 0.15);\n",
              "      fill: #174EA6;\n",
              "    }\n",
              "\n",
              "    [theme=dark] .colab-df-convert {\n",
              "      background-color: #3B4455;\n",
              "      fill: #D2E3FC;\n",
              "    }\n",
              "\n",
              "    [theme=dark] .colab-df-convert:hover {\n",
              "      background-color: #434B5C;\n",
              "      box-shadow: 0px 1px 3px 1px rgba(0, 0, 0, 0.15);\n",
              "      filter: drop-shadow(0px 1px 2px rgba(0, 0, 0, 0.3));\n",
              "      fill: #FFFFFF;\n",
              "    }\n",
              "  </style>\n",
              "\n",
              "      <script>\n",
              "        const buttonEl =\n",
              "          document.querySelector('#df-1638e236-0a3a-4bcf-a20d-527002bcf04c button.colab-df-convert');\n",
              "        buttonEl.style.display =\n",
              "          google.colab.kernel.accessAllowed ? 'block' : 'none';\n",
              "\n",
              "        async function convertToInteractive(key) {\n",
              "          const element = document.querySelector('#df-1638e236-0a3a-4bcf-a20d-527002bcf04c');\n",
              "          const dataTable =\n",
              "            await google.colab.kernel.invokeFunction('convertToInteractive',\n",
              "                                                     [key], {});\n",
              "          if (!dataTable) return;\n",
              "\n",
              "          const docLinkHtml = 'Like what you see? Visit the ' +\n",
              "            '<a target=\"_blank\" href=https://colab.research.google.com/notebooks/data_table.ipynb>data table notebook</a>'\n",
              "            + ' to learn more about interactive tables.';\n",
              "          element.innerHTML = '';\n",
              "          dataTable['output_type'] = 'display_data';\n",
              "          await google.colab.output.renderOutput(dataTable, element);\n",
              "          const docLink = document.createElement('div');\n",
              "          docLink.innerHTML = docLinkHtml;\n",
              "          element.appendChild(docLink);\n",
              "        }\n",
              "      </script>\n",
              "    </div>\n",
              "  </div>\n",
              "  "
            ]
          },
          "metadata": {},
          "execution_count": 7
        }
      ]
    },
    {
      "cell_type": "markdown",
      "source": [
        "Columns names of Training and Test Datasets"
      ],
      "metadata": {
        "id": "Wb5m2U78k7yz"
      }
    },
    {
      "cell_type": "code",
      "source": [
        "col_names = [\"duration\",\"protocol_type\",\"service\",\"flag\",\"src_bytes\",\n",
        "    \"dst_bytes\",\"land\",\"wrong_fragment\",\"urgent\",\"hot\",\"num_failed_logins\",\n",
        "    \"logged_in\",\"num_compromised\",\"root_shell\",\"su_attempted\",\"num_root\",\n",
        "    \"num_file_creations\",\"num_shells\",\"num_access_files\",\"num_outbound_cmds\",\n",
        "    \"is_host_login\",\"is_guest_login\",\"count\",\"srv_count\",\"serror_rate\",\n",
        "    \"srv_serror_rate\",\"rerror_rate\",\"srv_rerror_rate\",\"same_srv_rate\",\n",
        "    \"diff_srv_rate\",\"srv_diff_host_rate\",\"dst_host_count\",\"dst_host_srv_count\",\n",
        "    \"dst_host_same_srv_rate\",\"dst_host_diff_srv_rate\",\"dst_host_same_src_port_rate\",\n",
        "    \"dst_host_srv_diff_host_rate\",\"dst_host_serror_rate\",\"dst_host_srv_serror_rate\",\n",
        "    \"dst_host_rerror_rate\",\"dst_host_srv_rerror_rate\",\"label\"]"
      ],
      "metadata": {
        "id": "6XUayEo0k-rO"
      },
      "execution_count": 8,
      "outputs": []
    },
    {
      "cell_type": "markdown",
      "source": [
        "Shape of Training and Test Datasets"
      ],
      "metadata": {
        "id": "gWz0rlRrl0B2"
      }
    },
    {
      "cell_type": "code",
      "source": [
        "print(\"Shape of Training Dataset:\", dataset_train.shape)\n",
        "print(\"Shape of Testing Dataset:\", dataset_test.shape)"
      ],
      "metadata": {
        "colab": {
          "base_uri": "https://localhost:8080/"
        },
        "id": "O48ADyvQl4n-",
        "outputId": "f7ce29da-3094-4f1d-ac78-f6dc36030b35"
      },
      "execution_count": 9,
      "outputs": [
        {
          "output_type": "stream",
          "name": "stdout",
          "text": [
            "Shape of Training Dataset: (125973, 42)\n",
            "Shape of Testing Dataset: (22544, 42)\n"
          ]
        }
      ]
    },
    {
      "cell_type": "markdown",
      "source": [
        "Columns Assignment"
      ],
      "metadata": {
        "id": "KEJWNOH3mCMt"
      }
    },
    {
      "cell_type": "code",
      "source": [
        "dataset_train.columns = col_names # append labels\n",
        "dataset_test.columns = col_names "
      ],
      "metadata": {
        "id": "iy9NRuXrmBd4"
      },
      "execution_count": 10,
      "outputs": []
    },
    {
      "cell_type": "markdown",
      "source": [
        "Labels of Training and Test Datasets"
      ],
      "metadata": {
        "id": "mu3Vk41gmVIS"
      }
    },
    {
      "cell_type": "code",
      "source": [
        "#label distribution of Training set and testing set\n",
        "print('Label distribution Training set:')\n",
        "print(dataset_train['label'].value_counts())\n",
        "print()\n",
        "print('Label distribution Test set:')\n",
        "print(dataset_test['label'].value_counts())"
      ],
      "metadata": {
        "colab": {
          "base_uri": "https://localhost:8080/"
        },
        "id": "w5TVgxXgmf3x",
        "outputId": "cb34c05f-4190-4a79-8d80-6c5f3bebd6c0"
      },
      "execution_count": 11,
      "outputs": [
        {
          "output_type": "stream",
          "name": "stdout",
          "text": [
            "Label distribution Training set:\n",
            "normal             67343\n",
            "neptune            41214\n",
            "satan               3633\n",
            "ipsweep             3599\n",
            "portsweep           2931\n",
            "smurf               2646\n",
            "nmap                1493\n",
            "back                 956\n",
            "teardrop             892\n",
            "warezclient          890\n",
            "pod                  201\n",
            "guess_passwd          53\n",
            "buffer_overflow       30\n",
            "warezmaster           20\n",
            "land                  18\n",
            "imap                  11\n",
            "rootkit               10\n",
            "loadmodule             9\n",
            "ftp_write              8\n",
            "multihop               7\n",
            "phf                    4\n",
            "perl                   3\n",
            "spy                    2\n",
            "Name: label, dtype: int64\n",
            "\n",
            "Label distribution Test set:\n",
            "normal             9711\n",
            "neptune            4657\n",
            "guess_passwd       1231\n",
            "mscan               996\n",
            "warezmaster         944\n",
            "apache2             737\n",
            "satan               735\n",
            "processtable        685\n",
            "smurf               665\n",
            "back                359\n",
            "snmpguess           331\n",
            "saint               319\n",
            "mailbomb            293\n",
            "snmpgetattack       178\n",
            "portsweep           157\n",
            "ipsweep             141\n",
            "httptunnel          133\n",
            "nmap                 73\n",
            "pod                  41\n",
            "buffer_overflow      20\n",
            "multihop             18\n",
            "named                17\n",
            "ps                   15\n",
            "sendmail             14\n",
            "rootkit              13\n",
            "xterm                13\n",
            "teardrop             12\n",
            "xlock                 9\n",
            "land                  7\n",
            "xsnoop                4\n",
            "ftp_write             3\n",
            "worm                  2\n",
            "loadmodule            2\n",
            "perl                  2\n",
            "sqlattack             2\n",
            "udpstorm              2\n",
            "phf                   2\n",
            "imap                  1\n",
            "Name: label, dtype: int64\n"
          ]
        }
      ]
    },
    {
      "cell_type": "markdown",
      "source": [
        "# Data Pre-processing"
      ],
      "metadata": {
        "id": "Zfb5wrB8mpHi"
      }
    },
    {
      "cell_type": "markdown",
      "source": [
        "## Handle categorical features"
      ],
      "metadata": {
        "id": "0CJZaMexmzmb"
      }
    },
    {
      "cell_type": "code",
      "source": [
        "# colums that are categorical and not binary yet: protocol_type (column 2), service (column 3), flag (column 4).\n",
        "# explore categorical features\n",
        "print('Training set:')\n",
        "for col_name in dataset_train.columns:\n",
        "    if dataset_train[col_name].dtypes == 'object' :\n",
        "        unique_cat = dataset_train[col_name].nunique()\n",
        "        print(\"Feature '{col_name}' has {unique_cat} categories\".format(col_name=col_name, unique_cat=unique_cat))\n",
        "\n",
        "# Test set\n",
        "print('Test set:')\n",
        "for col_name in dataset_test.columns:\n",
        "    if dataset_test[col_name].dtypes == 'object' :\n",
        "        unique_cat = len(dataset_test[col_name].unique())\n",
        "        print(\"Feature '{col_name}' has {unique_cat} categories\".format(col_name=col_name, unique_cat=unique_cat))"
      ],
      "metadata": {
        "colab": {
          "base_uri": "https://localhost:8080/"
        },
        "id": "kBSeJtJvmoOI",
        "outputId": "c59c3fe6-7bb1-4976-e04a-090bd55041da"
      },
      "execution_count": 12,
      "outputs": [
        {
          "output_type": "stream",
          "name": "stdout",
          "text": [
            "Training set:\n",
            "Feature 'protocol_type' has 3 categories\n",
            "Feature 'service' has 70 categories\n",
            "Feature 'flag' has 11 categories\n",
            "Feature 'label' has 23 categories\n",
            "Test set:\n",
            "Feature 'protocol_type' has 3 categories\n",
            "Feature 'service' has 64 categories\n",
            "Feature 'flag' has 11 categories\n",
            "Feature 'label' has 38 categories\n"
          ]
        }
      ]
    },
    {
      "cell_type": "markdown",
      "source": [
        "One-hot-Encoding"
      ],
      "metadata": {
        "id": "vAKeBKt6ob5N"
      }
    },
    {
      "cell_type": "code",
      "source": [
        "one_hot_encoder = preprocessing.OneHotEncoder() # create one hot encoder"
      ],
      "metadata": {
        "id": "Ekw90656ovm-"
      },
      "execution_count": 13,
      "outputs": []
    },
    {
      "cell_type": "markdown",
      "source": [
        "Protocol Type"
      ],
      "metadata": {
        "id": "J7b-6keZpyiH"
      }
    },
    {
      "cell_type": "code",
      "source": [
        "# fit one hot encoder\n",
        "one_hot_encoder.fit(dataset_train['protocol_type'].values.reshape(-1,1))\n",
        "\n",
        "#train dataset\n",
        "train_transform = one_hot_encoder.transform(dataset_train['protocol_type'].values.reshape(-1,1)) \n",
        "train_transform = train_transform.toarray()\n",
        "train_df = pd.DataFrame(train_transform, columns = one_hot_encoder.get_feature_names_out())\n",
        "del dataset_train['protocol_type']\n",
        "dataset_train = pd.concat([dataset_train,train_df], axis=1)\n",
        "\n",
        "#test dataset\n",
        "test_transform = one_hot_encoder.transform(dataset_test['protocol_type'].values.reshape(-1,1)) \n",
        "test_transform = test_transform.toarray()\n",
        "test_df = pd.DataFrame(test_transform , columns = one_hot_encoder.get_feature_names_out())\n",
        "del dataset_test['protocol_type']\n",
        "dataset_test = pd.concat([dataset_test,test_df], axis=1)"
      ],
      "metadata": {
        "id": "tnC1cjYEodok"
      },
      "execution_count": 14,
      "outputs": []
    },
    {
      "cell_type": "markdown",
      "source": [
        "Service "
      ],
      "metadata": {
        "id": "e6d9blMJp3_g"
      }
    },
    {
      "cell_type": "code",
      "source": [
        "# fit one hot encoder\n",
        "one_hot_encoder.fit(dataset_train['service'].values.reshape(-1,1))\n",
        "\n",
        "# train dataset\n",
        "train_transform = one_hot_encoder.transform(dataset_train['service'].values.reshape(-1,1)) \n",
        "train_transform = train_transform.toarray()\n",
        "train_df = pd.DataFrame(train_transform, columns = one_hot_encoder.get_feature_names_out())\n",
        "del dataset_train['service']\n",
        "dataset_train = pd.concat([dataset_train,train_df], axis=1)\n",
        "\n",
        "# test dataset\n",
        "test_transform = one_hot_encoder.transform(dataset_test['service'].values.reshape(-1,1)) \n",
        "test_transform = test_transform.toarray()\n",
        "test_df = pd.DataFrame(test_transform , columns = one_hot_encoder.get_feature_names_out())\n",
        "del dataset_test['service']\n",
        "dataset_test = pd.concat([dataset_test,test_df], axis=1)"
      ],
      "metadata": {
        "id": "VAdkMCVtpLo7"
      },
      "execution_count": 15,
      "outputs": []
    },
    {
      "cell_type": "markdown",
      "source": [
        "Flag"
      ],
      "metadata": {
        "id": "bFtQloanqTRu"
      }
    },
    {
      "cell_type": "code",
      "source": [
        "# fit one hot encoder\n",
        "one_hot_encoder.fit(dataset_train['flag'].values.reshape(-1,1))\n",
        "\n",
        "# train dataset\n",
        "train_transform = one_hot_encoder.transform(dataset_train['flag'].values.reshape(-1,1)) \n",
        "train_transform = train_transform.toarray()\n",
        "train_df = pd.DataFrame(train_transform, columns = one_hot_encoder.get_feature_names_out())\n",
        "del dataset_train['flag']\n",
        "dataset_train = pd.concat([dataset_train,train_df], axis=1)\n",
        "\n",
        "# test dataset\n",
        "test_transform = one_hot_encoder.transform(dataset_test['flag'].values.reshape(-1,1)) \n",
        "test_transform = test_transform.toarray()\n",
        "test_df = pd.DataFrame(test_transform , columns = one_hot_encoder.get_feature_names_out())\n",
        "del dataset_test['flag']\n",
        "dataset_test = pd.concat([dataset_test,test_df], axis=1)"
      ],
      "metadata": {
        "id": "7NfsI5A1KNT_"
      },
      "execution_count": 16,
      "outputs": []
    },
    {
      "cell_type": "code",
      "source": [
        "print(\"Shape of Training Dataset:\", dataset_train.shape)\n",
        "print(\"Shape of Testing Dataset:\", dataset_test.shape)"
      ],
      "metadata": {
        "colab": {
          "base_uri": "https://localhost:8080/"
        },
        "id": "QTJC3pEVrEsL",
        "outputId": "d31e0d1f-806f-4a60-b7a3-f0a34e3d70e1"
      },
      "execution_count": 17,
      "outputs": [
        {
          "output_type": "stream",
          "name": "stdout",
          "text": [
            "Shape of Training Dataset: (125973, 123)\n",
            "Shape of Testing Dataset: (22544, 123)\n"
          ]
        }
      ]
    },
    {
      "cell_type": "code",
      "source": [
        "dataset_train.head()"
      ],
      "metadata": {
        "colab": {
          "base_uri": "https://localhost:8080/",
          "height": 236
        },
        "id": "8En4p5FYrOmV",
        "outputId": "c1e5cf5c-60c5-4d23-c02e-c659acde996c"
      },
      "execution_count": 18,
      "outputs": [
        {
          "output_type": "execute_result",
          "data": {
            "text/plain": [
              "   duration  src_bytes  dst_bytes  land  wrong_fragment  urgent  hot  \\\n",
              "0         0        491          0     0               0       0    0   \n",
              "1         0        146          0     0               0       0    0   \n",
              "2         0          0          0     0               0       0    0   \n",
              "3         0        232       8153     0               0       0    0   \n",
              "4         0        199        420     0               0       0    0   \n",
              "\n",
              "   num_failed_logins  logged_in  num_compromised  ...  x0_REJ  x0_RSTO  \\\n",
              "0                  0          0                0  ...     0.0      0.0   \n",
              "1                  0          0                0  ...     0.0      0.0   \n",
              "2                  0          0                0  ...     0.0      0.0   \n",
              "3                  0          1                0  ...     0.0      0.0   \n",
              "4                  0          1                0  ...     0.0      0.0   \n",
              "\n",
              "   x0_RSTOS0  x0_RSTR  x0_S0  x0_S1  x0_S2  x0_S3  x0_SF  x0_SH  \n",
              "0        0.0      0.0    0.0    0.0    0.0    0.0    1.0    0.0  \n",
              "1        0.0      0.0    0.0    0.0    0.0    0.0    1.0    0.0  \n",
              "2        0.0      0.0    1.0    0.0    0.0    0.0    0.0    0.0  \n",
              "3        0.0      0.0    0.0    0.0    0.0    0.0    1.0    0.0  \n",
              "4        0.0      0.0    0.0    0.0    0.0    0.0    1.0    0.0  \n",
              "\n",
              "[5 rows x 123 columns]"
            ],
            "text/html": [
              "\n",
              "  <div id=\"df-1770e897-8841-4755-892c-c16a0b5c0af0\">\n",
              "    <div class=\"colab-df-container\">\n",
              "      <div>\n",
              "<style scoped>\n",
              "    .dataframe tbody tr th:only-of-type {\n",
              "        vertical-align: middle;\n",
              "    }\n",
              "\n",
              "    .dataframe tbody tr th {\n",
              "        vertical-align: top;\n",
              "    }\n",
              "\n",
              "    .dataframe thead th {\n",
              "        text-align: right;\n",
              "    }\n",
              "</style>\n",
              "<table border=\"1\" class=\"dataframe\">\n",
              "  <thead>\n",
              "    <tr style=\"text-align: right;\">\n",
              "      <th></th>\n",
              "      <th>duration</th>\n",
              "      <th>src_bytes</th>\n",
              "      <th>dst_bytes</th>\n",
              "      <th>land</th>\n",
              "      <th>wrong_fragment</th>\n",
              "      <th>urgent</th>\n",
              "      <th>hot</th>\n",
              "      <th>num_failed_logins</th>\n",
              "      <th>logged_in</th>\n",
              "      <th>num_compromised</th>\n",
              "      <th>...</th>\n",
              "      <th>x0_REJ</th>\n",
              "      <th>x0_RSTO</th>\n",
              "      <th>x0_RSTOS0</th>\n",
              "      <th>x0_RSTR</th>\n",
              "      <th>x0_S0</th>\n",
              "      <th>x0_S1</th>\n",
              "      <th>x0_S2</th>\n",
              "      <th>x0_S3</th>\n",
              "      <th>x0_SF</th>\n",
              "      <th>x0_SH</th>\n",
              "    </tr>\n",
              "  </thead>\n",
              "  <tbody>\n",
              "    <tr>\n",
              "      <th>0</th>\n",
              "      <td>0</td>\n",
              "      <td>491</td>\n",
              "      <td>0</td>\n",
              "      <td>0</td>\n",
              "      <td>0</td>\n",
              "      <td>0</td>\n",
              "      <td>0</td>\n",
              "      <td>0</td>\n",
              "      <td>0</td>\n",
              "      <td>0</td>\n",
              "      <td>...</td>\n",
              "      <td>0.0</td>\n",
              "      <td>0.0</td>\n",
              "      <td>0.0</td>\n",
              "      <td>0.0</td>\n",
              "      <td>0.0</td>\n",
              "      <td>0.0</td>\n",
              "      <td>0.0</td>\n",
              "      <td>0.0</td>\n",
              "      <td>1.0</td>\n",
              "      <td>0.0</td>\n",
              "    </tr>\n",
              "    <tr>\n",
              "      <th>1</th>\n",
              "      <td>0</td>\n",
              "      <td>146</td>\n",
              "      <td>0</td>\n",
              "      <td>0</td>\n",
              "      <td>0</td>\n",
              "      <td>0</td>\n",
              "      <td>0</td>\n",
              "      <td>0</td>\n",
              "      <td>0</td>\n",
              "      <td>0</td>\n",
              "      <td>...</td>\n",
              "      <td>0.0</td>\n",
              "      <td>0.0</td>\n",
              "      <td>0.0</td>\n",
              "      <td>0.0</td>\n",
              "      <td>0.0</td>\n",
              "      <td>0.0</td>\n",
              "      <td>0.0</td>\n",
              "      <td>0.0</td>\n",
              "      <td>1.0</td>\n",
              "      <td>0.0</td>\n",
              "    </tr>\n",
              "    <tr>\n",
              "      <th>2</th>\n",
              "      <td>0</td>\n",
              "      <td>0</td>\n",
              "      <td>0</td>\n",
              "      <td>0</td>\n",
              "      <td>0</td>\n",
              "      <td>0</td>\n",
              "      <td>0</td>\n",
              "      <td>0</td>\n",
              "      <td>0</td>\n",
              "      <td>0</td>\n",
              "      <td>...</td>\n",
              "      <td>0.0</td>\n",
              "      <td>0.0</td>\n",
              "      <td>0.0</td>\n",
              "      <td>0.0</td>\n",
              "      <td>1.0</td>\n",
              "      <td>0.0</td>\n",
              "      <td>0.0</td>\n",
              "      <td>0.0</td>\n",
              "      <td>0.0</td>\n",
              "      <td>0.0</td>\n",
              "    </tr>\n",
              "    <tr>\n",
              "      <th>3</th>\n",
              "      <td>0</td>\n",
              "      <td>232</td>\n",
              "      <td>8153</td>\n",
              "      <td>0</td>\n",
              "      <td>0</td>\n",
              "      <td>0</td>\n",
              "      <td>0</td>\n",
              "      <td>0</td>\n",
              "      <td>1</td>\n",
              "      <td>0</td>\n",
              "      <td>...</td>\n",
              "      <td>0.0</td>\n",
              "      <td>0.0</td>\n",
              "      <td>0.0</td>\n",
              "      <td>0.0</td>\n",
              "      <td>0.0</td>\n",
              "      <td>0.0</td>\n",
              "      <td>0.0</td>\n",
              "      <td>0.0</td>\n",
              "      <td>1.0</td>\n",
              "      <td>0.0</td>\n",
              "    </tr>\n",
              "    <tr>\n",
              "      <th>4</th>\n",
              "      <td>0</td>\n",
              "      <td>199</td>\n",
              "      <td>420</td>\n",
              "      <td>0</td>\n",
              "      <td>0</td>\n",
              "      <td>0</td>\n",
              "      <td>0</td>\n",
              "      <td>0</td>\n",
              "      <td>1</td>\n",
              "      <td>0</td>\n",
              "      <td>...</td>\n",
              "      <td>0.0</td>\n",
              "      <td>0.0</td>\n",
              "      <td>0.0</td>\n",
              "      <td>0.0</td>\n",
              "      <td>0.0</td>\n",
              "      <td>0.0</td>\n",
              "      <td>0.0</td>\n",
              "      <td>0.0</td>\n",
              "      <td>1.0</td>\n",
              "      <td>0.0</td>\n",
              "    </tr>\n",
              "  </tbody>\n",
              "</table>\n",
              "<p>5 rows × 123 columns</p>\n",
              "</div>\n",
              "      <button class=\"colab-df-convert\" onclick=\"convertToInteractive('df-1770e897-8841-4755-892c-c16a0b5c0af0')\"\n",
              "              title=\"Convert this dataframe to an interactive table.\"\n",
              "              style=\"display:none;\">\n",
              "        \n",
              "  <svg xmlns=\"http://www.w3.org/2000/svg\" height=\"24px\"viewBox=\"0 0 24 24\"\n",
              "       width=\"24px\">\n",
              "    <path d=\"M0 0h24v24H0V0z\" fill=\"none\"/>\n",
              "    <path d=\"M18.56 5.44l.94 2.06.94-2.06 2.06-.94-2.06-.94-.94-2.06-.94 2.06-2.06.94zm-11 1L8.5 8.5l.94-2.06 2.06-.94-2.06-.94L8.5 2.5l-.94 2.06-2.06.94zm10 10l.94 2.06.94-2.06 2.06-.94-2.06-.94-.94-2.06-.94 2.06-2.06.94z\"/><path d=\"M17.41 7.96l-1.37-1.37c-.4-.4-.92-.59-1.43-.59-.52 0-1.04.2-1.43.59L10.3 9.45l-7.72 7.72c-.78.78-.78 2.05 0 2.83L4 21.41c.39.39.9.59 1.41.59.51 0 1.02-.2 1.41-.59l7.78-7.78 2.81-2.81c.8-.78.8-2.07 0-2.86zM5.41 20L4 18.59l7.72-7.72 1.47 1.35L5.41 20z\"/>\n",
              "  </svg>\n",
              "      </button>\n",
              "      \n",
              "  <style>\n",
              "    .colab-df-container {\n",
              "      display:flex;\n",
              "      flex-wrap:wrap;\n",
              "      gap: 12px;\n",
              "    }\n",
              "\n",
              "    .colab-df-convert {\n",
              "      background-color: #E8F0FE;\n",
              "      border: none;\n",
              "      border-radius: 50%;\n",
              "      cursor: pointer;\n",
              "      display: none;\n",
              "      fill: #1967D2;\n",
              "      height: 32px;\n",
              "      padding: 0 0 0 0;\n",
              "      width: 32px;\n",
              "    }\n",
              "\n",
              "    .colab-df-convert:hover {\n",
              "      background-color: #E2EBFA;\n",
              "      box-shadow: 0px 1px 2px rgba(60, 64, 67, 0.3), 0px 1px 3px 1px rgba(60, 64, 67, 0.15);\n",
              "      fill: #174EA6;\n",
              "    }\n",
              "\n",
              "    [theme=dark] .colab-df-convert {\n",
              "      background-color: #3B4455;\n",
              "      fill: #D2E3FC;\n",
              "    }\n",
              "\n",
              "    [theme=dark] .colab-df-convert:hover {\n",
              "      background-color: #434B5C;\n",
              "      box-shadow: 0px 1px 3px 1px rgba(0, 0, 0, 0.15);\n",
              "      filter: drop-shadow(0px 1px 2px rgba(0, 0, 0, 0.3));\n",
              "      fill: #FFFFFF;\n",
              "    }\n",
              "  </style>\n",
              "\n",
              "      <script>\n",
              "        const buttonEl =\n",
              "          document.querySelector('#df-1770e897-8841-4755-892c-c16a0b5c0af0 button.colab-df-convert');\n",
              "        buttonEl.style.display =\n",
              "          google.colab.kernel.accessAllowed ? 'block' : 'none';\n",
              "\n",
              "        async function convertToInteractive(key) {\n",
              "          const element = document.querySelector('#df-1770e897-8841-4755-892c-c16a0b5c0af0');\n",
              "          const dataTable =\n",
              "            await google.colab.kernel.invokeFunction('convertToInteractive',\n",
              "                                                     [key], {});\n",
              "          if (!dataTable) return;\n",
              "\n",
              "          const docLinkHtml = 'Like what you see? Visit the ' +\n",
              "            '<a target=\"_blank\" href=https://colab.research.google.com/notebooks/data_table.ipynb>data table notebook</a>'\n",
              "            + ' to learn more about interactive tables.';\n",
              "          element.innerHTML = '';\n",
              "          dataTable['output_type'] = 'display_data';\n",
              "          await google.colab.output.renderOutput(dataTable, element);\n",
              "          const docLink = document.createElement('div');\n",
              "          docLink.innerHTML = docLinkHtml;\n",
              "          element.appendChild(docLink);\n",
              "        }\n",
              "      </script>\n",
              "    </div>\n",
              "  </div>\n",
              "  "
            ]
          },
          "metadata": {},
          "execution_count": 18
        }
      ]
    },
    {
      "cell_type": "markdown",
      "source": [
        "## Multiclass Classification Dataset"
      ],
      "metadata": {
        "id": "slDHgm65rnOF"
      }
    },
    {
      "cell_type": "markdown",
      "source": [
        "Rename every attack label: 0=normal, 1=DoS, 2=Probe, 3=R2L and 4=U2R.\n",
        "Replace labels column with new labels column"
      ],
      "metadata": {
        "id": "3kMfrOCFuw4q"
      }
    },
    {
      "cell_type": "code",
      "source": [
        "dataset_train_multiclass = dataset_train.copy()\n",
        "dataset_train_multiclass = dataset_train_multiclass.replace({ 'normal' : 0, 'neptune' : 1 ,'back': 1, 'land': 1, 'pod': 1, 'smurf': 1, 'teardrop': 1,'mailbomb': 1, 'apache2': 1, 'processtable': 1, 'udpstorm': 1, 'worm': 1,\n",
        "                           'ipsweep' : 2,'nmap' : 2,'portsweep' : 2,'satan' : 2,'mscan' : 2,'saint' : 2\n",
        "                           ,'ftp_write': 3,'guess_passwd': 3,'imap': 3,'multihop': 3,'phf': 3,'spy': 3,'warezclient': 3,'warezmaster': 3,'sendmail': 3,'named': 3,'snmpgetattack': 3,'snmpguess': 3,'xlock': 3,'xsnoop': 3,'httptunnel': 3,\n",
        "                           'buffer_overflow': 4,'loadmodule': 4,'perl': 4,'rootkit': 4,'ps': 4,'sqlattack': 4,'xterm': 4})"
      ],
      "metadata": {
        "id": "piqKT8ZIrp4W"
      },
      "execution_count": 19,
      "outputs": []
    },
    {
      "cell_type": "code",
      "source": [
        "print(dataset_train_multiclass['label'])"
      ],
      "metadata": {
        "colab": {
          "base_uri": "https://localhost:8080/"
        },
        "id": "18Lthp2kvZlm",
        "outputId": "b798bd29-64bd-4ff6-ffb4-4f9a01918646"
      },
      "execution_count": 20,
      "outputs": [
        {
          "output_type": "stream",
          "name": "stdout",
          "text": [
            "0         0\n",
            "1         0\n",
            "2         1\n",
            "3         0\n",
            "4         0\n",
            "         ..\n",
            "125968    1\n",
            "125969    0\n",
            "125970    0\n",
            "125971    1\n",
            "125972    0\n",
            "Name: label, Length: 125973, dtype: int64\n"
          ]
        }
      ]
    },
    {
      "cell_type": "code",
      "source": [
        "dataset_test_multiclass = dataset_test.copy()\n",
        "dataset_test_multiclass = dataset_test_multiclass.replace({ 'normal' : 0, 'neptune' : 1 ,'back': 1, 'land': 1, 'pod': 1, 'smurf': 1, 'teardrop': 1,'mailbomb': 1, 'apache2': 1, 'processtable': 1, 'udpstorm': 1, 'worm': 1,\n",
        "                           'ipsweep' : 2,'nmap' : 2,'portsweep' : 2,'satan' : 2,'mscan' : 2,'saint' : 2\n",
        "                           ,'ftp_write': 3,'guess_passwd': 3,'imap': 3,'multihop': 3,'phf': 3,'spy': 3,'warezclient': 3,'warezmaster': 3,'sendmail': 3,'named': 3,'snmpgetattack': 3,'snmpguess': 3,'xlock': 3,'xsnoop': 3,'httptunnel': 3,\n",
        "                           'buffer_overflow': 4,'loadmodule': 4,'perl': 4,'rootkit': 4,'ps': 4,'sqlattack': 4,'xterm': 4})"
      ],
      "metadata": {
        "id": "Y10mINIwvLIk"
      },
      "execution_count": 21,
      "outputs": []
    },
    {
      "cell_type": "code",
      "source": [
        "print(dataset_test_multiclass['label'])"
      ],
      "metadata": {
        "colab": {
          "base_uri": "https://localhost:8080/"
        },
        "id": "90UmIMYavjJZ",
        "outputId": "e65fc4a0-0037-4dc3-c924-ec2bf030b4ed"
      },
      "execution_count": 22,
      "outputs": [
        {
          "output_type": "stream",
          "name": "stdout",
          "text": [
            "0        1\n",
            "1        1\n",
            "2        0\n",
            "3        2\n",
            "4        2\n",
            "        ..\n",
            "22539    0\n",
            "22540    0\n",
            "22541    1\n",
            "22542    0\n",
            "22543    2\n",
            "Name: label, Length: 22544, dtype: int64\n"
          ]
        }
      ]
    },
    {
      "cell_type": "markdown",
      "source": [
        "## Save various version of multiclass datasets"
      ],
      "metadata": {
        "id": "xT7g8fks3eA3"
      }
    },
    {
      "cell_type": "markdown",
      "source": [
        "Scaling"
      ],
      "metadata": {
        "id": "jdIyibE85-ew"
      }
    },
    {
      "cell_type": "code",
      "source": [
        "x_train = dataset_train_multiclass.drop('label',1)\n",
        "y_train = dataset_train_multiclass.label\n",
        "\n",
        "x_test = dataset_test_multiclass.drop('label',1)\n",
        "y_test = dataset_test_multiclass.label"
      ],
      "metadata": {
        "id": "7E1fIDPb6Ft-"
      },
      "execution_count": 23,
      "outputs": []
    },
    {
      "cell_type": "code",
      "source": [
        "colNames = list(x_train)\n",
        "colNames_test = list(x_test)"
      ],
      "metadata": {
        "id": "sZKudu3W7Nej"
      },
      "execution_count": 24,
      "outputs": []
    },
    {
      "cell_type": "code",
      "source": [
        "scaler = preprocessing.StandardScaler()\n",
        "scaler.fit(x_train)\n",
        "x_train = scaler.transform(x_train)\n",
        "x_test = scaler.transform(x_test)"
      ],
      "metadata": {
        "id": "4qoqFepp3iFW"
      },
      "execution_count": 25,
      "outputs": []
    },
    {
      "cell_type": "markdown",
      "source": [
        "Initial Dataset"
      ],
      "metadata": {
        "id": "cMQIW96g63sJ"
      }
    },
    {
      "cell_type": "code",
      "source": [
        "x_train = pd.DataFrame(x_train)\n",
        "x_train.columns= colNames\n",
        "y_train = pd.DataFrame(y_train)\n",
        "y_train.columns = ['label']\n",
        "train_frame = [x_train,y_train]\n",
        "train_final_binary = pd.concat(train_frame,axis=1)\n",
        "train_final_binary.to_csv('train_multiclass.csv',index = False)"
      ],
      "metadata": {
        "id": "P8PGWGTZ6apz"
      },
      "execution_count": 26,
      "outputs": []
    },
    {
      "cell_type": "code",
      "source": [
        "x_test = pd.DataFrame(x_test)\n",
        "x_test.columns= colNames\n",
        "y_test = pd.DataFrame(y_test)\n",
        "y_test.columns = ['label']\n",
        "test_frame = [x_test,y_test]\n",
        "test_binary = pd.concat(test_frame,axis=1)\n",
        "test_binary.to_csv('test_multiclass.csv',index = False)"
      ],
      "metadata": {
        "id": "Ka9sskvS7bfX"
      },
      "execution_count": 27,
      "outputs": []
    },
    {
      "cell_type": "markdown",
      "source": [
        "PCA"
      ],
      "metadata": {
        "id": "Zy7HJPbk7scL"
      }
    },
    {
      "cell_type": "code",
      "source": [
        "from sklearn.decomposition import PCA # import pca"
      ],
      "metadata": {
        "id": "O0xepXQt7sB3"
      },
      "execution_count": 28,
      "outputs": []
    },
    {
      "cell_type": "code",
      "source": [
        "# plot the variance explanation of the 29 components needed to cover 95% initial data variance \n",
        "pca = PCA(None)\n",
        "pca.fit(x_train)\n",
        "components = len(pca.explained_variance_ratio_)\n",
        "plt.plot(range(1,components+1), \n",
        "np.cumsum(pca.explained_variance_ratio_ * 100))\n",
        "plt.xlabel(\"Number of components\")\n",
        "plt.ylabel(\"Explained variance (%)\")"
      ],
      "metadata": {
        "colab": {
          "base_uri": "https://localhost:8080/",
          "height": 296
        },
        "id": "uTovQJGO70YB",
        "outputId": "d93b0c83-1561-499d-d2b2-07ec85c59902"
      },
      "execution_count": 29,
      "outputs": [
        {
          "output_type": "execute_result",
          "data": {
            "text/plain": [
              "Text(0, 0.5, 'Explained variance (%)')"
            ]
          },
          "metadata": {},
          "execution_count": 29
        },
        {
          "output_type": "display_data",
          "data": {
            "text/plain": [
              "<Figure size 432x288 with 1 Axes>"
            ],
            "image/png": "[encoded data removed]"
          },
          "metadata": {
            "needs_background": "light"
          }
        }
      ]
    },
    {
      "cell_type": "code",
      "source": [
        "# Make an instance of the Model\n",
        "pca = PCA(.95) # 0.95: means we want 95% of data variance"
      ],
      "metadata": {
        "id": "TlOU7JlT72yl"
      },
      "execution_count": 30,
      "outputs": []
    },
    {
      "cell_type": "code",
      "source": [
        "pca.fit(x_train)"
      ],
      "metadata": {
        "colab": {
          "base_uri": "https://localhost:8080/"
        },
        "id": "lNr4QcwY77qo",
        "outputId": "0b09eb9a-5a7b-4c40-c48f-65f5892adaa8"
      },
      "execution_count": 31,
      "outputs": [
        {
          "output_type": "execute_result",
          "data": {
            "text/plain": [
              "PCA(n_components=0.95)"
            ]
          },
          "metadata": {},
          "execution_count": 31
        }
      ]
    },
    {
      "cell_type": "code",
      "source": [
        "print(pca.n_components_)"
      ],
      "metadata": {
        "colab": {
          "base_uri": "https://localhost:8080/"
        },
        "id": "0uxcMh6w79oi",
        "outputId": "4655e009-e940-461a-be45-37fb3309c1ec"
      },
      "execution_count": 32,
      "outputs": [
        {
          "output_type": "stream",
          "name": "stdout",
          "text": [
            "89\n"
          ]
        }
      ]
    },
    {
      "cell_type": "code",
      "source": [
        "x_train_pca = pca.transform(x_train)  # perform pca\n",
        "x_test_pca= pca.transform(x_test)"
      ],
      "metadata": {
        "id": "VQkeHXIn7_68"
      },
      "execution_count": 33,
      "outputs": []
    },
    {
      "cell_type": "code",
      "source": [
        "x_train_pca = pd.DataFrame(x_train_pca)\n",
        "y_train = pd.DataFrame(y_train)\n",
        "y_train.columns = ['label']\n",
        "train_frame = [x_train_pca,y_train]\n",
        "train_final_pca = pd.concat(train_frame,axis=1)\n",
        "train_final_pca.to_csv('train_pca_multiclass.csv',index = False)"
      ],
      "metadata": {
        "id": "OqdpTPs_8KHm"
      },
      "execution_count": 34,
      "outputs": []
    },
    {
      "cell_type": "code",
      "source": [
        "x_test_pca = pd.DataFrame(x_test_pca)\n",
        "y_test = pd.DataFrame(y_test)\n",
        "y_test.columns = ['label']\n",
        "test_frame = [x_test_pca,y_test]\n",
        "testall = pd.concat(test_frame,axis=1)\n",
        "testall.to_csv('test_pca_multiclass.csv',index = False)"
      ],
      "metadata": {
        "id": "-hdS-8VU8NLP"
      },
      "execution_count": 35,
      "outputs": []
    },
    {
      "cell_type": "markdown",
      "source": [
        "Random Forest"
      ],
      "metadata": {
        "id": "OORt3leI8eMl"
      }
    },
    {
      "cell_type": "code",
      "source": [
        "from sklearn.ensemble import RandomForestClassifier\n",
        "\n",
        "rf = RandomForestClassifier(n_estimators=100, max_depth=3,\n",
        "                                 bootstrap=True, n_jobs=-1,\n",
        "                                 random_state=0)\n",
        "rf.fit(x_train.values, y_train.values.ravel())\n",
        "\n",
        "feature_imp = pd.Series(rf.feature_importances_, \n",
        "                        index=x_train.columns).sort_values(ascending=False)"
      ],
      "metadata": {
        "id": "GoDK2oas8gJ0"
      },
      "execution_count": 36,
      "outputs": []
    },
    {
      "cell_type": "code",
      "source": [
        "for i in range(0,len(feature_imp)):\n",
        "    print(i,end =\" \")\n",
        "    print(feature_imp.index[i],end = \": \")\n",
        "    print(feature_imp[i])"
      ],
      "metadata": {
        "id": "zmrohgNe8kfu",
        "colab": {
          "base_uri": "https://localhost:8080/"
        },
        "outputId": "ad05a568-6878-4cd0-a801-197d0bb20fb7"
      },
      "execution_count": 37,
      "outputs": [
        {
          "output_type": "stream",
          "name": "stdout",
          "text": [
            "0 src_bytes: 0.11761057888735507\n",
            "1 same_srv_rate: 0.09903527881066344\n",
            "2 diff_srv_rate: 0.08845012427553584\n",
            "3 srv_serror_rate: 0.07792661662699422\n",
            "4 dst_bytes: 0.0661045704613838\n",
            "5 x0_SF: 0.05711534735837838\n",
            "6 dst_host_srv_serror_rate: 0.047631763415727245\n",
            "7 dst_host_serror_rate: 0.04697491170725497\n",
            "8 x0_S0: 0.04443622205011814\n",
            "9 serror_rate: 0.04288115756373467\n",
            "10 count: 0.040864795673259194\n",
            "11 logged_in: 0.0355105789498431\n",
            "12 dst_host_same_srv_rate: 0.02868622036825643\n",
            "13 dst_host_diff_srv_rate: 0.027252719136030758\n",
            "14 dst_host_same_src_port_rate: 0.02362445657556562\n",
            "15 srv_count: 0.015045706212928127\n",
            "16 dst_host_srv_count: 0.014577543910608934\n",
            "17 x0_eco_i: 0.012730046731574587\n",
            "18 x0_http: 0.012582092959915638\n",
            "19 x0_icmp: 0.012442444448596289\n",
            "20 rerror_rate: 0.010572978271201983\n",
            "21 dst_host_srv_diff_host_rate: 0.009310129489417653\n",
            "22 srv_diff_host_rate: 0.008988019743005253\n",
            "23 dst_host_count: 0.008462817500893885\n",
            "24 x0_domain_u: 0.0066549186728689326\n",
            "25 dst_host_srv_rerror_rate: 0.006593703070709251\n",
            "26 x0_ecr_i: 0.006540495064807061\n",
            "27 x0_private: 0.006382220627407286\n",
            "28 dst_host_rerror_rate: 0.004075488030796652\n",
            "29 x0_tcp: 0.003918188704723507\n",
            "30 x0_udp: 0.00309230961034056\n",
            "31 x0_RSTR: 0.0027488276063201834\n",
            "32 srv_rerror_rate: 0.0022338829751507266\n",
            "33 x0_other: 0.002162005430116033\n",
            "34 duration: 0.0021519426599865814\n",
            "35 x0_ftp_data: 0.0012856748736067819\n",
            "36 num_compromised: 0.0008119838646819634\n",
            "37 wrong_fragment: 0.0007424202613669606\n",
            "38 hot: 0.0006165521116027828\n",
            "39 x0_SH: 0.0004380948026349765\n",
            "40 x0_REJ: 0.00029494663739983683\n",
            "41 x0_S1: 0.00012226995090203001\n",
            "42 x0_RSTO: 0.00011163573114172697\n",
            "43 x0_whois: 4.931363649179923e-05\n",
            "44 is_guest_login: 4.6186323610838635e-05\n",
            "45 x0_Z39_50: 3.637261143157209e-05\n",
            "46 x0_finger: 1.8675103692237586e-05\n",
            "47 num_failed_logins: 1.2292560368741344e-05\n",
            "48 x0_http_443: 1.077311285602509e-05\n",
            "49 x0_telnet: 7.825967952806667e-06\n",
            "50 x0_uucp_path: 5.133964268992301e-06\n",
            "51 num_file_creations: 4.821348440998071e-06\n",
            "52 x0_ldap: 4.359408557516182e-06\n",
            "53 x0_S3: 2.429721573747377e-06\n",
            "54 x0_X11: 2.176091000896468e-06\n",
            "55 x0_imap4: 1.2959327104657576e-06\n",
            "56 x0_S2: 1.2808265560290279e-06\n",
            "57 x0_urh_i: 1.153601791927957e-06\n",
            "58 num_root: 1.1349718339419198e-06\n",
            "59 root_shell: 4.738036774918341e-08\n",
            "60 x0_courier: 4.539912181846975e-08\n",
            "61 x0_sql_net: 2.225648628134249e-10\n",
            "62 x0_systat: 0.0\n",
            "63 x0_sunrpc: 0.0\n",
            "64 x0_supdup: 0.0\n",
            "65 x0_auth: 0.0\n",
            "66 x0_ssh: 0.0\n",
            "67 x0_shell: 0.0\n",
            "68 x0_rje: 0.0\n",
            "69 x0_remote_job: 0.0\n",
            "70 x0_red_i: 0.0\n",
            "71 x0_smtp: 0.0\n",
            "72 x0_urp_i: 0.0\n",
            "73 x0_tftp_u: 0.0\n",
            "74 x0_tim_i: 0.0\n",
            "75 x0_time: 0.0\n",
            "76 x0_pop_3: 0.0\n",
            "77 x0_uucp: 0.0\n",
            "78 x0_vmnet: 0.0\n",
            "79 x0_OTH: 0.0\n",
            "80 x0_IRC: 0.0\n",
            "81 num_shells: 0.0\n",
            "82 x0_RSTOS0: 0.0\n",
            "83 urgent: 0.0\n",
            "84 num_access_files: 0.0\n",
            "85 num_outbound_cmds: 0.0\n",
            "86 land: 0.0\n",
            "87 x0_printer: 0.0\n",
            "88 x0_nntp: 0.0\n",
            "89 x0_pop_2: 0.0\n",
            "90 x0_http_2784: 0.0\n",
            "91 x0_csnet_ns: 0.0\n",
            "92 x0_ctf: 0.0\n",
            "93 x0_daytime: 0.0\n",
            "94 x0_discard: 0.0\n",
            "95 x0_domain: 0.0\n",
            "96 x0_echo: 0.0\n",
            "97 su_attempted: 0.0\n",
            "98 x0_efs: 0.0\n",
            "99 x0_exec: 0.0\n",
            "100 x0_ftp: 0.0\n",
            "101 x0_gopher: 0.0\n",
            "102 x0_harvest: 0.0\n",
            "103 x0_hostnames: 0.0\n",
            "104 x0_aol: 0.0\n",
            "105 x0_http_8001: 0.0\n",
            "106 x0_pm_dump: 0.0\n",
            "107 x0_iso_tsap: 0.0\n",
            "108 x0_klogin: 0.0\n",
            "109 x0_kshell: 0.0\n",
            "110 x0_link: 0.0\n",
            "111 x0_login: 0.0\n",
            "112 x0_mtp: 0.0\n",
            "113 x0_name: 0.0\n",
            "114 x0_netbios_dgm: 0.0\n",
            "115 is_host_login: 0.0\n",
            "116 x0_netbios_ssn: 0.0\n",
            "117 x0_netstat: 0.0\n",
            "118 x0_nnsp: 0.0\n",
            "119 x0_bgp: 0.0\n",
            "120 x0_ntp_u: 0.0\n",
            "121 x0_netbios_ns: 0.0\n"
          ]
        }
      ]
    },
    {
      "cell_type": "markdown",
      "source": [
        "RF0.05"
      ],
      "metadata": {
        "id": "4iJll28z9GQ1"
      }
    },
    {
      "cell_type": "code",
      "source": [
        "new_features = [] # list containing the new features names\n",
        "for i in range(0,len(feature_imp)): # for for the range of all features\n",
        "    if feature_imp[i] > 0.05: # check if importance is over the threshold\n",
        "        new_features.append(feature_imp.index[i])\n",
        "print(new_features)"
      ],
      "metadata": {
        "colab": {
          "base_uri": "https://localhost:8080/"
        },
        "id": "FfBFJpko8mXx",
        "outputId": "63b5a64a-d329-4183-c8ee-37cae0a41dc5"
      },
      "execution_count": 38,
      "outputs": [
        {
          "output_type": "stream",
          "name": "stdout",
          "text": [
            "['src_bytes', 'same_srv_rate', 'diff_srv_rate', 'srv_serror_rate', 'dst_bytes', 'x0_SF']\n"
          ]
        }
      ]
    },
    {
      "cell_type": "code",
      "source": [
        "x_train_05 = x_train[new_features] #cast new dataframes\n",
        "x_test_05 = x_test[new_features]"
      ],
      "metadata": {
        "id": "UA_YWhjn8uOc"
      },
      "execution_count": 39,
      "outputs": []
    },
    {
      "cell_type": "code",
      "source": [
        "x_train_05 = pd.DataFrame(x_train_05)\n",
        "x_train_05.columns= new_features\n",
        "y_train = pd.DataFrame(y_train)\n",
        "y_train.columns = ['label']\n",
        "train_frame = [x_train_05,y_train]\n",
        "train_final_rf05 = pd.concat(train_frame,axis=1)\n",
        "train_final_rf05.to_csv('train_rf05_multiclass.csv',index = False)"
      ],
      "metadata": {
        "id": "xYcfeAyq8x_A"
      },
      "execution_count": 40,
      "outputs": []
    },
    {
      "cell_type": "code",
      "source": [
        "x_test_05 = pd.DataFrame(x_test_05)\n",
        "x_test_05.columns= new_features\n",
        "y_test = pd.DataFrame(y_test)\n",
        "y_test.columns = ['label']\n",
        "test_frame = [x_test_05,y_test]\n",
        "test_rf05 = pd.concat(test_frame,axis=1)\n",
        "test_rf05.to_csv('test_rf05_multiclass.csv',index = False)"
      ],
      "metadata": {
        "id": "TJBuP2Wr8zoE"
      },
      "execution_count": 41,
      "outputs": []
    },
    {
      "cell_type": "markdown",
      "source": [
        "RF0.005"
      ],
      "metadata": {
        "id": "Mc_DAFZA9HpL"
      }
    },
    {
      "cell_type": "code",
      "source": [
        "new_features = [] # list containing the new features names\n",
        "for i in range(0,len(feature_imp)): # for for the range of all features\n",
        "    if feature_imp[i] > 0.005: # check if importance is over the threshold\n",
        "        new_features.append(feature_imp.index[i])\n",
        "print(new_features)"
      ],
      "metadata": {
        "colab": {
          "base_uri": "https://localhost:8080/"
        },
        "id": "vkvRX2fw9I4x",
        "outputId": "590b4a39-4fc6-411e-a59f-d68a9aa80755"
      },
      "execution_count": 42,
      "outputs": [
        {
          "output_type": "stream",
          "name": "stdout",
          "text": [
            "['src_bytes', 'same_srv_rate', 'diff_srv_rate', 'srv_serror_rate', 'dst_bytes', 'x0_SF', 'dst_host_srv_serror_rate', 'dst_host_serror_rate', 'x0_S0', 'serror_rate', 'count', 'logged_in', 'dst_host_same_srv_rate', 'dst_host_diff_srv_rate', 'dst_host_same_src_port_rate', 'srv_count', 'dst_host_srv_count', 'x0_eco_i', 'x0_http', 'x0_icmp', 'rerror_rate', 'dst_host_srv_diff_host_rate', 'srv_diff_host_rate', 'dst_host_count', 'x0_domain_u', 'dst_host_srv_rerror_rate', 'x0_ecr_i', 'x0_private']\n"
          ]
        }
      ]
    },
    {
      "cell_type": "code",
      "source": [
        "x_train_005 = x_train[new_features] #cast new dataframes\n",
        "x_test_005 = x_test[new_features]"
      ],
      "metadata": {
        "id": "k6YO-Bzk9Pcs"
      },
      "execution_count": 43,
      "outputs": []
    },
    {
      "cell_type": "code",
      "source": [
        "x_train_005 = pd.DataFrame(x_train_005)\n",
        "x_train_005.columns= new_features\n",
        "y_train = pd.DataFrame(y_train)\n",
        "y_train.columns = ['label']\n",
        "train_frame = [x_train_005,y_train]\n",
        "train_final_rf005 = pd.concat(train_frame,axis=1)\n",
        "train_final_rf005.to_csv('train_rf005_multiclass.csv',index = False)"
      ],
      "metadata": {
        "id": "ukBSkg1I9UNz"
      },
      "execution_count": 44,
      "outputs": []
    },
    {
      "cell_type": "code",
      "source": [
        "x_test_005 = pd.DataFrame(x_test_005)\n",
        "x_test_005.columns= new_features\n",
        "y_test = pd.DataFrame(y_test)\n",
        "y_test.columns = ['label']\n",
        "test_frame = [x_test_005,y_test]\n",
        "test_rf005 = pd.concat(test_frame,axis=1)\n",
        "test_rf005.to_csv('test_rf005_multiclass.csv',index = False)"
      ],
      "metadata": {
        "id": "yVFjDjy69WPL"
      },
      "execution_count": 45,
      "outputs": []
    },
    {
      "cell_type": "markdown",
      "source": [
        "ANOVA TESTING"
      ],
      "metadata": {
        "id": "T115uIKp9mg2"
      }
    },
    {
      "cell_type": "code",
      "source": [
        "from sklearn.feature_selection import SelectPercentile, f_classif\n",
        "np.seterr(divide='ignore', invalid='ignore');\n",
        "selector=SelectPercentile(f_classif, percentile=10)\n",
        "x_train_new = selector.fit_transform(x_train,y_train)\n",
        "x_train_new.shape"
      ],
      "metadata": {
        "colab": {
          "base_uri": "https://localhost:8080/"
        },
        "id": "sfyS4dAW9nvk",
        "outputId": "281cd025-cd3f-431f-c233-5655fb787919"
      },
      "execution_count": 46,
      "outputs": [
        {
          "output_type": "execute_result",
          "data": {
            "text/plain": [
              "(125973, 13)"
            ]
          },
          "metadata": {},
          "execution_count": 46
        }
      ]
    },
    {
      "cell_type": "code",
      "source": [
        "true=selector.get_support()\n",
        "newcolindex=[i for i, x in enumerate(true) if x]\n",
        "newcolname=list(colNames[i] for i in newcolindex)\n",
        "newcolname"
      ],
      "metadata": {
        "colab": {
          "base_uri": "https://localhost:8080/"
        },
        "id": "8ku6X8Pd9qCN",
        "outputId": "2cb719c4-996c-4158-f5cf-f7c970f4d36d"
      },
      "execution_count": 47,
      "outputs": [
        {
          "output_type": "execute_result",
          "data": {
            "text/plain": [
              "['logged_in',\n",
              " 'count',\n",
              " 'serror_rate',\n",
              " 'srv_serror_rate',\n",
              " 'same_srv_rate',\n",
              " 'dst_host_srv_count',\n",
              " 'dst_host_same_srv_rate',\n",
              " 'dst_host_same_src_port_rate',\n",
              " 'dst_host_serror_rate',\n",
              " 'dst_host_srv_serror_rate',\n",
              " 'x0_http',\n",
              " 'x0_S0',\n",
              " 'x0_SF']"
            ]
          },
          "metadata": {},
          "execution_count": 47
        }
      ]
    },
    {
      "cell_type": "code",
      "source": [
        "x_train_anova = x_train[newcolname] #cast new dataframes\n",
        "x_test_anova = x_test[newcolname]"
      ],
      "metadata": {
        "id": "Rmt0Rsc19wnA"
      },
      "execution_count": 48,
      "outputs": []
    },
    {
      "cell_type": "code",
      "source": [
        "x_train_anova = pd.DataFrame(x_train_anova)\n",
        "x_train_anova.columns= newcolname\n",
        "y_train = pd.DataFrame(y_train)\n",
        "y_train.columns = ['label']\n",
        "train_frame = [x_train_anova,y_train]\n",
        "train_final_anova = pd.concat(train_frame,axis=1)\n",
        "train_final_anova.to_csv('train_anova_multiclass.csv',index = False)"
      ],
      "metadata": {
        "id": "tBwh2YAV9z6q"
      },
      "execution_count": 49,
      "outputs": []
    },
    {
      "cell_type": "code",
      "source": [
        "x_test_anova = pd.DataFrame(x_test_anova)\n",
        "x_test_anova.columns= newcolname\n",
        "y_test = pd.DataFrame(y_test)\n",
        "y_test.columns = ['label']\n",
        "test_frame = [x_test_anova,y_test]\n",
        "test_anova = pd.concat(test_frame,axis=1)\n",
        "test_anova.to_csv('test_anova_multiclass.csv',index = False)"
      ],
      "metadata": {
        "id": "r-bnoT7G95er"
      },
      "execution_count": 50,
      "outputs": []
    }
  ]
}