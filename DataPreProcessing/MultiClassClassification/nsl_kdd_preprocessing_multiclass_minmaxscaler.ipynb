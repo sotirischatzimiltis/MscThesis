{
  "nbformat": 4,
  "nbformat_minor": 0,
  "metadata": {
    "colab": {
      "name": "nsl_kdd_preprocessing_multiclass_minmaxscaler.ipynb",
      "provenance": [],
      "collapsed_sections": [
        "TLL9El_bjAkN"
      ]
    },
    "kernelspec": {
      "name": "python3",
      "display_name": "Python 3"
    },
    "language_info": {
      "name": "python"
    }
  },
  "cells": [
    {
      "cell_type": "markdown",
      "source": [
        "[![Open In Colab](https://colab.research.google.com/assets/colab-badge.svg)](https://colab.research.google.com/github/sotirischatzimiltis/MscThesis/blob/main/DataPreProcessing/MultiClassClassification/nsl_kdd_preprocessing_multiclass_minmaxscaler.ipynb)"
      ],
      "metadata": {
        "id": "gMFaAzD5P3Ke"
      }
    },
    {
      "cell_type": "markdown",
      "source": [
        "# Import Libraries"
      ],
      "metadata": {
        "id": "TLL9El_bjAkN"
      }
    },
    {
      "cell_type": "code",
      "source": [
        "import numpy as np\n",
        "import pandas as pd\n",
        "import matplotlib.pyplot as plt\n",
        "from sklearn.preprocessing import LabelEncoder,OneHotEncoder\n",
        "from sklearn import preprocessing\n",
        "from sklearn.feature_selection import RFE\n",
        "from sklearn.tree import DecisionTreeClassifier\n",
        "from sklearn.model_selection import train_test_split # Import train_test_split function\n",
        "import warnings\n",
        "warnings.filterwarnings(\"ignore\")"
      ],
      "metadata": {
        "id": "qCox1LMBjAMZ"
      },
      "execution_count": null,
      "outputs": []
    },
    {
      "cell_type": "markdown",
      "source": [
        "# Read Datasets"
      ],
      "metadata": {
        "id": "Wrsbhnt7kj-I"
      }
    },
    {
      "cell_type": "code",
      "execution_count": null,
      "metadata": {
        "colab": {
          "base_uri": "https://localhost:8080/"
        },
        "id": "xUTScBIHi7BB",
        "outputId": "97a2a5c2-2ac6-4116-b39f-04ef30b91c74"
      },
      "outputs": [
        {
          "output_type": "stream",
          "name": "stdout",
          "text": [
            "KDDTrain.txt exists\n",
            "KDDTest.txt exists\n"
          ]
        }
      ],
      "source": [
        "train_url=\"https://gitlab.com/schatz06/smart-grid-metering-ids/-/raw/main/NSLKDD/KDDTrain.txt\"\n",
        "test_url= \"https://gitlab.com/schatz06/smart-grid-metering-ids/-/raw/main/NSLKDD/KDDTest.txt\"\n",
        "TRAIN_FILE=\"KDDTrain.txt\"\n",
        "TEST_FILE=\"KDDTest.txt\"\n",
        "![ -f \"$TRAIN_FILE\" ] && echo \"$TRAIN_FILE exists\" || wget \"$train_url\"\n",
        "![ -f \"$TEST_FILE\" ] && echo \"$TEST_FILE exists\" || wget \"$test_url\""
      ]
    },
    {
      "cell_type": "code",
      "source": [
        "dataset_train = pd.read_csv(\"KDDTrain.txt\", sep=\",\",header =None)\n",
        "dataset_train = dataset_train.iloc[:,:-1] # remove difficulty column"
      ],
      "metadata": {
        "id": "rYPYy-jUkIP1"
      },
      "execution_count": null,
      "outputs": []
    },
    {
      "cell_type": "code",
      "source": [
        "dataset_test = pd.read_csv(\"KDDTest.txt\",sep=\",\",header=None)\n",
        "dataset_test = dataset_test.iloc[:,:-1] # remove difficulty column"
      ],
      "metadata": {
        "id": "GGmZl5LVkL3L"
      },
      "execution_count": null,
      "outputs": []
    },
    {
      "cell_type": "markdown",
      "source": [
        "Sample View of Training and Test datasets"
      ],
      "metadata": {
        "id": "R6iDkOK6kwjC"
      }
    },
    {
      "cell_type": "code",
      "source": [
        "dataset_train.head()"
      ],
      "metadata": {
        "colab": {
          "base_uri": "https://localhost:8080/",
          "height": 300
        },
        "id": "apU9SaKykRN7",
        "outputId": "cb80a2a2-03cb-4785-d156-c78cf99e2cec"
      },
      "execution_count": null,
      "outputs": [
        {
          "output_type": "execute_result",
          "data": {
            "text/plain": [
              "   0    1         2   3    4     5   6   7   8   9   ...   32    33    34  \\\n",
              "0   0  tcp  ftp_data  SF  491     0   0   0   0   0  ...   25  0.17  0.03   \n",
              "1   0  udp     other  SF  146     0   0   0   0   0  ...    1  0.00  0.60   \n",
              "2   0  tcp   private  S0    0     0   0   0   0   0  ...   26  0.10  0.05   \n",
              "3   0  tcp      http  SF  232  8153   0   0   0   0  ...  255  1.00  0.00   \n",
              "4   0  tcp      http  SF  199   420   0   0   0   0  ...  255  1.00  0.00   \n",
              "\n",
              "     35    36    37    38    39    40       41  \n",
              "0  0.17  0.00  0.00  0.00  0.05  0.00   normal  \n",
              "1  0.88  0.00  0.00  0.00  0.00  0.00   normal  \n",
              "2  0.00  0.00  1.00  1.00  0.00  0.00  neptune  \n",
              "3  0.03  0.04  0.03  0.01  0.00  0.01   normal  \n",
              "4  0.00  0.00  0.00  0.00  0.00  0.00   normal  \n",
              "\n",
              "[5 rows x 42 columns]"
            ],
            "text/html": [
              "\n",
              "  <div id=\"df-bc444679-6004-402e-be2f-be6b98034017\">\n",
              "    <div class=\"colab-df-container\">\n",
              "      <div>\n",
              "<style scoped>\n",
              "    .dataframe tbody tr th:only-of-type {\n",
              "        vertical-align: middle;\n",
              "    }\n",
              "\n",
              "    .dataframe tbody tr th {\n",
              "        vertical-align: top;\n",
              "    }\n",
              "\n",
              "    .dataframe thead th {\n",
              "        text-align: right;\n",
              "    }\n",
              "</style>\n",
              "<table border=\"1\" class=\"dataframe\">\n",
              "  <thead>\n",
              "    <tr style=\"text-align: right;\">\n",
              "      <th></th>\n",
              "      <th>0</th>\n",
              "      <th>1</th>\n",
              "      <th>2</th>\n",
              "      <th>3</th>\n",
              "      <th>4</th>\n",
              "      <th>5</th>\n",
              "      <th>6</th>\n",
              "      <th>7</th>\n",
              "      <th>8</th>\n",
              "      <th>9</th>\n",
              "      <th>...</th>\n",
              "      <th>32</th>\n",
              "      <th>33</th>\n",
              "      <th>34</th>\n",
              "      <th>35</th>\n",
              "      <th>36</th>\n",
              "      <th>37</th>\n",
              "      <th>38</th>\n",
              "      <th>39</th>\n",
              "      <th>40</th>\n",
              "      <th>41</th>\n",
              "    </tr>\n",
              "  </thead>\n",
              "  <tbody>\n",
              "    <tr>\n",
              "      <th>0</th>\n",
              "      <td>0</td>\n",
              "      <td>tcp</td>\n",
              "      <td>ftp_data</td>\n",
              "      <td>SF</td>\n",
              "      <td>491</td>\n",
              "      <td>0</td>\n",
              "      <td>0</td>\n",
              "      <td>0</td>\n",
              "      <td>0</td>\n",
              "      <td>0</td>\n",
              "      <td>...</td>\n",
              "      <td>25</td>\n",
              "      <td>0.17</td>\n",
              "      <td>0.03</td>\n",
              "      <td>0.17</td>\n",
              "      <td>0.00</td>\n",
              "      <td>0.00</td>\n",
              "      <td>0.00</td>\n",
              "      <td>0.05</td>\n",
              "      <td>0.00</td>\n",
              "      <td>normal</td>\n",
              "    </tr>\n",
              "    <tr>\n",
              "      <th>1</th>\n",
              "      <td>0</td>\n",
              "      <td>udp</td>\n",
              "      <td>other</td>\n",
              "      <td>SF</td>\n",
              "      <td>146</td>\n",
              "      <td>0</td>\n",
              "      <td>0</td>\n",
              "      <td>0</td>\n",
              "      <td>0</td>\n",
              "      <td>0</td>\n",
              "      <td>...</td>\n",
              "      <td>1</td>\n",
              "      <td>0.00</td>\n",
              "      <td>0.60</td>\n",
              "      <td>0.88</td>\n",
              "      <td>0.00</td>\n",
              "      <td>0.00</td>\n",
              "      <td>0.00</td>\n",
              "      <td>0.00</td>\n",
              "      <td>0.00</td>\n",
              "      <td>normal</td>\n",
              "    </tr>\n",
              "    <tr>\n",
              "      <th>2</th>\n",
              "      <td>0</td>\n",
              "      <td>tcp</td>\n",
              "      <td>private</td>\n",
              "      <td>S0</td>\n",
              "      <td>0</td>\n",
              "      <td>0</td>\n",
              "      <td>0</td>\n",
              "      <td>0</td>\n",
              "      <td>0</td>\n",
              "      <td>0</td>\n",
              "      <td>...</td>\n",
              "      <td>26</td>\n",
              "      <td>0.10</td>\n",
              "      <td>0.05</td>\n",
              "      <td>0.00</td>\n",
              "      <td>0.00</td>\n",
              "      <td>1.00</td>\n",
              "      <td>1.00</td>\n",
              "      <td>0.00</td>\n",
              "      <td>0.00</td>\n",
              "      <td>neptune</td>\n",
              "    </tr>\n",
              "    <tr>\n",
              "      <th>3</th>\n",
              "      <td>0</td>\n",
              "      <td>tcp</td>\n",
              "      <td>http</td>\n",
              "      <td>SF</td>\n",
              "      <td>232</td>\n",
              "      <td>8153</td>\n",
              "      <td>0</td>\n",
              "      <td>0</td>\n",
              "      <td>0</td>\n",
              "      <td>0</td>\n",
              "      <td>...</td>\n",
              "      <td>255</td>\n",
              "      <td>1.00</td>\n",
              "      <td>0.00</td>\n",
              "      <td>0.03</td>\n",
              "      <td>0.04</td>\n",
              "      <td>0.03</td>\n",
              "      <td>0.01</td>\n",
              "      <td>0.00</td>\n",
              "      <td>0.01</td>\n",
              "      <td>normal</td>\n",
              "    </tr>\n",
              "    <tr>\n",
              "      <th>4</th>\n",
              "      <td>0</td>\n",
              "      <td>tcp</td>\n",
              "      <td>http</td>\n",
              "      <td>SF</td>\n",
              "      <td>199</td>\n",
              "      <td>420</td>\n",
              "      <td>0</td>\n",
              "      <td>0</td>\n",
              "      <td>0</td>\n",
              "      <td>0</td>\n",
              "      <td>...</td>\n",
              "      <td>255</td>\n",
              "      <td>1.00</td>\n",
              "      <td>0.00</td>\n",
              "      <td>0.00</td>\n",
              "      <td>0.00</td>\n",
              "      <td>0.00</td>\n",
              "      <td>0.00</td>\n",
              "      <td>0.00</td>\n",
              "      <td>0.00</td>\n",
              "      <td>normal</td>\n",
              "    </tr>\n",
              "  </tbody>\n",
              "</table>\n",
              "<p>5 rows × 42 columns</p>\n",
              "</div>\n",
              "      <button class=\"colab-df-convert\" onclick=\"convertToInteractive('df-bc444679-6004-402e-be2f-be6b98034017')\"\n",
              "              title=\"Convert this dataframe to an interactive table.\"\n",
              "              style=\"display:none;\">\n",
              "        \n",
              "  <svg xmlns=\"http://www.w3.org/2000/svg\" height=\"24px\"viewBox=\"0 0 24 24\"\n",
              "       width=\"24px\">\n",
              "    <path d=\"M0 0h24v24H0V0z\" fill=\"none\"/>\n",
              "    <path d=\"M18.56 5.44l.94 2.06.94-2.06 2.06-.94-2.06-.94-.94-2.06-.94 2.06-2.06.94zm-11 1L8.5 8.5l.94-2.06 2.06-.94-2.06-.94L8.5 2.5l-.94 2.06-2.06.94zm10 10l.94 2.06.94-2.06 2.06-.94-2.06-.94-.94-2.06-.94 2.06-2.06.94z\"/><path d=\"M17.41 7.96l-1.37-1.37c-.4-.4-.92-.59-1.43-.59-.52 0-1.04.2-1.43.59L10.3 9.45l-7.72 7.72c-.78.78-.78 2.05 0 2.83L4 21.41c.39.39.9.59 1.41.59.51 0 1.02-.2 1.41-.59l7.78-7.78 2.81-2.81c.8-.78.8-2.07 0-2.86zM5.41 20L4 18.59l7.72-7.72 1.47 1.35L5.41 20z\"/>\n",
              "  </svg>\n",
              "      </button>\n",
              "      \n",
              "  <style>\n",
              "    .colab-df-container {\n",
              "      display:flex;\n",
              "      flex-wrap:wrap;\n",
              "      gap: 12px;\n",
              "    }\n",
              "\n",
              "    .colab-df-convert {\n",
              "      background-color: #E8F0FE;\n",
              "      border: none;\n",
              "      border-radius: 50%;\n",
              "      cursor: pointer;\n",
              "      display: none;\n",
              "      fill: #1967D2;\n",
              "      height: 32px;\n",
              "      padding: 0 0 0 0;\n",
              "      width: 32px;\n",
              "    }\n",
              "\n",
              "    .colab-df-convert:hover {\n",
              "      background-color: #E2EBFA;\n",
              "      box-shadow: 0px 1px 2px rgba(60, 64, 67, 0.3), 0px 1px 3px 1px rgba(60, 64, 67, 0.15);\n",
              "      fill: #174EA6;\n",
              "    }\n",
              "\n",
              "    [theme=dark] .colab-df-convert {\n",
              "      background-color: #3B4455;\n",
              "      fill: #D2E3FC;\n",
              "    }\n",
              "\n",
              "    [theme=dark] .colab-df-convert:hover {\n",
              "      background-color: #434B5C;\n",
              "      box-shadow: 0px 1px 3px 1px rgba(0, 0, 0, 0.15);\n",
              "      filter: drop-shadow(0px 1px 2px rgba(0, 0, 0, 0.3));\n",
              "      fill: #FFFFFF;\n",
              "    }\n",
              "  </style>\n",
              "\n",
              "      <script>\n",
              "        const buttonEl =\n",
              "          document.querySelector('#df-bc444679-6004-402e-be2f-be6b98034017 button.colab-df-convert');\n",
              "        buttonEl.style.display =\n",
              "          google.colab.kernel.accessAllowed ? 'block' : 'none';\n",
              "\n",
              "        async function convertToInteractive(key) {\n",
              "          const element = document.querySelector('#df-bc444679-6004-402e-be2f-be6b98034017');\n",
              "          const dataTable =\n",
              "            await google.colab.kernel.invokeFunction('convertToInteractive',\n",
              "                                                     [key], {});\n",
              "          if (!dataTable) return;\n",
              "\n",
              "          const docLinkHtml = 'Like what you see? Visit the ' +\n",
              "            '<a target=\"_blank\" href=https://colab.research.google.com/notebooks/data_table.ipynb>data table notebook</a>'\n",
              "            + ' to learn more about interactive tables.';\n",
              "          element.innerHTML = '';\n",
              "          dataTable['output_type'] = 'display_data';\n",
              "          await google.colab.output.renderOutput(dataTable, element);\n",
              "          const docLink = document.createElement('div');\n",
              "          docLink.innerHTML = docLinkHtml;\n",
              "          element.appendChild(docLink);\n",
              "        }\n",
              "      </script>\n",
              "    </div>\n",
              "  </div>\n",
              "  "
            ]
          },
          "metadata": {},
          "execution_count": 107
        }
      ]
    },
    {
      "cell_type": "code",
      "source": [
        "dataset_test.head()"
      ],
      "metadata": {
        "colab": {
          "base_uri": "https://localhost:8080/",
          "height": 300
        },
        "id": "HHpfTmGkkbml",
        "outputId": "6d93e674-30ca-4b45-f76a-3306c52e0422"
      },
      "execution_count": null,
      "outputs": [
        {
          "output_type": "execute_result",
          "data": {
            "text/plain": [
              "   0     1         2     3      4   5   6   7   8   9   ...  32    33    34  \\\n",
              "0   0   tcp   private   REJ      0   0   0   0   0   0  ...  10  0.04  0.06   \n",
              "1   0   tcp   private   REJ      0   0   0   0   0   0  ...   1  0.00  0.06   \n",
              "2   2   tcp  ftp_data    SF  12983   0   0   0   0   0  ...  86  0.61  0.04   \n",
              "3   0  icmp     eco_i    SF     20   0   0   0   0   0  ...  57  1.00  0.00   \n",
              "4   1   tcp    telnet  RSTO      0  15   0   0   0   0  ...  86  0.31  0.17   \n",
              "\n",
              "     35    36   37   38    39    40       41  \n",
              "0  0.00  0.00  0.0  0.0  1.00  1.00  neptune  \n",
              "1  0.00  0.00  0.0  0.0  1.00  1.00  neptune  \n",
              "2  0.61  0.02  0.0  0.0  0.00  0.00   normal  \n",
              "3  1.00  0.28  0.0  0.0  0.00  0.00    saint  \n",
              "4  0.03  0.02  0.0  0.0  0.83  0.71    mscan  \n",
              "\n",
              "[5 rows x 42 columns]"
            ],
            "text/html": [
              "\n",
              "  <div id=\"df-65841290-0738-4ce1-935c-80388313b45e\">\n",
              "    <div class=\"colab-df-container\">\n",
              "      <div>\n",
              "<style scoped>\n",
              "    .dataframe tbody tr th:only-of-type {\n",
              "        vertical-align: middle;\n",
              "    }\n",
              "\n",
              "    .dataframe tbody tr th {\n",
              "        vertical-align: top;\n",
              "    }\n",
              "\n",
              "    .dataframe thead th {\n",
              "        text-align: right;\n",
              "    }\n",
              "</style>\n",
              "<table border=\"1\" class=\"dataframe\">\n",
              "  <thead>\n",
              "    <tr style=\"text-align: right;\">\n",
              "      <th></th>\n",
              "      <th>0</th>\n",
              "      <th>1</th>\n",
              "      <th>2</th>\n",
              "      <th>3</th>\n",
              "      <th>4</th>\n",
              "      <th>5</th>\n",
              "      <th>6</th>\n",
              "      <th>7</th>\n",
              "      <th>8</th>\n",
              "      <th>9</th>\n",
              "      <th>...</th>\n",
              "      <th>32</th>\n",
              "      <th>33</th>\n",
              "      <th>34</th>\n",
              "      <th>35</th>\n",
              "      <th>36</th>\n",
              "      <th>37</th>\n",
              "      <th>38</th>\n",
              "      <th>39</th>\n",
              "      <th>40</th>\n",
              "      <th>41</th>\n",
              "    </tr>\n",
              "  </thead>\n",
              "  <tbody>\n",
              "    <tr>\n",
              "      <th>0</th>\n",
              "      <td>0</td>\n",
              "      <td>tcp</td>\n",
              "      <td>private</td>\n",
              "      <td>REJ</td>\n",
              "      <td>0</td>\n",
              "      <td>0</td>\n",
              "      <td>0</td>\n",
              "      <td>0</td>\n",
              "      <td>0</td>\n",
              "      <td>0</td>\n",
              "      <td>...</td>\n",
              "      <td>10</td>\n",
              "      <td>0.04</td>\n",
              "      <td>0.06</td>\n",
              "      <td>0.00</td>\n",
              "      <td>0.00</td>\n",
              "      <td>0.0</td>\n",
              "      <td>0.0</td>\n",
              "      <td>1.00</td>\n",
              "      <td>1.00</td>\n",
              "      <td>neptune</td>\n",
              "    </tr>\n",
              "    <tr>\n",
              "      <th>1</th>\n",
              "      <td>0</td>\n",
              "      <td>tcp</td>\n",
              "      <td>private</td>\n",
              "      <td>REJ</td>\n",
              "      <td>0</td>\n",
              "      <td>0</td>\n",
              "      <td>0</td>\n",
              "      <td>0</td>\n",
              "      <td>0</td>\n",
              "      <td>0</td>\n",
              "      <td>...</td>\n",
              "      <td>1</td>\n",
              "      <td>0.00</td>\n",
              "      <td>0.06</td>\n",
              "      <td>0.00</td>\n",
              "      <td>0.00</td>\n",
              "      <td>0.0</td>\n",
              "      <td>0.0</td>\n",
              "      <td>1.00</td>\n",
              "      <td>1.00</td>\n",
              "      <td>neptune</td>\n",
              "    </tr>\n",
              "    <tr>\n",
              "      <th>2</th>\n",
              "      <td>2</td>\n",
              "      <td>tcp</td>\n",
              "      <td>ftp_data</td>\n",
              "      <td>SF</td>\n",
              "      <td>12983</td>\n",
              "      <td>0</td>\n",
              "      <td>0</td>\n",
              "      <td>0</td>\n",
              "      <td>0</td>\n",
              "      <td>0</td>\n",
              "      <td>...</td>\n",
              "      <td>86</td>\n",
              "      <td>0.61</td>\n",
              "      <td>0.04</td>\n",
              "      <td>0.61</td>\n",
              "      <td>0.02</td>\n",
              "      <td>0.0</td>\n",
              "      <td>0.0</td>\n",
              "      <td>0.00</td>\n",
              "      <td>0.00</td>\n",
              "      <td>normal</td>\n",
              "    </tr>\n",
              "    <tr>\n",
              "      <th>3</th>\n",
              "      <td>0</td>\n",
              "      <td>icmp</td>\n",
              "      <td>eco_i</td>\n",
              "      <td>SF</td>\n",
              "      <td>20</td>\n",
              "      <td>0</td>\n",
              "      <td>0</td>\n",
              "      <td>0</td>\n",
              "      <td>0</td>\n",
              "      <td>0</td>\n",
              "      <td>...</td>\n",
              "      <td>57</td>\n",
              "      <td>1.00</td>\n",
              "      <td>0.00</td>\n",
              "      <td>1.00</td>\n",
              "      <td>0.28</td>\n",
              "      <td>0.0</td>\n",
              "      <td>0.0</td>\n",
              "      <td>0.00</td>\n",
              "      <td>0.00</td>\n",
              "      <td>saint</td>\n",
              "    </tr>\n",
              "    <tr>\n",
              "      <th>4</th>\n",
              "      <td>1</td>\n",
              "      <td>tcp</td>\n",
              "      <td>telnet</td>\n",
              "      <td>RSTO</td>\n",
              "      <td>0</td>\n",
              "      <td>15</td>\n",
              "      <td>0</td>\n",
              "      <td>0</td>\n",
              "      <td>0</td>\n",
              "      <td>0</td>\n",
              "      <td>...</td>\n",
              "      <td>86</td>\n",
              "      <td>0.31</td>\n",
              "      <td>0.17</td>\n",
              "      <td>0.03</td>\n",
              "      <td>0.02</td>\n",
              "      <td>0.0</td>\n",
              "      <td>0.0</td>\n",
              "      <td>0.83</td>\n",
              "      <td>0.71</td>\n",
              "      <td>mscan</td>\n",
              "    </tr>\n",
              "  </tbody>\n",
              "</table>\n",
              "<p>5 rows × 42 columns</p>\n",
              "</div>\n",
              "      <button class=\"colab-df-convert\" onclick=\"convertToInteractive('df-65841290-0738-4ce1-935c-80388313b45e')\"\n",
              "              title=\"Convert this dataframe to an interactive table.\"\n",
              "              style=\"display:none;\">\n",
              "        \n",
              "  <svg xmlns=\"http://www.w3.org/2000/svg\" height=\"24px\"viewBox=\"0 0 24 24\"\n",
              "       width=\"24px\">\n",
              "    <path d=\"M0 0h24v24H0V0z\" fill=\"none\"/>\n",
              "    <path d=\"M18.56 5.44l.94 2.06.94-2.06 2.06-.94-2.06-.94-.94-2.06-.94 2.06-2.06.94zm-11 1L8.5 8.5l.94-2.06 2.06-.94-2.06-.94L8.5 2.5l-.94 2.06-2.06.94zm10 10l.94 2.06.94-2.06 2.06-.94-2.06-.94-.94-2.06-.94 2.06-2.06.94z\"/><path d=\"M17.41 7.96l-1.37-1.37c-.4-.4-.92-.59-1.43-.59-.52 0-1.04.2-1.43.59L10.3 9.45l-7.72 7.72c-.78.78-.78 2.05 0 2.83L4 21.41c.39.39.9.59 1.41.59.51 0 1.02-.2 1.41-.59l7.78-7.78 2.81-2.81c.8-.78.8-2.07 0-2.86zM5.41 20L4 18.59l7.72-7.72 1.47 1.35L5.41 20z\"/>\n",
              "  </svg>\n",
              "      </button>\n",
              "      \n",
              "  <style>\n",
              "    .colab-df-container {\n",
              "      display:flex;\n",
              "      flex-wrap:wrap;\n",
              "      gap: 12px;\n",
              "    }\n",
              "\n",
              "    .colab-df-convert {\n",
              "      background-color: #E8F0FE;\n",
              "      border: none;\n",
              "      border-radius: 50%;\n",
              "      cursor: pointer;\n",
              "      display: none;\n",
              "      fill: #1967D2;\n",
              "      height: 32px;\n",
              "      padding: 0 0 0 0;\n",
              "      width: 32px;\n",
              "    }\n",
              "\n",
              "    .colab-df-convert:hover {\n",
              "      background-color: #E2EBFA;\n",
              "      box-shadow: 0px 1px 2px rgba(60, 64, 67, 0.3), 0px 1px 3px 1px rgba(60, 64, 67, 0.15);\n",
              "      fill: #174EA6;\n",
              "    }\n",
              "\n",
              "    [theme=dark] .colab-df-convert {\n",
              "      background-color: #3B4455;\n",
              "      fill: #D2E3FC;\n",
              "    }\n",
              "\n",
              "    [theme=dark] .colab-df-convert:hover {\n",
              "      background-color: #434B5C;\n",
              "      box-shadow: 0px 1px 3px 1px rgba(0, 0, 0, 0.15);\n",
              "      filter: drop-shadow(0px 1px 2px rgba(0, 0, 0, 0.3));\n",
              "      fill: #FFFFFF;\n",
              "    }\n",
              "  </style>\n",
              "\n",
              "      <script>\n",
              "        const buttonEl =\n",
              "          document.querySelector('#df-65841290-0738-4ce1-935c-80388313b45e button.colab-df-convert');\n",
              "        buttonEl.style.display =\n",
              "          google.colab.kernel.accessAllowed ? 'block' : 'none';\n",
              "\n",
              "        async function convertToInteractive(key) {\n",
              "          const element = document.querySelector('#df-65841290-0738-4ce1-935c-80388313b45e');\n",
              "          const dataTable =\n",
              "            await google.colab.kernel.invokeFunction('convertToInteractive',\n",
              "                                                     [key], {});\n",
              "          if (!dataTable) return;\n",
              "\n",
              "          const docLinkHtml = 'Like what you see? Visit the ' +\n",
              "            '<a target=\"_blank\" href=https://colab.research.google.com/notebooks/data_table.ipynb>data table notebook</a>'\n",
              "            + ' to learn more about interactive tables.';\n",
              "          element.innerHTML = '';\n",
              "          dataTable['output_type'] = 'display_data';\n",
              "          await google.colab.output.renderOutput(dataTable, element);\n",
              "          const docLink = document.createElement('div');\n",
              "          docLink.innerHTML = docLinkHtml;\n",
              "          element.appendChild(docLink);\n",
              "        }\n",
              "      </script>\n",
              "    </div>\n",
              "  </div>\n",
              "  "
            ]
          },
          "metadata": {},
          "execution_count": 108
        }
      ]
    },
    {
      "cell_type": "markdown",
      "source": [
        "Columns names of Training and Test Datasets"
      ],
      "metadata": {
        "id": "Wb5m2U78k7yz"
      }
    },
    {
      "cell_type": "code",
      "source": [
        "col_names = [\"duration\",\"protocol_type\",\"service\",\"flag\",\"src_bytes\",\n",
        "    \"dst_bytes\",\"land\",\"wrong_fragment\",\"urgent\",\"hot\",\"num_failed_logins\",\n",
        "    \"logged_in\",\"num_compromised\",\"root_shell\",\"su_attempted\",\"num_root\",\n",
        "    \"num_file_creations\",\"num_shells\",\"num_access_files\",\"num_outbound_cmds\",\n",
        "    \"is_host_login\",\"is_guest_login\",\"count\",\"srv_count\",\"serror_rate\",\n",
        "    \"srv_serror_rate\",\"rerror_rate\",\"srv_rerror_rate\",\"same_srv_rate\",\n",
        "    \"diff_srv_rate\",\"srv_diff_host_rate\",\"dst_host_count\",\"dst_host_srv_count\",\n",
        "    \"dst_host_same_srv_rate\",\"dst_host_diff_srv_rate\",\"dst_host_same_src_port_rate\",\n",
        "    \"dst_host_srv_diff_host_rate\",\"dst_host_serror_rate\",\"dst_host_srv_serror_rate\",\n",
        "    \"dst_host_rerror_rate\",\"dst_host_srv_rerror_rate\",\"label\"]"
      ],
      "metadata": {
        "id": "6XUayEo0k-rO"
      },
      "execution_count": null,
      "outputs": []
    },
    {
      "cell_type": "markdown",
      "source": [
        "Shape of Training and Test Datasets"
      ],
      "metadata": {
        "id": "gWz0rlRrl0B2"
      }
    },
    {
      "cell_type": "code",
      "source": [
        "print(\"Shape of Training Dataset:\", dataset_train.shape)\n",
        "print(\"Shape of Testing Dataset:\", dataset_test.shape)"
      ],
      "metadata": {
        "colab": {
          "base_uri": "https://localhost:8080/"
        },
        "id": "O48ADyvQl4n-",
        "outputId": "6e879b8c-e638-4868-b14b-19877ca9fba8"
      },
      "execution_count": null,
      "outputs": [
        {
          "output_type": "stream",
          "name": "stdout",
          "text": [
            "Shape of Training Dataset: (125973, 42)\n",
            "Shape of Testing Dataset: (22544, 42)\n"
          ]
        }
      ]
    },
    {
      "cell_type": "markdown",
      "source": [
        "Columns Assignment"
      ],
      "metadata": {
        "id": "KEJWNOH3mCMt"
      }
    },
    {
      "cell_type": "code",
      "source": [
        "dataset_train.columns = col_names # append labels\n",
        "dataset_test.columns = col_names "
      ],
      "metadata": {
        "id": "iy9NRuXrmBd4"
      },
      "execution_count": null,
      "outputs": []
    },
    {
      "cell_type": "markdown",
      "source": [
        "Labels of Training and Test Datasets"
      ],
      "metadata": {
        "id": "mu3Vk41gmVIS"
      }
    },
    {
      "cell_type": "code",
      "source": [
        "#label distribution of Training set and testing set\n",
        "print('Label distribution Training set:')\n",
        "print(dataset_train['label'].value_counts())\n",
        "print()\n",
        "print('Label distribution Test set:')\n",
        "print(dataset_test['label'].value_counts())"
      ],
      "metadata": {
        "colab": {
          "base_uri": "https://localhost:8080/"
        },
        "id": "w5TVgxXgmf3x",
        "outputId": "b22045dd-b879-4d7b-faca-ae5353bcc1fe"
      },
      "execution_count": null,
      "outputs": [
        {
          "output_type": "stream",
          "name": "stdout",
          "text": [
            "Label distribution Training set:\n",
            "normal             67343\n",
            "neptune            41214\n",
            "satan               3633\n",
            "ipsweep             3599\n",
            "portsweep           2931\n",
            "smurf               2646\n",
            "nmap                1493\n",
            "back                 956\n",
            "teardrop             892\n",
            "warezclient          890\n",
            "pod                  201\n",
            "guess_passwd          53\n",
            "buffer_overflow       30\n",
            "warezmaster           20\n",
            "land                  18\n",
            "imap                  11\n",
            "rootkit               10\n",
            "loadmodule             9\n",
            "ftp_write              8\n",
            "multihop               7\n",
            "phf                    4\n",
            "perl                   3\n",
            "spy                    2\n",
            "Name: label, dtype: int64\n",
            "\n",
            "Label distribution Test set:\n",
            "normal             9711\n",
            "neptune            4657\n",
            "guess_passwd       1231\n",
            "mscan               996\n",
            "warezmaster         944\n",
            "apache2             737\n",
            "satan               735\n",
            "processtable        685\n",
            "smurf               665\n",
            "back                359\n",
            "snmpguess           331\n",
            "saint               319\n",
            "mailbomb            293\n",
            "snmpgetattack       178\n",
            "portsweep           157\n",
            "ipsweep             141\n",
            "httptunnel          133\n",
            "nmap                 73\n",
            "pod                  41\n",
            "buffer_overflow      20\n",
            "multihop             18\n",
            "named                17\n",
            "ps                   15\n",
            "sendmail             14\n",
            "rootkit              13\n",
            "xterm                13\n",
            "teardrop             12\n",
            "xlock                 9\n",
            "land                  7\n",
            "xsnoop                4\n",
            "ftp_write             3\n",
            "worm                  2\n",
            "loadmodule            2\n",
            "perl                  2\n",
            "sqlattack             2\n",
            "udpstorm              2\n",
            "phf                   2\n",
            "imap                  1\n",
            "Name: label, dtype: int64\n"
          ]
        }
      ]
    },
    {
      "cell_type": "markdown",
      "source": [
        "# Data Pre-processing"
      ],
      "metadata": {
        "id": "Zfb5wrB8mpHi"
      }
    },
    {
      "cell_type": "markdown",
      "source": [
        "## Handle categorical features"
      ],
      "metadata": {
        "id": "0CJZaMexmzmb"
      }
    },
    {
      "cell_type": "code",
      "source": [
        "# colums that are categorical and not binary yet: protocol_type (column 2), service (column 3), flag (column 4).\n",
        "# explore categorical features\n",
        "print('Training set:')\n",
        "for col_name in dataset_train.columns:\n",
        "    if dataset_train[col_name].dtypes == 'object' :\n",
        "        unique_cat = dataset_train[col_name].nunique()\n",
        "        print(\"Feature '{col_name}' has {unique_cat} categories\".format(col_name=col_name, unique_cat=unique_cat))\n",
        "\n",
        "# Test set\n",
        "print('Test set:')\n",
        "for col_name in dataset_test.columns:\n",
        "    if dataset_test[col_name].dtypes == 'object' :\n",
        "        unique_cat = len(dataset_test[col_name].unique())\n",
        "        print(\"Feature '{col_name}' has {unique_cat} categories\".format(col_name=col_name, unique_cat=unique_cat))"
      ],
      "metadata": {
        "colab": {
          "base_uri": "https://localhost:8080/"
        },
        "id": "kBSeJtJvmoOI",
        "outputId": "4fd952f1-1166-482a-da6f-a5e6edb36b9c"
      },
      "execution_count": null,
      "outputs": [
        {
          "output_type": "stream",
          "name": "stdout",
          "text": [
            "Training set:\n",
            "Feature 'protocol_type' has 3 categories\n",
            "Feature 'service' has 70 categories\n",
            "Feature 'flag' has 11 categories\n",
            "Feature 'label' has 23 categories\n",
            "Test set:\n",
            "Feature 'protocol_type' has 3 categories\n",
            "Feature 'service' has 64 categories\n",
            "Feature 'flag' has 11 categories\n",
            "Feature 'label' has 38 categories\n"
          ]
        }
      ]
    },
    {
      "cell_type": "markdown",
      "source": [
        "One-hot-Encoding"
      ],
      "metadata": {
        "id": "vAKeBKt6ob5N"
      }
    },
    {
      "cell_type": "code",
      "source": [
        "one_hot_encoder = preprocessing.OneHotEncoder() # create one hot encoder"
      ],
      "metadata": {
        "id": "Ekw90656ovm-"
      },
      "execution_count": null,
      "outputs": []
    },
    {
      "cell_type": "markdown",
      "source": [
        "Protocol Type"
      ],
      "metadata": {
        "id": "J7b-6keZpyiH"
      }
    },
    {
      "cell_type": "code",
      "source": [
        "# fit one hot encoder\n",
        "one_hot_encoder.fit(dataset_train['protocol_type'].values.reshape(-1,1))\n",
        "\n",
        "#train dataset\n",
        "train_transform = one_hot_encoder.transform(dataset_train['protocol_type'].values.reshape(-1,1)) \n",
        "train_transform = train_transform.toarray()\n",
        "train_df = pd.DataFrame(train_transform, columns = one_hot_encoder.get_feature_names_out())\n",
        "del dataset_train['protocol_type']\n",
        "dataset_train = pd.concat([dataset_train,train_df], axis=1)\n",
        "\n",
        "#test dataset\n",
        "test_transform = one_hot_encoder.transform(dataset_test['protocol_type'].values.reshape(-1,1)) \n",
        "test_transform = test_transform.toarray()\n",
        "test_df = pd.DataFrame(test_transform , columns = one_hot_encoder.get_feature_names_out())\n",
        "del dataset_test['protocol_type']\n",
        "dataset_test = pd.concat([dataset_test,test_df], axis=1)"
      ],
      "metadata": {
        "id": "tnC1cjYEodok"
      },
      "execution_count": null,
      "outputs": []
    },
    {
      "cell_type": "markdown",
      "source": [
        "Service "
      ],
      "metadata": {
        "id": "e6d9blMJp3_g"
      }
    },
    {
      "cell_type": "code",
      "source": [
        "# fit one hot encoder\n",
        "one_hot_encoder.fit(dataset_train['service'].values.reshape(-1,1))\n",
        "\n",
        "# train dataset\n",
        "train_transform = one_hot_encoder.transform(dataset_train['service'].values.reshape(-1,1)) \n",
        "train_transform = train_transform.toarray()\n",
        "train_df = pd.DataFrame(train_transform, columns = one_hot_encoder.get_feature_names_out())\n",
        "del dataset_train['service']\n",
        "dataset_train = pd.concat([dataset_train,train_df], axis=1)\n",
        "\n",
        "# test dataset\n",
        "test_transform = one_hot_encoder.transform(dataset_test['service'].values.reshape(-1,1)) \n",
        "test_transform = test_transform.toarray()\n",
        "test_df = pd.DataFrame(test_transform , columns = one_hot_encoder.get_feature_names_out())\n",
        "del dataset_test['service']\n",
        "dataset_test = pd.concat([dataset_test,test_df], axis=1)"
      ],
      "metadata": {
        "id": "VAdkMCVtpLo7"
      },
      "execution_count": null,
      "outputs": []
    },
    {
      "cell_type": "markdown",
      "source": [
        "Flag"
      ],
      "metadata": {
        "id": "bFtQloanqTRu"
      }
    },
    {
      "cell_type": "code",
      "source": [
        "# fit one hot encoder\n",
        "one_hot_encoder.fit(dataset_train['flag'].values.reshape(-1,1))\n",
        "\n",
        "# train dataset\n",
        "train_transform = one_hot_encoder.transform(dataset_train['flag'].values.reshape(-1,1)) \n",
        "train_transform = train_transform.toarray()\n",
        "train_df = pd.DataFrame(train_transform, columns = one_hot_encoder.get_feature_names_out())\n",
        "del dataset_train['flag']\n",
        "dataset_train = pd.concat([dataset_train,train_df], axis=1)\n",
        "\n",
        "# test dataset\n",
        "test_transform = one_hot_encoder.transform(dataset_test['flag'].values.reshape(-1,1)) \n",
        "test_transform = test_transform.toarray()\n",
        "test_df = pd.DataFrame(test_transform , columns = one_hot_encoder.get_feature_names_out())\n",
        "del dataset_test['flag']\n",
        "dataset_test = pd.concat([dataset_test,test_df], axis=1)"
      ],
      "metadata": {
        "id": "7NfsI5A1KNT_"
      },
      "execution_count": null,
      "outputs": []
    },
    {
      "cell_type": "code",
      "source": [
        "print(\"Shape of Training Dataset:\", dataset_train.shape)\n",
        "print(\"Shape of Testing Dataset:\", dataset_test.shape)"
      ],
      "metadata": {
        "colab": {
          "base_uri": "https://localhost:8080/"
        },
        "id": "QTJC3pEVrEsL",
        "outputId": "10982dac-753e-4d79-f5e2-f25a06935798"
      },
      "execution_count": null,
      "outputs": [
        {
          "output_type": "stream",
          "name": "stdout",
          "text": [
            "Shape of Training Dataset: (125973, 123)\n",
            "Shape of Testing Dataset: (22544, 123)\n"
          ]
        }
      ]
    },
    {
      "cell_type": "code",
      "source": [
        "dataset_train.head()"
      ],
      "metadata": {
        "colab": {
          "base_uri": "https://localhost:8080/",
          "height": 300
        },
        "id": "8En4p5FYrOmV",
        "outputId": "9a1ca3bf-5989-44f1-f7eb-3d1fef9ecd9a"
      },
      "execution_count": null,
      "outputs": [
        {
          "output_type": "execute_result",
          "data": {
            "text/plain": [
              "   duration  src_bytes  dst_bytes  land  wrong_fragment  urgent  hot  \\\n",
              "0         0        491          0     0               0       0    0   \n",
              "1         0        146          0     0               0       0    0   \n",
              "2         0          0          0     0               0       0    0   \n",
              "3         0        232       8153     0               0       0    0   \n",
              "4         0        199        420     0               0       0    0   \n",
              "\n",
              "   num_failed_logins  logged_in  num_compromised  ...  x0_REJ  x0_RSTO  \\\n",
              "0                  0          0                0  ...     0.0      0.0   \n",
              "1                  0          0                0  ...     0.0      0.0   \n",
              "2                  0          0                0  ...     0.0      0.0   \n",
              "3                  0          1                0  ...     0.0      0.0   \n",
              "4                  0          1                0  ...     0.0      0.0   \n",
              "\n",
              "   x0_RSTOS0  x0_RSTR  x0_S0  x0_S1  x0_S2  x0_S3  x0_SF  x0_SH  \n",
              "0        0.0      0.0    0.0    0.0    0.0    0.0    1.0    0.0  \n",
              "1        0.0      0.0    0.0    0.0    0.0    0.0    1.0    0.0  \n",
              "2        0.0      0.0    1.0    0.0    0.0    0.0    0.0    0.0  \n",
              "3        0.0      0.0    0.0    0.0    0.0    0.0    1.0    0.0  \n",
              "4        0.0      0.0    0.0    0.0    0.0    0.0    1.0    0.0  \n",
              "\n",
              "[5 rows x 123 columns]"
            ],
            "text/html": [
              "\n",
              "  <div id=\"df-aca31e07-29a1-4b8d-8c34-0f1e8345e5bb\">\n",
              "    <div class=\"colab-df-container\">\n",
              "      <div>\n",
              "<style scoped>\n",
              "    .dataframe tbody tr th:only-of-type {\n",
              "        vertical-align: middle;\n",
              "    }\n",
              "\n",
              "    .dataframe tbody tr th {\n",
              "        vertical-align: top;\n",
              "    }\n",
              "\n",
              "    .dataframe thead th {\n",
              "        text-align: right;\n",
              "    }\n",
              "</style>\n",
              "<table border=\"1\" class=\"dataframe\">\n",
              "  <thead>\n",
              "    <tr style=\"text-align: right;\">\n",
              "      <th></th>\n",
              "      <th>duration</th>\n",
              "      <th>src_bytes</th>\n",
              "      <th>dst_bytes</th>\n",
              "      <th>land</th>\n",
              "      <th>wrong_fragment</th>\n",
              "      <th>urgent</th>\n",
              "      <th>hot</th>\n",
              "      <th>num_failed_logins</th>\n",
              "      <th>logged_in</th>\n",
              "      <th>num_compromised</th>\n",
              "      <th>...</th>\n",
              "      <th>x0_REJ</th>\n",
              "      <th>x0_RSTO</th>\n",
              "      <th>x0_RSTOS0</th>\n",
              "      <th>x0_RSTR</th>\n",
              "      <th>x0_S0</th>\n",
              "      <th>x0_S1</th>\n",
              "      <th>x0_S2</th>\n",
              "      <th>x0_S3</th>\n",
              "      <th>x0_SF</th>\n",
              "      <th>x0_SH</th>\n",
              "    </tr>\n",
              "  </thead>\n",
              "  <tbody>\n",
              "    <tr>\n",
              "      <th>0</th>\n",
              "      <td>0</td>\n",
              "      <td>491</td>\n",
              "      <td>0</td>\n",
              "      <td>0</td>\n",
              "      <td>0</td>\n",
              "      <td>0</td>\n",
              "      <td>0</td>\n",
              "      <td>0</td>\n",
              "      <td>0</td>\n",
              "      <td>0</td>\n",
              "      <td>...</td>\n",
              "      <td>0.0</td>\n",
              "      <td>0.0</td>\n",
              "      <td>0.0</td>\n",
              "      <td>0.0</td>\n",
              "      <td>0.0</td>\n",
              "      <td>0.0</td>\n",
              "      <td>0.0</td>\n",
              "      <td>0.0</td>\n",
              "      <td>1.0</td>\n",
              "      <td>0.0</td>\n",
              "    </tr>\n",
              "    <tr>\n",
              "      <th>1</th>\n",
              "      <td>0</td>\n",
              "      <td>146</td>\n",
              "      <td>0</td>\n",
              "      <td>0</td>\n",
              "      <td>0</td>\n",
              "      <td>0</td>\n",
              "      <td>0</td>\n",
              "      <td>0</td>\n",
              "      <td>0</td>\n",
              "      <td>0</td>\n",
              "      <td>...</td>\n",
              "      <td>0.0</td>\n",
              "      <td>0.0</td>\n",
              "      <td>0.0</td>\n",
              "      <td>0.0</td>\n",
              "      <td>0.0</td>\n",
              "      <td>0.0</td>\n",
              "      <td>0.0</td>\n",
              "      <td>0.0</td>\n",
              "      <td>1.0</td>\n",
              "      <td>0.0</td>\n",
              "    </tr>\n",
              "    <tr>\n",
              "      <th>2</th>\n",
              "      <td>0</td>\n",
              "      <td>0</td>\n",
              "      <td>0</td>\n",
              "      <td>0</td>\n",
              "      <td>0</td>\n",
              "      <td>0</td>\n",
              "      <td>0</td>\n",
              "      <td>0</td>\n",
              "      <td>0</td>\n",
              "      <td>0</td>\n",
              "      <td>...</td>\n",
              "      <td>0.0</td>\n",
              "      <td>0.0</td>\n",
              "      <td>0.0</td>\n",
              "      <td>0.0</td>\n",
              "      <td>1.0</td>\n",
              "      <td>0.0</td>\n",
              "      <td>0.0</td>\n",
              "      <td>0.0</td>\n",
              "      <td>0.0</td>\n",
              "      <td>0.0</td>\n",
              "    </tr>\n",
              "    <tr>\n",
              "      <th>3</th>\n",
              "      <td>0</td>\n",
              "      <td>232</td>\n",
              "      <td>8153</td>\n",
              "      <td>0</td>\n",
              "      <td>0</td>\n",
              "      <td>0</td>\n",
              "      <td>0</td>\n",
              "      <td>0</td>\n",
              "      <td>1</td>\n",
              "      <td>0</td>\n",
              "      <td>...</td>\n",
              "      <td>0.0</td>\n",
              "      <td>0.0</td>\n",
              "      <td>0.0</td>\n",
              "      <td>0.0</td>\n",
              "      <td>0.0</td>\n",
              "      <td>0.0</td>\n",
              "      <td>0.0</td>\n",
              "      <td>0.0</td>\n",
              "      <td>1.0</td>\n",
              "      <td>0.0</td>\n",
              "    </tr>\n",
              "    <tr>\n",
              "      <th>4</th>\n",
              "      <td>0</td>\n",
              "      <td>199</td>\n",
              "      <td>420</td>\n",
              "      <td>0</td>\n",
              "      <td>0</td>\n",
              "      <td>0</td>\n",
              "      <td>0</td>\n",
              "      <td>0</td>\n",
              "      <td>1</td>\n",
              "      <td>0</td>\n",
              "      <td>...</td>\n",
              "      <td>0.0</td>\n",
              "      <td>0.0</td>\n",
              "      <td>0.0</td>\n",
              "      <td>0.0</td>\n",
              "      <td>0.0</td>\n",
              "      <td>0.0</td>\n",
              "      <td>0.0</td>\n",
              "      <td>0.0</td>\n",
              "      <td>1.0</td>\n",
              "      <td>0.0</td>\n",
              "    </tr>\n",
              "  </tbody>\n",
              "</table>\n",
              "<p>5 rows × 123 columns</p>\n",
              "</div>\n",
              "      <button class=\"colab-df-convert\" onclick=\"convertToInteractive('df-aca31e07-29a1-4b8d-8c34-0f1e8345e5bb')\"\n",
              "              title=\"Convert this dataframe to an interactive table.\"\n",
              "              style=\"display:none;\">\n",
              "        \n",
              "  <svg xmlns=\"http://www.w3.org/2000/svg\" height=\"24px\"viewBox=\"0 0 24 24\"\n",
              "       width=\"24px\">\n",
              "    <path d=\"M0 0h24v24H0V0z\" fill=\"none\"/>\n",
              "    <path d=\"M18.56 5.44l.94 2.06.94-2.06 2.06-.94-2.06-.94-.94-2.06-.94 2.06-2.06.94zm-11 1L8.5 8.5l.94-2.06 2.06-.94-2.06-.94L8.5 2.5l-.94 2.06-2.06.94zm10 10l.94 2.06.94-2.06 2.06-.94-2.06-.94-.94-2.06-.94 2.06-2.06.94z\"/><path d=\"M17.41 7.96l-1.37-1.37c-.4-.4-.92-.59-1.43-.59-.52 0-1.04.2-1.43.59L10.3 9.45l-7.72 7.72c-.78.78-.78 2.05 0 2.83L4 21.41c.39.39.9.59 1.41.59.51 0 1.02-.2 1.41-.59l7.78-7.78 2.81-2.81c.8-.78.8-2.07 0-2.86zM5.41 20L4 18.59l7.72-7.72 1.47 1.35L5.41 20z\"/>\n",
              "  </svg>\n",
              "      </button>\n",
              "      \n",
              "  <style>\n",
              "    .colab-df-container {\n",
              "      display:flex;\n",
              "      flex-wrap:wrap;\n",
              "      gap: 12px;\n",
              "    }\n",
              "\n",
              "    .colab-df-convert {\n",
              "      background-color: #E8F0FE;\n",
              "      border: none;\n",
              "      border-radius: 50%;\n",
              "      cursor: pointer;\n",
              "      display: none;\n",
              "      fill: #1967D2;\n",
              "      height: 32px;\n",
              "      padding: 0 0 0 0;\n",
              "      width: 32px;\n",
              "    }\n",
              "\n",
              "    .colab-df-convert:hover {\n",
              "      background-color: #E2EBFA;\n",
              "      box-shadow: 0px 1px 2px rgba(60, 64, 67, 0.3), 0px 1px 3px 1px rgba(60, 64, 67, 0.15);\n",
              "      fill: #174EA6;\n",
              "    }\n",
              "\n",
              "    [theme=dark] .colab-df-convert {\n",
              "      background-color: #3B4455;\n",
              "      fill: #D2E3FC;\n",
              "    }\n",
              "\n",
              "    [theme=dark] .colab-df-convert:hover {\n",
              "      background-color: #434B5C;\n",
              "      box-shadow: 0px 1px 3px 1px rgba(0, 0, 0, 0.15);\n",
              "      filter: drop-shadow(0px 1px 2px rgba(0, 0, 0, 0.3));\n",
              "      fill: #FFFFFF;\n",
              "    }\n",
              "  </style>\n",
              "\n",
              "      <script>\n",
              "        const buttonEl =\n",
              "          document.querySelector('#df-aca31e07-29a1-4b8d-8c34-0f1e8345e5bb button.colab-df-convert');\n",
              "        buttonEl.style.display =\n",
              "          google.colab.kernel.accessAllowed ? 'block' : 'none';\n",
              "\n",
              "        async function convertToInteractive(key) {\n",
              "          const element = document.querySelector('#df-aca31e07-29a1-4b8d-8c34-0f1e8345e5bb');\n",
              "          const dataTable =\n",
              "            await google.colab.kernel.invokeFunction('convertToInteractive',\n",
              "                                                     [key], {});\n",
              "          if (!dataTable) return;\n",
              "\n",
              "          const docLinkHtml = 'Like what you see? Visit the ' +\n",
              "            '<a target=\"_blank\" href=https://colab.research.google.com/notebooks/data_table.ipynb>data table notebook</a>'\n",
              "            + ' to learn more about interactive tables.';\n",
              "          element.innerHTML = '';\n",
              "          dataTable['output_type'] = 'display_data';\n",
              "          await google.colab.output.renderOutput(dataTable, element);\n",
              "          const docLink = document.createElement('div');\n",
              "          docLink.innerHTML = docLinkHtml;\n",
              "          element.appendChild(docLink);\n",
              "        }\n",
              "      </script>\n",
              "    </div>\n",
              "  </div>\n",
              "  "
            ]
          },
          "metadata": {},
          "execution_count": 119
        }
      ]
    },
    {
      "cell_type": "markdown",
      "source": [
        "## Multiclass Classification Dataset"
      ],
      "metadata": {
        "id": "slDHgm65rnOF"
      }
    },
    {
      "cell_type": "markdown",
      "source": [
        "Rename every attack label: 0=normal, 1=DoS, 2=Probe, 3=R2L and 4=U2R.\n",
        "Replace labels column with new labels column"
      ],
      "metadata": {
        "id": "3kMfrOCFuw4q"
      }
    },
    {
      "cell_type": "code",
      "source": [
        "dataset_train_multiclass = dataset_train.copy()\n",
        "dataset_train_multiclass = dataset_train_multiclass.replace({ 'normal' : 0, 'neptune' : 1 ,'back': 1, 'land': 1, 'pod': 1, 'smurf': 1, 'teardrop': 1,'mailbomb': 1, 'apache2': 1, 'processtable': 1, 'udpstorm': 1, 'worm': 1,\n",
        "                           'ipsweep' : 2,'nmap' : 2,'portsweep' : 2,'satan' : 2,'mscan' : 2,'saint' : 2\n",
        "                           ,'ftp_write': 3,'guess_passwd': 3,'imap': 3,'multihop': 3,'phf': 3,'spy': 3,'warezclient': 3,'warezmaster': 3,'sendmail': 3,'named': 3,'snmpgetattack': 3,'snmpguess': 3,'xlock': 3,'xsnoop': 3,'httptunnel': 3,\n",
        "                           'buffer_overflow': 4,'loadmodule': 4,'perl': 4,'rootkit': 4,'ps': 4,'sqlattack': 4,'xterm': 4})"
      ],
      "metadata": {
        "id": "piqKT8ZIrp4W"
      },
      "execution_count": null,
      "outputs": []
    },
    {
      "cell_type": "code",
      "source": [
        "print(dataset_train_multiclass['label'])"
      ],
      "metadata": {
        "colab": {
          "base_uri": "https://localhost:8080/"
        },
        "id": "18Lthp2kvZlm",
        "outputId": "c075ab24-ef69-40b2-ebab-3b68dbdbf5cb"
      },
      "execution_count": null,
      "outputs": [
        {
          "output_type": "stream",
          "name": "stdout",
          "text": [
            "0         0\n",
            "1         0\n",
            "2         1\n",
            "3         0\n",
            "4         0\n",
            "         ..\n",
            "125968    1\n",
            "125969    0\n",
            "125970    0\n",
            "125971    1\n",
            "125972    0\n",
            "Name: label, Length: 125973, dtype: int64\n"
          ]
        }
      ]
    },
    {
      "cell_type": "code",
      "source": [
        "dataset_test_multiclass = dataset_test.copy()\n",
        "dataset_test_multiclass = dataset_test_multiclass.replace({ 'normal' : 0, 'neptune' : 1 ,'back': 1, 'land': 1, 'pod': 1, 'smurf': 1, 'teardrop': 1,'mailbomb': 1, 'apache2': 1, 'processtable': 1, 'udpstorm': 1, 'worm': 1,\n",
        "                           'ipsweep' : 2,'nmap' : 2,'portsweep' : 2,'satan' : 2,'mscan' : 2,'saint' : 2\n",
        "                           ,'ftp_write': 3,'guess_passwd': 3,'imap': 3,'multihop': 3,'phf': 3,'spy': 3,'warezclient': 3,'warezmaster': 3,'sendmail': 3,'named': 3,'snmpgetattack': 3,'snmpguess': 3,'xlock': 3,'xsnoop': 3,'httptunnel': 3,\n",
        "                           'buffer_overflow': 4,'loadmodule': 4,'perl': 4,'rootkit': 4,'ps': 4,'sqlattack': 4,'xterm': 4})"
      ],
      "metadata": {
        "id": "Y10mINIwvLIk"
      },
      "execution_count": null,
      "outputs": []
    },
    {
      "cell_type": "code",
      "source": [
        "print(dataset_test_multiclass['label'])"
      ],
      "metadata": {
        "colab": {
          "base_uri": "https://localhost:8080/"
        },
        "id": "90UmIMYavjJZ",
        "outputId": "18e1bf4b-880a-4ed0-f79d-ec10e128b87f"
      },
      "execution_count": null,
      "outputs": [
        {
          "output_type": "stream",
          "name": "stdout",
          "text": [
            "0        1\n",
            "1        1\n",
            "2        0\n",
            "3        2\n",
            "4        2\n",
            "        ..\n",
            "22539    0\n",
            "22540    0\n",
            "22541    1\n",
            "22542    0\n",
            "22543    2\n",
            "Name: label, Length: 22544, dtype: int64\n"
          ]
        }
      ]
    },
    {
      "cell_type": "markdown",
      "source": [
        "## Save various version of multiclass datasets"
      ],
      "metadata": {
        "id": "xT7g8fks3eA3"
      }
    },
    {
      "cell_type": "markdown",
      "source": [
        "Scaling"
      ],
      "metadata": {
        "id": "jdIyibE85-ew"
      }
    },
    {
      "cell_type": "code",
      "source": [
        "x_train = dataset_train_multiclass.drop('label',1)\n",
        "y_train = dataset_train_multiclass.label\n",
        "\n",
        "x_test = dataset_test_multiclass.drop('label',1)\n",
        "y_test = dataset_test_multiclass.label"
      ],
      "metadata": {
        "id": "7E1fIDPb6Ft-"
      },
      "execution_count": null,
      "outputs": []
    },
    {
      "cell_type": "code",
      "source": [
        "colNames = list(x_train)\n",
        "colNames_test = list(x_test)"
      ],
      "metadata": {
        "id": "sZKudu3W7Nej"
      },
      "execution_count": null,
      "outputs": []
    },
    {
      "cell_type": "code",
      "source": [
        "scaler = preprocessing.MinMaxScaler()\n",
        "scaler.fit(x_train)\n",
        "x_train = scaler.transform(x_train)\n",
        "x_test = scaler.transform(x_test)"
      ],
      "metadata": {
        "id": "4qoqFepp3iFW"
      },
      "execution_count": null,
      "outputs": []
    },
    {
      "cell_type": "markdown",
      "source": [
        "Initial Dataset"
      ],
      "metadata": {
        "id": "cMQIW96g63sJ"
      }
    },
    {
      "cell_type": "code",
      "source": [
        "x_train = pd.DataFrame(x_train)\n",
        "x_train.columns= colNames\n",
        "y_train = pd.DataFrame(y_train)\n",
        "y_train.columns = ['label']\n",
        "train_frame = [x_train,y_train]\n",
        "train_final_binary = pd.concat(train_frame,axis=1)\n",
        "train_final_binary.to_csv('train_multiclass.csv',index = False)"
      ],
      "metadata": {
        "id": "P8PGWGTZ6apz"
      },
      "execution_count": null,
      "outputs": []
    },
    {
      "cell_type": "code",
      "source": [
        "x_test = pd.DataFrame(x_test)\n",
        "x_test.columns= colNames\n",
        "y_test = pd.DataFrame(y_test)\n",
        "y_test.columns = ['label']\n",
        "test_frame = [x_test,y_test]\n",
        "test_binary = pd.concat(test_frame,axis=1)\n",
        "test_binary.to_csv('test_multiclass.csv',index = False)"
      ],
      "metadata": {
        "id": "Ka9sskvS7bfX"
      },
      "execution_count": null,
      "outputs": []
    },
    {
      "cell_type": "markdown",
      "source": [
        "PCA"
      ],
      "metadata": {
        "id": "Zy7HJPbk7scL"
      }
    },
    {
      "cell_type": "code",
      "source": [
        "from sklearn.decomposition import PCA # import pca"
      ],
      "metadata": {
        "id": "O0xepXQt7sB3"
      },
      "execution_count": null,
      "outputs": []
    },
    {
      "cell_type": "code",
      "source": [
        "# plot the variance explanation of the 29 components needed to cover 95% initial data variance \n",
        "pca = PCA(None)\n",
        "pca.fit(x_train)\n",
        "components = len(pca.explained_variance_ratio_)\n",
        "plt.plot(range(1,components+1), \n",
        "np.cumsum(pca.explained_variance_ratio_ * 100))\n",
        "plt.xlabel(\"Number of components\")\n",
        "plt.ylabel(\"Explained variance (%)\")"
      ],
      "metadata": {
        "colab": {
          "base_uri": "https://localhost:8080/",
          "height": 296
        },
        "id": "uTovQJGO70YB",
        "outputId": "2e990b78-e547-4e56-e190-562b0abcb4d7"
      },
      "execution_count": null,
      "outputs": [
        {
          "output_type": "execute_result",
          "data": {
            "text/plain": [
              "Text(0, 0.5, 'Explained variance (%)')"
            ]
          },
          "metadata": {},
          "execution_count": 130
        },
        {
          "output_type": "display_data",
          "data": {
            "text/plain": [
              "<Figure size 432x288 with 1 Axes>"
            ],
            "image/png": "[encoded data removed]"
          },
          "metadata": {
            "needs_background": "light"
          }
        }
      ]
    },
    {
      "cell_type": "code",
      "source": [
        "# Make an instance of the Model\n",
        "pca = PCA(.95) # 0.95: means we want 95% of data variance"
      ],
      "metadata": {
        "id": "TlOU7JlT72yl"
      },
      "execution_count": null,
      "outputs": []
    },
    {
      "cell_type": "code",
      "source": [
        "pca.fit(x_train)"
      ],
      "metadata": {
        "colab": {
          "base_uri": "https://localhost:8080/"
        },
        "id": "lNr4QcwY77qo",
        "outputId": "8dfee25f-1ab2-4cc0-da47-740b3be659e4"
      },
      "execution_count": null,
      "outputs": [
        {
          "output_type": "execute_result",
          "data": {
            "text/plain": [
              "PCA(n_components=0.95)"
            ]
          },
          "metadata": {},
          "execution_count": 132
        }
      ]
    },
    {
      "cell_type": "code",
      "source": [
        "print(pca.n_components_)"
      ],
      "metadata": {
        "colab": {
          "base_uri": "https://localhost:8080/"
        },
        "id": "0uxcMh6w79oi",
        "outputId": "a1a21a5d-9be7-48a7-f7fe-cb1d647c7ee4"
      },
      "execution_count": null,
      "outputs": [
        {
          "output_type": "stream",
          "name": "stdout",
          "text": [
            "29\n"
          ]
        }
      ]
    },
    {
      "cell_type": "code",
      "source": [
        "x_train_pca = pca.transform(x_train)  # perform pca\n",
        "x_test_pca= pca.transform(x_test)"
      ],
      "metadata": {
        "id": "VQkeHXIn7_68"
      },
      "execution_count": null,
      "outputs": []
    },
    {
      "cell_type": "code",
      "source": [
        "#min max scale again\n",
        "scaler.fit(x_train_pca)\n",
        "x_train_pca = scaler.transform(x_train_pca)\n",
        "x_test_pca = scaler.transform(x_test_pca)"
      ],
      "metadata": {
        "id": "jIXfrjlEJUg_"
      },
      "execution_count": null,
      "outputs": []
    },
    {
      "cell_type": "code",
      "source": [
        "x_train_pca = pd.DataFrame(x_train_pca)\n",
        "y_train = pd.DataFrame(y_train)\n",
        "y_train.columns = ['label']\n",
        "train_frame = [x_train_pca,y_train]\n",
        "train_final_pca = pd.concat(train_frame,axis=1)\n",
        "train_final_pca.to_csv('train_pca_multiclass.csv',index = False)"
      ],
      "metadata": {
        "id": "OqdpTPs_8KHm"
      },
      "execution_count": null,
      "outputs": []
    },
    {
      "cell_type": "code",
      "source": [
        "x_test_pca = pd.DataFrame(x_test_pca)\n",
        "y_test = pd.DataFrame(y_test)\n",
        "y_test.columns = ['label']\n",
        "test_frame = [x_test_pca,y_test]\n",
        "testall = pd.concat(test_frame,axis=1)\n",
        "testall.to_csv('test_pca_multiclass.csv',index = False)"
      ],
      "metadata": {
        "id": "-hdS-8VU8NLP"
      },
      "execution_count": null,
      "outputs": []
    },
    {
      "cell_type": "markdown",
      "source": [
        "Random Forest"
      ],
      "metadata": {
        "id": "OORt3leI8eMl"
      }
    },
    {
      "cell_type": "code",
      "source": [
        "from sklearn.ensemble import RandomForestClassifier\n",
        "\n",
        "rf = RandomForestClassifier(n_estimators=100, max_depth=3,\n",
        "                                 bootstrap=True, n_jobs=-1,\n",
        "                                 random_state=0)\n",
        "rf.fit(x_train.values, y_train.values.ravel())\n",
        "\n",
        "feature_imp = pd.Series(rf.feature_importances_, \n",
        "                        index=x_train.columns).sort_values(ascending=False)"
      ],
      "metadata": {
        "id": "GoDK2oas8gJ0"
      },
      "execution_count": null,
      "outputs": []
    },
    {
      "cell_type": "code",
      "source": [
        "for i in range(0,len(feature_imp)):\n",
        "    print(i,end =\" \")\n",
        "    print(feature_imp.index[i],end = \": \")\n",
        "    print(feature_imp[i])"
      ],
      "metadata": {
        "colab": {
          "base_uri": "https://localhost:8080/"
        },
        "id": "zmrohgNe8kfu",
        "outputId": "e57b85a7-a9c7-45c7-a489-34c5f0f50ff6"
      },
      "execution_count": null,
      "outputs": [
        {
          "output_type": "stream",
          "name": "stdout",
          "text": [
            "0 srv_serror_rate: 0.11126826769959161\n",
            "1 same_srv_rate: 0.1056867361683466\n",
            "2 diff_srv_rate: 0.09433253808006274\n",
            "3 x0_SF: 0.07183825381138678\n",
            "4 dst_host_serror_rate: 0.06491022091568122\n",
            "5 x0_S0: 0.05958047210968945\n",
            "6 serror_rate: 0.059422480738052535\n",
            "7 dst_host_srv_serror_rate: 0.052034572030407275\n",
            "8 count: 0.04549825205126207\n",
            "9 logged_in: 0.04381767856714095\n",
            "10 dst_host_same_srv_rate: 0.03975320465280831\n",
            "11 dst_host_diff_srv_rate: 0.029668313880087574\n",
            "12 dst_host_same_src_port_rate: 0.02715454781700185\n",
            "13 dst_host_srv_count: 0.0193673368988948\n",
            "14 x0_eco_i: 0.018141590366220803\n",
            "15 srv_count: 0.016435678881196795\n",
            "16 x0_private: 0.014312709699423332\n",
            "17 x0_http: 0.013078907237350732\n",
            "18 dst_host_srv_diff_host_rate: 0.012863033619748268\n",
            "19 x0_icmp: 0.01132972725840103\n",
            "20 rerror_rate: 0.011111016940683376\n",
            "21 srv_diff_host_rate: 0.010301689480508502\n",
            "22 dst_host_count: 0.009973892853555792\n",
            "23 dst_host_rerror_rate: 0.008604923014260336\n",
            "24 dst_host_srv_rerror_rate: 0.008456597720438363\n",
            "25 x0_domain_u: 0.007541482255165584\n",
            "26 x0_ecr_i: 0.006580525306676441\n",
            "27 x0_tcp: 0.006489423770490764\n",
            "28 x0_udp: 0.004309053355974099\n",
            "29 duration: 0.002771757004829266\n",
            "30 x0_other: 0.002676432182918351\n",
            "31 srv_rerror_rate: 0.0025318783515462513\n",
            "32 x0_RSTR: 0.0022097674637704527\n",
            "33 x0_REJ: 0.0016196976853911052\n",
            "34 wrong_fragment: 0.000980535473125007\n",
            "35 src_bytes: 0.0008589650209998186\n",
            "36 num_compromised: 0.0005316574187398313\n",
            "37 hot: 0.0005284789585988207\n",
            "38 x0_SH: 0.00048430242903021043\n",
            "39 dst_bytes: 0.0003429670695684222\n",
            "40 x0_ftp_data: 0.00016709745040099832\n",
            "41 x0_S1: 0.00013619371599859586\n",
            "42 x0_RSTO: 0.00011163573114172697\n",
            "43 x0_whois: 4.931363649179923e-05\n",
            "44 x0_Z39_50: 3.6766309076952346e-05\n",
            "45 is_guest_login: 1.9605671417211928e-05\n",
            "46 x0_finger: 1.9435167970599838e-05\n",
            "47 num_failed_logins: 1.2292560368741344e-05\n",
            "48 x0_http_443: 1.077311285602509e-05\n",
            "49 x0_bgp: 1.0635153760451622e-05\n",
            "50 x0_telnet: 7.834402977046175e-06\n",
            "51 num_file_creations: 4.821348440998071e-06\n",
            "52 x0_name: 2.6483443708793213e-06\n",
            "53 x0_S3: 2.429721573747377e-06\n",
            "54 x0_X11: 2.176091000896468e-06\n",
            "55 root_shell: 2.1096143118478533e-06\n",
            "56 x0_S2: 1.2808265560290279e-06\n",
            "57 x0_urh_i: 1.153601791927957e-06\n",
            "58 num_root: 1.1349718339419198e-06\n",
            "59 num_access_files: 1.0452961593881816e-06\n",
            "60 x0_courier: 4.539912181846975e-08\n",
            "61 x0_uucp: 5.410788013911763e-09\n",
            "62 x0_sql_net: 2.225648628134249e-10\n",
            "63 x0_rje: 0.0\n",
            "64 x0_shell: 0.0\n",
            "65 x0_smtp: 0.0\n",
            "66 x0_remote_job: 0.0\n",
            "67 x0_red_i: 0.0\n",
            "68 x0_ssh: 0.0\n",
            "69 x0_sunrpc: 0.0\n",
            "70 x0_supdup: 0.0\n",
            "71 x0_systat: 0.0\n",
            "72 x0_urp_i: 0.0\n",
            "73 x0_tftp_u: 0.0\n",
            "74 x0_tim_i: 0.0\n",
            "75 x0_time: 0.0\n",
            "76 x0_pop_3: 0.0\n",
            "77 x0_uucp_path: 0.0\n",
            "78 x0_vmnet: 0.0\n",
            "79 x0_auth: 0.0\n",
            "80 x0_OTH: 0.0\n",
            "81 x0_aol: 0.0\n",
            "82 x0_RSTOS0: 0.0\n",
            "83 urgent: 0.0\n",
            "84 land: 0.0\n",
            "85 x0_IRC: 0.0\n",
            "86 x0_printer: 0.0\n",
            "87 x0_ntp_u: 0.0\n",
            "88 x0_pop_2: 0.0\n",
            "89 num_shells: 0.0\n",
            "90 x0_hostnames: 0.0\n",
            "91 x0_harvest: 0.0\n",
            "92 x0_gopher: 0.0\n",
            "93 x0_ftp: 0.0\n",
            "94 x0_exec: 0.0\n",
            "95 x0_efs: 0.0\n",
            "96 x0_echo: 0.0\n",
            "97 x0_pm_dump: 0.0\n",
            "98 num_outbound_cmds: 0.0\n",
            "99 x0_domain: 0.0\n",
            "100 x0_discard: 0.0\n",
            "101 x0_daytime: 0.0\n",
            "102 x0_ctf: 0.0\n",
            "103 x0_csnet_ns: 0.0\n",
            "104 x0_http_2784: 0.0\n",
            "105 x0_http_8001: 0.0\n",
            "106 x0_imap4: 0.0\n",
            "107 x0_iso_tsap: 0.0\n",
            "108 x0_klogin: 0.0\n",
            "109 x0_kshell: 0.0\n",
            "110 x0_ldap: 0.0\n",
            "111 x0_link: 0.0\n",
            "112 x0_login: 0.0\n",
            "113 x0_mtp: 0.0\n",
            "114 x0_netbios_dgm: 0.0\n",
            "115 x0_netbios_ns: 0.0\n",
            "116 is_host_login: 0.0\n",
            "117 x0_netstat: 0.0\n",
            "118 x0_nnsp: 0.0\n",
            "119 x0_nntp: 0.0\n",
            "120 su_attempted: 0.0\n",
            "121 x0_netbios_ssn: 0.0\n"
          ]
        }
      ]
    },
    {
      "cell_type": "markdown",
      "source": [
        "RF0.05"
      ],
      "metadata": {
        "id": "4iJll28z9GQ1"
      }
    },
    {
      "cell_type": "code",
      "source": [
        "new_features = [] # list containing the new features names\n",
        "for i in range(0,len(feature_imp)): # for for the range of all features\n",
        "    if feature_imp[i] > 0.05: # check if importance is over the threshold\n",
        "        new_features.append(feature_imp.index[i])\n",
        "print(new_features)"
      ],
      "metadata": {
        "colab": {
          "base_uri": "https://localhost:8080/"
        },
        "id": "FfBFJpko8mXx",
        "outputId": "162184e3-2fc5-4630-afa8-fabaa23e3eb7"
      },
      "execution_count": null,
      "outputs": [
        {
          "output_type": "stream",
          "name": "stdout",
          "text": [
            "['srv_serror_rate', 'same_srv_rate', 'diff_srv_rate', 'x0_SF', 'dst_host_serror_rate', 'x0_S0', 'serror_rate', 'dst_host_srv_serror_rate']\n"
          ]
        }
      ]
    },
    {
      "cell_type": "code",
      "source": [
        "x_train_05 = x_train[new_features] #cast new dataframes\n",
        "x_test_05 = x_test[new_features]"
      ],
      "metadata": {
        "id": "UA_YWhjn8uOc"
      },
      "execution_count": null,
      "outputs": []
    },
    {
      "cell_type": "code",
      "source": [
        "x_train_05 = pd.DataFrame(x_train_05)\n",
        "x_train_05.columns= new_features\n",
        "y_train = pd.DataFrame(y_train)\n",
        "y_train.columns = ['label']\n",
        "train_frame = [x_train_05,y_train]\n",
        "train_final_rf05 = pd.concat(train_frame,axis=1)\n",
        "train_final_rf05.to_csv('train_rf05_multiclass.csv',index = False)"
      ],
      "metadata": {
        "id": "xYcfeAyq8x_A"
      },
      "execution_count": null,
      "outputs": []
    },
    {
      "cell_type": "code",
      "source": [
        "x_test_05 = pd.DataFrame(x_test_05)\n",
        "x_test_05.columns= new_features\n",
        "y_test = pd.DataFrame(y_test)\n",
        "y_test.columns = ['label']\n",
        "test_frame = [x_test_05,y_test]\n",
        "test_rf05 = pd.concat(test_frame,axis=1)\n",
        "test_rf05.to_csv('test_rf05_multiclass.csv',index = False)"
      ],
      "metadata": {
        "id": "TJBuP2Wr8zoE"
      },
      "execution_count": null,
      "outputs": []
    },
    {
      "cell_type": "markdown",
      "source": [
        "RF0.005"
      ],
      "metadata": {
        "id": "Mc_DAFZA9HpL"
      }
    },
    {
      "cell_type": "code",
      "source": [
        "new_features = [] # list containing the new features names\n",
        "for i in range(0,len(feature_imp)): # for for the range of all features\n",
        "    if feature_imp[i] > 0.005: # check if importance is over the threshold\n",
        "        new_features.append(feature_imp.index[i])\n",
        "print(new_features)"
      ],
      "metadata": {
        "colab": {
          "base_uri": "https://localhost:8080/"
        },
        "id": "vkvRX2fw9I4x",
        "outputId": "52c20ee6-3436-48ef-d2cc-d6e94a84c1b4"
      },
      "execution_count": null,
      "outputs": [
        {
          "output_type": "stream",
          "name": "stdout",
          "text": [
            "['srv_serror_rate', 'same_srv_rate', 'diff_srv_rate', 'x0_SF', 'dst_host_serror_rate', 'x0_S0', 'serror_rate', 'dst_host_srv_serror_rate', 'count', 'logged_in', 'dst_host_same_srv_rate', 'dst_host_diff_srv_rate', 'dst_host_same_src_port_rate', 'dst_host_srv_count', 'x0_eco_i', 'srv_count', 'x0_private', 'x0_http', 'dst_host_srv_diff_host_rate', 'x0_icmp', 'rerror_rate', 'srv_diff_host_rate', 'dst_host_count', 'dst_host_rerror_rate', 'dst_host_srv_rerror_rate', 'x0_domain_u', 'x0_ecr_i', 'x0_tcp']\n"
          ]
        }
      ]
    },
    {
      "cell_type": "code",
      "source": [
        "x_train_005 = x_train[new_features] #cast new dataframes\n",
        "x_test_005 = x_test[new_features]"
      ],
      "metadata": {
        "id": "k6YO-Bzk9Pcs"
      },
      "execution_count": null,
      "outputs": []
    },
    {
      "cell_type": "code",
      "source": [
        "x_train_005 = pd.DataFrame(x_train_005)\n",
        "x_train_005.columns= new_features\n",
        "y_train = pd.DataFrame(y_train)\n",
        "y_train.columns = ['label']\n",
        "train_frame = [x_train_005,y_train]\n",
        "train_final_rf005 = pd.concat(train_frame,axis=1)\n",
        "train_final_rf005.to_csv('train_rf005_multiclass.csv',index = False)"
      ],
      "metadata": {
        "id": "ukBSkg1I9UNz"
      },
      "execution_count": null,
      "outputs": []
    },
    {
      "cell_type": "code",
      "source": [
        "x_test_005 = pd.DataFrame(x_test_005)\n",
        "x_test_005.columns= new_features\n",
        "y_test = pd.DataFrame(y_test)\n",
        "y_test.columns = ['label']\n",
        "test_frame = [x_test_005,y_test]\n",
        "test_rf005 = pd.concat(test_frame,axis=1)\n",
        "test_rf005.to_csv('test_rf005_multiclass.csv',index = False)"
      ],
      "metadata": {
        "id": "yVFjDjy69WPL"
      },
      "execution_count": null,
      "outputs": []
    },
    {
      "cell_type": "markdown",
      "source": [
        "ANOVA TESTING"
      ],
      "metadata": {
        "id": "T115uIKp9mg2"
      }
    },
    {
      "cell_type": "code",
      "source": [
        "from sklearn.feature_selection import SelectPercentile, f_classif\n",
        "np.seterr(divide='ignore', invalid='ignore');\n",
        "selector=SelectPercentile(f_classif, percentile=10)\n",
        "x_train_new = selector.fit_transform(x_train,y_train)\n",
        "x_train_new.shape"
      ],
      "metadata": {
        "colab": {
          "base_uri": "https://localhost:8080/"
        },
        "id": "sfyS4dAW9nvk",
        "outputId": "acb43257-cfff-417e-9400-20a4b61a7cc4"
      },
      "execution_count": null,
      "outputs": [
        {
          "output_type": "execute_result",
          "data": {
            "text/plain": [
              "(125973, 13)"
            ]
          },
          "metadata": {},
          "execution_count": 148
        }
      ]
    },
    {
      "cell_type": "code",
      "source": [
        "true=selector.get_support()\n",
        "newcolindex=[i for i, x in enumerate(true) if x]\n",
        "newcolname=list(colNames[i] for i in newcolindex)\n",
        "newcolname"
      ],
      "metadata": {
        "colab": {
          "base_uri": "https://localhost:8080/"
        },
        "id": "8ku6X8Pd9qCN",
        "outputId": "cadd90d2-dcfc-4dd7-dba6-8604a04a7bbc"
      },
      "execution_count": null,
      "outputs": [
        {
          "output_type": "execute_result",
          "data": {
            "text/plain": [
              "['logged_in',\n",
              " 'count',\n",
              " 'serror_rate',\n",
              " 'srv_serror_rate',\n",
              " 'same_srv_rate',\n",
              " 'dst_host_srv_count',\n",
              " 'dst_host_same_srv_rate',\n",
              " 'dst_host_same_src_port_rate',\n",
              " 'dst_host_serror_rate',\n",
              " 'dst_host_srv_serror_rate',\n",
              " 'x0_http',\n",
              " 'x0_S0',\n",
              " 'x0_SF']"
            ]
          },
          "metadata": {},
          "execution_count": 149
        }
      ]
    },
    {
      "cell_type": "code",
      "source": [
        "x_train_anova = x_train[newcolname] #cast new dataframes\n",
        "x_test_anova = x_test[newcolname]"
      ],
      "metadata": {
        "id": "Rmt0Rsc19wnA"
      },
      "execution_count": null,
      "outputs": []
    },
    {
      "cell_type": "code",
      "source": [
        "x_train_anova = pd.DataFrame(x_train_anova)\n",
        "x_train_anova.columns= newcolname\n",
        "y_train = pd.DataFrame(y_train)\n",
        "y_train.columns = ['label']\n",
        "train_frame = [x_train_anova,y_train]\n",
        "train_final_anova = pd.concat(train_frame,axis=1)\n",
        "train_final_anova.to_csv('train_anova_multiclass.csv',index = False)"
      ],
      "metadata": {
        "id": "tBwh2YAV9z6q"
      },
      "execution_count": null,
      "outputs": []
    },
    {
      "cell_type": "code",
      "source": [
        "x_test_anova = pd.DataFrame(x_test_anova)\n",
        "x_test_anova.columns= newcolname\n",
        "y_test = pd.DataFrame(y_test)\n",
        "y_test.columns = ['label']\n",
        "test_frame = [x_test_anova,y_test]\n",
        "test_anova = pd.concat(test_frame,axis=1)\n",
        "test_anova.to_csv('test_anova_multiclass.csv',index = False)"
      ],
      "metadata": {
        "id": "r-bnoT7G95er"
      },
      "execution_count": null,
      "outputs": []
    },
    {
      "cell_type": "markdown",
      "source": [
        "Create 1 dataset for every attack category\n",
        "**we are doing many binary classifications**"
      ],
      "metadata": {
        "id": "dNwVMWID0yBA"
      }
    },
    {
      "cell_type": "code",
      "source": [
        "to_drop_DoS = [2,3,4]\n",
        "to_drop_Probe = [1,3,4]\n",
        "to_drop_R2L = [1,2,4]\n",
        "to_drop_U2R = [1,2,3]\n",
        "DoS_df=dataset_train_multiclass[~dataset_train_multiclass['label'].isin(to_drop_DoS)];\n",
        "Probe_df=dataset_train_multiclass[~dataset_train_multiclass['label'].isin(to_drop_Probe)];\n",
        "R2L_df=dataset_train_multiclass[~dataset_train_multiclass['label'].isin(to_drop_R2L)];\n",
        "U2R_df=dataset_train_multiclass[~dataset_train_multiclass['label'].isin(to_drop_U2R)];\n",
        "\n",
        "#test\n",
        "DoS_df_test=dataset_test_multiclass[~dataset_test_multiclass['label'].isin(to_drop_DoS)];\n",
        "Probe_df_test=dataset_test_multiclass[~dataset_test_multiclass['label'].isin(to_drop_Probe)];\n",
        "R2L_df_test=dataset_test_multiclass[~dataset_test_multiclass['label'].isin(to_drop_R2L)];\n",
        "U2R_df_test=dataset_test_multiclass[~dataset_test_multiclass['label'].isin(to_drop_U2R)];\n",
        "print('Train:')\n",
        "print('Dimensions of DoS:' ,DoS_df.shape)\n",
        "print('Dimensions of Probe:' ,Probe_df.shape)\n",
        "print('Dimensions of R2L:' ,R2L_df.shape)\n",
        "print('Dimensions of U2R:' ,U2R_df.shape)\n",
        "print('Test:')\n",
        "print('Dimensions of DoS:' ,DoS_df_test.shape)\n",
        "print('Dimensions of Probe:' ,Probe_df_test.shape)\n",
        "print('Dimensions of R2L:' ,R2L_df_test.shape)\n",
        "print('Dimensions of U2R:' ,U2R_df_test.shape)"
      ],
      "metadata": {
        "colab": {
          "base_uri": "https://localhost:8080/"
        },
        "id": "_joroOTl0Qkb",
        "outputId": "472fc7fd-f79c-4390-8f33-3aa04e6d0fe5"
      },
      "execution_count": null,
      "outputs": [
        {
          "output_type": "stream",
          "name": "stdout",
          "text": [
            "Train:\n",
            "Dimensions of DoS: (113270, 123)\n",
            "Dimensions of Probe: (78999, 123)\n",
            "Dimensions of R2L: (68338, 123)\n",
            "Dimensions of U2R: (67395, 123)\n",
            "Test:\n",
            "Dimensions of DoS: (17171, 123)\n",
            "Dimensions of Probe: (12132, 123)\n",
            "Dimensions of R2L: (12596, 123)\n",
            "Dimensions of U2R: (9778, 123)\n"
          ]
        }
      ]
    },
    {
      "cell_type": "markdown",
      "source": [
        "Split features and labels"
      ],
      "metadata": {
        "id": "xFu6AcVs09DH"
      }
    },
    {
      "cell_type": "code",
      "source": [
        "# Split dataframes into X & Y\n",
        "# assign X as a dataframe of feautures and Y as a series of outcome variables\n",
        "X_DoS = DoS_df.drop('label',1)\n",
        "Y_DoS = DoS_df.label\n",
        "X_Probe = Probe_df.drop('label',1)\n",
        "Y_Probe = Probe_df.label\n",
        "X_R2L = R2L_df.drop('label',1)\n",
        "Y_R2L = R2L_df.label\n",
        "X_U2R = U2R_df.drop('label',1)\n",
        "Y_U2R = U2R_df.label\n",
        "\n",
        "# test set\n",
        "X_DoS_test = DoS_df_test.drop('label',1)\n",
        "Y_DoS_test = DoS_df_test.label\n",
        "X_Probe_test = Probe_df_test.drop('label',1)\n",
        "Y_Probe_test = Probe_df_test.label\n",
        "X_R2L_test = R2L_df_test.drop('label',1)\n",
        "Y_R2L_test = R2L_df_test.label\n",
        "X_U2R_test = U2R_df_test.drop('label',1)\n",
        "Y_U2R_test = U2R_df_test.label"
      ],
      "metadata": {
        "id": "1ZtIk29m0-uq"
      },
      "execution_count": null,
      "outputs": []
    },
    {
      "cell_type": "markdown",
      "source": [
        "Feature Scaling/Standard Scaling"
      ],
      "metadata": {
        "id": "_EDdmQmb2YLb"
      }
    },
    {
      "cell_type": "code",
      "source": [
        "colNames = list(X_DoS)\n",
        "colNames_test = list(X_DoS_test)"
      ],
      "metadata": {
        "id": "h01FbsFNfyuO"
      },
      "execution_count": null,
      "outputs": []
    },
    {
      "cell_type": "code",
      "source": [
        "scaler1 = preprocessing.StandardScaler().fit(X_DoS)\n",
        "X_DoS=scaler1.transform(X_DoS) \n",
        "scaler2 = preprocessing.StandardScaler().fit(X_Probe)\n",
        "X_Probe=scaler2.transform(X_Probe) \n",
        "scaler3 = preprocessing.StandardScaler().fit(X_R2L)\n",
        "X_R2L=scaler3.transform(X_R2L) \n",
        "scaler4 = preprocessing.StandardScaler().fit(X_U2R)\n",
        "X_U2R=scaler4.transform(X_U2R) \n",
        "# test data\n",
        "X_DoS_test=scaler1.transform(X_DoS_test) \n",
        "X_Probe_test=scaler2.transform(X_Probe_test) \n",
        "X_R2L_test=scaler3.transform(X_R2L_test) \n",
        "X_U2R_test=scaler4.transform(X_U2R_test)"
      ],
      "metadata": {
        "id": "28LvpB-b3OX0"
      },
      "execution_count": null,
      "outputs": []
    },
    {
      "cell_type": "markdown",
      "source": [
        "### Feature Selection/Dimensionality Reduction Algorithms"
      ],
      "metadata": {
        "id": "80c7VNkBGrYz"
      }
    },
    {
      "cell_type": "code",
      "source": [
        ""
      ],
      "metadata": {
        "id": "ozArdwJbHgT6"
      },
      "execution_count": null,
      "outputs": []
    }
  ]
}