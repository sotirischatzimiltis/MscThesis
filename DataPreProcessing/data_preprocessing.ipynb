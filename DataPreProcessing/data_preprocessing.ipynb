{
  "nbformat": 4,
  "nbformat_minor": 0,
  "metadata": {
    "colab": {
      "name": "data_preprocessing.ipynb",
      "provenance": [],
      "collapsed_sections": []
    },
    "kernelspec": {
      "name": "python3",
      "display_name": "Python 3"
    },
    "language_info": {
      "name": "python"
    }
  },
  "cells": [
    {
      "cell_type": "markdown",
      "source": [
        "[![Open In Colab](https://colab.research.google.com/assets/colab-badge.svg)](https://colab.research.google.com/github/sotirischatzimiltis/MscThesis/blob/main/DataPreProcessing/data_preprocessing.ipynb)"
      ],
      "metadata": {
        "id": "XoMBCAWfmzS2"
      }
    },
    {
      "cell_type": "markdown",
      "source": [
        "# Import necessary packages"
      ],
      "metadata": {
        "id": "CrsBfhOpQBDK"
      }
    },
    {
      "cell_type": "code",
      "execution_count": null,
      "metadata": {
        "id": "JN-5kRZRP077"
      },
      "outputs": [],
      "source": [
        "import pandas as pd\n",
        "import numpy as np\n",
        "import seaborn as sns\n",
        "from sklearn import preprocessing\n",
        "import matplotlib.pyplot as plt"
      ]
    },
    {
      "cell_type": "markdown",
      "source": [
        "# Dataset Analysis"
      ],
      "metadata": {
        "id": "vxxi55X6QbE2"
      }
    },
    {
      "cell_type": "markdown",
      "source": [
        "## Read files from GitLab Repository"
      ],
      "metadata": {
        "id": "1BM-ggvDXdZH"
      }
    },
    {
      "cell_type": "code",
      "source": [
        "train_url=\"https://gitlab.com/schatz06/smart-grid-metering-ids/-/raw/main/NSLKDD/KDDTrain.txt\"\n",
        "test_url= \"https://gitlab.com/schatz06/smart-grid-metering-ids/-/raw/main/NSLKDD/KDDTest.txt\"\n",
        "TRAIN_FILE=\"KDDTrain.txt\"\n",
        "TEST_FILE=\"KDDTest.txt\""
      ],
      "metadata": {
        "id": "85XYywpoQeTS"
      },
      "execution_count": null,
      "outputs": []
    },
    {
      "cell_type": "code",
      "source": [
        "![ -f \"$TRAIN_FILE\" ] && echo \"$TRAIN_FILE exists\" || wget \"$train_url\"\n",
        "![ -f \"$TEST_FILE\" ] && echo \"$TEST_FILE exists\" || wget \"$test_url\""
      ],
      "metadata": {
        "colab": {
          "base_uri": "https://localhost:8080/"
        },
        "id": "4NONTxMlH7dD",
        "outputId": "aa34e229-aeb4-455f-fc5a-c2ab6ed349ad"
      },
      "execution_count": null,
      "outputs": [
        {
          "output_type": "stream",
          "name": "stdout",
          "text": [
            "KDDTrain.txt exists\n",
            "KDDTest.txt exists\n"
          ]
        }
      ]
    },
    {
      "cell_type": "markdown",
      "source": [
        "## Train Dataset Analyisis "
      ],
      "metadata": {
        "id": "8i61QSqhN_RE"
      }
    },
    {
      "cell_type": "markdown",
      "source": [
        "#### Create Dataframe"
      ],
      "metadata": {
        "id": "ttmzdokWaMuv"
      }
    },
    {
      "cell_type": "code",
      "source": [
        "initial_trainset = pd.read_csv(\"KDDTrain.txt\", sep=\",\",header =None) # read train dataset / create dataframe\n",
        "rows = initial_trainset.shape[0] # get rows of dataframe\n",
        "columns = initial_trainset.shape[1] # get columns of dataframe \n",
        "\n",
        "initial_testset = pd.read_csv(\"KDDTest.txt\",sep=\",\",header=None)\n",
        "test_rows = initial_testset.shape[0]\n",
        "test_columns = initial_testset.shape[1]\n",
        "print(\"Training Rows/Instances\", rows)\n",
        "print(\"Columns\", columns)\n",
        "print(\"Features\", columns -2) # features are columns -2 since 1 columns for label and 1 column for difficulty \n",
        "print(\"Labels\", 2)\n",
        "\n",
        "print(\"Test Rows/Instances\", test_rows)\n",
        "print(\"Columns\", test_columns)\n",
        "print(\"Features\", test_columns -2) # features are columns -2 since 1 columns for label and 1 column for difficulty \n",
        "print(\"Labels\", 2)"
      ],
      "metadata": {
        "colab": {
          "base_uri": "https://localhost:8080/"
        },
        "id": "cjes-SGKVcO4",
        "outputId": "9feff15b-ad86-4d81-fe3c-8f50aeca352c"
      },
      "execution_count": null,
      "outputs": [
        {
          "output_type": "stream",
          "name": "stdout",
          "text": [
            "Training Rows/Instances 125973\n",
            "Columns 43\n",
            "Features 41\n",
            "Labels 2\n",
            "Test Rows/Instances 22544\n",
            "Columns 43\n",
            "Features 41\n",
            "Labels 2\n"
          ]
        }
      ]
    },
    {
      "cell_type": "markdown",
      "source": [
        "Append Labels"
      ],
      "metadata": {
        "id": "ZqrjVnXMDfrl"
      }
    },
    {
      "cell_type": "code",
      "source": [
        "label_name = ['Duration', 'Protocol_Type','Service','Flag','Src_bytes','Dst_bytes','Land','Wrong_fragment','Urgent',\n",
        "          'Hot','Num_failed_logins','Logged_in','Num_compromised','Root_shell','Su_attempted','Num_root',\n",
        "          'Num_file_creation','Num_shells','Num_access_files','Num_outbound_cmds','Is_host_login',\n",
        "          'Is_guest_login','Count','Srv_count','Serror_rate','Srv_serror_rate','Rerror_rate',\n",
        "          'Srv_rerror_rate','Same_srv_rate','Diff_srv_rate','Srv_diff_host_rate','Dst_host_count',\n",
        "          'Dst_host_srv_count','Dst_host_same_srv_rate','Dst_host_diff_srv_rate','Dst_host_same_src_port_rate',\n",
        "          'Dst_host_srv_diff_host_rate','Dst_host_serror_rate','Dst_host_srv_serror_rate','Dst_host_rerror_rate',\n",
        "          'Dst_host_srv_rerror_rate','Traffic_type','Difficulty'] # create lables\n",
        "initial_trainset.columns = label_name # append labels\n",
        "initial_testset.columns = label_name\n",
        "initial_trainset.head() # show head of dataframe (df)"
      ],
      "metadata": {
        "colab": {
          "base_uri": "https://localhost:8080/",
          "height": 300
        },
        "id": "iMF-nN6hZTp8",
        "outputId": "a26c7d70-1656-4d0b-8bb1-86f768d5394b"
      },
      "execution_count": null,
      "outputs": [
        {
          "output_type": "execute_result",
          "data": {
            "text/plain": [
              "   Duration Protocol_Type   Service Flag  Src_bytes  Dst_bytes  Land  \\\n",
              "0         0           tcp  ftp_data   SF        491          0     0   \n",
              "1         0           udp     other   SF        146          0     0   \n",
              "2         0           tcp   private   S0          0          0     0   \n",
              "3         0           tcp      http   SF        232       8153     0   \n",
              "4         0           tcp      http   SF        199        420     0   \n",
              "\n",
              "   Wrong_fragment  Urgent  Hot  ...  Dst_host_same_srv_rate  \\\n",
              "0               0       0    0  ...                    0.17   \n",
              "1               0       0    0  ...                    0.00   \n",
              "2               0       0    0  ...                    0.10   \n",
              "3               0       0    0  ...                    1.00   \n",
              "4               0       0    0  ...                    1.00   \n",
              "\n",
              "   Dst_host_diff_srv_rate  Dst_host_same_src_port_rate  \\\n",
              "0                    0.03                         0.17   \n",
              "1                    0.60                         0.88   \n",
              "2                    0.05                         0.00   \n",
              "3                    0.00                         0.03   \n",
              "4                    0.00                         0.00   \n",
              "\n",
              "   Dst_host_srv_diff_host_rate  Dst_host_serror_rate  \\\n",
              "0                         0.00                  0.00   \n",
              "1                         0.00                  0.00   \n",
              "2                         0.00                  1.00   \n",
              "3                         0.04                  0.03   \n",
              "4                         0.00                  0.00   \n",
              "\n",
              "   Dst_host_srv_serror_rate  Dst_host_rerror_rate  Dst_host_srv_rerror_rate  \\\n",
              "0                      0.00                  0.05                      0.00   \n",
              "1                      0.00                  0.00                      0.00   \n",
              "2                      1.00                  0.00                      0.00   \n",
              "3                      0.01                  0.00                      0.01   \n",
              "4                      0.00                  0.00                      0.00   \n",
              "\n",
              "   Traffic_type  Difficulty  \n",
              "0        normal          20  \n",
              "1        normal          15  \n",
              "2       neptune          19  \n",
              "3        normal          21  \n",
              "4        normal          21  \n",
              "\n",
              "[5 rows x 43 columns]"
            ],
            "text/html": [
              "\n",
              "  <div id=\"df-be7a7dc6-1120-4c4e-ba6a-dfffcaa3bc24\">\n",
              "    <div class=\"colab-df-container\">\n",
              "      <div>\n",
              "<style scoped>\n",
              "    .dataframe tbody tr th:only-of-type {\n",
              "        vertical-align: middle;\n",
              "    }\n",
              "\n",
              "    .dataframe tbody tr th {\n",
              "        vertical-align: top;\n",
              "    }\n",
              "\n",
              "    .dataframe thead th {\n",
              "        text-align: right;\n",
              "    }\n",
              "</style>\n",
              "<table border=\"1\" class=\"dataframe\">\n",
              "  <thead>\n",
              "    <tr style=\"text-align: right;\">\n",
              "      <th></th>\n",
              "      <th>Duration</th>\n",
              "      <th>Protocol_Type</th>\n",
              "      <th>Service</th>\n",
              "      <th>Flag</th>\n",
              "      <th>Src_bytes</th>\n",
              "      <th>Dst_bytes</th>\n",
              "      <th>Land</th>\n",
              "      <th>Wrong_fragment</th>\n",
              "      <th>Urgent</th>\n",
              "      <th>Hot</th>\n",
              "      <th>...</th>\n",
              "      <th>Dst_host_same_srv_rate</th>\n",
              "      <th>Dst_host_diff_srv_rate</th>\n",
              "      <th>Dst_host_same_src_port_rate</th>\n",
              "      <th>Dst_host_srv_diff_host_rate</th>\n",
              "      <th>Dst_host_serror_rate</th>\n",
              "      <th>Dst_host_srv_serror_rate</th>\n",
              "      <th>Dst_host_rerror_rate</th>\n",
              "      <th>Dst_host_srv_rerror_rate</th>\n",
              "      <th>Traffic_type</th>\n",
              "      <th>Difficulty</th>\n",
              "    </tr>\n",
              "  </thead>\n",
              "  <tbody>\n",
              "    <tr>\n",
              "      <th>0</th>\n",
              "      <td>0</td>\n",
              "      <td>tcp</td>\n",
              "      <td>ftp_data</td>\n",
              "      <td>SF</td>\n",
              "      <td>491</td>\n",
              "      <td>0</td>\n",
              "      <td>0</td>\n",
              "      <td>0</td>\n",
              "      <td>0</td>\n",
              "      <td>0</td>\n",
              "      <td>...</td>\n",
              "      <td>0.17</td>\n",
              "      <td>0.03</td>\n",
              "      <td>0.17</td>\n",
              "      <td>0.00</td>\n",
              "      <td>0.00</td>\n",
              "      <td>0.00</td>\n",
              "      <td>0.05</td>\n",
              "      <td>0.00</td>\n",
              "      <td>normal</td>\n",
              "      <td>20</td>\n",
              "    </tr>\n",
              "    <tr>\n",
              "      <th>1</th>\n",
              "      <td>0</td>\n",
              "      <td>udp</td>\n",
              "      <td>other</td>\n",
              "      <td>SF</td>\n",
              "      <td>146</td>\n",
              "      <td>0</td>\n",
              "      <td>0</td>\n",
              "      <td>0</td>\n",
              "      <td>0</td>\n",
              "      <td>0</td>\n",
              "      <td>...</td>\n",
              "      <td>0.00</td>\n",
              "      <td>0.60</td>\n",
              "      <td>0.88</td>\n",
              "      <td>0.00</td>\n",
              "      <td>0.00</td>\n",
              "      <td>0.00</td>\n",
              "      <td>0.00</td>\n",
              "      <td>0.00</td>\n",
              "      <td>normal</td>\n",
              "      <td>15</td>\n",
              "    </tr>\n",
              "    <tr>\n",
              "      <th>2</th>\n",
              "      <td>0</td>\n",
              "      <td>tcp</td>\n",
              "      <td>private</td>\n",
              "      <td>S0</td>\n",
              "      <td>0</td>\n",
              "      <td>0</td>\n",
              "      <td>0</td>\n",
              "      <td>0</td>\n",
              "      <td>0</td>\n",
              "      <td>0</td>\n",
              "      <td>...</td>\n",
              "      <td>0.10</td>\n",
              "      <td>0.05</td>\n",
              "      <td>0.00</td>\n",
              "      <td>0.00</td>\n",
              "      <td>1.00</td>\n",
              "      <td>1.00</td>\n",
              "      <td>0.00</td>\n",
              "      <td>0.00</td>\n",
              "      <td>neptune</td>\n",
              "      <td>19</td>\n",
              "    </tr>\n",
              "    <tr>\n",
              "      <th>3</th>\n",
              "      <td>0</td>\n",
              "      <td>tcp</td>\n",
              "      <td>http</td>\n",
              "      <td>SF</td>\n",
              "      <td>232</td>\n",
              "      <td>8153</td>\n",
              "      <td>0</td>\n",
              "      <td>0</td>\n",
              "      <td>0</td>\n",
              "      <td>0</td>\n",
              "      <td>...</td>\n",
              "      <td>1.00</td>\n",
              "      <td>0.00</td>\n",
              "      <td>0.03</td>\n",
              "      <td>0.04</td>\n",
              "      <td>0.03</td>\n",
              "      <td>0.01</td>\n",
              "      <td>0.00</td>\n",
              "      <td>0.01</td>\n",
              "      <td>normal</td>\n",
              "      <td>21</td>\n",
              "    </tr>\n",
              "    <tr>\n",
              "      <th>4</th>\n",
              "      <td>0</td>\n",
              "      <td>tcp</td>\n",
              "      <td>http</td>\n",
              "      <td>SF</td>\n",
              "      <td>199</td>\n",
              "      <td>420</td>\n",
              "      <td>0</td>\n",
              "      <td>0</td>\n",
              "      <td>0</td>\n",
              "      <td>0</td>\n",
              "      <td>...</td>\n",
              "      <td>1.00</td>\n",
              "      <td>0.00</td>\n",
              "      <td>0.00</td>\n",
              "      <td>0.00</td>\n",
              "      <td>0.00</td>\n",
              "      <td>0.00</td>\n",
              "      <td>0.00</td>\n",
              "      <td>0.00</td>\n",
              "      <td>normal</td>\n",
              "      <td>21</td>\n",
              "    </tr>\n",
              "  </tbody>\n",
              "</table>\n",
              "<p>5 rows × 43 columns</p>\n",
              "</div>\n",
              "      <button class=\"colab-df-convert\" onclick=\"convertToInteractive('df-be7a7dc6-1120-4c4e-ba6a-dfffcaa3bc24')\"\n",
              "              title=\"Convert this dataframe to an interactive table.\"\n",
              "              style=\"display:none;\">\n",
              "        \n",
              "  <svg xmlns=\"http://www.w3.org/2000/svg\" height=\"24px\"viewBox=\"0 0 24 24\"\n",
              "       width=\"24px\">\n",
              "    <path d=\"M0 0h24v24H0V0z\" fill=\"none\"/>\n",
              "    <path d=\"M18.56 5.44l.94 2.06.94-2.06 2.06-.94-2.06-.94-.94-2.06-.94 2.06-2.06.94zm-11 1L8.5 8.5l.94-2.06 2.06-.94-2.06-.94L8.5 2.5l-.94 2.06-2.06.94zm10 10l.94 2.06.94-2.06 2.06-.94-2.06-.94-.94-2.06-.94 2.06-2.06.94z\"/><path d=\"M17.41 7.96l-1.37-1.37c-.4-.4-.92-.59-1.43-.59-.52 0-1.04.2-1.43.59L10.3 9.45l-7.72 7.72c-.78.78-.78 2.05 0 2.83L4 21.41c.39.39.9.59 1.41.59.51 0 1.02-.2 1.41-.59l7.78-7.78 2.81-2.81c.8-.78.8-2.07 0-2.86zM5.41 20L4 18.59l7.72-7.72 1.47 1.35L5.41 20z\"/>\n",
              "  </svg>\n",
              "      </button>\n",
              "      \n",
              "  <style>\n",
              "    .colab-df-container {\n",
              "      display:flex;\n",
              "      flex-wrap:wrap;\n",
              "      gap: 12px;\n",
              "    }\n",
              "\n",
              "    .colab-df-convert {\n",
              "      background-color: #E8F0FE;\n",
              "      border: none;\n",
              "      border-radius: 50%;\n",
              "      cursor: pointer;\n",
              "      display: none;\n",
              "      fill: #1967D2;\n",
              "      height: 32px;\n",
              "      padding: 0 0 0 0;\n",
              "      width: 32px;\n",
              "    }\n",
              "\n",
              "    .colab-df-convert:hover {\n",
              "      background-color: #E2EBFA;\n",
              "      box-shadow: 0px 1px 2px rgba(60, 64, 67, 0.3), 0px 1px 3px 1px rgba(60, 64, 67, 0.15);\n",
              "      fill: #174EA6;\n",
              "    }\n",
              "\n",
              "    [theme=dark] .colab-df-convert {\n",
              "      background-color: #3B4455;\n",
              "      fill: #D2E3FC;\n",
              "    }\n",
              "\n",
              "    [theme=dark] .colab-df-convert:hover {\n",
              "      background-color: #434B5C;\n",
              "      box-shadow: 0px 1px 3px 1px rgba(0, 0, 0, 0.15);\n",
              "      filter: drop-shadow(0px 1px 2px rgba(0, 0, 0, 0.3));\n",
              "      fill: #FFFFFF;\n",
              "    }\n",
              "  </style>\n",
              "\n",
              "      <script>\n",
              "        const buttonEl =\n",
              "          document.querySelector('#df-be7a7dc6-1120-4c4e-ba6a-dfffcaa3bc24 button.colab-df-convert');\n",
              "        buttonEl.style.display =\n",
              "          google.colab.kernel.accessAllowed ? 'block' : 'none';\n",
              "\n",
              "        async function convertToInteractive(key) {\n",
              "          const element = document.querySelector('#df-be7a7dc6-1120-4c4e-ba6a-dfffcaa3bc24');\n",
              "          const dataTable =\n",
              "            await google.colab.kernel.invokeFunction('convertToInteractive',\n",
              "                                                     [key], {});\n",
              "          if (!dataTable) return;\n",
              "\n",
              "          const docLinkHtml = 'Like what you see? Visit the ' +\n",
              "            '<a target=\"_blank\" href=https://colab.research.google.com/notebooks/data_table.ipynb>data table notebook</a>'\n",
              "            + ' to learn more about interactive tables.';\n",
              "          element.innerHTML = '';\n",
              "          dataTable['output_type'] = 'display_data';\n",
              "          await google.colab.output.renderOutput(dataTable, element);\n",
              "          const docLink = document.createElement('div');\n",
              "          docLink.innerHTML = docLinkHtml;\n",
              "          element.appendChild(docLink);\n",
              "        }\n",
              "      </script>\n",
              "    </div>\n",
              "  </div>\n",
              "  "
            ]
          },
          "metadata": {},
          "execution_count": 5
        }
      ]
    },
    {
      "cell_type": "code",
      "source": [
        "#print(initial_trainset.dtypes) # print columns data types"
      ],
      "metadata": {
        "id": "rKPYFvhPVotQ"
      },
      "execution_count": null,
      "outputs": []
    },
    {
      "cell_type": "markdown",
      "source": [
        "Split Features and Labels into two new dataframes"
      ],
      "metadata": {
        "id": "egYri6PQV2kZ"
      }
    },
    {
      "cell_type": "code",
      "source": [
        "train_labels = initial_trainset.iloc[:,-2:]\n",
        "#print(train_labels)\n",
        "\n",
        "test_labels = initial_testset.iloc[:,-2:]\n",
        "#print(test_labels)"
      ],
      "metadata": {
        "id": "s1o3Pof4V2Ao"
      },
      "execution_count": null,
      "outputs": []
    },
    {
      "cell_type": "code",
      "source": [
        "train_features = initial_trainset.iloc[:,:-2]\n",
        "#print(train_features)\n",
        "\n",
        "test_features = initial_testset.iloc[:,:-2]\n",
        "#print(test_features)"
      ],
      "metadata": {
        "id": "92B_KDoYZFMP"
      },
      "execution_count": null,
      "outputs": []
    },
    {
      "cell_type": "markdown",
      "source": [
        "### Individual Feature Analysis"
      ],
      "metadata": {
        "id": "s0VU625-ZPj7"
      }
    },
    {
      "cell_type": "markdown",
      "source": [
        "Sklearn tools initialization"
      ],
      "metadata": {
        "id": "JEmtQBoEZvcO"
      }
    },
    {
      "cell_type": "code",
      "source": [
        "min_max_scaler = preprocessing.MinMaxScaler() # minmax scaler\n",
        "label_encoder = preprocessing.LabelEncoder() # create label encoder\n",
        "one_hot_encoder = preprocessing.OneHotEncoder() # create one hot encoder"
      ],
      "metadata": {
        "id": "xV9mx_o1ZyHa"
      },
      "execution_count": null,
      "outputs": []
    },
    {
      "cell_type": "markdown",
      "source": [
        "1) Duration Normalization"
      ],
      "metadata": {
        "id": "qwFZ3pTZXnAe"
      }
    },
    {
      "cell_type": "code",
      "source": [
        "float_array1 = train_features['Duration'].values.astype(float) # convert to float \n",
        "float_array2 = test_features['Duration'].values.astype(float) # convert to float \n",
        "min_max_scaler.fit(float_array1.reshape(-1,1))\n",
        "scaled_array1 = min_max_scaler.transform(float_array1.reshape(-1,1)) # reshape to 2D and perform min max scaling \n",
        "scaled_array2 = min_max_scaler.transform(float_array2.reshape(-1,1))\n",
        "train_features['Duration'] = pd.DataFrame(scaled_array1) # convert back to dataframe \n",
        "test_features['Duration'] = pd.DataFrame(scaled_array2) # convert back to dataframe "
      ],
      "metadata": {
        "id": "XiNaCwPXXlp6"
      },
      "execution_count": null,
      "outputs": []
    },
    {
      "cell_type": "markdown",
      "source": [
        "2) Protocol-Type / Categorical"
      ],
      "metadata": {
        "id": "tOlLm6FUHPAo"
      }
    },
    {
      "cell_type": "code",
      "source": [
        "# icmp: 0 , tcp: 1, udp: 2\n",
        "print(train_features.Protocol_Type.unique())\n",
        "print(test_features.Protocol_Type.unique()) # 3 protocols : udp, tcp, icmp \n",
        "\n",
        "one_hot_encoder.fit(train_features['Protocol_Type'].values.reshape(-1,1))\n",
        "\n",
        "train_transform = one_hot_encoder.transform(train_features['Protocol_Type'].values.reshape(-1,1)) \n",
        "train_transform = train_transform.toarray()\n",
        "train_df = pd.DataFrame(train_transform, columns = one_hot_encoder.get_feature_names_out())\n",
        "del train_features['Protocol_Type']\n",
        "train_features = pd.concat([train_features,train_df], axis=1)\n",
        "\n",
        "\n",
        "test_transform = one_hot_encoder.transform(test_features['Protocol_Type'].values.reshape(-1,1)) \n",
        "test_transform = test_transform.toarray()\n",
        "test_df = pd.DataFrame(test_transform , columns = one_hot_encoder.get_feature_names_out())\n",
        "del test_features['Protocol_Type']\n",
        "test_features = pd.concat([test_features,test_df], axis=1)\n"
      ],
      "metadata": {
        "colab": {
          "base_uri": "https://localhost:8080/"
        },
        "id": "LqNpGkFjHUxC",
        "outputId": "ae5cde78-ecab-4969-dd61-a16c1845d747"
      },
      "execution_count": null,
      "outputs": [
        {
          "output_type": "stream",
          "name": "stdout",
          "text": [
            "['tcp' 'udp' 'icmp']\n",
            "['tcp' 'icmp' 'udp']\n"
          ]
        }
      ]
    },
    {
      "cell_type": "markdown",
      "source": [
        "3) Service / Categorical"
      ],
      "metadata": {
        "id": "0Vd_I4p0JtUc"
      }
    },
    {
      "cell_type": "code",
      "source": [
        "print(train_features.Service.unique())\n",
        "print(test_features.Service.unique()) \n",
        "\n",
        "\n",
        "\n",
        "one_hot_encoder.fit(train_features['Service'].values.reshape(-1,1))\n",
        "\n",
        "train_transform = one_hot_encoder.transform(train_features['Service'].values.reshape(-1,1)) \n",
        "train_transform = train_transform.toarray()\n",
        "train_df = pd.DataFrame(train_transform, columns = one_hot_encoder.get_feature_names_out())\n",
        "del train_features['Service']\n",
        "train_features = pd.concat([train_features,train_df], axis=1)\n",
        "\n",
        "\n",
        "test_transform = one_hot_encoder.transform(test_features['Service'].values.reshape(-1,1)) \n",
        "test_transform = test_transform.toarray()\n",
        "test_df = pd.DataFrame(test_transform , columns = one_hot_encoder.get_feature_names_out())\n",
        "del test_features['Service']\n",
        "test_features = pd.concat([test_features,test_df], axis=1)"
      ],
      "metadata": {
        "colab": {
          "base_uri": "https://localhost:8080/"
        },
        "id": "fTfqRGAWJuya",
        "outputId": "f9bd7b85-a01e-48f5-bb8b-3b19f70ca988"
      },
      "execution_count": null,
      "outputs": [
        {
          "output_type": "stream",
          "name": "stdout",
          "text": [
            "['ftp_data' 'other' 'private' 'http' 'remote_job' 'name' 'netbios_ns'\n",
            " 'eco_i' 'mtp' 'telnet' 'finger' 'domain_u' 'supdup' 'uucp_path' 'Z39_50'\n",
            " 'smtp' 'csnet_ns' 'uucp' 'netbios_dgm' 'urp_i' 'auth' 'domain' 'ftp'\n",
            " 'bgp' 'ldap' 'ecr_i' 'gopher' 'vmnet' 'systat' 'http_443' 'efs' 'whois'\n",
            " 'imap4' 'iso_tsap' 'echo' 'klogin' 'link' 'sunrpc' 'login' 'kshell'\n",
            " 'sql_net' 'time' 'hostnames' 'exec' 'ntp_u' 'discard' 'nntp' 'courier'\n",
            " 'ctf' 'ssh' 'daytime' 'shell' 'netstat' 'pop_3' 'nnsp' 'IRC' 'pop_2'\n",
            " 'printer' 'tim_i' 'pm_dump' 'red_i' 'netbios_ssn' 'rje' 'X11' 'urh_i'\n",
            " 'http_8001' 'aol' 'http_2784' 'tftp_u' 'harvest']\n",
            "['private' 'ftp_data' 'eco_i' 'telnet' 'http' 'smtp' 'ftp' 'ldap' 'pop_3'\n",
            " 'courier' 'discard' 'ecr_i' 'imap4' 'domain_u' 'mtp' 'systat' 'iso_tsap'\n",
            " 'other' 'csnet_ns' 'finger' 'uucp' 'whois' 'netbios_ns' 'link' 'Z39_50'\n",
            " 'sunrpc' 'auth' 'netbios_dgm' 'uucp_path' 'vmnet' 'domain' 'name' 'pop_2'\n",
            " 'http_443' 'urp_i' 'login' 'gopher' 'exec' 'time' 'remote_job' 'ssh'\n",
            " 'kshell' 'sql_net' 'shell' 'hostnames' 'echo' 'daytime' 'pm_dump' 'IRC'\n",
            " 'netstat' 'ctf' 'nntp' 'netbios_ssn' 'tim_i' 'supdup' 'bgp' 'nnsp' 'rje'\n",
            " 'printer' 'efs' 'X11' 'ntp_u' 'klogin' 'tftp_u']\n"
          ]
        }
      ]
    },
    {
      "cell_type": "markdown",
      "source": [
        "4) Flag / Categorical"
      ],
      "metadata": {
        "id": "RxM50kPTKL4i"
      }
    },
    {
      "cell_type": "code",
      "source": [
        "print(train_features.Flag.unique())\n",
        "print(test_features.Flag.unique()) \n",
        "\n",
        "one_hot_encoder.fit(train_features['Flag'].values.reshape(-1,1))\n",
        "\n",
        "train_transform = one_hot_encoder.transform(train_features['Flag'].values.reshape(-1,1)) \n",
        "train_transform = train_transform.toarray()\n",
        "train_df = pd.DataFrame(train_transform, columns = one_hot_encoder.get_feature_names_out())\n",
        "del train_features['Flag']\n",
        "train_features = pd.concat([train_features,train_df], axis=1)\n",
        "\n",
        "\n",
        "test_transform = one_hot_encoder.transform(test_features['Flag'].values.reshape(-1,1)) \n",
        "test_transform = test_transform.toarray()\n",
        "test_df = pd.DataFrame(test_transform , columns = one_hot_encoder.get_feature_names_out())\n",
        "del test_features['Flag']\n",
        "test_features = pd.concat([test_features,test_df], axis=1)"
      ],
      "metadata": {
        "colab": {
          "base_uri": "https://localhost:8080/"
        },
        "id": "7NfsI5A1KNT_",
        "outputId": "0a4ac3d3-903b-4156-8807-87b9a89f0a28"
      },
      "execution_count": null,
      "outputs": [
        {
          "output_type": "stream",
          "name": "stdout",
          "text": [
            "['SF' 'S0' 'REJ' 'RSTR' 'SH' 'RSTO' 'S1' 'RSTOS0' 'S3' 'S2' 'OTH']\n",
            "['REJ' 'SF' 'RSTO' 'S0' 'RSTR' 'SH' 'S3' 'S2' 'S1' 'RSTOS0' 'OTH']\n"
          ]
        }
      ]
    },
    {
      "cell_type": "markdown",
      "source": [
        "5) Src-bytes & 6) Dst-bytes Normalization"
      ],
      "metadata": {
        "id": "ikq0g2gboDy8"
      }
    },
    {
      "cell_type": "code",
      "source": [
        "float_array1 = train_features['Src_bytes'].values.astype(float) # convert to float \n",
        "float_array2 = test_features['Src_bytes'].values.astype(float) # convert to float \n",
        "min_max_scaler.fit(float_array1.reshape(-1,1))\n",
        "scaled_array1 = min_max_scaler.transform(float_array1.reshape(-1,1)) # reshape to 2D and perform min max scaling \n",
        "scaled_array2 = min_max_scaler.transform(float_array2.reshape(-1,1))\n",
        "train_features['Src_bytes'] = pd.DataFrame(scaled_array1) # convert back to dataframe \n",
        "test_features['Src_bytes'] = pd.DataFrame(scaled_array2) # convert back to dataframe "
      ],
      "metadata": {
        "id": "s5forU2zaD6v"
      },
      "execution_count": null,
      "outputs": []
    },
    {
      "cell_type": "code",
      "source": [
        "float_array1 = train_features['Dst_bytes'].values.astype(float) # convert to float \n",
        "float_array2 = test_features['Dst_bytes'].values.astype(float) # convert to float \n",
        "min_max_scaler.fit(float_array1.reshape(-1,1))\n",
        "scaled_array1 = min_max_scaler.transform(float_array1.reshape(-1,1)) # reshape to 2D and perform min max scaling \n",
        "scaled_array2 = min_max_scaler.transform(float_array2.reshape(-1,1))\n",
        "train_features['Dst_bytes'] = pd.DataFrame(scaled_array1) # convert back to dataframe \n",
        "test_features['Dst_bytes'] = pd.DataFrame(scaled_array2) # convert back to dataframe "
      ],
      "metadata": {
        "id": "cq2Hi5tgaNjF"
      },
      "execution_count": null,
      "outputs": []
    },
    {
      "cell_type": "markdown",
      "source": [
        "7) Land / No normalisation needed , 2 values 0 & 1"
      ],
      "metadata": {
        "id": "xVpYXm6SpI3r"
      }
    },
    {
      "cell_type": "code",
      "source": [
        "print(train_features.Land.unique()) \n",
        "print(test_features.Land.nunique()) \n",
        "# only 2  (0,1) values no need to normalize  "
      ],
      "metadata": {
        "id": "_w6SGg0XpJ-8",
        "colab": {
          "base_uri": "https://localhost:8080/"
        },
        "outputId": "6571d44d-3243-4f96-be63-eca200a85345"
      },
      "execution_count": null,
      "outputs": [
        {
          "output_type": "stream",
          "name": "stdout",
          "text": [
            "[0 1]\n",
            "2\n"
          ]
        }
      ]
    },
    {
      "cell_type": "markdown",
      "source": [
        "8) Wrong fragment"
      ],
      "metadata": {
        "id": "qqVDXn_GpKW2"
      }
    },
    {
      "cell_type": "code",
      "source": [
        "print(train_features.Wrong_fragment.unique()) \n",
        "print(test_features.Wrong_fragment.unique()) # Number of unique values"
      ],
      "metadata": {
        "id": "Vvu4xomjpOm7",
        "colab": {
          "base_uri": "https://localhost:8080/"
        },
        "outputId": "d99402da-47c7-4314-f826-9d972df9fe88"
      },
      "execution_count": null,
      "outputs": [
        {
          "output_type": "stream",
          "name": "stdout",
          "text": [
            "[0 3 1]\n",
            "[0 1 3]\n"
          ]
        }
      ]
    },
    {
      "cell_type": "code",
      "source": [
        "float_array1 = train_features['Wrong_fragment'].values.astype(float) # convert to float \n",
        "float_array2 = test_features['Wrong_fragment'].values.astype(float) # convert to float \n",
        "min_max_scaler.fit(float_array1.reshape(-1,1))\n",
        "scaled_array1 = min_max_scaler.transform(float_array1.reshape(-1,1)) # reshape to 2D and perform min max scaling \n",
        "scaled_array2 = min_max_scaler.transform(float_array2.reshape(-1,1))\n",
        "train_features['Wrong_fragment'] = pd.DataFrame(scaled_array1) # convert back to dataframe \n",
        "test_features['Wrong_fragment'] = pd.DataFrame(scaled_array2) # convert back to dataframe "
      ],
      "metadata": {
        "id": "VSceuByLagXL"
      },
      "execution_count": null,
      "outputs": []
    },
    {
      "cell_type": "markdown",
      "source": [
        "9) Urgent"
      ],
      "metadata": {
        "id": "jUigbsPXpO-M"
      }
    },
    {
      "cell_type": "code",
      "source": [
        "print(train_features.Urgent.unique()) \n",
        "print(test_features.Urgent.unique()) # Number of unique values"
      ],
      "metadata": {
        "colab": {
          "base_uri": "https://localhost:8080/"
        },
        "id": "SmjNjimspP2y",
        "outputId": "73a07e8e-2a86-4ea5-8869-c78ac4fdb662"
      },
      "execution_count": null,
      "outputs": [
        {
          "output_type": "stream",
          "name": "stdout",
          "text": [
            "[0 1 3 2]\n",
            "[0 1 2 3]\n"
          ]
        }
      ]
    },
    {
      "cell_type": "code",
      "source": [
        "float_array1 = train_features['Urgent'].values.astype(float) # convert to float \n",
        "float_array2 = test_features['Urgent'].values.astype(float) # convert to float \n",
        "min_max_scaler.fit(float_array1.reshape(-1,1))\n",
        "scaled_array1 = min_max_scaler.transform(float_array1.reshape(-1,1)) # reshape to 2D and perform min max scaling \n",
        "scaled_array2 = min_max_scaler.transform(float_array2.reshape(-1,1))\n",
        "train_features['Urgent'] = pd.DataFrame(scaled_array1) # convert back to dataframe \n",
        "test_features['Urgent'] = pd.DataFrame(scaled_array2) # convert back to dataframe "
      ],
      "metadata": {
        "id": "vXGhjLPka5Ap"
      },
      "execution_count": null,
      "outputs": []
    },
    {
      "cell_type": "markdown",
      "source": [
        "10) Hot"
      ],
      "metadata": {
        "id": "fFLM9Xx4NOm4"
      }
    },
    {
      "cell_type": "code",
      "source": [
        "print(train_features.Hot.unique()) \n",
        "print(test_features.Hot.unique()) # Number of unique values"
      ],
      "metadata": {
        "colab": {
          "base_uri": "https://localhost:8080/"
        },
        "id": "5xNr14fNNPpi",
        "outputId": "fdc27493-f3af-44be-bab5-a1689fe15305"
      },
      "execution_count": null,
      "outputs": [
        {
          "output_type": "stream",
          "name": "stdout",
          "text": [
            "[ 0  5  6  4  2  1 28 30 22 24 14  3 15 25 19 18 77 17 11  7 20 12  9 10\n",
            "  8 21 33 44]\n",
            "[  0   4   2   1   7   6   5   3  22  10  11  19 101  18  15  30]\n"
          ]
        }
      ]
    },
    {
      "cell_type": "code",
      "source": [
        "float_array1 = train_features['Hot'].values.astype(float) # convert to float \n",
        "float_array2 = test_features['Hot'].values.astype(float) # convert to float \n",
        "min_max_scaler.fit(float_array1.reshape(-1,1))\n",
        "scaled_array1 = min_max_scaler.transform(float_array1.reshape(-1,1)) # reshape to 2D and perform min max scaling \n",
        "scaled_array2 = min_max_scaler.transform(float_array2.reshape(-1,1))\n",
        "train_features['Hot'] = pd.DataFrame(scaled_array1) # convert back to dataframe \n",
        "test_features['Hot'] = pd.DataFrame(scaled_array2) # convert back to dataframe "
      ],
      "metadata": {
        "id": "T-V5pjgfbH4A"
      },
      "execution_count": null,
      "outputs": []
    },
    {
      "cell_type": "markdown",
      "source": [
        "11) Num_failed_logins"
      ],
      "metadata": {
        "id": "LTIpQjtqNsg_"
      }
    },
    {
      "cell_type": "code",
      "source": [
        "print(train_features.Num_failed_logins.unique()) \n",
        "print(test_features.Num_failed_logins.unique()) # Number of unique values"
      ],
      "metadata": {
        "colab": {
          "base_uri": "https://localhost:8080/"
        },
        "id": "zW3hs8WaNs2w",
        "outputId": "736cea65-61c1-47f2-bd31-40703f07a6de"
      },
      "execution_count": null,
      "outputs": [
        {
          "output_type": "stream",
          "name": "stdout",
          "text": [
            "[0 2 1 3 4 5]\n",
            "[0 1 3 2 4]\n"
          ]
        }
      ]
    },
    {
      "cell_type": "code",
      "source": [
        "float_array1 = train_features['Num_failed_logins'].values.astype(float) # convert to float \n",
        "float_array2 = test_features['Num_failed_logins'].values.astype(float) # convert to float \n",
        "min_max_scaler.fit(float_array1.reshape(-1,1))\n",
        "scaled_array1 = min_max_scaler.transform(float_array1.reshape(-1,1)) # reshape to 2D and perform min max scaling \n",
        "scaled_array2 = min_max_scaler.transform(float_array2.reshape(-1,1))\n",
        "train_features['Num_failed_logins'] = pd.DataFrame(scaled_array1) # convert back to dataframe \n",
        "test_features['Num_failed_logins'] = pd.DataFrame(scaled_array2) # convert back to dataframe "
      ],
      "metadata": {
        "id": "X_ehYViLbcI1"
      },
      "execution_count": null,
      "outputs": []
    },
    {
      "cell_type": "markdown",
      "source": [
        "12) Logged_in "
      ],
      "metadata": {
        "id": "1LdtBx3yOQK2"
      }
    },
    {
      "cell_type": "code",
      "source": [
        "print(train_features.Logged_in.unique()) \n",
        "print(test_features.Logged_in.unique()) # Number of unique values\n",
        "# two values only , no normalization"
      ],
      "metadata": {
        "colab": {
          "base_uri": "https://localhost:8080/"
        },
        "id": "Hg5X0sR0OQa_",
        "outputId": "46508a6d-59eb-4b0e-f5ce-840ad03f9622"
      },
      "execution_count": null,
      "outputs": [
        {
          "output_type": "stream",
          "name": "stdout",
          "text": [
            "[0 1]\n",
            "[0 1]\n"
          ]
        }
      ]
    },
    {
      "cell_type": "markdown",
      "source": [
        "13) Num_compromised"
      ],
      "metadata": {
        "id": "IQsJ9OnQOUoK"
      }
    },
    {
      "cell_type": "code",
      "source": [
        "print(train_features.Num_compromised.unique()) \n",
        "print(test_features.Num_compromised.unique()) # Number of unique values"
      ],
      "metadata": {
        "colab": {
          "base_uri": "https://localhost:8080/"
        },
        "id": "sRwv2CJfOaaD",
        "outputId": "dbecf02c-13fa-480e-e32b-cb5c9d9890ea"
      },
      "execution_count": null,
      "outputs": [
        {
          "output_type": "stream",
          "name": "stdout",
          "text": [
            "[   0    3    2    1   19    5    4   38  107  462  110    6  151    7\n",
            "   31    9  157   13  558   12  371  217   83  193  789  520  884  457\n",
            "  767  756   21   10  281   23   44  622   18   15  716  202  121  682\n",
            "  537  345   17    8  166 7479  307   40  405  751   54  761  102  237\n",
            "  456   22  809  198   37   75  378   16 1739  174   46   74  543  691\n",
            "   94  676  175  373   14   78 1043  177  247  538  187  407  258  568\n",
            "  349  452  375   11]\n",
            "[  0   1 611   2   8  14 165  11  15  10   5  25  49   6 381   4 796   3\n",
            "   9  36  23  57   7]\n"
          ]
        }
      ]
    },
    {
      "cell_type": "code",
      "source": [
        "float_array1 = train_features['Num_compromised'].values.astype(float) # convert to float \n",
        "float_array2 = test_features['Num_compromised'].values.astype(float) # convert to float \n",
        "min_max_scaler.fit(float_array1.reshape(-1,1))\n",
        "scaled_array1 = min_max_scaler.transform(float_array1.reshape(-1,1)) # reshape to 2D and perform min max scaling \n",
        "scaled_array2 = min_max_scaler.transform(float_array2.reshape(-1,1))\n",
        "train_features['Num_compromised'] = pd.DataFrame(scaled_array1) # convert back to dataframe \n",
        "test_features['Num_compromised'] = pd.DataFrame(scaled_array2) # convert back to dataframe "
      ],
      "metadata": {
        "id": "lJAFj_TCbuuf"
      },
      "execution_count": null,
      "outputs": []
    },
    {
      "cell_type": "markdown",
      "source": [
        "14) Root_shell"
      ],
      "metadata": {
        "id": "6JQwsXwsOao7"
      }
    },
    {
      "cell_type": "code",
      "source": [
        "print(train_features.Root_shell.unique())\n",
        "print(test_features.Root_shell.unique()) # Number of unique values \n",
        "# two values, no need to normalize"
      ],
      "metadata": {
        "colab": {
          "base_uri": "https://localhost:8080/"
        },
        "id": "BHpWKrauOdLY",
        "outputId": "f61ee3a7-55c3-4588-83e4-18ea19f706eb"
      },
      "execution_count": null,
      "outputs": [
        {
          "output_type": "stream",
          "name": "stdout",
          "text": [
            "[0 1]\n",
            "[0 1]\n"
          ]
        }
      ]
    },
    {
      "cell_type": "markdown",
      "source": [
        "15) Su_attempted"
      ],
      "metadata": {
        "id": "dkKNi0_KOdg1"
      }
    },
    {
      "cell_type": "code",
      "source": [
        "print(train_features.Su_attempted.unique()) \n",
        "print(test_features.Su_attempted.unique()) # Number of unique values"
      ],
      "metadata": {
        "colab": {
          "base_uri": "https://localhost:8080/"
        },
        "id": "4YkfNk48Ogyy",
        "outputId": "df1c235d-ea0f-42c9-d6d9-95ce3fa8c37b"
      },
      "execution_count": null,
      "outputs": [
        {
          "output_type": "stream",
          "name": "stdout",
          "text": [
            "[0 1 2]\n",
            "[0 2 1]\n"
          ]
        }
      ]
    },
    {
      "cell_type": "code",
      "source": [
        "float_array1 = train_features['Su_attempted'].values.astype(float) # convert to float \n",
        "float_array2 = test_features['Su_attempted'].values.astype(float) # convert to float \n",
        "min_max_scaler.fit(float_array1.reshape(-1,1))\n",
        "scaled_array1 = min_max_scaler.transform(float_array1.reshape(-1,1)) # reshape to 2D and perform min max scaling \n",
        "scaled_array2 = min_max_scaler.transform(float_array2.reshape(-1,1))\n",
        "train_features['Su_attempted'] = pd.DataFrame(scaled_array1) # convert back to dataframe \n",
        "test_features['Su_attempted'] = pd.DataFrame(scaled_array2) # convert back to dataframe "
      ],
      "metadata": {
        "id": "LjfPOBSKb-HT"
      },
      "execution_count": null,
      "outputs": []
    },
    {
      "cell_type": "markdown",
      "source": [
        "16) Num_root"
      ],
      "metadata": {
        "id": "xqrdMHsQOhNG"
      }
    },
    {
      "cell_type": "code",
      "source": [
        "print(train_features.Num_root.unique())\n",
        "print(test_features.Num_root.unique()) # Number of unique values"
      ],
      "metadata": {
        "colab": {
          "base_uri": "https://localhost:8080/"
        },
        "id": "0jncXPcTOiDe",
        "outputId": "f9579e43-7331-42e7-8963-08be7540d7ed"
      },
      "execution_count": null,
      "outputs": [
        {
          "output_type": "stream",
          "name": "stdout",
          "text": [
            "[   0    9   10    1    5    2    6   54   14  100  512  121  151   38\n",
            "    3  179    7  629  417  146  247   91  191  867  572    4  975  508\n",
            "  857   12  278   47  684  789  222  123  749  611  390  184  416 7468\n",
            "  338   40  450  841   39  993  849    8  119  261  502  889  218   36\n",
            "   74  421   16 1743  204   55   77  610  766  104  754   17  206   22\n",
            "   71 1045  190  402  605  187  446  287  626  387  505  425]\n",
            "[  0   1 684   4  23 173  17   7   3   8   2 145  26 401 878  31   9  45\n",
            "  51   5]\n"
          ]
        }
      ]
    },
    {
      "cell_type": "code",
      "source": [
        "float_array1 = train_features['Num_root'].values.astype(float) # convert to float \n",
        "float_array2 = test_features['Num_root'].values.astype(float) # convert to float \n",
        "min_max_scaler.fit(float_array1.reshape(-1,1))\n",
        "scaled_array1 = min_max_scaler.transform(float_array1.reshape(-1,1)) # reshape to 2D and perform min max scaling \n",
        "scaled_array2 = min_max_scaler.transform(float_array2.reshape(-1,1))\n",
        "train_features['Num_root'] = pd.DataFrame(scaled_array1) # convert back to dataframe \n",
        "test_features['Num_root'] = pd.DataFrame(scaled_array2) # convert back to dataframe "
      ],
      "metadata": {
        "id": "OAzJxsCXcKq2"
      },
      "execution_count": null,
      "outputs": []
    },
    {
      "cell_type": "markdown",
      "source": [
        "17) Num_file_creation"
      ],
      "metadata": {
        "id": "YO0i25ytPn6L"
      }
    },
    {
      "cell_type": "code",
      "source": [
        "print(train_features.Num_file_creation.unique()) \n",
        "print(test_features.Num_file_creation.unique()) # Number of unique values"
      ],
      "metadata": {
        "colab": {
          "base_uri": "https://localhost:8080/"
        },
        "id": "vKuNCuC1PoSp",
        "outputId": "1219ed83-bc78-4173-a2d3-87d91bd85369"
      },
      "execution_count": null,
      "outputs": [
        {
          "output_type": "stream",
          "name": "stdout",
          "text": [
            "[ 0  1  8  4  2 15 13 29 19 18  6 14  5 21 17 40  3 20 11 38 23 10 27 25\n",
            " 12 16 28 26  7  9 33 22 43 36 34]\n",
            "[  0   4   2   1   3 100   5   6   7]\n"
          ]
        }
      ]
    },
    {
      "cell_type": "code",
      "source": [
        "float_array1 = train_features['Num_file_creation'].values.astype(float) # convert to float \n",
        "float_array2 = test_features['Num_file_creation'].values.astype(float) # convert to float \n",
        "min_max_scaler.fit(float_array1.reshape(-1,1))\n",
        "scaled_array1 = min_max_scaler.transform(float_array1.reshape(-1,1)) # reshape to 2D and perform min max scaling \n",
        "scaled_array2 = min_max_scaler.transform(float_array2.reshape(-1,1))\n",
        "train_features['Num_file_creation'] = pd.DataFrame(scaled_array1) # convert back to dataframe \n",
        "test_features['Num_file_creation'] = pd.DataFrame(scaled_array2) # convert back to dataframe "
      ],
      "metadata": {
        "id": "Rs67AJB2cXIb"
      },
      "execution_count": null,
      "outputs": []
    },
    {
      "cell_type": "markdown",
      "source": [
        "18) Num_shells"
      ],
      "metadata": {
        "id": "Io-vSmHgQxkR"
      }
    },
    {
      "cell_type": "code",
      "source": [
        "print(train_features.Num_shells.unique()) \n",
        "print(test_features.Num_shells.unique()) # Number of unique values"
      ],
      "metadata": {
        "colab": {
          "base_uri": "https://localhost:8080/"
        },
        "id": "7y1GOBssQ0xY",
        "outputId": "59082ac3-8eed-4290-f923-dc96a38e930e"
      },
      "execution_count": null,
      "outputs": [
        {
          "output_type": "stream",
          "name": "stdout",
          "text": [
            "[0 1 2]\n",
            "[0 1 2 5]\n"
          ]
        }
      ]
    },
    {
      "cell_type": "code",
      "source": [
        "float_array1 = train_features['Num_shells'].values.astype(float) # convert to float \n",
        "float_array2 = test_features['Num_shells'].values.astype(float) # convert to float \n",
        "min_max_scaler.fit(float_array1.reshape(-1,1))\n",
        "scaled_array1 = min_max_scaler.transform(float_array1.reshape(-1,1)) # reshape to 2D and perform min max scaling \n",
        "scaled_array2 = min_max_scaler.transform(float_array2.reshape(-1,1))\n",
        "train_features['Num_shells'] = pd.DataFrame(scaled_array1) # convert back to dataframe \n",
        "test_features['Num_shells'] = pd.DataFrame(scaled_array2) # convert back to dataframe "
      ],
      "metadata": {
        "id": "F5z2aieZchsa"
      },
      "execution_count": null,
      "outputs": []
    },
    {
      "cell_type": "markdown",
      "source": [
        "19) Num_access_files"
      ],
      "metadata": {
        "id": "POBmGP7wQ1KT"
      }
    },
    {
      "cell_type": "code",
      "source": [
        "print(train_features.Num_access_files.unique())\n",
        "print(test_features.Num_access_files.unique()) # Number of unique values"
      ],
      "metadata": {
        "colab": {
          "base_uri": "https://localhost:8080/"
        },
        "id": "EVAX30kFQ4fs",
        "outputId": "0a8bfbad-a3a0-4b8e-acab-a6c5712e2fe6"
      },
      "execution_count": null,
      "outputs": [
        {
          "output_type": "stream",
          "name": "stdout",
          "text": [
            "[0 1 2 3 5 4 8 6 7 9]\n",
            "[0 1 3 2 4]\n"
          ]
        }
      ]
    },
    {
      "cell_type": "code",
      "source": [
        "float_array1 = train_features['Num_access_files'].values.astype(float) # convert to float \n",
        "float_array2 = test_features['Num_access_files'].values.astype(float) # convert to float \n",
        "min_max_scaler.fit(float_array1.reshape(-1,1))\n",
        "scaled_array1 = min_max_scaler.transform(float_array1.reshape(-1,1)) # reshape to 2D and perform min max scaling \n",
        "scaled_array2 = min_max_scaler.transform(float_array2.reshape(-1,1))\n",
        "train_features['Num_access_files'] = pd.DataFrame(scaled_array1) # convert back to dataframe \n",
        "test_features['Num_access_files'] = pd.DataFrame(scaled_array2) # convert back to dataframe "
      ],
      "metadata": {
        "id": "ZDb1R2Tfcrq5"
      },
      "execution_count": null,
      "outputs": []
    },
    {
      "cell_type": "markdown",
      "source": [
        "20) Num_outbound_cmds"
      ],
      "metadata": {
        "id": "acdOFwrcQ40g"
      }
    },
    {
      "cell_type": "code",
      "source": [
        "print(train_features.Num_outbound_cmds.unique())\n",
        "print(test_features.Num_outbound_cmds.unique()) # Number of unique values\n",
        "# just one value zero"
      ],
      "metadata": {
        "colab": {
          "base_uri": "https://localhost:8080/"
        },
        "id": "dSkXDsTXQ7b9",
        "outputId": "67db08f2-277d-4753-e610-951827f3b676"
      },
      "execution_count": null,
      "outputs": [
        {
          "output_type": "stream",
          "name": "stdout",
          "text": [
            "[0]\n",
            "[0]\n"
          ]
        }
      ]
    },
    {
      "cell_type": "markdown",
      "source": [
        "21) Is_host_login"
      ],
      "metadata": {
        "id": "s5_r_PTBQ7wh"
      }
    },
    {
      "cell_type": "code",
      "source": [
        "print(train_features.Is_host_login.unique()) \n",
        "print(test_features.Is_host_login.unique()) # Number of unique values"
      ],
      "metadata": {
        "colab": {
          "base_uri": "https://localhost:8080/"
        },
        "id": "FThGPgW6Q_Pc",
        "outputId": "69a3c9c8-3938-4418-97cc-b82db061951e"
      },
      "execution_count": null,
      "outputs": [
        {
          "output_type": "stream",
          "name": "stdout",
          "text": [
            "[0 1]\n",
            "[0 1]\n"
          ]
        }
      ]
    },
    {
      "cell_type": "markdown",
      "source": [
        "22) Is_guest_login"
      ],
      "metadata": {
        "id": "8VXWPTLWQ_wE"
      }
    },
    {
      "cell_type": "code",
      "source": [
        "print(train_features.Is_guest_login.unique()) \n",
        "print(test_features.Is_guest_login.unique()) # Number of unique values"
      ],
      "metadata": {
        "colab": {
          "base_uri": "https://localhost:8080/"
        },
        "id": "9Rhe1QMqRCdq",
        "outputId": "7588cec8-2e68-4c35-c92b-ec30321bfe08"
      },
      "execution_count": null,
      "outputs": [
        {
          "output_type": "stream",
          "name": "stdout",
          "text": [
            "[0 1]\n",
            "[0 1]\n"
          ]
        }
      ]
    },
    {
      "cell_type": "markdown",
      "source": [
        "23) Count"
      ],
      "metadata": {
        "id": "Hx6qylgqRC0f"
      }
    },
    {
      "cell_type": "code",
      "source": [
        "print(sorted(train_features.Count.unique()))\n",
        "print(sorted(test_features.Count.unique())) # Number of unique values"
      ],
      "metadata": {
        "colab": {
          "base_uri": "https://localhost:8080/"
        },
        "id": "O3-JiaCoRFh8",
        "outputId": "2ab5c906-e767-42c2-f595-e8d96a4dca0b"
      },
      "execution_count": null,
      "outputs": [
        {
          "output_type": "stream",
          "name": "stdout",
          "text": [
            "[0, 1, 2, 3, 4, 5, 6, 7, 8, 9, 10, 11, 12, 13, 14, 15, 16, 17, 18, 19, 20, 21, 22, 23, 24, 25, 26, 27, 28, 29, 30, 31, 32, 33, 34, 35, 36, 37, 38, 39, 40, 41, 42, 43, 44, 45, 46, 47, 48, 49, 50, 51, 52, 53, 54, 55, 56, 57, 58, 59, 60, 61, 62, 63, 64, 65, 66, 67, 68, 69, 70, 71, 72, 73, 74, 75, 76, 77, 78, 79, 80, 81, 82, 83, 84, 85, 86, 87, 88, 89, 90, 91, 92, 93, 94, 95, 96, 97, 98, 99, 100, 101, 102, 103, 104, 105, 106, 107, 108, 109, 110, 111, 112, 113, 114, 115, 116, 117, 118, 119, 120, 121, 122, 123, 124, 125, 126, 127, 128, 129, 130, 131, 132, 133, 134, 135, 136, 137, 138, 139, 140, 141, 142, 143, 144, 145, 146, 147, 148, 149, 150, 151, 152, 153, 154, 155, 156, 157, 158, 159, 160, 161, 162, 163, 164, 165, 166, 167, 168, 169, 170, 171, 172, 173, 174, 175, 176, 177, 178, 179, 180, 181, 182, 183, 184, 185, 186, 187, 188, 189, 190, 191, 192, 193, 194, 195, 196, 197, 198, 199, 200, 201, 202, 203, 204, 205, 206, 207, 208, 209, 210, 211, 212, 213, 214, 215, 216, 217, 218, 219, 220, 221, 222, 223, 224, 225, 226, 227, 228, 229, 230, 231, 232, 233, 234, 235, 236, 237, 238, 239, 240, 241, 242, 243, 244, 245, 246, 247, 248, 249, 250, 251, 252, 253, 254, 255, 256, 257, 258, 259, 260, 261, 262, 263, 264, 265, 266, 267, 268, 269, 270, 271, 272, 273, 274, 275, 276, 277, 278, 279, 280, 281, 282, 283, 284, 285, 286, 287, 288, 289, 290, 291, 292, 293, 294, 295, 296, 297, 298, 299, 300, 301, 302, 303, 304, 305, 306, 307, 308, 309, 310, 311, 312, 313, 314, 315, 316, 317, 318, 319, 320, 321, 322, 323, 324, 325, 326, 327, 328, 329, 330, 331, 332, 333, 334, 335, 336, 337, 338, 339, 340, 341, 342, 343, 344, 345, 346, 347, 348, 349, 350, 351, 352, 353, 354, 355, 356, 357, 358, 359, 360, 361, 362, 363, 364, 365, 366, 367, 368, 369, 370, 371, 372, 373, 374, 375, 376, 377, 378, 379, 380, 381, 382, 383, 384, 385, 386, 387, 388, 389, 390, 391, 392, 393, 394, 395, 396, 397, 398, 399, 400, 401, 402, 403, 404, 405, 406, 407, 408, 409, 410, 411, 412, 413, 414, 415, 416, 417, 418, 419, 420, 421, 422, 423, 424, 425, 426, 427, 428, 429, 430, 431, 432, 433, 434, 435, 436, 437, 438, 439, 440, 441, 442, 443, 444, 445, 446, 447, 448, 449, 450, 451, 452, 453, 454, 455, 456, 457, 458, 459, 460, 461, 462, 463, 464, 465, 466, 467, 468, 469, 470, 471, 472, 473, 474, 475, 476, 477, 478, 479, 480, 481, 482, 483, 484, 485, 486, 487, 488, 489, 490, 491, 492, 493, 494, 495, 496, 497, 498, 499, 500, 501, 502, 503, 504, 505, 506, 507, 508, 509, 510, 511]\n",
            "[0, 1, 2, 3, 4, 5, 6, 7, 8, 9, 10, 11, 12, 13, 14, 15, 16, 17, 18, 19, 20, 21, 22, 23, 24, 25, 26, 27, 28, 29, 30, 31, 32, 33, 34, 35, 36, 37, 38, 39, 40, 41, 42, 43, 44, 45, 46, 47, 48, 49, 50, 51, 52, 53, 54, 55, 56, 57, 58, 59, 60, 61, 62, 63, 64, 65, 66, 67, 68, 69, 70, 71, 72, 73, 74, 75, 76, 77, 78, 79, 80, 81, 82, 83, 84, 85, 86, 87, 88, 89, 90, 91, 92, 93, 94, 95, 96, 97, 98, 99, 100, 101, 102, 103, 104, 105, 106, 107, 108, 109, 110, 111, 112, 113, 114, 115, 116, 117, 118, 119, 120, 121, 122, 123, 124, 125, 126, 127, 128, 129, 130, 131, 132, 133, 134, 135, 136, 137, 138, 139, 140, 141, 142, 143, 144, 145, 146, 147, 148, 149, 150, 151, 152, 153, 154, 155, 156, 157, 158, 159, 160, 161, 162, 163, 164, 165, 166, 167, 168, 169, 170, 171, 172, 173, 174, 175, 176, 177, 178, 179, 180, 181, 182, 183, 184, 185, 186, 187, 188, 189, 190, 191, 192, 193, 194, 195, 196, 197, 198, 199, 200, 201, 202, 203, 204, 205, 206, 207, 208, 209, 210, 211, 212, 213, 214, 215, 216, 217, 218, 219, 220, 221, 222, 223, 224, 225, 226, 227, 228, 229, 230, 231, 232, 233, 234, 235, 236, 237, 238, 239, 240, 241, 242, 243, 244, 245, 246, 247, 248, 249, 250, 251, 252, 253, 254, 255, 256, 257, 258, 259, 260, 261, 262, 263, 264, 265, 266, 267, 268, 269, 270, 271, 272, 273, 274, 275, 276, 277, 278, 279, 280, 281, 282, 283, 284, 285, 286, 287, 288, 289, 290, 291, 292, 293, 294, 295, 296, 297, 298, 299, 300, 301, 302, 303, 304, 305, 306, 307, 308, 309, 310, 311, 312, 313, 314, 315, 316, 317, 318, 319, 320, 321, 322, 323, 324, 325, 326, 327, 328, 329, 331, 332, 333, 334, 335, 336, 338, 340, 341, 343, 344, 346, 347, 348, 350, 351, 352, 353, 354, 355, 356, 358, 359, 360, 361, 362, 363, 364, 365, 366, 367, 368, 369, 370, 371, 373, 374, 375, 376, 378, 379, 380, 381, 382, 383, 384, 385, 386, 387, 388, 389, 390, 391, 392, 393, 394, 395, 396, 398, 399, 400, 401, 403, 404, 405, 407, 408, 409, 410, 411, 412, 413, 414, 415, 416, 418, 419, 420, 421, 424, 425, 426, 427, 428, 429, 430, 431, 432, 434, 435, 436, 437, 438, 439, 440, 441, 442, 443, 444, 445, 446, 447, 448, 449, 450, 451, 452, 453, 454, 455, 456, 457, 458, 459, 460, 461, 462, 463, 464, 465, 466, 467, 468, 469, 470, 471, 472, 473, 474, 475, 476, 477, 478, 479, 480, 481, 482, 483, 484, 485, 486, 487, 488, 489, 490, 491, 492, 493, 494, 495, 496, 497, 498, 499, 501, 502, 503, 504, 505, 506, 507, 508, 509, 510, 511]\n"
          ]
        }
      ]
    },
    {
      "cell_type": "code",
      "source": [
        "float_array1 = train_features['Count'].values.astype(float) # convert to float \n",
        "float_array2 = test_features['Count'].values.astype(float) # convert to float \n",
        "min_max_scaler.fit(float_array1.reshape(-1,1))\n",
        "scaled_array1 = min_max_scaler.transform(float_array1.reshape(-1,1)) # reshape to 2D and perform min max scaling \n",
        "scaled_array2 = min_max_scaler.transform(float_array2.reshape(-1,1))\n",
        "train_features['Count'] = pd.DataFrame(scaled_array1) # convert back to dataframe \n",
        "test_features['Count'] = pd.DataFrame(scaled_array2) # convert back to dataframe "
      ],
      "metadata": {
        "id": "37vokyyNd7p-"
      },
      "execution_count": null,
      "outputs": []
    },
    {
      "cell_type": "markdown",
      "source": [
        "24) Srv_count"
      ],
      "metadata": {
        "id": "mJBmgpepRF0o"
      }
    },
    {
      "cell_type": "code",
      "source": [
        "print(sorted(train_features.Srv_count.unique())) \n",
        "print(sorted(test_features.Srv_count.unique())) # Number of unique values"
      ],
      "metadata": {
        "colab": {
          "base_uri": "https://localhost:8080/"
        },
        "id": "mz_C5mR_RIPC",
        "outputId": "12b62b2f-e5e1-4d0b-977c-d6ec44663c5f"
      },
      "execution_count": null,
      "outputs": [
        {
          "output_type": "stream",
          "name": "stdout",
          "text": [
            "[0, 1, 2, 3, 4, 5, 6, 7, 8, 9, 10, 11, 12, 13, 14, 15, 16, 17, 18, 19, 20, 21, 22, 23, 24, 25, 26, 27, 28, 29, 30, 31, 32, 33, 34, 35, 36, 37, 38, 39, 40, 41, 42, 43, 44, 45, 46, 47, 48, 49, 50, 51, 52, 53, 54, 55, 56, 57, 58, 59, 60, 61, 62, 63, 64, 65, 66, 67, 68, 69, 70, 71, 72, 73, 74, 75, 76, 77, 78, 79, 80, 81, 82, 83, 84, 85, 86, 87, 88, 89, 90, 91, 92, 93, 94, 95, 96, 97, 98, 99, 100, 101, 102, 103, 104, 105, 106, 107, 108, 109, 110, 111, 112, 113, 114, 115, 116, 117, 118, 119, 120, 121, 122, 123, 124, 125, 126, 127, 128, 129, 130, 131, 132, 133, 134, 135, 136, 137, 138, 139, 140, 141, 142, 143, 144, 145, 146, 147, 148, 149, 150, 151, 152, 153, 154, 155, 156, 157, 158, 159, 160, 161, 162, 163, 164, 165, 166, 167, 168, 169, 170, 171, 172, 173, 174, 175, 176, 177, 178, 179, 180, 181, 182, 183, 184, 185, 186, 187, 188, 189, 190, 191, 192, 193, 194, 195, 196, 197, 198, 199, 200, 201, 202, 203, 204, 205, 206, 207, 208, 209, 210, 211, 212, 213, 214, 215, 216, 217, 218, 219, 220, 221, 222, 223, 224, 225, 226, 227, 228, 229, 230, 231, 232, 233, 234, 235, 236, 237, 238, 239, 240, 241, 242, 243, 244, 245, 246, 247, 248, 249, 250, 251, 252, 253, 254, 255, 256, 257, 258, 259, 260, 261, 262, 263, 264, 265, 266, 267, 268, 269, 270, 271, 272, 273, 274, 275, 276, 277, 278, 279, 280, 281, 282, 283, 284, 285, 286, 287, 288, 289, 290, 291, 292, 293, 294, 295, 296, 297, 298, 299, 300, 301, 302, 303, 304, 305, 306, 307, 308, 309, 310, 311, 312, 313, 314, 315, 316, 317, 318, 319, 320, 321, 322, 323, 324, 325, 326, 327, 328, 329, 330, 331, 332, 333, 334, 335, 336, 337, 338, 339, 340, 341, 342, 343, 344, 345, 346, 347, 348, 349, 350, 351, 352, 353, 354, 355, 356, 357, 358, 359, 360, 361, 362, 363, 364, 365, 366, 367, 368, 369, 370, 371, 372, 373, 374, 375, 376, 377, 378, 379, 380, 381, 382, 383, 384, 385, 386, 387, 388, 389, 390, 391, 392, 393, 394, 395, 396, 397, 398, 399, 400, 401, 402, 403, 404, 405, 406, 407, 408, 409, 410, 411, 412, 413, 414, 415, 416, 417, 418, 419, 420, 421, 422, 423, 424, 425, 426, 427, 428, 429, 430, 431, 432, 433, 434, 435, 436, 437, 438, 439, 440, 441, 442, 443, 444, 445, 446, 447, 448, 449, 450, 451, 452, 453, 454, 455, 456, 457, 458, 459, 460, 461, 462, 463, 464, 465, 466, 467, 468, 469, 470, 471, 472, 473, 474, 475, 476, 477, 478, 479, 480, 481, 482, 483, 484, 485, 486, 487, 488, 489, 490, 491, 492, 493, 494, 495, 496, 497, 498, 499, 500, 501, 502, 503, 507, 508, 509, 510, 511]\n",
            "[0, 1, 2, 3, 4, 5, 6, 7, 8, 9, 10, 11, 12, 13, 14, 15, 16, 17, 18, 19, 20, 21, 22, 23, 24, 25, 26, 27, 28, 29, 30, 31, 32, 33, 34, 35, 36, 37, 38, 39, 40, 41, 42, 43, 44, 45, 46, 47, 48, 49, 50, 51, 52, 53, 54, 55, 56, 57, 58, 59, 60, 61, 62, 63, 64, 65, 66, 67, 68, 69, 70, 71, 72, 73, 74, 75, 76, 77, 78, 79, 80, 81, 82, 83, 84, 85, 86, 87, 88, 89, 90, 91, 92, 93, 94, 95, 96, 97, 98, 99, 100, 101, 102, 103, 104, 105, 106, 107, 108, 109, 110, 111, 112, 113, 114, 115, 116, 117, 118, 119, 120, 121, 122, 123, 124, 125, 126, 127, 128, 129, 130, 131, 132, 133, 134, 135, 136, 137, 138, 139, 140, 141, 142, 143, 144, 145, 146, 147, 148, 149, 150, 151, 152, 153, 154, 155, 156, 157, 158, 159, 160, 161, 162, 163, 164, 165, 166, 167, 168, 169, 170, 171, 172, 173, 174, 175, 176, 177, 178, 179, 180, 181, 182, 183, 184, 185, 186, 187, 188, 189, 190, 191, 192, 193, 194, 195, 196, 197, 198, 199, 200, 201, 202, 203, 204, 205, 206, 207, 208, 209, 210, 211, 212, 213, 214, 215, 216, 217, 218, 219, 220, 221, 222, 223, 224, 225, 226, 227, 228, 229, 230, 231, 232, 233, 234, 235, 236, 237, 238, 239, 240, 241, 242, 243, 244, 245, 246, 247, 248, 249, 250, 251, 252, 254, 255, 257, 258, 259, 260, 262, 263, 264, 265, 266, 267, 268, 269, 270, 271, 272, 274, 275, 276, 277, 278, 279, 281, 283, 284, 285, 286, 287, 290, 292, 293, 294, 295, 296, 297, 299, 301, 302, 303, 304, 305, 306, 307, 308, 309, 310, 311, 312, 313, 315, 316, 317, 318, 319, 320, 321, 322, 323, 324, 325, 326, 327, 328, 329, 331, 332, 333, 334, 335, 336, 338, 340, 343, 344, 346, 347, 348, 350, 351, 352, 353, 354, 355, 356, 358, 359, 360, 362, 363, 365, 366, 367, 368, 370, 371, 373, 374, 375, 376, 378, 379, 380, 381, 382, 383, 384, 385, 386, 387, 388, 391, 392, 393, 394, 395, 396, 399, 400, 401, 403, 404, 405, 407, 409, 412, 413, 414, 416, 418, 419, 421, 424, 425, 426, 427, 428, 429, 430, 431, 434, 436, 437, 438, 440, 441, 442, 443, 444, 445, 446, 447, 448, 449, 450, 451, 452, 453, 455, 456, 458, 459, 460, 461, 462, 463, 464, 466, 469, 470, 472, 473, 474, 475, 476, 477, 478, 479, 480, 481, 482, 483, 485, 487, 488, 489, 491, 492, 494, 495, 496, 498, 499, 501, 502, 503, 504, 505, 506, 507, 508, 509, 510, 511]\n"
          ]
        }
      ]
    },
    {
      "cell_type": "code",
      "source": [
        "float_array1 = train_features['Srv_count'].values.astype(float) # convert to float \n",
        "float_array2 = test_features['Srv_count'].values.astype(float) # convert to float \n",
        "min_max_scaler.fit(float_array1.reshape(-1,1))\n",
        "scaled_array1 = min_max_scaler.transform(float_array1.reshape(-1,1)) # reshape to 2D and perform min max scaling \n",
        "scaled_array2 = min_max_scaler.transform(float_array2.reshape(-1,1))\n",
        "train_features['Srv_count'] = pd.DataFrame(scaled_array1) # convert back to dataframe \n",
        "test_features['Srv_count'] = pd.DataFrame(scaled_array2) # convert back to dataframe "
      ],
      "metadata": {
        "id": "gkKvVqp9ePeO"
      },
      "execution_count": null,
      "outputs": []
    },
    {
      "cell_type": "markdown",
      "source": [
        "25) Serror_rate"
      ],
      "metadata": {
        "id": "fao3l3CnRIiK"
      }
    },
    {
      "cell_type": "code",
      "source": [
        "print(sorted(train_features.Serror_rate.unique()))\n",
        "print(sorted(test_features.Serror_rate.unique())) # Number of unique values"
      ],
      "metadata": {
        "colab": {
          "base_uri": "https://localhost:8080/"
        },
        "id": "JvdpuhfwRLLK",
        "outputId": "c8c3be80-74c6-47fa-86a9-b0003a00d7ba"
      },
      "execution_count": null,
      "outputs": [
        {
          "output_type": "stream",
          "name": "stdout",
          "text": [
            "[0.0, 0.01, 0.02, 0.03, 0.04, 0.05, 0.06, 0.07, 0.08, 0.09, 0.1, 0.11, 0.12, 0.13, 0.14, 0.15, 0.16, 0.17, 0.18, 0.19, 0.2, 0.21, 0.22, 0.23, 0.24, 0.25, 0.26, 0.27, 0.28, 0.29, 0.3, 0.33, 0.35, 0.36, 0.37, 0.4, 0.43, 0.44, 0.5, 0.51, 0.52, 0.53, 0.54, 0.55, 0.56, 0.57, 0.58, 0.59, 0.6, 0.61, 0.62, 0.63, 0.64, 0.65, 0.66, 0.67, 0.68, 0.69, 0.7, 0.71, 0.72, 0.73, 0.74, 0.75, 0.76, 0.77, 0.78, 0.79, 0.8, 0.81, 0.82, 0.83, 0.84, 0.85, 0.86, 0.87, 0.88, 0.89, 0.9, 0.91, 0.92, 0.93, 0.94, 0.95, 0.96, 0.97, 0.98, 0.99, 1.0]\n",
            "[0.0, 0.01, 0.02, 0.03, 0.04, 0.05, 0.06, 0.07, 0.08, 0.09, 0.1, 0.11, 0.12, 0.13, 0.14, 0.15, 0.16, 0.17, 0.18, 0.19, 0.2, 0.21, 0.22, 0.23, 0.24, 0.25, 0.26, 0.27, 0.28, 0.29, 0.3, 0.31, 0.32, 0.33, 0.34, 0.35, 0.36, 0.37, 0.38, 0.39, 0.4, 0.41, 0.42, 0.43, 0.44, 0.45, 0.46, 0.48, 0.5, 0.51, 0.53, 0.55, 0.56, 0.57, 0.58, 0.59, 0.6, 0.61, 0.62, 0.63, 0.64, 0.67, 0.68, 0.69, 0.7, 0.71, 0.72, 0.73, 0.74, 0.75, 0.76, 0.77, 0.78, 0.79, 0.8, 0.81, 0.82, 0.83, 0.84, 0.85, 0.86, 0.87, 0.88, 0.89, 0.9, 0.91, 0.92, 1.0]\n"
          ]
        }
      ]
    },
    {
      "cell_type": "markdown",
      "source": [
        "26) Srv_serror_rate"
      ],
      "metadata": {
        "id": "aDDLkn61RLhC"
      }
    },
    {
      "cell_type": "code",
      "source": [
        "print(sorted(train_features.Srv_serror_rate.unique()))\n",
        "print(sorted(test_features.Srv_serror_rate.unique())) # Number of unique values"
      ],
      "metadata": {
        "colab": {
          "base_uri": "https://localhost:8080/"
        },
        "id": "-I7jmTV7ROEJ",
        "outputId": "19b308fc-7b8a-4a4a-ae88-b31227aebe37"
      },
      "execution_count": null,
      "outputs": [
        {
          "output_type": "stream",
          "name": "stdout",
          "text": [
            "[0.0, 0.01, 0.02, 0.03, 0.04, 0.05, 0.06, 0.07, 0.08, 0.09, 0.1, 0.11, 0.12, 0.13, 0.14, 0.15, 0.17, 0.18, 0.19, 0.2, 0.21, 0.22, 0.23, 0.24, 0.25, 0.26, 0.27, 0.28, 0.29, 0.3, 0.32, 0.33, 0.34, 0.35, 0.36, 0.37, 0.38, 0.39, 0.4, 0.41, 0.42, 0.43, 0.44, 0.45, 0.46, 0.47, 0.48, 0.5, 0.51, 0.53, 0.54, 0.55, 0.56, 0.57, 0.58, 0.59, 0.6, 0.61, 0.63, 0.65, 0.67, 0.68, 0.7, 0.71, 0.72, 0.73, 0.74, 0.75, 0.76, 0.78, 0.8, 0.82, 0.83, 0.85, 0.86, 0.87, 0.88, 0.89, 0.9, 0.91, 0.92, 0.93, 0.94, 0.95, 0.96, 1.0]\n",
            "[0.0, 0.01, 0.02, 0.03, 0.04, 0.05, 0.06, 0.07, 0.08, 0.09, 0.1, 0.11, 0.12, 0.13, 0.14, 0.15, 0.16, 0.17, 0.18, 0.19, 0.2, 0.21, 0.22, 0.24, 0.25, 0.26, 0.27, 0.28, 0.29, 0.3, 0.31, 0.32, 0.33, 0.35, 0.36, 0.37, 0.38, 0.39, 0.4, 0.41, 0.42, 0.44, 0.46, 0.48, 0.5, 0.53, 0.55, 0.56, 0.57, 0.58, 0.59, 0.6, 0.61, 0.62, 0.63, 0.64, 0.65, 0.67, 0.71, 0.72, 0.73, 0.74, 0.75, 0.76, 0.77, 0.78, 0.79, 0.8, 0.81, 0.82, 0.83, 0.84, 0.85, 0.86, 0.87, 0.88, 0.89, 0.9, 0.92, 0.93, 0.94, 1.0]\n"
          ]
        }
      ]
    },
    {
      "cell_type": "markdown",
      "source": [
        "27) Rerror_rate"
      ],
      "metadata": {
        "id": "uMtoaOjEROYW"
      }
    },
    {
      "cell_type": "code",
      "source": [
        "print(sorted(train_features.Rerror_rate.unique())) \n",
        "print(sorted(test_features.Rerror_rate.unique())) # Number of unique values"
      ],
      "metadata": {
        "colab": {
          "base_uri": "https://localhost:8080/"
        },
        "id": "FB6zuGC9RR4u",
        "outputId": "8d661ecb-d7f6-4434-f432-dcd140c5743b"
      },
      "execution_count": null,
      "outputs": [
        {
          "output_type": "stream",
          "name": "stdout",
          "text": [
            "[0.0, 0.01, 0.02, 0.03, 0.04, 0.05, 0.06, 0.07, 0.08, 0.09, 0.1, 0.11, 0.12, 0.14, 0.17, 0.18, 0.19, 0.2, 0.21, 0.22, 0.23, 0.24, 0.25, 0.26, 0.27, 0.28, 0.29, 0.3, 0.31, 0.32, 0.33, 0.34, 0.35, 0.36, 0.37, 0.38, 0.4, 0.43, 0.44, 0.5, 0.55, 0.56, 0.57, 0.58, 0.6, 0.62, 0.63, 0.64, 0.65, 0.67, 0.69, 0.7, 0.71, 0.72, 0.73, 0.74, 0.75, 0.76, 0.77, 0.78, 0.79, 0.8, 0.81, 0.82, 0.83, 0.84, 0.85, 0.86, 0.87, 0.88, 0.89, 0.9, 0.91, 0.92, 0.93, 0.94, 0.95, 0.96, 0.97, 0.98, 0.99, 1.0]\n",
            "[0.0, 0.08, 0.09, 0.1, 0.11, 0.12, 0.13, 0.14, 0.15, 0.16, 0.17, 0.18, 0.19, 0.2, 0.21, 0.22, 0.23, 0.24, 0.25, 0.26, 0.27, 0.28, 0.29, 0.3, 0.31, 0.32, 0.33, 0.34, 0.35, 0.36, 0.37, 0.38, 0.39, 0.4, 0.41, 0.42, 0.44, 0.45, 0.47, 0.48, 0.49, 0.5, 0.52, 0.54, 0.55, 0.56, 0.57, 0.58, 0.59, 0.6, 0.61, 0.62, 0.63, 0.64, 0.65, 0.66, 0.67, 0.68, 0.69, 0.7, 0.71, 0.72, 0.73, 0.74, 0.75, 0.76, 0.77, 0.78, 0.79, 0.8, 0.81, 0.82, 0.83, 0.84, 0.85, 0.86, 0.87, 0.88, 0.89, 0.9, 0.91, 0.92, 0.93, 0.94, 0.95, 0.96, 0.97, 0.98, 0.99, 1.0]\n"
          ]
        }
      ]
    },
    {
      "cell_type": "markdown",
      "source": [
        "28) Srv_rerror_rate"
      ],
      "metadata": {
        "id": "-90OrlInRSNS"
      }
    },
    {
      "cell_type": "code",
      "source": [
        "print(sorted(train_features.Srv_rerror_rate.unique()))\n",
        "print(sorted(test_features.Srv_rerror_rate.unique())) # Number of unique values"
      ],
      "metadata": {
        "colab": {
          "base_uri": "https://localhost:8080/"
        },
        "id": "8UQtBt4jRUtr",
        "outputId": "e03fcd5a-1861-4b56-b193-b401e6028fbf"
      },
      "execution_count": null,
      "outputs": [
        {
          "output_type": "stream",
          "name": "stdout",
          "text": [
            "[0.0, 0.01, 0.02, 0.03, 0.04, 0.05, 0.06, 0.07, 0.08, 0.09, 0.1, 0.11, 0.12, 0.13, 0.14, 0.15, 0.17, 0.18, 0.2, 0.22, 0.25, 0.29, 0.3, 0.33, 0.38, 0.4, 0.43, 0.5, 0.55, 0.56, 0.57, 0.58, 0.6, 0.62, 0.64, 0.67, 0.69, 0.7, 0.71, 0.72, 0.73, 0.74, 0.75, 0.76, 0.77, 0.78, 0.79, 0.8, 0.81, 0.82, 0.83, 0.84, 0.85, 0.86, 0.87, 0.88, 0.89, 0.9, 0.92, 0.95, 0.96, 1.0]\n",
            "[0.0, 0.02, 0.03, 0.04, 0.06, 0.07, 0.08, 0.09, 0.1, 0.11, 0.12, 0.13, 0.14, 0.15, 0.16, 0.17, 0.18, 0.2, 0.21, 0.22, 0.23, 0.24, 0.25, 0.26, 0.27, 0.28, 0.29, 0.3, 0.31, 0.33, 0.34, 0.35, 0.36, 0.37, 0.38, 0.39, 0.4, 0.41, 0.42, 0.43, 0.44, 0.45, 0.46, 0.47, 0.48, 0.5, 0.51, 0.52, 0.53, 0.54, 0.55, 0.56, 0.57, 0.58, 0.59, 0.6, 0.61, 0.62, 0.64, 0.65, 0.67, 0.68, 0.69, 0.7, 0.71, 0.72, 0.73, 0.74, 0.75, 0.76, 0.77, 0.78, 0.79, 0.8, 0.81, 0.82, 0.83, 0.84, 0.85, 0.86, 0.87, 0.88, 0.89, 0.9, 0.91, 0.92, 0.93, 0.94, 0.95, 0.96, 0.97, 0.98, 1.0]\n"
          ]
        }
      ]
    },
    {
      "cell_type": "markdown",
      "source": [
        "29) Same_srv_rate"
      ],
      "metadata": {
        "id": "gKYz2M35RVEc"
      }
    },
    {
      "cell_type": "code",
      "source": [
        "print(sorted(train_features.Same_srv_rate.unique())) \n",
        "print(sorted(test_features.Same_srv_rate.unique())) # Number of unique values "
      ],
      "metadata": {
        "colab": {
          "base_uri": "https://localhost:8080/"
        },
        "id": "80DAVt9sRYT9",
        "outputId": "0058a0a6-cd8b-475f-e894-03c48dcda0bb"
      },
      "execution_count": null,
      "outputs": [
        {
          "output_type": "stream",
          "name": "stdout",
          "text": [
            "[0.0, 0.01, 0.02, 0.03, 0.04, 0.05, 0.06, 0.07, 0.08, 0.09, 0.1, 0.11, 0.12, 0.13, 0.14, 0.15, 0.16, 0.17, 0.18, 0.19, 0.2, 0.21, 0.22, 0.23, 0.24, 0.25, 0.26, 0.27, 0.28, 0.29, 0.3, 0.31, 0.32, 0.33, 0.34, 0.35, 0.36, 0.37, 0.38, 0.39, 0.4, 0.41, 0.42, 0.43, 0.44, 0.45, 0.46, 0.47, 0.48, 0.49, 0.5, 0.51, 0.52, 0.53, 0.54, 0.55, 0.56, 0.57, 0.58, 0.59, 0.6, 0.61, 0.62, 0.63, 0.64, 0.65, 0.66, 0.67, 0.68, 0.69, 0.7, 0.71, 0.72, 0.73, 0.74, 0.75, 0.76, 0.77, 0.78, 0.79, 0.8, 0.81, 0.82, 0.83, 0.84, 0.85, 0.86, 0.87, 0.88, 0.89, 0.9, 0.91, 0.92, 0.93, 0.94, 0.95, 0.96, 0.97, 0.98, 0.99, 1.0]\n",
            "[0.0, 0.01, 0.02, 0.03, 0.04, 0.05, 0.06, 0.07, 0.08, 0.09, 0.1, 0.11, 0.12, 0.13, 0.14, 0.15, 0.16, 0.17, 0.18, 0.19, 0.2, 0.21, 0.22, 0.23, 0.24, 0.25, 0.26, 0.27, 0.28, 0.29, 0.3, 0.31, 0.32, 0.33, 0.34, 0.35, 0.36, 0.37, 0.38, 0.39, 0.4, 0.41, 0.42, 0.43, 0.46, 0.47, 0.48, 0.5, 0.52, 0.53, 0.54, 0.55, 0.56, 0.57, 0.58, 0.6, 0.62, 0.65, 0.67, 0.75, 0.78, 0.8, 0.83, 0.85, 0.86, 0.89, 0.9, 0.91, 0.92, 0.93, 0.94, 0.95, 0.98, 0.99, 1.0]\n"
          ]
        }
      ]
    },
    {
      "cell_type": "markdown",
      "source": [
        "30) Diff_srv_rate"
      ],
      "metadata": {
        "id": "DtZglHXHRYoZ"
      }
    },
    {
      "cell_type": "code",
      "source": [
        "print(sorted(train_features.Diff_srv_rate.unique())) \n",
        "print(sorted(test_features.Diff_srv_rate.unique())) # Number of unique values"
      ],
      "metadata": {
        "colab": {
          "base_uri": "https://localhost:8080/"
        },
        "id": "OGF-2Sn_RbTG",
        "outputId": "ba3141aa-f29b-45bf-f90b-fb2a873831be"
      },
      "execution_count": null,
      "outputs": [
        {
          "output_type": "stream",
          "name": "stdout",
          "text": [
            "[0.0, 0.01, 0.02, 0.03, 0.04, 0.05, 0.06, 0.07, 0.08, 0.09, 0.1, 0.11, 0.12, 0.13, 0.14, 0.15, 0.16, 0.17, 0.18, 0.19, 0.2, 0.21, 0.22, 0.23, 0.24, 0.25, 0.26, 0.27, 0.28, 0.29, 0.3, 0.31, 0.32, 0.33, 0.35, 0.36, 0.37, 0.38, 0.39, 0.4, 0.41, 0.42, 0.43, 0.44, 0.45, 0.46, 0.47, 0.48, 0.5, 0.51, 0.52, 0.53, 0.54, 0.55, 0.56, 0.57, 0.58, 0.59, 0.6, 0.61, 0.62, 0.63, 0.64, 0.65, 0.67, 0.68, 0.69, 0.7, 0.71, 0.72, 0.73, 0.74, 0.75, 0.76, 0.77, 0.78, 0.79, 0.8, 0.81, 0.82, 0.83, 0.85, 0.86, 0.87, 0.88, 0.89, 0.9, 0.91, 0.92, 0.95, 0.96, 0.97, 0.98, 0.99, 1.0]\n",
            "[0.0, 0.01, 0.02, 0.03, 0.05, 0.06, 0.07, 0.08, 0.09, 0.1, 0.11, 0.12, 0.13, 0.14, 0.15, 0.16, 0.17, 0.18, 0.19, 0.2, 0.21, 0.22, 0.23, 0.24, 0.25, 0.26, 0.27, 0.28, 0.29, 0.3, 0.31, 0.32, 0.33, 0.34, 0.35, 0.36, 0.38, 0.39, 0.4, 0.41, 0.42, 0.43, 0.44, 0.45, 0.46, 0.47, 0.48, 0.49, 0.5, 0.51, 0.52, 0.53, 0.54, 0.55, 0.56, 0.57, 0.58, 0.59, 0.6, 0.61, 0.62, 0.63, 0.64, 0.65, 0.66, 0.67, 0.68, 0.69, 0.7, 0.71, 0.72, 0.73, 0.74, 0.75, 0.76, 0.77, 0.78, 0.79, 0.8, 0.81, 0.82, 0.83, 0.84, 0.85, 0.86, 0.87, 0.88, 0.89, 0.9, 0.91, 0.92, 0.93, 0.94, 0.95, 0.96, 0.97, 0.98, 0.99, 1.0]\n"
          ]
        }
      ]
    },
    {
      "cell_type": "markdown",
      "source": [
        "31) Srv_diff_host_rate"
      ],
      "metadata": {
        "id": "Zp7GaEPeRbpu"
      }
    },
    {
      "cell_type": "code",
      "source": [
        "print(sorted(train_features.Srv_diff_host_rate.unique())) \n",
        "print(sorted(test_features.Srv_diff_host_rate.unique())) # Number of unique values"
      ],
      "metadata": {
        "colab": {
          "base_uri": "https://localhost:8080/"
        },
        "id": "CeFdn6P8Rd83",
        "outputId": "30975b4a-f529-4ffd-f0cf-c155b2291774"
      },
      "execution_count": null,
      "outputs": [
        {
          "output_type": "stream",
          "name": "stdout",
          "text": [
            "[0.0, 0.01, 0.02, 0.03, 0.04, 0.05, 0.06, 0.07, 0.08, 0.09, 0.1, 0.11, 0.12, 0.13, 0.14, 0.15, 0.16, 0.17, 0.18, 0.19, 0.2, 0.21, 0.22, 0.23, 0.24, 0.25, 0.26, 0.27, 0.28, 0.29, 0.3, 0.31, 0.32, 0.33, 0.35, 0.36, 0.37, 0.38, 0.4, 0.41, 0.42, 0.43, 0.44, 0.45, 0.46, 0.47, 0.5, 0.54, 0.55, 0.56, 0.57, 0.6, 0.62, 0.67, 0.71, 0.75, 0.8, 0.83, 0.88, 1.0]\n",
            "[0.0, 0.01, 0.02, 0.03, 0.04, 0.05, 0.06, 0.07, 0.08, 0.09, 0.1, 0.11, 0.12, 0.13, 0.14, 0.15, 0.16, 0.17, 0.18, 0.19, 0.2, 0.21, 0.22, 0.23, 0.24, 0.25, 0.26, 0.27, 0.28, 0.29, 0.3, 0.31, 0.32, 0.33, 0.35, 0.36, 0.38, 0.39, 0.4, 0.42, 0.43, 0.44, 0.45, 0.47, 0.5, 0.53, 0.54, 0.55, 0.56, 0.57, 0.58, 0.6, 0.61, 0.62, 0.63, 0.64, 0.65, 0.66, 0.67, 0.69, 0.7, 0.71, 0.73, 0.74, 0.75, 0.76, 0.78, 0.79, 0.8, 0.82, 0.83, 0.84, 0.86, 0.87, 0.88, 0.89, 0.9, 0.91, 0.92, 0.93, 0.94, 0.95, 0.96, 1.0]\n"
          ]
        }
      ]
    },
    {
      "cell_type": "markdown",
      "source": [
        "32) Dst_host_count"
      ],
      "metadata": {
        "id": "5_CPDKKMReW9"
      }
    },
    {
      "cell_type": "code",
      "source": [
        "print(sorted(train_features.Dst_host_count.unique())) \n",
        "print(sorted(test_features.Dst_host_count.unique())) # Number of unique values"
      ],
      "metadata": {
        "colab": {
          "base_uri": "https://localhost:8080/"
        },
        "id": "bYKFgO-sRhpk",
        "outputId": "a414f704-510f-4dae-de93-26e09f550ff5"
      },
      "execution_count": null,
      "outputs": [
        {
          "output_type": "stream",
          "name": "stdout",
          "text": [
            "[0, 1, 2, 3, 4, 5, 6, 7, 8, 9, 10, 11, 12, 13, 14, 15, 16, 17, 18, 19, 20, 21, 22, 23, 24, 25, 26, 27, 28, 29, 30, 31, 32, 33, 34, 35, 36, 37, 38, 39, 40, 41, 42, 43, 44, 45, 46, 47, 48, 49, 50, 51, 52, 53, 54, 55, 56, 57, 58, 59, 60, 61, 62, 63, 64, 65, 66, 67, 68, 69, 70, 71, 72, 73, 74, 75, 76, 77, 78, 79, 80, 81, 82, 83, 84, 85, 86, 87, 88, 89, 90, 91, 92, 93, 94, 95, 96, 97, 98, 99, 100, 101, 102, 103, 104, 105, 106, 107, 108, 109, 110, 111, 112, 113, 114, 115, 116, 117, 118, 119, 120, 121, 122, 123, 124, 125, 126, 127, 128, 129, 130, 131, 132, 133, 134, 135, 136, 137, 138, 139, 140, 141, 142, 143, 144, 145, 146, 147, 148, 149, 150, 151, 152, 153, 154, 155, 156, 157, 158, 159, 160, 161, 162, 163, 164, 165, 166, 167, 168, 169, 170, 171, 172, 173, 174, 175, 176, 177, 178, 179, 180, 181, 182, 183, 184, 185, 186, 187, 188, 189, 190, 191, 192, 193, 194, 195, 196, 197, 198, 199, 200, 201, 202, 203, 204, 205, 206, 207, 208, 209, 210, 211, 212, 213, 214, 215, 216, 217, 218, 219, 220, 221, 222, 223, 224, 225, 226, 227, 228, 229, 230, 231, 232, 233, 234, 235, 236, 237, 238, 239, 240, 241, 242, 243, 244, 245, 246, 247, 248, 249, 250, 251, 252, 253, 254, 255]\n",
            "[0, 1, 2, 3, 4, 5, 6, 7, 8, 9, 10, 11, 12, 13, 14, 15, 16, 17, 18, 19, 20, 21, 22, 23, 24, 25, 26, 27, 28, 29, 30, 31, 32, 33, 34, 35, 36, 37, 38, 39, 40, 41, 42, 43, 44, 45, 46, 47, 48, 49, 50, 51, 52, 53, 54, 55, 56, 57, 58, 59, 60, 61, 62, 63, 64, 65, 66, 67, 68, 69, 70, 71, 72, 73, 74, 75, 76, 77, 78, 79, 80, 81, 82, 83, 84, 85, 86, 87, 88, 89, 90, 91, 92, 93, 94, 95, 96, 97, 98, 99, 100, 101, 102, 103, 104, 105, 106, 107, 108, 109, 110, 111, 112, 113, 114, 115, 116, 117, 118, 119, 120, 121, 122, 123, 124, 125, 126, 127, 128, 129, 130, 131, 132, 133, 134, 135, 136, 137, 138, 139, 140, 141, 142, 143, 144, 145, 146, 147, 148, 149, 150, 151, 152, 153, 154, 155, 156, 157, 158, 159, 160, 161, 162, 163, 164, 165, 166, 167, 168, 169, 170, 171, 172, 173, 174, 175, 176, 177, 178, 179, 180, 181, 182, 183, 184, 185, 186, 187, 188, 189, 190, 191, 192, 193, 194, 195, 196, 197, 198, 199, 200, 201, 202, 203, 204, 205, 206, 207, 208, 209, 210, 211, 212, 213, 214, 215, 216, 217, 218, 219, 220, 221, 222, 223, 224, 225, 226, 227, 228, 229, 230, 231, 232, 233, 234, 235, 236, 237, 238, 239, 240, 241, 242, 243, 244, 245, 246, 247, 248, 249, 250, 251, 252, 253, 254, 255]\n"
          ]
        }
      ]
    },
    {
      "cell_type": "code",
      "source": [
        "float_array1 = train_features['Dst_host_count'].values.astype(float) # convert to float \n",
        "float_array2 = test_features['Dst_host_count'].values.astype(float) # convert to float \n",
        "min_max_scaler.fit(float_array1.reshape(-1,1))\n",
        "scaled_array1 = min_max_scaler.transform(float_array1.reshape(-1,1)) # reshape to 2D and perform min max scaling \n",
        "scaled_array2 = min_max_scaler.transform(float_array2.reshape(-1,1))\n",
        "train_features['Dst_host_count'] = pd.DataFrame(scaled_array1) # convert back to dataframe \n",
        "test_features['Dst_host_count'] = pd.DataFrame(scaled_array2) # convert back to dataframe "
      ],
      "metadata": {
        "id": "iFPGlPzKfrTs"
      },
      "execution_count": null,
      "outputs": []
    },
    {
      "cell_type": "markdown",
      "source": [
        "33) Dst_host_srv_count"
      ],
      "metadata": {
        "id": "2rmtnT2fRh-X"
      }
    },
    {
      "cell_type": "code",
      "source": [
        "print(sorted(train_features.Dst_host_srv_count.unique())) \n",
        "print(sorted(test_features.Dst_host_srv_count.unique())) # Number of unique values"
      ],
      "metadata": {
        "colab": {
          "base_uri": "https://localhost:8080/"
        },
        "id": "yaC-J3hvRkfY",
        "outputId": "00993b89-cd99-4c04-b4db-18209220fca0"
      },
      "execution_count": null,
      "outputs": [
        {
          "output_type": "stream",
          "name": "stdout",
          "text": [
            "[0, 1, 2, 3, 4, 5, 6, 7, 8, 9, 10, 11, 12, 13, 14, 15, 16, 17, 18, 19, 20, 21, 22, 23, 24, 25, 26, 27, 28, 29, 30, 31, 32, 33, 34, 35, 36, 37, 38, 39, 40, 41, 42, 43, 44, 45, 46, 47, 48, 49, 50, 51, 52, 53, 54, 55, 56, 57, 58, 59, 60, 61, 62, 63, 64, 65, 66, 67, 68, 69, 70, 71, 72, 73, 74, 75, 76, 77, 78, 79, 80, 81, 82, 83, 84, 85, 86, 87, 88, 89, 90, 91, 92, 93, 94, 95, 96, 97, 98, 99, 100, 101, 102, 103, 104, 105, 106, 107, 108, 109, 110, 111, 112, 113, 114, 115, 116, 117, 118, 119, 120, 121, 122, 123, 124, 125, 126, 127, 128, 129, 130, 131, 132, 133, 134, 135, 136, 137, 138, 139, 140, 141, 142, 143, 144, 145, 146, 147, 148, 149, 150, 151, 152, 153, 154, 155, 156, 157, 158, 159, 160, 161, 162, 163, 164, 165, 166, 167, 168, 169, 170, 171, 172, 173, 174, 175, 176, 177, 178, 179, 180, 181, 182, 183, 184, 185, 186, 187, 188, 189, 190, 191, 192, 193, 194, 195, 196, 197, 198, 199, 200, 201, 202, 203, 204, 205, 206, 207, 208, 209, 210, 211, 212, 213, 214, 215, 216, 217, 218, 219, 220, 221, 222, 223, 224, 225, 226, 227, 228, 229, 230, 231, 232, 233, 234, 235, 236, 237, 238, 239, 240, 241, 242, 243, 244, 245, 246, 247, 248, 249, 250, 251, 252, 253, 254, 255]\n",
            "[0, 1, 2, 3, 4, 5, 6, 7, 8, 9, 10, 11, 12, 13, 14, 15, 16, 17, 18, 19, 20, 21, 22, 23, 24, 25, 26, 27, 28, 29, 30, 31, 32, 33, 34, 35, 36, 37, 38, 39, 40, 41, 42, 43, 44, 45, 46, 47, 48, 49, 50, 51, 52, 53, 54, 55, 56, 57, 58, 59, 60, 61, 62, 63, 64, 65, 66, 67, 68, 69, 70, 71, 72, 73, 74, 75, 76, 77, 78, 79, 80, 81, 82, 83, 84, 85, 86, 87, 88, 89, 90, 91, 92, 93, 94, 95, 96, 97, 98, 99, 100, 101, 102, 103, 104, 105, 106, 107, 108, 109, 110, 111, 112, 113, 114, 115, 116, 117, 118, 119, 120, 121, 122, 123, 124, 125, 126, 127, 128, 129, 130, 131, 132, 133, 134, 135, 136, 137, 138, 139, 140, 141, 142, 143, 144, 145, 146, 147, 148, 149, 150, 151, 152, 153, 154, 155, 156, 157, 158, 159, 160, 161, 162, 163, 164, 165, 166, 167, 168, 169, 170, 171, 172, 173, 174, 175, 176, 177, 178, 179, 180, 181, 182, 183, 184, 185, 186, 187, 188, 189, 190, 191, 192, 193, 194, 195, 196, 197, 198, 199, 200, 201, 202, 203, 204, 205, 206, 207, 208, 209, 210, 211, 212, 213, 214, 215, 216, 217, 218, 219, 220, 221, 222, 223, 224, 225, 226, 227, 228, 229, 230, 231, 232, 233, 234, 235, 236, 237, 238, 239, 240, 241, 242, 243, 244, 245, 246, 247, 248, 249, 250, 251, 252, 253, 254, 255]\n"
          ]
        }
      ]
    },
    {
      "cell_type": "code",
      "source": [
        "float_array1 = train_features['Dst_host_srv_count'].values.astype(float) # convert to float \n",
        "float_array2 = test_features['Dst_host_srv_count'].values.astype(float) # convert to float \n",
        "min_max_scaler.fit(float_array1.reshape(-1,1))\n",
        "scaled_array1 = min_max_scaler.transform(float_array1.reshape(-1,1)) # reshape to 2D and perform min max scaling \n",
        "scaled_array2 = min_max_scaler.transform(float_array2.reshape(-1,1))\n",
        "train_features['Dst_host_srv_count'] = pd.DataFrame(scaled_array1) # convert back to dataframe \n",
        "test_features['Dst_host_srv_count'] = pd.DataFrame(scaled_array2) # convert back to dataframe "
      ],
      "metadata": {
        "id": "oyfdztGKf4Cc"
      },
      "execution_count": null,
      "outputs": []
    },
    {
      "cell_type": "markdown",
      "source": [
        "34) Dst_host_same_srv_rate"
      ],
      "metadata": {
        "id": "GMlg1_PNRk6A"
      }
    },
    {
      "cell_type": "code",
      "source": [
        "print(sorted(train_features.Dst_host_same_srv_rate.unique())) \n",
        "print(sorted(test_features.Dst_host_same_srv_rate.unique())) # Number of unique values"
      ],
      "metadata": {
        "colab": {
          "base_uri": "https://localhost:8080/"
        },
        "id": "gcLX3m_RRna2",
        "outputId": "5a9efd56-9bf5-4263-d991-bd9cbe0af680"
      },
      "execution_count": null,
      "outputs": [
        {
          "output_type": "stream",
          "name": "stdout",
          "text": [
            "[0.0, 0.01, 0.02, 0.03, 0.04, 0.05, 0.06, 0.07, 0.08, 0.09, 0.1, 0.11, 0.12, 0.13, 0.14, 0.15, 0.16, 0.17, 0.18, 0.19, 0.2, 0.21, 0.22, 0.23, 0.24, 0.25, 0.26, 0.27, 0.28, 0.29, 0.3, 0.31, 0.32, 0.33, 0.34, 0.35, 0.36, 0.37, 0.38, 0.39, 0.4, 0.41, 0.42, 0.43, 0.44, 0.45, 0.46, 0.47, 0.48, 0.49, 0.5, 0.51, 0.52, 0.53, 0.54, 0.55, 0.56, 0.57, 0.58, 0.59, 0.6, 0.61, 0.62, 0.63, 0.64, 0.65, 0.66, 0.67, 0.68, 0.69, 0.7, 0.71, 0.72, 0.73, 0.74, 0.75, 0.76, 0.77, 0.78, 0.79, 0.8, 0.81, 0.82, 0.83, 0.84, 0.85, 0.86, 0.87, 0.88, 0.89, 0.9, 0.91, 0.92, 0.93, 0.94, 0.95, 0.96, 0.97, 0.98, 0.99, 1.0]\n",
            "[0.0, 0.01, 0.02, 0.03, 0.04, 0.05, 0.06, 0.07, 0.08, 0.09, 0.1, 0.11, 0.12, 0.13, 0.14, 0.15, 0.16, 0.17, 0.18, 0.19, 0.2, 0.21, 0.22, 0.23, 0.24, 0.25, 0.26, 0.27, 0.28, 0.29, 0.3, 0.31, 0.32, 0.33, 0.34, 0.35, 0.36, 0.37, 0.38, 0.39, 0.4, 0.41, 0.42, 0.43, 0.44, 0.45, 0.46, 0.47, 0.48, 0.49, 0.5, 0.51, 0.52, 0.53, 0.54, 0.55, 0.56, 0.57, 0.58, 0.59, 0.6, 0.61, 0.62, 0.63, 0.64, 0.65, 0.66, 0.67, 0.68, 0.69, 0.7, 0.71, 0.72, 0.73, 0.74, 0.75, 0.76, 0.77, 0.78, 0.79, 0.8, 0.81, 0.82, 0.83, 0.84, 0.85, 0.86, 0.87, 0.88, 0.89, 0.9, 0.91, 0.92, 0.93, 0.94, 0.95, 0.96, 0.97, 0.98, 0.99, 1.0]\n"
          ]
        }
      ]
    },
    {
      "cell_type": "markdown",
      "source": [
        "35) Dst_host_diff_srv_rate"
      ],
      "metadata": {
        "id": "z5b_v6efRnwW"
      }
    },
    {
      "cell_type": "code",
      "source": [
        "print(sorted(train_features.Dst_host_diff_srv_rate.unique())) \n",
        "print(sorted(test_features.Dst_host_diff_srv_rate.unique())) # Number of unique values"
      ],
      "metadata": {
        "colab": {
          "base_uri": "https://localhost:8080/"
        },
        "id": "1QblWcTuRqdg",
        "outputId": "7da32dec-4b93-4535-a10a-c0bfc1e739c5"
      },
      "execution_count": null,
      "outputs": [
        {
          "output_type": "stream",
          "name": "stdout",
          "text": [
            "[0.0, 0.01, 0.02, 0.03, 0.04, 0.05, 0.06, 0.07, 0.08, 0.09, 0.1, 0.11, 0.12, 0.13, 0.14, 0.15, 0.16, 0.17, 0.18, 0.19, 0.2, 0.21, 0.22, 0.23, 0.24, 0.25, 0.26, 0.27, 0.28, 0.29, 0.3, 0.31, 0.32, 0.33, 0.34, 0.35, 0.36, 0.37, 0.38, 0.39, 0.4, 0.41, 0.42, 0.43, 0.44, 0.45, 0.46, 0.47, 0.48, 0.49, 0.5, 0.51, 0.52, 0.53, 0.54, 0.55, 0.56, 0.57, 0.58, 0.59, 0.6, 0.61, 0.62, 0.63, 0.64, 0.65, 0.66, 0.67, 0.68, 0.69, 0.7, 0.71, 0.72, 0.73, 0.74, 0.75, 0.76, 0.77, 0.78, 0.79, 0.8, 0.81, 0.82, 0.83, 0.84, 0.85, 0.86, 0.87, 0.88, 0.89, 0.9, 0.91, 0.92, 0.93, 0.94, 0.95, 0.96, 0.97, 0.98, 0.99, 1.0]\n",
            "[0.0, 0.01, 0.02, 0.03, 0.04, 0.05, 0.06, 0.07, 0.08, 0.09, 0.1, 0.11, 0.12, 0.13, 0.14, 0.15, 0.16, 0.17, 0.18, 0.19, 0.2, 0.21, 0.22, 0.23, 0.24, 0.25, 0.26, 0.27, 0.28, 0.29, 0.3, 0.31, 0.32, 0.33, 0.34, 0.35, 0.36, 0.37, 0.38, 0.39, 0.4, 0.41, 0.42, 0.43, 0.44, 0.45, 0.46, 0.47, 0.48, 0.49, 0.5, 0.51, 0.52, 0.53, 0.54, 0.55, 0.56, 0.57, 0.58, 0.59, 0.6, 0.61, 0.62, 0.63, 0.64, 0.65, 0.66, 0.67, 0.68, 0.69, 0.7, 0.71, 0.72, 0.73, 0.74, 0.75, 0.76, 0.77, 0.78, 0.79, 0.8, 0.81, 0.82, 0.83, 0.84, 0.85, 0.86, 0.87, 0.88, 0.89, 0.9, 0.91, 0.92, 0.93, 0.94, 0.95, 0.96, 0.97, 0.98, 0.99, 1.0]\n"
          ]
        }
      ]
    },
    {
      "cell_type": "markdown",
      "source": [
        "36) Dst_host_same_src_port_rate"
      ],
      "metadata": {
        "id": "dUl8ch4ZRqwV"
      }
    },
    {
      "cell_type": "code",
      "source": [
        "print(sorted(train_features.Dst_host_same_src_port_rate.unique())) \n",
        "print(sorted(test_features.Dst_host_same_src_port_rate.unique())) # Number of unique values"
      ],
      "metadata": {
        "colab": {
          "base_uri": "https://localhost:8080/"
        },
        "id": "LOCIiPgHRt3U",
        "outputId": "fdbba93d-a90d-4305-8ae9-8f30f8eb2497"
      },
      "execution_count": null,
      "outputs": [
        {
          "output_type": "stream",
          "name": "stdout",
          "text": [
            "[0.0, 0.01, 0.02, 0.03, 0.04, 0.05, 0.06, 0.07, 0.08, 0.09, 0.1, 0.11, 0.12, 0.13, 0.14, 0.15, 0.16, 0.17, 0.18, 0.19, 0.2, 0.21, 0.22, 0.23, 0.24, 0.25, 0.26, 0.27, 0.28, 0.29, 0.3, 0.31, 0.32, 0.33, 0.34, 0.35, 0.36, 0.37, 0.38, 0.39, 0.4, 0.41, 0.42, 0.43, 0.44, 0.45, 0.46, 0.47, 0.48, 0.49, 0.5, 0.51, 0.52, 0.53, 0.54, 0.55, 0.56, 0.57, 0.58, 0.59, 0.6, 0.61, 0.62, 0.63, 0.64, 0.65, 0.66, 0.67, 0.68, 0.69, 0.7, 0.71, 0.72, 0.73, 0.74, 0.75, 0.76, 0.77, 0.78, 0.79, 0.8, 0.81, 0.82, 0.83, 0.84, 0.85, 0.86, 0.87, 0.88, 0.89, 0.9, 0.91, 0.92, 0.93, 0.94, 0.95, 0.96, 0.97, 0.98, 0.99, 1.0]\n",
            "[0.0, 0.01, 0.02, 0.03, 0.04, 0.05, 0.06, 0.07, 0.08, 0.09, 0.1, 0.11, 0.12, 0.13, 0.14, 0.15, 0.16, 0.17, 0.18, 0.19, 0.2, 0.21, 0.22, 0.23, 0.24, 0.25, 0.26, 0.27, 0.28, 0.29, 0.3, 0.31, 0.32, 0.33, 0.34, 0.35, 0.36, 0.37, 0.38, 0.39, 0.4, 0.41, 0.42, 0.43, 0.44, 0.45, 0.46, 0.47, 0.48, 0.49, 0.5, 0.51, 0.52, 0.53, 0.54, 0.55, 0.56, 0.57, 0.58, 0.59, 0.6, 0.61, 0.62, 0.63, 0.64, 0.65, 0.66, 0.67, 0.68, 0.69, 0.7, 0.71, 0.72, 0.73, 0.74, 0.75, 0.76, 0.77, 0.78, 0.79, 0.8, 0.81, 0.82, 0.83, 0.84, 0.85, 0.86, 0.87, 0.88, 0.89, 0.9, 0.91, 0.92, 0.93, 0.94, 0.95, 0.96, 0.97, 0.98, 0.99, 1.0]\n"
          ]
        }
      ]
    },
    {
      "cell_type": "markdown",
      "source": [
        "37) Dst_host_srv_diff_host_rate"
      ],
      "metadata": {
        "id": "MYQaVcJrRuOg"
      }
    },
    {
      "cell_type": "code",
      "source": [
        "print(sorted(train_features.Dst_host_srv_diff_host_rate.unique())) \n",
        "print(sorted(test_features.Dst_host_srv_diff_host_rate.unique())) # Number of unique values"
      ],
      "metadata": {
        "colab": {
          "base_uri": "https://localhost:8080/"
        },
        "id": "nqjPnAUdRwu5",
        "outputId": "b8bdaeb7-5955-47ec-8c3c-a778cbe43f56"
      },
      "execution_count": null,
      "outputs": [
        {
          "output_type": "stream",
          "name": "stdout",
          "text": [
            "[0.0, 0.01, 0.02, 0.03, 0.04, 0.05, 0.06, 0.07, 0.08, 0.09, 0.1, 0.11, 0.12, 0.13, 0.14, 0.15, 0.16, 0.17, 0.18, 0.19, 0.2, 0.21, 0.22, 0.23, 0.24, 0.25, 0.26, 0.27, 0.28, 0.29, 0.3, 0.31, 0.32, 0.33, 0.34, 0.35, 0.36, 0.37, 0.38, 0.39, 0.4, 0.41, 0.42, 0.43, 0.44, 0.45, 0.46, 0.47, 0.48, 0.49, 0.5, 0.51, 0.52, 0.53, 0.54, 0.55, 0.56, 0.57, 0.58, 0.6, 0.62, 0.64, 0.67, 0.7, 0.71, 0.73, 0.75, 0.78, 0.8, 0.83, 0.86, 0.88, 0.93, 0.97, 1.0]\n",
            "[0.0, 0.01, 0.02, 0.03, 0.04, 0.05, 0.06, 0.07, 0.08, 0.09, 0.1, 0.11, 0.12, 0.13, 0.14, 0.15, 0.16, 0.17, 0.18, 0.19, 0.2, 0.21, 0.22, 0.23, 0.24, 0.25, 0.26, 0.27, 0.28, 0.29, 0.3, 0.31, 0.32, 0.33, 0.36, 0.38, 0.39, 0.4, 0.41, 0.42, 0.43, 0.46, 0.47, 0.48, 0.5, 0.51, 0.52, 0.53, 0.54, 0.55, 0.56, 0.57, 0.6, 0.62, 0.67, 0.75, 0.8, 1.0]\n"
          ]
        }
      ]
    },
    {
      "cell_type": "markdown",
      "source": [
        "38) Dst_host_serror_rate"
      ],
      "metadata": {
        "id": "XTZ6AJ5HRw8x"
      }
    },
    {
      "cell_type": "code",
      "source": [
        "print(sorted(train_features.Dst_host_serror_rate.unique()))\n",
        "print(sorted(test_features.Dst_host_serror_rate.unique())) # Number of unique values"
      ],
      "metadata": {
        "colab": {
          "base_uri": "https://localhost:8080/"
        },
        "id": "g2BFoXXyRzZM",
        "outputId": "611d1a25-679b-4024-b328-8769bd6f548d"
      },
      "execution_count": null,
      "outputs": [
        {
          "output_type": "stream",
          "name": "stdout",
          "text": [
            "[0.0, 0.01, 0.02, 0.03, 0.04, 0.05, 0.06, 0.07, 0.08, 0.09, 0.1, 0.11, 0.12, 0.13, 0.14, 0.15, 0.16, 0.17, 0.18, 0.19, 0.2, 0.21, 0.22, 0.23, 0.24, 0.25, 0.26, 0.27, 0.28, 0.29, 0.3, 0.31, 0.32, 0.33, 0.34, 0.35, 0.36, 0.37, 0.38, 0.39, 0.4, 0.41, 0.42, 0.43, 0.44, 0.45, 0.46, 0.47, 0.48, 0.49, 0.5, 0.51, 0.52, 0.53, 0.54, 0.55, 0.56, 0.57, 0.58, 0.59, 0.6, 0.61, 0.62, 0.63, 0.64, 0.65, 0.66, 0.67, 0.68, 0.69, 0.7, 0.71, 0.72, 0.73, 0.74, 0.75, 0.76, 0.77, 0.78, 0.79, 0.8, 0.81, 0.82, 0.83, 0.84, 0.85, 0.86, 0.87, 0.88, 0.89, 0.9, 0.91, 0.92, 0.93, 0.94, 0.95, 0.96, 0.97, 0.98, 0.99, 1.0]\n",
            "[0.0, 0.01, 0.02, 0.03, 0.04, 0.05, 0.06, 0.07, 0.08, 0.09, 0.1, 0.11, 0.12, 0.13, 0.14, 0.15, 0.16, 0.17, 0.18, 0.19, 0.2, 0.21, 0.22, 0.23, 0.24, 0.25, 0.26, 0.27, 0.28, 0.29, 0.3, 0.31, 0.32, 0.33, 0.34, 0.35, 0.36, 0.37, 0.38, 0.39, 0.4, 0.41, 0.42, 0.43, 0.44, 0.45, 0.46, 0.47, 0.48, 0.49, 0.5, 0.51, 0.52, 0.53, 0.54, 0.55, 0.56, 0.57, 0.58, 0.59, 0.6, 0.61, 0.62, 0.63, 0.64, 0.65, 0.66, 0.67, 0.68, 0.69, 0.7, 0.71, 0.72, 0.73, 0.74, 0.75, 0.76, 0.77, 0.78, 0.79, 0.8, 0.81, 0.82, 0.83, 0.84, 0.85, 0.86, 0.87, 0.88, 0.89, 0.91, 0.92, 0.94, 0.95, 0.96, 0.97, 0.98, 0.99, 1.0]\n"
          ]
        }
      ]
    },
    {
      "cell_type": "markdown",
      "source": [
        "39) Dst_host_srv_serror_rate"
      ],
      "metadata": {
        "id": "Z57hQEGyRzx5"
      }
    },
    {
      "cell_type": "code",
      "source": [
        "print(sorted(train_features.Dst_host_srv_serror_rate.unique()))\n",
        "print(sorted(test_features.Dst_host_srv_serror_rate.unique())) # Number of unique values"
      ],
      "metadata": {
        "colab": {
          "base_uri": "https://localhost:8080/"
        },
        "id": "Pvvtj7hUR2Es",
        "outputId": "9b91fcd2-79b0-4b49-ea59-bbf46b4be385"
      },
      "execution_count": null,
      "outputs": [
        {
          "output_type": "stream",
          "name": "stdout",
          "text": [
            "[0.0, 0.01, 0.02, 0.03, 0.04, 0.05, 0.06, 0.07, 0.08, 0.09, 0.1, 0.11, 0.12, 0.13, 0.14, 0.15, 0.16, 0.17, 0.18, 0.19, 0.2, 0.21, 0.22, 0.23, 0.24, 0.25, 0.26, 0.27, 0.28, 0.29, 0.3, 0.31, 0.32, 0.33, 0.34, 0.35, 0.36, 0.37, 0.38, 0.39, 0.4, 0.41, 0.42, 0.43, 0.44, 0.45, 0.46, 0.47, 0.48, 0.49, 0.5, 0.51, 0.52, 0.53, 0.54, 0.55, 0.56, 0.57, 0.58, 0.59, 0.6, 0.61, 0.62, 0.63, 0.64, 0.65, 0.66, 0.67, 0.68, 0.69, 0.7, 0.71, 0.72, 0.73, 0.74, 0.75, 0.76, 0.77, 0.78, 0.79, 0.8, 0.81, 0.82, 0.83, 0.84, 0.85, 0.86, 0.87, 0.88, 0.89, 0.9, 0.91, 0.92, 0.93, 0.94, 0.95, 0.96, 0.97, 0.98, 1.0]\n",
            "[0.0, 0.01, 0.02, 0.03, 0.04, 0.05, 0.06, 0.07, 0.08, 0.09, 0.1, 0.11, 0.12, 0.13, 0.14, 0.15, 0.16, 0.17, 0.18, 0.19, 0.2, 0.21, 0.22, 0.23, 0.24, 0.25, 0.26, 0.27, 0.28, 0.29, 0.3, 0.31, 0.32, 0.33, 0.34, 0.35, 0.36, 0.37, 0.38, 0.39, 0.4, 0.41, 0.42, 0.43, 0.44, 0.45, 0.46, 0.47, 0.48, 0.49, 0.5, 0.51, 0.52, 0.53, 0.54, 0.55, 0.56, 0.57, 0.58, 0.59, 0.6, 0.61, 0.62, 0.63, 0.64, 0.65, 0.66, 0.67, 0.68, 0.69, 0.7, 0.71, 0.72, 0.73, 0.74, 0.75, 0.76, 0.77, 0.78, 0.79, 0.8, 0.81, 0.82, 0.83, 0.84, 0.85, 0.86, 0.87, 0.88, 0.89, 0.9, 0.91, 0.92, 0.93, 0.94, 0.95, 0.96, 0.97, 0.98, 0.99, 1.0]\n"
          ]
        }
      ]
    },
    {
      "cell_type": "markdown",
      "source": [
        "40) Dst_host_rerror_rate"
      ],
      "metadata": {
        "id": "XWFTrHbZR2U9"
      }
    },
    {
      "cell_type": "code",
      "source": [
        "print(sorted(train_features.Dst_host_rerror_rate.unique()))\n",
        "print(sorted(test_features.Dst_host_rerror_rate.unique())) # Number of unique values"
      ],
      "metadata": {
        "colab": {
          "base_uri": "https://localhost:8080/"
        },
        "id": "L0D5FoAaR5MP",
        "outputId": "a9f8dc7c-a0f7-44c2-a4c4-f0436e2c0c8e"
      },
      "execution_count": null,
      "outputs": [
        {
          "output_type": "stream",
          "name": "stdout",
          "text": [
            "[0.0, 0.01, 0.02, 0.03, 0.04, 0.05, 0.06, 0.07, 0.08, 0.09, 0.1, 0.11, 0.12, 0.13, 0.14, 0.15, 0.16, 0.17, 0.18, 0.19, 0.2, 0.21, 0.22, 0.23, 0.24, 0.25, 0.26, 0.27, 0.28, 0.29, 0.3, 0.31, 0.32, 0.33, 0.34, 0.35, 0.36, 0.37, 0.38, 0.39, 0.4, 0.41, 0.42, 0.43, 0.44, 0.45, 0.46, 0.47, 0.48, 0.49, 0.5, 0.51, 0.52, 0.53, 0.54, 0.55, 0.56, 0.57, 0.58, 0.59, 0.6, 0.61, 0.62, 0.63, 0.64, 0.65, 0.66, 0.67, 0.68, 0.69, 0.7, 0.71, 0.72, 0.73, 0.74, 0.75, 0.76, 0.77, 0.78, 0.79, 0.8, 0.81, 0.82, 0.83, 0.84, 0.85, 0.86, 0.87, 0.88, 0.89, 0.9, 0.91, 0.92, 0.93, 0.94, 0.95, 0.96, 0.97, 0.98, 0.99, 1.0]\n",
            "[0.0, 0.01, 0.02, 0.03, 0.04, 0.05, 0.06, 0.07, 0.08, 0.09, 0.1, 0.11, 0.12, 0.13, 0.14, 0.15, 0.16, 0.17, 0.18, 0.19, 0.2, 0.21, 0.22, 0.23, 0.24, 0.25, 0.26, 0.27, 0.28, 0.29, 0.3, 0.31, 0.32, 0.33, 0.34, 0.35, 0.36, 0.37, 0.38, 0.39, 0.4, 0.41, 0.42, 0.43, 0.44, 0.45, 0.46, 0.47, 0.48, 0.49, 0.5, 0.51, 0.52, 0.53, 0.54, 0.55, 0.56, 0.57, 0.58, 0.59, 0.6, 0.61, 0.62, 0.63, 0.64, 0.65, 0.66, 0.67, 0.68, 0.69, 0.7, 0.71, 0.72, 0.73, 0.74, 0.75, 0.76, 0.77, 0.78, 0.79, 0.8, 0.81, 0.82, 0.83, 0.84, 0.85, 0.86, 0.87, 0.88, 0.89, 0.9, 0.91, 0.92, 0.93, 0.94, 0.95, 0.96, 0.97, 0.98, 0.99, 1.0]\n"
          ]
        }
      ]
    },
    {
      "cell_type": "markdown",
      "source": [
        "41) Dst_host_srv_rerror_rate"
      ],
      "metadata": {
        "id": "3JmuFvTiR5iF"
      }
    },
    {
      "cell_type": "code",
      "source": [
        "print(sorted(train_features.Dst_host_srv_rerror_rate.unique()))\n",
        "print(sorted(test_features.Dst_host_srv_rerror_rate.unique())) # Number of unique values"
      ],
      "metadata": {
        "colab": {
          "base_uri": "https://localhost:8080/"
        },
        "id": "f4IFA0nPR632",
        "outputId": "710c3c06-234f-4571-894b-eceba3741e1e"
      },
      "execution_count": null,
      "outputs": [
        {
          "output_type": "stream",
          "name": "stdout",
          "text": [
            "[0.0, 0.01, 0.02, 0.03, 0.04, 0.05, 0.06, 0.07, 0.08, 0.09, 0.1, 0.11, 0.12, 0.13, 0.14, 0.15, 0.16, 0.17, 0.18, 0.19, 0.2, 0.21, 0.22, 0.23, 0.24, 0.25, 0.26, 0.27, 0.28, 0.29, 0.3, 0.31, 0.32, 0.33, 0.34, 0.35, 0.36, 0.37, 0.38, 0.39, 0.4, 0.41, 0.42, 0.43, 0.44, 0.45, 0.46, 0.47, 0.48, 0.49, 0.5, 0.51, 0.52, 0.53, 0.54, 0.55, 0.56, 0.57, 0.58, 0.59, 0.6, 0.61, 0.62, 0.63, 0.64, 0.65, 0.66, 0.67, 0.68, 0.69, 0.7, 0.71, 0.72, 0.73, 0.74, 0.75, 0.76, 0.77, 0.78, 0.79, 0.8, 0.81, 0.82, 0.83, 0.84, 0.85, 0.86, 0.87, 0.88, 0.89, 0.9, 0.91, 0.92, 0.93, 0.94, 0.95, 0.96, 0.97, 0.98, 0.99, 1.0]\n",
            "[0.0, 0.01, 0.02, 0.03, 0.04, 0.05, 0.06, 0.07, 0.08, 0.09, 0.1, 0.11, 0.12, 0.13, 0.14, 0.15, 0.16, 0.17, 0.18, 0.19, 0.2, 0.21, 0.22, 0.23, 0.24, 0.25, 0.26, 0.27, 0.28, 0.29, 0.3, 0.31, 0.32, 0.33, 0.34, 0.35, 0.36, 0.37, 0.38, 0.39, 0.4, 0.41, 0.42, 0.43, 0.44, 0.45, 0.46, 0.47, 0.48, 0.49, 0.5, 0.51, 0.52, 0.53, 0.54, 0.55, 0.56, 0.57, 0.58, 0.59, 0.6, 0.61, 0.62, 0.63, 0.64, 0.65, 0.66, 0.67, 0.68, 0.69, 0.7, 0.71, 0.72, 0.73, 0.74, 0.75, 0.76, 0.77, 0.78, 0.79, 0.8, 0.81, 0.82, 0.83, 0.84, 0.85, 0.86, 0.87, 0.88, 0.89, 0.9, 0.91, 0.92, 0.93, 0.94, 0.95, 0.96, 0.97, 0.98, 1.0]\n"
          ]
        }
      ]
    },
    {
      "cell_type": "markdown",
      "source": [
        "### Labels Analysis"
      ],
      "metadata": {
        "id": "6KqAa6JtS5MO"
      }
    },
    {
      "cell_type": "markdown",
      "source": [
        "Traffic Type"
      ],
      "metadata": {
        "id": "Je1hr00mPMXW"
      }
    },
    {
      "cell_type": "code",
      "source": [
        "# unique values anc number of traffic\n",
        "traffic_type = train_labels.Traffic_type.unique()\n",
        "num_traffic = train_labels.Traffic_type.nunique()\n",
        "print(\"Total number of different traffic types: \", num_traffic)\n",
        "print(\"Traffic Types:\")\n",
        "print(traffic_type)"
      ],
      "metadata": {
        "colab": {
          "base_uri": "https://localhost:8080/"
        },
        "id": "MFHk1EhFOeTr",
        "outputId": "43525738-dc0f-4d43-b17b-9ad53c5da737"
      },
      "execution_count": null,
      "outputs": [
        {
          "output_type": "stream",
          "name": "stdout",
          "text": [
            "Total number of different traffic types:  23\n",
            "Traffic Types:\n",
            "['normal' 'neptune' 'warezclient' 'ipsweep' 'portsweep' 'teardrop' 'nmap'\n",
            " 'satan' 'smurf' 'pod' 'back' 'guess_passwd' 'ftp_write' 'multihop'\n",
            " 'rootkit' 'buffer_overflow' 'imap' 'warezmaster' 'phf' 'land'\n",
            " 'loadmodule' 'spy' 'perl']\n"
          ]
        }
      ]
    },
    {
      "cell_type": "code",
      "source": [
        "# unique values anc number of traffic\n",
        "traffic_type = test_labels.Traffic_type.unique()\n",
        "num_traffic = test_labels.Traffic_type.nunique()\n",
        "print(\"Total number of different traffic types: \", num_traffic)\n",
        "print(\"Traffic Types:\")\n",
        "print(traffic_type)"
      ],
      "metadata": {
        "colab": {
          "base_uri": "https://localhost:8080/"
        },
        "id": "xlShmvUjhCzJ",
        "outputId": "8fd2707f-bcc1-45b1-cae9-c3a69be4fd1f"
      },
      "execution_count": null,
      "outputs": [
        {
          "output_type": "stream",
          "name": "stdout",
          "text": [
            "Total number of different traffic types:  38\n",
            "Traffic Types:\n",
            "['neptune' 'normal' 'saint' 'mscan' 'guess_passwd' 'smurf' 'apache2'\n",
            " 'satan' 'buffer_overflow' 'back' 'warezmaster' 'snmpgetattack'\n",
            " 'processtable' 'pod' 'httptunnel' 'nmap' 'ps' 'snmpguess' 'ipsweep'\n",
            " 'mailbomb' 'portsweep' 'multihop' 'named' 'sendmail' 'loadmodule' 'xterm'\n",
            " 'worm' 'teardrop' 'rootkit' 'xlock' 'perl' 'land' 'xsnoop' 'sqlattack'\n",
            " 'ftp_write' 'imap' 'udpstorm' 'phf']\n"
          ]
        }
      ]
    },
    {
      "cell_type": "markdown",
      "source": [
        "Category classification"
      ],
      "metadata": {
        "id": "k5vK4VR2WpjE"
      }
    },
    {
      "cell_type": "code",
      "source": [
        "# Create a array for every category of attacks  \n",
        "# Total of 4 categories DoS, Probe, R2L, U2R\n",
        "# Paper discuss about this : https://www.researchgate.net/profile/Yasmen-Wahba/publication/278406516_Improving_the_Performance_of_Multi-class_Intrusion_Detection_Systems_using_Feature_Reduction/links/59e933c9aca272bc42767583/Improving-the-Performance-of-Multi-class-Intrusion-Detection-Systems-using-Feature-Reduction.pdf?origin=figuresDialog_download\n",
        "dos = ['land','neptune','smurf','pod','back','teardrop']\n",
        "probe = ['portsweep','ipsweep','satan','nmap']\n",
        "r2l = ['multihop','spy','phf','warezclient','guess_password','ftp_write','warezmaster','imap']\n",
        "u2r = ['buffer_overflow','loadmodule','perl','rootkit']"
      ],
      "metadata": {
        "id": "lYxpdcKfPbDE"
      },
      "execution_count": null,
      "outputs": []
    },
    {
      "cell_type": "markdown",
      "source": [
        "Binary Classification"
      ],
      "metadata": {
        "id": "UO89NMHsWuf1"
      }
    },
    {
      "cell_type": "code",
      "source": [
        "# replace all types of attacks , to value 'attack' \n",
        "train_labels['Traffic_type'] = np.where(train_labels['Traffic_type']=='normal', 'normal', 'attack')\n",
        "train_labels['Traffic_type'] = np.where(train_labels['Traffic_type']=='normal', 0,1)"
      ],
      "metadata": {
        "id": "AWCVBCfCWwIF"
      },
      "execution_count": null,
      "outputs": []
    },
    {
      "cell_type": "code",
      "source": [
        "# replace all types of attacks , to value 'attack' \n",
        "test_labels['Traffic_type'] = np.where(test_labels['Traffic_type']=='normal', 'normal', 'attack')\n",
        "test_labels['Traffic_type'] = np.where(test_labels['Traffic_type']=='normal', 0,1)"
      ],
      "metadata": {
        "id": "XNrRoMochpt4"
      },
      "execution_count": null,
      "outputs": []
    },
    {
      "cell_type": "markdown",
      "source": [
        "Remove Difficulty column"
      ],
      "metadata": {
        "id": "OOayt1QbD0HT"
      }
    },
    {
      "cell_type": "code",
      "source": [
        "train_labels.pop('Difficulty')\n",
        "test_labels.pop('Difficulty')"
      ],
      "metadata": {
        "id": "VpWnXvJVDzQr",
        "colab": {
          "base_uri": "https://localhost:8080/"
        },
        "outputId": "fddf8a68-42df-423a-9ea5-a60fab963ce8"
      },
      "execution_count": null,
      "outputs": [
        {
          "output_type": "execute_result",
          "data": {
            "text/plain": [
              "0        21\n",
              "1        21\n",
              "2        21\n",
              "3        15\n",
              "4        11\n",
              "         ..\n",
              "22539    21\n",
              "22540    21\n",
              "22541    15\n",
              "22542    21\n",
              "22543    14\n",
              "Name: Difficulty, Length: 22544, dtype: int64"
            ]
          },
          "metadata": {},
          "execution_count": 70
        }
      ]
    },
    {
      "cell_type": "markdown",
      "source": [
        "Append final dataset"
      ],
      "metadata": {
        "id": "Y7dp-zlaEEqC"
      }
    },
    {
      "cell_type": "code",
      "source": [
        "train_frame = [train_features,train_labels]\n",
        "train_final_binary = pd.concat(train_frame,axis=1)\n",
        "train_final_binary.to_csv('train_binary.csv',index = False)"
      ],
      "metadata": {
        "id": "M5atnfSqEGme"
      },
      "execution_count": null,
      "outputs": []
    },
    {
      "cell_type": "code",
      "source": [
        "test_frame = [test_features,test_labels]\n",
        "test_final_binary = pd.concat(test_frame,axis=1)\n",
        "test_final_binary.to_csv('test_binary.csv',index =False)"
      ],
      "metadata": {
        "id": "YfMQsCPhJbNW"
      },
      "execution_count": null,
      "outputs": []
    },
    {
      "cell_type": "markdown",
      "source": [
        "# Principal Component Analyisis"
      ],
      "metadata": {
        "id": "In2kSmpU8ih9"
      }
    },
    {
      "cell_type": "code",
      "source": [
        "from sklearn.decomposition import PCA # import pca"
      ],
      "metadata": {
        "id": "pl60As5u8pT2"
      },
      "execution_count": null,
      "outputs": []
    },
    {
      "cell_type": "code",
      "source": [
        "# plot the variance explanation of the 29 components needed to cover 95% initial data variance \n",
        "pca = PCA(None)\n",
        "pca.fit(train_features)\n",
        "components = len(pca.explained_variance_ratio_)\n",
        "plt.plot(range(1,components+1), \n",
        "np.cumsum(pca.explained_variance_ratio_ * 100))\n",
        "plt.xlabel(\"Number of components\")\n",
        "plt.ylabel(\"Explained variance (%)\")"
      ],
      "metadata": {
        "colab": {
          "base_uri": "https://localhost:8080/",
          "height": 296
        },
        "id": "LpT-A_Z-w2QM",
        "outputId": "9791d144-f77f-4e77-aa1a-3fa64e37b29e"
      },
      "execution_count": null,
      "outputs": [
        {
          "output_type": "execute_result",
          "data": {
            "text/plain": [
              "Text(0, 0.5, 'Explained variance (%)')"
            ]
          },
          "metadata": {},
          "execution_count": 74
        },
        {
          "output_type": "display_data",
          "data": {
            "text/plain": [
              "<Figure size 432x288 with 1 Axes>"
            ],
            "image/png": "[encoded data removed]"
          },
          "metadata": {
            "needs_background": "light"
          }
        }
      ]
    },
    {
      "cell_type": "code",
      "source": [
        "# Make an instance of the Model\n",
        "pca = PCA(.95) # 0.95: means we want 95% of data variance"
      ],
      "metadata": {
        "id": "ngoHhpKW8vW8"
      },
      "execution_count": null,
      "outputs": []
    },
    {
      "cell_type": "code",
      "source": [
        "pca.fit(train_features)"
      ],
      "metadata": {
        "colab": {
          "base_uri": "https://localhost:8080/"
        },
        "id": "h47Rqx8Q85Mq",
        "outputId": "df00a1dd-e159-47a7-9f38-f3961e48ebef"
      },
      "execution_count": null,
      "outputs": [
        {
          "output_type": "execute_result",
          "data": {
            "text/plain": [
              "PCA(n_components=0.95)"
            ]
          },
          "metadata": {},
          "execution_count": 76
        }
      ]
    },
    {
      "cell_type": "code",
      "source": [
        "print(pca.n_components_) # how many components make up the 95% of the variance "
      ],
      "metadata": {
        "colab": {
          "base_uri": "https://localhost:8080/"
        },
        "id": "c9es5dtE9Ls8",
        "outputId": "4f8e9bf0-dbde-4aa7-febf-8ce80fb9e9b7"
      },
      "execution_count": null,
      "outputs": [
        {
          "output_type": "stream",
          "name": "stdout",
          "text": [
            "29\n"
          ]
        }
      ]
    },
    {
      "cell_type": "code",
      "source": [
        "train_pca = pca.transform(train_features)  # perform pca\n",
        "test_pca= pca.transform(test_features)  # pefrorm pca"
      ],
      "metadata": {
        "id": "FJfxyfw_9acj"
      },
      "execution_count": null,
      "outputs": []
    },
    {
      "cell_type": "code",
      "source": [
        "# min max scale again the features\n",
        "min_max_scaler.fit(train_pca)\n",
        "train_pca = min_max_scaler.transform(train_pca)\n",
        "test_pca = min_max_scaler.transform(test_pca)"
      ],
      "metadata": {
        "id": "7NeKGhnvA49C"
      },
      "execution_count": null,
      "outputs": []
    },
    {
      "cell_type": "code",
      "source": [
        "trainp = pd.DataFrame(train_pca)\n",
        "testp = pd.DataFrame(test_pca)"
      ],
      "metadata": {
        "id": "vgDOYrz3BTtf"
      },
      "execution_count": null,
      "outputs": []
    },
    {
      "cell_type": "code",
      "source": [
        "train_frame_pca = [trainp,train_labels]\n",
        "train_binary_pca = pd.concat(train_frame_pca,axis=1)\n",
        "train_binary_pca.to_csv('train_binary_pca.csv',index = False)"
      ],
      "metadata": {
        "id": "FazKWw6JBkVY"
      },
      "execution_count": null,
      "outputs": []
    },
    {
      "cell_type": "code",
      "source": [
        "test_frame_pca = [testp,test_labels]\n",
        "test_binary_pca = pd.concat(test_frame_pca,axis=1)\n",
        "test_binary_pca.to_csv('test_binary_pca.csv',index = False)"
      ],
      "metadata": {
        "id": "cCV9t6FEB2Yq"
      },
      "execution_count": null,
      "outputs": []
    },
    {
      "cell_type": "markdown",
      "source": [
        "# Ranom Forest for Dimensionality Reduction"
      ],
      "metadata": {
        "id": "Dp-whEWhKMY6"
      }
    },
    {
      "cell_type": "code",
      "source": [
        "from sklearn.ensemble import RandomForestClassifier\n",
        "\n",
        "rf = RandomForestClassifier(n_estimators=100, max_depth=3,\n",
        "                                 bootstrap=True, n_jobs=-1,\n",
        "                                 random_state=0)\n",
        "rf.fit(train_features.values, train_labels.values.ravel())\n",
        "\n",
        "feature_imp = pd.Series(rf.feature_importances_, \n",
        "                        index=train_features.columns).sort_values(ascending=False)"
      ],
      "metadata": {
        "id": "r0CnRkyKKMCw"
      },
      "execution_count": null,
      "outputs": []
    },
    {
      "cell_type": "code",
      "source": [
        "for i in range(0,len(feature_imp)):\n",
        "    print(i,end =\" \")\n",
        "    print(feature_imp.index[i],end = \": \")\n",
        "    print(feature_imp[i])"
      ],
      "metadata": {
        "colab": {
          "base_uri": "https://localhost:8080/"
        },
        "id": "_9pc0bTyKlDs",
        "outputId": "b16f3ab2-75ed-499d-eb01-877ab73ad8d6"
      },
      "execution_count": null,
      "outputs": [
        {
          "output_type": "stream",
          "name": "stdout",
          "text": [
            "0 Same_srv_rate: 0.10797313669892639\n",
            "1 Srv_serror_rate: 0.0927994949619933\n",
            "2 Diff_srv_rate: 0.0919401117549538\n",
            "3 x0_SF: 0.08394789689890068\n",
            "4 Logged_in: 0.08276537445018615\n",
            "5 Dst_host_srv_serror_rate: 0.0566509307222697\n",
            "6 Dst_host_same_srv_rate: 0.055308757751561445\n",
            "7 Dst_host_diff_srv_rate: 0.05349167583734105\n",
            "8 Serror_rate: 0.041709859298370816\n",
            "9 Dst_host_srv_count: 0.038481757797788944\n",
            "10 x0_S0: 0.03538315906808305\n",
            "11 Count: 0.02954813351125355\n",
            "12 Dst_host_same_src_port_rate: 0.027738478359165625\n",
            "13 x0_private: 0.021562332300889792\n",
            "14 x0_icmp: 0.01974595284209636\n",
            "15 x0_http: 0.017885054781750755\n",
            "16 Dst_host_serror_rate: 0.01784472198197527\n",
            "17 Dst_host_srv_diff_host_rate: 0.015608223289193862\n",
            "18 Rerror_rate: 0.014108252845520879\n",
            "19 Dst_host_srv_rerror_rate: 0.012530129816415343\n",
            "20 x0_eco_i: 0.012252985670118401\n",
            "21 Srv_diff_host_rate: 0.009408255636407046\n",
            "22 x0_domain_u: 0.008236251443901053\n",
            "23 x0_udp: 0.007993057056791587\n",
            "24 x0_tcp: 0.006815996658243573\n",
            "25 Dst_host_count: 0.006776123714575865\n",
            "26 Dst_host_rerror_rate: 0.006036460719947801\n",
            "27 Srv_count: 0.005824540472246318\n",
            "28 x0_ecr_i: 0.004644284818493308\n",
            "29 Srv_rerror_rate: 0.004339090892364254\n",
            "30 Duration: 0.0024924531368180703\n",
            "31 Hot: 0.001645841884960631\n",
            "32 Src_bytes: 0.0014602921995868923\n",
            "33 x0_RSTR: 0.001050172174613652\n",
            "34 Num_compromised: 0.0006831392264888591\n",
            "35 x0_ftp_data: 0.0006539677336630319\n",
            "36 Wrong_fragment: 0.0006492946350369315\n",
            "37 x0_REJ: 0.0005864879191050895\n",
            "38 x0_RSTO: 0.00042785110505527956\n",
            "39 Dst_bytes: 0.0003099197118359971\n",
            "40 x0_urp_i: 0.00019321120603448948\n",
            "41 x0_other: 0.00015282681093761383\n",
            "42 x0_S1: 0.00010287847791138265\n",
            "43 Is_guest_login: 4.914146754592196e-05\n",
            "44 x0_courier: 3.9673248180592875e-05\n",
            "45 x0_ftp: 2.882511778527574e-05\n",
            "46 x0_IRC: 2.3401920186351682e-05\n",
            "47 x0_finger: 1.915553411687271e-05\n",
            "48 x0_X11: 1.3849538284942128e-05\n",
            "49 x0_Z39_50: 1.3493332297387595e-05\n",
            "50 Num_failed_logins: 1.0828401353861392e-05\n",
            "51 x0_RSTOS0: 1.0555418136582804e-05\n",
            "52 x0_ntp_u: 9.722500456321942e-06\n",
            "53 x0_S2: 5.748114592670266e-06\n",
            "54 Num_file_creation: 5.549135299082581e-06\n",
            "55 x0_urh_i: 5.472796930317406e-06\n",
            "56 Root_shell: 2.2684467799624506e-06\n",
            "57 Su_attempted: 1.5241603624110583e-06\n",
            "58 Num_root: 1.4169509233415115e-06\n",
            "59 x0_http_443: 5.543771562532382e-07\n",
            "60 x0_auth: 1.1618222472505678e-09\n",
            "61 x0_uucp: 1.0401573409594804e-10\n",
            "62 x0_smtp: 0.0\n",
            "63 x0_shell: 0.0\n",
            "64 x0_rje: 0.0\n",
            "65 x0_remote_job: 0.0\n",
            "66 x0_red_i: 0.0\n",
            "67 x0_vmnet: 0.0\n",
            "68 Urgent: 0.0\n",
            "69 x0_ssh: 0.0\n",
            "70 x0_printer: 0.0\n",
            "71 x0_pop_3: 0.0\n",
            "72 x0_whois: 0.0\n",
            "73 x0_sql_net: 0.0\n",
            "74 x0_systat: 0.0\n",
            "75 x0_sunrpc: 0.0\n",
            "76 x0_supdup: 0.0\n",
            "77 x0_uucp_path: 0.0\n",
            "78 x0_telnet: 0.0\n",
            "79 x0_tftp_u: 0.0\n",
            "80 x0_OTH: 0.0\n",
            "81 x0_time: 0.0\n",
            "82 x0_S3: 0.0\n",
            "83 x0_pop_2: 0.0\n",
            "84 Land: 0.0\n",
            "85 x0_tim_i: 0.0\n",
            "86 x0_netbios_ns: 0.0\n",
            "87 x0_pm_dump: 0.0\n",
            "88 x0_daytime: 0.0\n",
            "89 x0_gopher: 0.0\n",
            "90 x0_exec: 0.0\n",
            "91 x0_efs: 0.0\n",
            "92 x0_echo: 0.0\n",
            "93 x0_domain: 0.0\n",
            "94 x0_discard: 0.0\n",
            "95 x0_ctf: 0.0\n",
            "96 x0_hostnames: 0.0\n",
            "97 x0_csnet_ns: 0.0\n",
            "98 x0_bgp: 0.0\n",
            "99 x0_aol: 0.0\n",
            "100 Num_shells: 0.0\n",
            "101 Num_access_files: 0.0\n",
            "102 Num_outbound_cmds: 0.0\n",
            "103 x0_harvest: 0.0\n",
            "104 x0_http_2784: 0.0\n",
            "105 x0_nntp: 0.0\n",
            "106 x0_mtp: 0.0\n",
            "107 x0_nnsp: 0.0\n",
            "108 x0_netstat: 0.0\n",
            "109 x0_netbios_ssn: 0.0\n",
            "110 Is_host_login: 0.0\n",
            "111 x0_netbios_dgm: 0.0\n",
            "112 x0_name: 0.0\n",
            "113 x0_login: 0.0\n",
            "114 x0_http_8001: 0.0\n",
            "115 x0_link: 0.0\n",
            "116 x0_ldap: 0.0\n",
            "117 x0_kshell: 0.0\n",
            "118 x0_klogin: 0.0\n",
            "119 x0_iso_tsap: 0.0\n",
            "120 x0_imap4: 0.0\n",
            "121 x0_SH: 0.0\n"
          ]
        }
      ]
    },
    {
      "cell_type": "markdown",
      "source": [
        "## Keep only columns with importance over 0.05"
      ],
      "metadata": {
        "id": "-cPogzUNMucG"
      }
    },
    {
      "cell_type": "code",
      "source": [
        "new_features = [] # list containing the new features names\n",
        "for i in range(0,len(feature_imp)): # for for the range of all features\n",
        "    if feature_imp[i] > 0.05: # check if importance is over the threshold\n",
        "        new_features.append(feature_imp.index[i])\n",
        "print(new_features)"
      ],
      "metadata": {
        "colab": {
          "base_uri": "https://localhost:8080/"
        },
        "id": "t9PLAnzLNpP-",
        "outputId": "a47e9a74-a0da-42da-eed1-ca7344db4a01"
      },
      "execution_count": null,
      "outputs": [
        {
          "output_type": "stream",
          "name": "stdout",
          "text": [
            "['Same_srv_rate', 'Srv_serror_rate', 'Diff_srv_rate', 'x0_SF', 'Logged_in', 'Dst_host_srv_serror_rate', 'Dst_host_same_srv_rate', 'Dst_host_diff_srv_rate']\n"
          ]
        }
      ]
    },
    {
      "cell_type": "code",
      "source": [
        "train_features_05 = train_features[new_features] #cast new dataframes\n",
        "test_features_05 = test_features[new_features]"
      ],
      "metadata": {
        "id": "tKRaP56lOjNx"
      },
      "execution_count": null,
      "outputs": []
    },
    {
      "cell_type": "code",
      "source": [
        "# save new files\n",
        "train_frame = [train_features_05,train_labels]\n",
        "train_binary_rf05 = pd.concat(train_frame,axis=1)\n",
        "train_binary_rf05.to_csv('train_binary_rf05.csv',index = False)"
      ],
      "metadata": {
        "id": "uvi1vC2DPdOw"
      },
      "execution_count": null,
      "outputs": []
    },
    {
      "cell_type": "code",
      "source": [
        "test_frame = [test_features_05,test_labels]\n",
        "test_binary_rf05 = pd.concat(test_frame,axis=1)\n",
        "test_binary_rf05.to_csv('test_binary_rf05.csv',index = False)"
      ],
      "metadata": {
        "id": "PmyHMFiFQNC3"
      },
      "execution_count": null,
      "outputs": []
    },
    {
      "cell_type": "markdown",
      "source": [
        "##Keep only columns with importance over 0.005"
      ],
      "metadata": {
        "id": "vFM3z5fqPf1H"
      }
    },
    {
      "cell_type": "code",
      "source": [
        "new_features = [] # list containing the new features names\n",
        "for i in range(0,len(feature_imp)): # for for the range of all features\n",
        "    if feature_imp[i] > 0.005: # check if importance is over the threshold\n",
        "        new_features.append(feature_imp.index[i])\n",
        "print(new_features)"
      ],
      "metadata": {
        "colab": {
          "base_uri": "https://localhost:8080/"
        },
        "id": "vRLLooW5PjJ6",
        "outputId": "e8c8c090-782a-47fe-c4c8-b89b1db67679"
      },
      "execution_count": null,
      "outputs": [
        {
          "output_type": "stream",
          "name": "stdout",
          "text": [
            "['Same_srv_rate', 'Srv_serror_rate', 'Diff_srv_rate', 'x0_SF', 'Logged_in', 'Dst_host_srv_serror_rate', 'Dst_host_same_srv_rate', 'Dst_host_diff_srv_rate', 'Serror_rate', 'Dst_host_srv_count', 'x0_S0', 'Count', 'Dst_host_same_src_port_rate', 'x0_private', 'x0_icmp', 'x0_http', 'Dst_host_serror_rate', 'Dst_host_srv_diff_host_rate', 'Rerror_rate', 'Dst_host_srv_rerror_rate', 'x0_eco_i', 'Srv_diff_host_rate', 'x0_domain_u', 'x0_udp', 'x0_tcp', 'Dst_host_count', 'Dst_host_rerror_rate', 'Srv_count']\n"
          ]
        }
      ]
    },
    {
      "cell_type": "code",
      "source": [
        "train_features_005 = train_features[new_features] #cast new dataframes\n",
        "test_features_005 = test_features[new_features]"
      ],
      "metadata": {
        "id": "oAQK6Jl3PuDS"
      },
      "execution_count": null,
      "outputs": []
    },
    {
      "cell_type": "code",
      "source": [
        "train_frame = [train_features_005,train_labels]\n",
        "train_binary_rf005 = pd.concat(train_frame,axis=1)\n",
        "train_binary_rf005.to_csv('train_binary_rf005.csv',index = False)"
      ],
      "metadata": {
        "id": "I9jPKl4jP3Z0"
      },
      "execution_count": null,
      "outputs": []
    },
    {
      "cell_type": "code",
      "source": [
        "test_frame = [test_features_005,test_labels]\n",
        "test_binary_rf005 = pd.concat(test_frame,axis=1)\n",
        "test_binary_rf005.to_csv('test_binary_rf005.csv',index = False)"
      ],
      "metadata": {
        "id": "sDKD0vV7QBMH"
      },
      "execution_count": null,
      "outputs": []
    }
  ]
}