{
  "nbformat": 4,
  "nbformat_minor": 0,
  "metadata": {
    "colab": {
      "name": "traditionalML.ipynb",
      "provenance": []
    },
    "kernelspec": {
      "name": "python3",
      "display_name": "Python 3"
    },
    "language_info": {
      "name": "python"
    }
  },
  "cells": [
    {
      "cell_type": "markdown",
      "source": [
        "[![Open In Colab](https://colab.research.google.com/assets/colab-badge.svg)](https://colab.research.google.com/github//sotirischatzimiltis/MscThesis/blob/main/SpikingNeuralNetwork/traditionalML.ipynb)"
      ],
      "metadata": {
        "id": "pV1CIlhaxJyS"
      }
    },
    {
      "cell_type": "markdown",
      "source": [
        "# Import Packages"
      ],
      "metadata": {
        "id": "5rH06IYdyz0N"
      }
    },
    {
      "cell_type": "code",
      "source": [
        "import pandas as pd\n",
        "import numpy as np\n",
        "from sklearn.tree import DecisionTreeClassifier\n",
        "from sklearn.ensemble import RandomForestClassifier\n",
        "from sklearn.neural_network import MLPClassifier\n",
        "from sklearn import metrics\n",
        "import matplotlib.pyplot as plt\n",
        "from sklearn.metrics import confusion_matrix\n",
        "import seaborn as sn"
      ],
      "metadata": {
        "id": "SFs68ZIvy2rl"
      },
      "execution_count": 21,
      "outputs": []
    },
    {
      "cell_type": "markdown",
      "source": [
        "# Dataset"
      ],
      "metadata": {
        "id": "xsFRSt4DxpXq"
      }
    },
    {
      "cell_type": "code",
      "source": [
        "train_Dataset = 'train_binary.csv'\n",
        "test_Dataset = 'test_binary.csv'"
      ],
      "metadata": {
        "id": "FovZC9lWxpAN"
      },
      "execution_count": 22,
      "outputs": []
    },
    {
      "cell_type": "markdown",
      "source": [
        "# Prepare Data"
      ],
      "metadata": {
        "id": "QTfx0rpyyo99"
      }
    },
    {
      "cell_type": "code",
      "source": [
        "traindata = pd.read_csv(train_Dataset)\n",
        "testdata = pd.read_csv(test_Dataset)"
      ],
      "metadata": {
        "id": "mkJ-4EXYytL4"
      },
      "execution_count": 23,
      "outputs": []
    },
    {
      "cell_type": "code",
      "source": [
        "traindata.head()\n",
        "y_train = traindata['Traffic_type']\n",
        "x_train = traindata.drop('Traffic_type',axis=1)\n",
        "y_test = testdata['Traffic_type']\n",
        "x_test = testdata.drop('Traffic_type',axis=1)"
      ],
      "metadata": {
        "id": "jIP-Yza50HuY"
      },
      "execution_count": 24,
      "outputs": []
    },
    {
      "cell_type": "markdown",
      "source": [
        "# Decesion Tree model"
      ],
      "metadata": {
        "id": "H59m9fLPytrB"
      }
    },
    {
      "cell_type": "code",
      "source": [
        "clf_dt = DecisionTreeClassifier() # create decision tree classifier\n",
        "clf_dt = clf_dt.fit(x_train,y_train) # train DT classifier\n",
        "y_pred = clf_dt.predict(x_test) # predict the response for the test dataset\n"
      ],
      "metadata": {
        "id": "o5L6mxhm1hLo"
      },
      "execution_count": 25,
      "outputs": []
    },
    {
      "cell_type": "code",
      "source": [
        "correct =(y_pred==y_test).sum()\n",
        "total = len(y_pred)\n",
        "# constant for classes\n",
        "classes = ('Normal', 'Attack')\n",
        "\n",
        "# Build confusion matrix\n",
        "cf_matrix = confusion_matrix(y_test, y_pred)\n",
        "tn, fp, fn, tp = confusion_matrix(y_test,y_pred).ravel()\n",
        "print(\"tn\",tn)\n",
        "print(\"fp\",fp)\n",
        "print(\"fn\",fn)\n",
        "print(\"tp\",tp)\n",
        "# rows is the truth , columns is the predicted \n",
        "# plot confusion matrix with actual numbers\n",
        "df_cm= pd.DataFrame(cf_matrix, index = [i for i in classes],\n",
        "                     columns = [i for i in classes])\n",
        "\n",
        "\n",
        "plt.figure(figsize = (12,7))\n",
        "sn.heatmap(df_cm, annot=True,fmt ='g')\n",
        "\n",
        "precision = (tp/(tp+fp))\n",
        "recall = (tp/(tp+fn))\n",
        "\n",
        "print(f\"Total correctly classified instances: {correct}/{total}\")\n",
        "print(f\"Test Set Accuracy: {100 * correct / total:.2f}%\")\n",
        "print(f\"False alarm rate: {100*(fp/(fp+tn)):.2f}%\")\n",
        "print(f\"Accuracy: {100*((tp+tn)/(tp+fp+fn+tn)):.2f}%\")\n",
        "print(f\"Detection rate: {100 *(tp/(tp+fn)):.2f}%\")\n",
        "print(f\"Precision: {100 * precision:.2f}%\")\n",
        "print(f\"Recall: {100 * recall:.2f}%\")\n",
        "print(f\"F1-score: {100 *((2*precision*recall)/(precision+recall)):.2f}%\")\n",
        "print(f\"False positive rate: {100*(fp/(fp+tp)):.2f}%\")\n",
        "print(f\"False negative rate: {100*(fn/(fn+tn)):.2f}%\")"
      ],
      "metadata": {
        "colab": {
          "base_uri": "https://localhost:8080/",
          "height": 671
        },
        "id": "LjPRpob92q-h",
        "outputId": "b29db2b0-4c39-48b4-b659-0e3e831836bb"
      },
      "execution_count": 26,
      "outputs": [
        {
          "output_type": "stream",
          "name": "stdout",
          "text": [
            "tn 9337\n",
            "fp 374\n",
            "fn 4263\n",
            "tp 8570\n",
            "Total correctly classified instances: 17907/22544\n",
            "Test Set Accuracy: 79.43%\n",
            "False alarm rate: 3.85%\n",
            "Accuracy: 79.43%\n",
            "Detection rate: 66.78%\n",
            "Precision: 95.82%\n",
            "Recall: 66.78%\n",
            "F1-score: 78.71%\n",
            "False positive rate: 4.18%\n",
            "False negative rate: 31.35%\n"
          ]
        },
        {
          "output_type": "display_data",
          "data": {
            "text/plain": [
              "<Figure size 864x504 with 2 Axes>"
            ],
            "image/png": "[encoded data removed]"
          },
          "metadata": {
            "needs_background": "light"
          }
        }
      ]
    },
    {
      "cell_type": "markdown",
      "source": [
        "# Random Forest Model"
      ],
      "metadata": {
        "id": "ojP96T0c6afY"
      }
    },
    {
      "cell_type": "code",
      "execution_count": 27,
      "metadata": {
        "id": "2DWH0u0xw1Yn"
      },
      "outputs": [],
      "source": [
        "clf_rf = RandomForestClassifier()\n",
        "clf_rf = clf_rf.fit(x_train,y_train)\n",
        "y_pred = clf_rf.predict(x_test)"
      ]
    },
    {
      "cell_type": "code",
      "source": [
        "correct =(y_pred==y_test).sum()\n",
        "total = len(y_pred)\n",
        "# constant for classes\n",
        "classes = ('Normal', 'Attack')\n",
        "\n",
        "# Build confusion matrix\n",
        "cf_matrix = confusion_matrix(y_test, y_pred)\n",
        "tn, fp, fn, tp = confusion_matrix(y_test,y_pred).ravel()\n",
        "print(\"tn\",tn)\n",
        "print(\"fp\",fp)\n",
        "print(\"fn\",fn)\n",
        "print(\"tp\",tp)\n",
        "# rows is the truth , columns is the predicted \n",
        "# plot confusion matrix with actual numbers\n",
        "df_cm= pd.DataFrame(cf_matrix, index = [i for i in classes],\n",
        "                     columns = [i for i in classes])\n",
        "\n",
        "\n",
        "plt.figure(figsize = (12,7))\n",
        "sn.heatmap(df_cm, annot=True,fmt ='g')\n",
        "\n",
        "precision = (tp/(tp+fp))\n",
        "recall = (tp/(tp+fn))\n",
        "\n",
        "print(f\"Total correctly classified instances: {correct}/{total}\")\n",
        "print(f\"Test Set Accuracy: {100 * correct / total:.2f}%\")\n",
        "print(f\"False alarm rate: {100*(fp/(fp+tn)):.2f}%\")\n",
        "print(f\"Accuracy: {100*((tp+tn)/(tp+fp+fn+tn)):.2f}%\")\n",
        "print(f\"Detection rate: {100 *(tp/(tp+fn)):.2f}%\")\n",
        "print(f\"Precision: {100 * precision:.2f}%\")\n",
        "print(f\"Recall: {100 * recall:.2f}%\")\n",
        "print(f\"F1-score: {100 *((2*precision*recall)/(precision+recall)):.2f}%\")\n",
        "print(f\"False positive rate: {100*(fp/(fp+tp)):.2f}%\")\n",
        "print(f\"False negative rate: {100*(fn/(fn+tn)):.2f}%\")"
      ],
      "metadata": {
        "colab": {
          "base_uri": "https://localhost:8080/",
          "height": 671
        },
        "id": "mkquN2s57Ox5",
        "outputId": "3d5ba5f0-1fba-4ab4-8015-0081b389bd93"
      },
      "execution_count": 28,
      "outputs": [
        {
          "output_type": "stream",
          "name": "stdout",
          "text": [
            "tn 9444\n",
            "fp 267\n",
            "fn 5031\n",
            "tp 7802\n",
            "Total correctly classified instances: 17246/22544\n",
            "Test Set Accuracy: 76.50%\n",
            "False alarm rate: 2.75%\n",
            "Accuracy: 76.50%\n",
            "Detection rate: 60.80%\n",
            "Precision: 96.69%\n",
            "Recall: 60.80%\n",
            "F1-score: 74.65%\n",
            "False positive rate: 3.31%\n",
            "False negative rate: 34.76%\n"
          ]
        },
        {
          "output_type": "display_data",
          "data": {
            "text/plain": [
              "<Figure size 864x504 with 2 Axes>"
            ],
            "image/png": "[encoded data removed]"
          },
          "metadata": {
            "needs_background": "light"
          }
        }
      ]
    },
    {
      "cell_type": "markdown",
      "source": [
        "# MLP Classifier Model"
      ],
      "metadata": {
        "id": "TKnf0hmS6c_e"
      }
    },
    {
      "cell_type": "code",
      "source": [
        "clf_mlp = MLPClassifier()\n",
        "clf_mlp = clf_mlp.fit(x_train,y_train)\n",
        "y_pred = clf_mlp.predict(x_test)"
      ],
      "metadata": {
        "id": "6F9TsIZf7tTH"
      },
      "execution_count": 29,
      "outputs": []
    },
    {
      "cell_type": "code",
      "source": [
        "correct =(y_pred==y_test).sum()\n",
        "total = len(y_pred)\n",
        "# constant for classes\n",
        "classes = ('Normal', 'Attack')\n",
        "\n",
        "# Build confusion matrix\n",
        "cf_matrix = confusion_matrix(y_test, y_pred)\n",
        "tn, fp, fn, tp = confusion_matrix(y_test,y_pred).ravel()\n",
        "print(\"tn\",tn)\n",
        "print(\"fp\",fp)\n",
        "print(\"fn\",fn)\n",
        "print(\"tp\",tp)\n",
        "# rows is the truth , columns is the predicted \n",
        "# plot confusion matrix with actual numbers\n",
        "df_cm= pd.DataFrame(cf_matrix, index = [i for i in classes],\n",
        "                     columns = [i for i in classes])\n",
        "\n",
        "\n",
        "plt.figure(figsize = (12,7))\n",
        "sn.heatmap(df_cm, annot=True,fmt ='g')\n",
        "\n",
        "precision = (tp/(tp+fp))\n",
        "recall = (tp/(tp+fn))\n",
        "\n",
        "print(f\"Total correctly classified instances: {correct}/{total}\")\n",
        "print(f\"Test Set Accuracy: {100 * correct / total:.2f}%\")\n",
        "print(f\"False alarm rate: {100*(fp/(fp+tn)):.2f}%\")\n",
        "print(f\"Accuracy: {100*((tp+tn)/(tp+fp+fn+tn)):.2f}%\")\n",
        "print(f\"Detection rate: {100 *(tp/(tp+fn)):.2f}%\")\n",
        "print(f\"Precision: {100 * precision:.2f}%\")\n",
        "print(f\"Recall: {100 * recall:.2f}%\")\n",
        "print(f\"F1-score: {100 *((2*precision*recall)/(precision+recall)):.2f}%\")\n",
        "print(f\"False positive rate: {100*(fp/(fp+tp)):.2f}%\")\n",
        "print(f\"False negative rate: {100*(fn/(fn+tn)):.2f}%\")"
      ],
      "metadata": {
        "colab": {
          "base_uri": "https://localhost:8080/",
          "height": 671
        },
        "id": "8n6Subgy84Ut",
        "outputId": "3efeff96-577a-4a34-d848-56d130a828ae"
      },
      "execution_count": 30,
      "outputs": [
        {
          "output_type": "stream",
          "name": "stdout",
          "text": [
            "tn 9270\n",
            "fp 441\n",
            "fn 4030\n",
            "tp 8803\n",
            "Total correctly classified instances: 18073/22544\n",
            "Test Set Accuracy: 80.17%\n",
            "False alarm rate: 4.54%\n",
            "Accuracy: 80.17%\n",
            "Detection rate: 68.60%\n",
            "Precision: 95.23%\n",
            "Recall: 68.60%\n",
            "F1-score: 79.75%\n",
            "False positive rate: 4.77%\n",
            "False negative rate: 30.30%\n"
          ]
        },
        {
          "output_type": "display_data",
          "data": {
            "text/plain": [
              "<Figure size 864x504 with 2 Axes>"
            ],
            "image/png": "[encoded data removed]"
          },
          "metadata": {
            "needs_background": "light"
          }
        }
      ]
    }
  ]
}