{
  "nbformat": 4,
  "nbformat_minor": 0,
  "metadata": {
    "colab": {
      "name": "traditionalML.ipynb",
      "provenance": []
    },
    "kernelspec": {
      "name": "python3",
      "display_name": "Python 3"
    },
    "language_info": {
      "name": "python"
    }
  },
  "cells": [
    {
      "cell_type": "markdown",
      "source": [
        "[![Open In Colab](https://colab.research.google.com/assets/colab-badge.svg)](https://colab.research.google.com/github//sotirischatzimiltis/MscThesis/blob/main/SpikingNeuralNetwork/spiking_neural_network.ipynb)"
      ],
      "metadata": {
        "id": "pV1CIlhaxJyS"
      }
    },
    {
      "cell_type": "markdown",
      "source": [
        "# Import Packages"
      ],
      "metadata": {
        "id": "5rH06IYdyz0N"
      }
    },
    {
      "cell_type": "code",
      "source": [
        "import pandas as pd\n",
        "import numpy as np\n",
        "from sklearn.tree import DecisionTreeClassifier\n",
        "from sklearn.ensemble import RandomForestClassifier\n",
        "from sklearn.neural_network import MLPClassifier\n",
        "from sklearn import metrics\n",
        "import matplotlib.pyplot as plt\n",
        "import seaborn as sns"
      ],
      "metadata": {
        "id": "SFs68ZIvy2rl"
      },
      "execution_count": 23,
      "outputs": []
    },
    {
      "cell_type": "markdown",
      "source": [
        "# Dataset"
      ],
      "metadata": {
        "id": "xsFRSt4DxpXq"
      }
    },
    {
      "cell_type": "code",
      "source": [
        "train_Dataset = 'train_binary.csv'\n",
        "test_Dataset = 'test_binary.csv'"
      ],
      "metadata": {
        "id": "FovZC9lWxpAN"
      },
      "execution_count": 2,
      "outputs": []
    },
    {
      "cell_type": "markdown",
      "source": [
        "# Prepare Data"
      ],
      "metadata": {
        "id": "QTfx0rpyyo99"
      }
    },
    {
      "cell_type": "code",
      "source": [
        "traindata = pd.read_csv(train_Dataset)\n",
        "testdata = pd.read_csv(test_Dataset)"
      ],
      "metadata": {
        "id": "mkJ-4EXYytL4"
      },
      "execution_count": 3,
      "outputs": []
    },
    {
      "cell_type": "code",
      "source": [
        "traindata.head()\n",
        "y_train = traindata['Traffic_type']\n",
        "x_train = traindata.drop('Traffic_type',axis=1)\n",
        "y_test = testdata['Traffic_type']\n",
        "x_test = testdata.drop('Traffic_type',axis=1)"
      ],
      "metadata": {
        "id": "jIP-Yza50HuY"
      },
      "execution_count": 12,
      "outputs": []
    },
    {
      "cell_type": "markdown",
      "source": [
        "# Decesion Tree model"
      ],
      "metadata": {
        "id": "H59m9fLPytrB"
      }
    },
    {
      "cell_type": "code",
      "source": [
        "clf_dt = DecisionTreeClassifier() # create decision tree classifier\n",
        "clf_dt = clf_dt.fit(x_train,y_train) # train DT classifier\n",
        "y_pred = clf_dt.predict(x_test) # predict the response for the test dataset\n"
      ],
      "metadata": {
        "id": "o5L6mxhm1hLo"
      },
      "execution_count": 15,
      "outputs": []
    },
    {
      "cell_type": "code",
      "source": [
        "print(\"Accuracy:\",metrics.accuracy_score(y_test,y_pred))"
      ],
      "metadata": {
        "colab": {
          "base_uri": "https://localhost:8080/"
        },
        "id": "LjPRpob92q-h",
        "outputId": "5e6c893f-d6a4-4246-f9b6-bc2b21e3dfb7"
      },
      "execution_count": 17,
      "outputs": [
        {
          "output_type": "stream",
          "name": "stdout",
          "text": [
            "Accuracy: 0.810193399574166\n"
          ]
        }
      ]
    },
    {
      "cell_type": "markdown",
      "source": [
        "# Random Forest Model"
      ],
      "metadata": {
        "id": "ojP96T0c6afY"
      }
    },
    {
      "cell_type": "code",
      "execution_count": 32,
      "metadata": {
        "id": "2DWH0u0xw1Yn"
      },
      "outputs": [],
      "source": [
        "clf_rf = RandomForestClassifier()\n",
        "clf_rf = clf_rf.fit(x_train,y_train)\n",
        "y_pred = clf_rf.predict(x_test)"
      ]
    },
    {
      "cell_type": "code",
      "source": [
        "print(\"Accuracy:\",metrics.accuracy_score(y_test,y_pred))"
      ],
      "metadata": {
        "colab": {
          "base_uri": "https://localhost:8080/"
        },
        "id": "mkquN2s57Ox5",
        "outputId": "dbdd15e4-8e5f-4071-a331-978c95da6e0b"
      },
      "execution_count": 33,
      "outputs": [
        {
          "output_type": "stream",
          "name": "stdout",
          "text": [
            "Accuracy: 0.77541696238467\n"
          ]
        }
      ]
    },
    {
      "cell_type": "markdown",
      "source": [
        "# MLP Classifier Model"
      ],
      "metadata": {
        "id": "TKnf0hmS6c_e"
      }
    },
    {
      "cell_type": "code",
      "source": [
        "clf_mlp = MLPClassifier()\n",
        "clf_mlp = clf_mlp.fit(x_train,y_train)\n",
        "y_pred = clf_mlp.predict(x_test)"
      ],
      "metadata": {
        "id": "6F9TsIZf7tTH"
      },
      "execution_count": 29,
      "outputs": []
    },
    {
      "cell_type": "code",
      "source": [
        "print(\"Accuracy:\",metrics.accuracy_score(y_test,y_pred))"
      ],
      "metadata": {
        "colab": {
          "base_uri": "https://localhost:8080/"
        },
        "id": "8n6Subgy84Ut",
        "outputId": "a6ed6ac5-fe35-4c42-ffc3-5c337579cf37"
      },
      "execution_count": 31,
      "outputs": [
        {
          "output_type": "stream",
          "name": "stdout",
          "text": [
            "Accuracy: 0.8126774308019872\n"
          ]
        }
      ]
    }
  ]
}